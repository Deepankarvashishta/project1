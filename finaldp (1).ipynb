{
 "cells": [
  {
   "cell_type": "code",
   "execution_count": 1,
   "id": "57730181",
   "metadata": {},
   "outputs": [],
   "source": [
    "import pandas as pd"
   ]
  },
  {
   "cell_type": "code",
   "execution_count": null,
   "id": "a1e6c903-82e3-48d5-b45c-e79de2056e0f",
   "metadata": {},
   "outputs": [],
   "source": [
    "!pip install plotly"
   ]
  },
  {
   "cell_type": "code",
   "execution_count": 9,
   "id": "103addbb",
   "metadata": {},
   "outputs": [],
   "source": [
    "df = pd.read_csv('Book112.csv')"
   ]
  },
  {
   "cell_type": "code",
   "execution_count": 10,
   "id": "287ee956",
   "metadata": {
    "scrolled": true
   },
   "outputs": [
    {
     "data": {
      "text/html": [
       "<div>\n",
       "<style scoped>\n",
       "    .dataframe tbody tr th:only-of-type {\n",
       "        vertical-align: middle;\n",
       "    }\n",
       "\n",
       "    .dataframe tbody tr th {\n",
       "        vertical-align: top;\n",
       "    }\n",
       "\n",
       "    .dataframe thead th {\n",
       "        text-align: right;\n",
       "    }\n",
       "</style>\n",
       "<table border=\"1\" class=\"dataframe\">\n",
       "  <thead>\n",
       "    <tr style=\"text-align: right;\">\n",
       "      <th></th>\n",
       "      <th>Unnamed: 0</th>\n",
       "      <th>origin</th>\n",
       "      <th>destination</th>\n",
       "      <th>train_type</th>\n",
       "      <th>price</th>\n",
       "      <th>train_class</th>\n",
       "      <th>fare</th>\n",
       "    </tr>\n",
       "  </thead>\n",
       "  <tbody>\n",
       "    <tr>\n",
       "      <th>0</th>\n",
       "      <td>706.0</td>\n",
       "      <td>PONFERRADA</td>\n",
       "      <td>MADRID</td>\n",
       "      <td>ALVIA</td>\n",
       "      <td>27.90</td>\n",
       "      <td>Turista</td>\n",
       "      <td>Promo</td>\n",
       "    </tr>\n",
       "    <tr>\n",
       "      <th>1</th>\n",
       "      <td>1056.0</td>\n",
       "      <td>MADRID</td>\n",
       "      <td>VALENCIA</td>\n",
       "      <td>AVE</td>\n",
       "      <td>21.95</td>\n",
       "      <td>Turista</td>\n",
       "      <td>Promo</td>\n",
       "    </tr>\n",
       "    <tr>\n",
       "      <th>2</th>\n",
       "      <td>1057.0</td>\n",
       "      <td>MADRID</td>\n",
       "      <td>VALENCIA</td>\n",
       "      <td>AVE</td>\n",
       "      <td>39.45</td>\n",
       "      <td>Turista</td>\n",
       "      <td>Promo</td>\n",
       "    </tr>\n",
       "    <tr>\n",
       "      <th>3</th>\n",
       "      <td>1058.0</td>\n",
       "      <td>MADRID</td>\n",
       "      <td>VALENCIA</td>\n",
       "      <td>AVE</td>\n",
       "      <td>21.95</td>\n",
       "      <td>Turista</td>\n",
       "      <td>Promo</td>\n",
       "    </tr>\n",
       "    <tr>\n",
       "      <th>4</th>\n",
       "      <td>1060.0</td>\n",
       "      <td>MADRID</td>\n",
       "      <td>VALENCIA</td>\n",
       "      <td>AVE</td>\n",
       "      <td>33.65</td>\n",
       "      <td>Turista</td>\n",
       "      <td>Promo</td>\n",
       "    </tr>\n",
       "    <tr>\n",
       "      <th>5</th>\n",
       "      <td>1062.0</td>\n",
       "      <td>MADRID</td>\n",
       "      <td>VALENCIA</td>\n",
       "      <td>AVE</td>\n",
       "      <td>45.30</td>\n",
       "      <td>Turista</td>\n",
       "      <td>Promo</td>\n",
       "    </tr>\n",
       "    <tr>\n",
       "      <th>6</th>\n",
       "      <td>1063.0</td>\n",
       "      <td>MADRID</td>\n",
       "      <td>VALENCIA</td>\n",
       "      <td>AVE-MD</td>\n",
       "      <td>71.00</td>\n",
       "      <td>Turista con enlace</td>\n",
       "      <td>Flexible</td>\n",
       "    </tr>\n",
       "    <tr>\n",
       "      <th>7</th>\n",
       "      <td>1064.0</td>\n",
       "      <td>MADRID</td>\n",
       "      <td>VALENCIA</td>\n",
       "      <td>AVE</td>\n",
       "      <td>45.30</td>\n",
       "      <td>Turista</td>\n",
       "      <td>Promo</td>\n",
       "    </tr>\n",
       "    <tr>\n",
       "      <th>8</th>\n",
       "      <td>1066.0</td>\n",
       "      <td>MADRID</td>\n",
       "      <td>VALENCIA</td>\n",
       "      <td>AVE-LD</td>\n",
       "      <td>56.10</td>\n",
       "      <td>Turista con enlace</td>\n",
       "      <td>Flexible</td>\n",
       "    </tr>\n",
       "    <tr>\n",
       "      <th>9</th>\n",
       "      <td>1070.0</td>\n",
       "      <td>MADRID</td>\n",
       "      <td>VALENCIA</td>\n",
       "      <td>AVE</td>\n",
       "      <td>51.15</td>\n",
       "      <td>Turista</td>\n",
       "      <td>Promo</td>\n",
       "    </tr>\n",
       "  </tbody>\n",
       "</table>\n",
       "</div>"
      ],
      "text/plain": [
       "   Unnamed: 0      origin destination train_type  price         train_class  \\\n",
       "0       706.0  PONFERRADA      MADRID      ALVIA  27.90             Turista   \n",
       "1      1056.0      MADRID    VALENCIA        AVE  21.95             Turista   \n",
       "2      1057.0      MADRID    VALENCIA        AVE  39.45             Turista   \n",
       "3      1058.0      MADRID    VALENCIA        AVE  21.95             Turista   \n",
       "4      1060.0      MADRID    VALENCIA        AVE  33.65             Turista   \n",
       "5      1062.0      MADRID    VALENCIA        AVE  45.30             Turista   \n",
       "6      1063.0      MADRID    VALENCIA     AVE-MD  71.00  Turista con enlace   \n",
       "7      1064.0      MADRID    VALENCIA        AVE  45.30             Turista   \n",
       "8      1066.0      MADRID    VALENCIA     AVE-LD  56.10  Turista con enlace   \n",
       "9      1070.0      MADRID    VALENCIA        AVE  51.15             Turista   \n",
       "\n",
       "       fare  \n",
       "0     Promo  \n",
       "1     Promo  \n",
       "2     Promo  \n",
       "3     Promo  \n",
       "4     Promo  \n",
       "5     Promo  \n",
       "6  Flexible  \n",
       "7     Promo  \n",
       "8  Flexible  \n",
       "9     Promo  "
      ]
     },
     "execution_count": 10,
     "metadata": {},
     "output_type": "execute_result"
    }
   ],
   "source": [
    "df.head(10)"
   ]
  },
  {
   "cell_type": "code",
   "execution_count": 11,
   "id": "fa37697c",
   "metadata": {},
   "outputs": [],
   "source": [
    "import plotly.io as pio\n",
    "pio.renderers.default = 'notebook'"
   ]
  },
  {
   "cell_type": "code",
   "execution_count": 12,
   "id": "9e2753f4",
   "metadata": {},
   "outputs": [
    {
     "data": {
      "text/html": [
       "        <script type=\"text/javascript\">\n",
       "        window.PlotlyConfig = {MathJaxConfig: 'local'};\n",
       "        if (window.MathJax && window.MathJax.Hub && window.MathJax.Hub.Config) {window.MathJax.Hub.Config({SVG: {font: \"STIX-Web\"}});}\n",
       "        if (typeof require !== 'undefined') {\n",
       "        require.undef(\"plotly\");\n",
       "        requirejs.config({\n",
       "            paths: {\n",
       "                'plotly': ['https://cdn.plot.ly/plotly-2.27.0.min']\n",
       "            }\n",
       "        });\n",
       "        require(['plotly'], function(Plotly) {\n",
       "            window._Plotly = Plotly;\n",
       "        });\n",
       "        }\n",
       "        </script>\n",
       "        "
      ]
     },
     "metadata": {},
     "output_type": "display_data"
    }
   ],
   "source": [
    "import plotly.offline as pyo\n",
    "pyo.init_notebook_mode(connected=True)"
   ]
  },
  {
   "cell_type": "code",
   "execution_count": null,
   "id": "5255e84d-f193-4b4e-92a3-68e3c9221f2e",
   "metadata": {},
   "outputs": [],
   "source": [
    "import pandas as pd\n",
    "import plotly.express as px\n",
    "from ipywidgets import interact, widgets\n",
    "\n",
    "# Read the CSV file into a DataFrame\n",
    "df = pd.read_csv('Book112.csv')\n",
    "\n",
    "# Handle NaN values in 'price' column\n",
    "df['price'].fillna(0, inplace=True)  # Replace NaN values with 0, you can choose another strategy based on your data\n",
    "\n",
    "# Animated graph - Train Types over Time\n",
    "animated_train_types = px.scatter(df, x='origin', y='destination', animation_frame='train_type',\n",
    "                                   color='train_type', hover_data=['train_class', 'fare'],\n",
    "                                   title='Animated Graph - Train Types over Time')\n",
    "animated_train_types.update_layout(updatemenus=[dict(type='buttons', showactive=False,\n",
    "                                                      buttons=[dict(label='Play',\n",
    "                                                                    method='animate', args=[None, dict(frame=dict(duration=1000, redraw=True), fromcurrent=True)]),\n",
    "                                                               dict(label='Pause',\n",
    "                                                                    method='animate', args=[[None], dict(frame=dict(duration=0, redraw=True), mode='immediate', transition=dict(duration=0))])])])\n",
    "\n",
    "# Animated graph - Price Distribution over Time\n",
    "animated_price_distribution = px.histogram(df, x='price', animation_frame='train_type',\n",
    "                                          color='train_type', title='Animated Price Distribution over Time')\n",
    "\n",
    "# Dynamic graph function - Origin vs Destination\n",
    "def dynamic_origin_destination(train_type):\n",
    "    filtered_data = df[df['train_type'] == train_type]\n",
    "    \n",
    "    fig = px.scatter(filtered_data, x='origin', y='destination',\n",
    "                     color='train_type', size='price',\n",
    "                     hover_data=['train_class', 'fare'],\n",
    "                     title=f'Dynamic Graph - {train_type} Trains: Origin vs Destination')\n",
    "    fig.show()\n",
    "\n",
    "# Dynamic graph function - Train Class Distribution\n",
    "def dynamic_train_class_distribution(train_type):\n",
    "    filtered_data = df[df['train_type'] == train_type]\n",
    "    \n",
    "    fig = px.histogram(filtered_data, x='train_class',\n",
    "                       color='train_class',\n",
    "                       title=f'Dynamic Train Class Distribution for {train_type} Trains')\n",
    "    fig.show()\n",
    "\n",
    "# Interactive widgets for dynamic graphs\n",
    "train_type_widget_1 = widgets.Dropdown(\n",
    "    options=list(df['train_type'].unique()),\n",
    "    value=df['train_type'].iloc[0],\n",
    "    description='Train Type (Graph 1)'\n",
    ")\n",
    "\n",
    "train_type_widget_2 = widgets.Dropdown(\n",
    "    options=list(df['train_type'].unique()),\n",
    "    value=df['train_type'].iloc[0],\n",
    "    description='Train Type (Graph 2)'\n",
    ")\n",
    "\n",
    "interact(dynamic_origin_destination, train_type=train_type_widget_1)\n",
    "interact(dynamic_train_class_distribution, train_type=train_type_widget_2)\n",
    "\n",
    "# Show the graphs\n",
    "animated_train_types.show()\n",
    "animated_price_distribution.show()\n"
   ]
  },
  {
   "cell_type": "markdown",
   "id": "5e35140e-f49e-4f68-8b15-932b8085692b",
   "metadata": {},
   "source": []
  },
  {
   "cell_type": "code",
   "execution_count": 13,
   "id": "4c06b6d4",
   "metadata": {},
   "outputs": [
    {
     "data": {
      "application/vnd.jupyter.widget-view+json": {
       "model_id": "a24960a54a554b8c84fa14dc3e961f31",
       "version_major": 2,
       "version_minor": 0
      },
      "text/plain": [
       "interactive(children=(Dropdown(description='Train Type', options=('ALVIA', 'AVE', 'AVE-MD', 'AVE-LD', 'AV City…"
      ]
     },
     "metadata": {},
     "output_type": "display_data"
    },
    {
     "data": {
      "application/vnd.plotly.v1+json": {
       "config": {
        "plotlyServerURL": "https://plot.ly"
       },
       "data": [
        {
         "customdata": [
          [
           "Turista Plus",
           "Promo"
          ],
          [
           "Turista",
           "Flexible"
          ],
          [
           "Turista Plus",
           "Promo"
          ],
          [
           "Turista Plus",
           "Promo"
          ],
          [
           "Turista",
           "Promo"
          ],
          [
           "Turista Plus",
           "Promo"
          ],
          [
           "Turista Plus",
           "Promo"
          ],
          [
           "Turista Plus",
           "Promo"
          ],
          [
           "Turista Plus",
           "Promo"
          ],
          [
           "Turista",
           "Flexible"
          ],
          [
           "Turista Plus",
           "Promo"
          ],
          [
           "Turista Plus",
           "Promo"
          ],
          [
           "Turista",
           "Promo"
          ],
          [
           "Turista Plus",
           "Promo"
          ],
          [
           "Turista Plus",
           "Promo"
          ],
          [
           "Turista Plus",
           "Promo"
          ],
          [
           "Turista",
           "Promo"
          ],
          [
           "Turista Plus",
           "Promo"
          ],
          [
           "Turista Plus",
           "Promo"
          ],
          [
           "Turista Plus",
           "Promo"
          ],
          [
           "Turista Plus",
           "Promo"
          ],
          [
           "Turista",
           "Flexible"
          ],
          [
           "Turista Plus",
           "Promo"
          ],
          [
           "Turista Plus",
           "Promo"
          ],
          [
           "Turista",
           "Promo"
          ],
          [
           "Turista Plus",
           "Promo"
          ],
          [
           "Turista Plus",
           "Promo"
          ],
          [
           "Turista Plus",
           "Promo"
          ],
          [
           "Turista Plus",
           "Promo"
          ],
          [
           "Turista",
           "Flexible"
          ],
          [
           "Turista Plus",
           "Promo"
          ],
          [
           "Turista Plus",
           "Promo"
          ],
          [
           "Turista Plus",
           "Promo"
          ],
          [
           "Turista",
           "Flexible"
          ],
          [
           "Turista Plus",
           "Promo"
          ],
          [
           "Turista Plus",
           "Promo"
          ],
          [
           "Turista",
           "Promo"
          ],
          [
           "Turista Plus",
           "Promo"
          ],
          [
           "Turista Plus",
           "Promo"
          ],
          [
           "Turista Plus",
           "Promo"
          ],
          [
           "Turista Plus",
           "Promo"
          ],
          [
           "Turista Plus",
           "Promo"
          ],
          [
           "Turista Plus",
           "Promo"
          ],
          [
           "Turista",
           "Flexible"
          ],
          [
           "Turista",
           "Promo"
          ],
          [
           "Turista Plus",
           "Promo"
          ],
          [
           "Turista Plus",
           "Promo"
          ],
          [
           "Turista Plus",
           "Promo"
          ],
          [
           "Turista Plus",
           "Promo"
          ],
          [
           "Turista",
           "Flexible"
          ],
          [
           "Turista Plus",
           "Promo"
          ],
          [
           "Turista Plus",
           "Promo"
          ],
          [
           "Turista",
           "Promo"
          ],
          [
           "Turista Plus",
           "Promo"
          ],
          [
           "Turista Plus",
           "Promo"
          ],
          [
           "Turista Plus",
           "Promo"
          ]
         ],
         "hovertemplate": "train_type=AV City<br>origin=%{x}<br>destination=%{y}<br>price=%{marker.size}<br>train_class=%{customdata[0]}<br>fare=%{customdata[1]}<extra></extra>",
         "legendgroup": "AV City",
         "marker": {
          "color": "#FFA15A",
          "size": [
           58.95,
           62.2,
           58.95,
           52.2,
           49.15,
           52.2,
           58.95,
           52.2,
           58.95,
           62.2,
           58.95,
           52.2,
           49.15,
           52.2,
           58.95,
           52.2,
           49.15,
           52.2,
           58.95,
           52.2,
           58.95,
           62.2,
           58.95,
           52.2,
           49.15,
           52.2,
           58.95,
           52.2,
           58.95,
           62.2,
           58.95,
           52.2,
           58.95,
           62.2,
           58.95,
           52.2,
           49.15,
           52.2,
           58.95,
           52.2,
           58.95,
           52.2,
           58.95,
           62.2,
           49.15,
           52.2,
           58.95,
           52.2,
           58.95,
           62.2,
           58.95,
           52.2,
           49.15,
           52.2,
           58.95,
           52.2
          ],
          "sizemode": "area",
          "sizeref": 0.26925,
          "symbol": "circle"
         },
         "mode": "markers",
         "name": "AV City",
         "orientation": "v",
         "showlegend": true,
         "type": "scatter",
         "x": [
          "SEVILLA",
          "SEVILLA",
          "SEVILLA",
          "SEVILLA",
          "MADRID",
          "MADRID",
          "MADRID",
          "MADRID",
          "SEVILLA",
          "SEVILLA",
          "SEVILLA",
          "SEVILLA",
          "MADRID",
          "MADRID",
          "MADRID",
          "MADRID",
          "MADRID",
          "MADRID",
          "MADRID",
          "MADRID",
          "SEVILLA",
          "SEVILLA",
          "SEVILLA",
          "SEVILLA",
          "MADRID",
          "MADRID",
          "MADRID",
          "MADRID",
          "SEVILLA",
          "SEVILLA",
          "SEVILLA",
          "SEVILLA",
          "SEVILLA",
          "SEVILLA",
          "SEVILLA",
          "SEVILLA",
          "MADRID",
          "MADRID",
          "MADRID",
          "MADRID",
          "SEVILLA",
          "SEVILLA",
          "SEVILLA",
          "SEVILLA",
          "MADRID",
          "MADRID",
          "MADRID",
          "MADRID",
          "SEVILLA",
          "SEVILLA",
          "SEVILLA",
          "SEVILLA",
          "MADRID",
          "MADRID",
          "MADRID",
          "MADRID"
         ],
         "xaxis": "x",
         "y": [
          "MADRID",
          "MADRID",
          "MADRID",
          "MADRID",
          "SEVILLA",
          "SEVILLA",
          "SEVILLA",
          "SEVILLA",
          "MADRID",
          "MADRID",
          "MADRID",
          "MADRID",
          "SEVILLA",
          "SEVILLA",
          "SEVILLA",
          "SEVILLA",
          "SEVILLA",
          "SEVILLA",
          "SEVILLA",
          "SEVILLA",
          "MADRID",
          "MADRID",
          "MADRID",
          "MADRID",
          "SEVILLA",
          "SEVILLA",
          "SEVILLA",
          "SEVILLA",
          "MADRID",
          "MADRID",
          "MADRID",
          "MADRID",
          "MADRID",
          "MADRID",
          "MADRID",
          "MADRID",
          "SEVILLA",
          "SEVILLA",
          "SEVILLA",
          "SEVILLA",
          "MADRID",
          "MADRID",
          "MADRID",
          "MADRID",
          "SEVILLA",
          "SEVILLA",
          "SEVILLA",
          "SEVILLA",
          "MADRID",
          "MADRID",
          "MADRID",
          "MADRID",
          "SEVILLA",
          "SEVILLA",
          "SEVILLA",
          "SEVILLA"
         ],
         "yaxis": "y"
        }
       ],
       "frames": [
        {
         "data": [
          {
           "customdata": [
            [
             "Turista",
             "Promo"
            ],
            [
             "Turista",
             "Flexible"
            ],
            [
             "Turista",
             "Flexible"
            ],
            [
             "Turista",
             "Flexible"
            ],
            [
             "Turista",
             "Promo"
            ],
            [
             "Turista",
             "Promo"
            ],
            [
             "Turista",
             "Promo"
            ],
            [
             "Turista",
             "Promo"
            ],
            [
             "Turista",
             "Flexible"
            ],
            [
             "Turista",
             "Flexible"
            ],
            [
             "Turista",
             "Flexible"
            ],
            [
             "Turista",
             "Flexible"
            ],
            [
             "Turista",
             "Promo"
            ],
            [
             "Turista",
             "Promo"
            ],
            [
             "Turista",
             "Flexible"
            ],
            [
             "Turista",
             "Promo"
            ],
            [
             "Turista",
             "Promo"
            ],
            [
             "Turista",
             "Flexible"
            ],
            [
             "Turista",
             "Promo"
            ],
            [
             "Turista",
             "Flexible"
            ],
            [
             "Turista",
             "Flexible"
            ],
            [
             "Turista",
             "Flexible"
            ],
            [
             "Turista",
             "Promo"
            ],
            [
             "Turista",
             "Promo"
            ],
            [
             "Turista",
             "Promo"
            ],
            [
             "Turista",
             "Flexible"
            ],
            [
             "Turista",
             "Flexible"
            ],
            [
             "Turista",
             "Flexible"
            ],
            [
             "Turista",
             "Flexible"
            ],
            [
             "Turista",
             "Promo"
            ],
            [
             "Turista",
             "Promo"
            ],
            [
             "Turista",
             "Promo"
            ],
            [
             "Turista",
             "Promo"
            ],
            [
             "Turista",
             "Flexible"
            ],
            [
             "Turista",
             "Flexible"
            ],
            [
             "Turista",
             "Flexible"
            ],
            [
             "Turista",
             "Promo"
            ],
            [
             "Turista",
             "Promo"
            ],
            [
             "Turista",
             "Promo"
            ],
            [
             "Turista",
             "Flexible"
            ],
            [
             "Turista",
             "Promo"
            ],
            [
             "Turista",
             "Promo"
            ],
            [
             "Turista",
             "Promo"
            ],
            [
             "Turista",
             "Promo"
            ],
            [
             "Turista",
             "Promo"
            ],
            [
             "Turista",
             "Flexible"
            ],
            [
             "Turista",
             "Flexible"
            ],
            [
             "Turista",
             "Flexible"
            ],
            [
             "Turista",
             "Flexible"
            ],
            [
             "Turista",
             "Flexible"
            ],
            [
             "Turista",
             "Flexible"
            ],
            [
             "Turista",
             "Flexible"
            ],
            [
             "Turista",
             "Promo"
            ],
            [
             "Turista",
             "Promo"
            ],
            [
             "Turista",
             "Promo"
            ],
            [
             "Turista",
             "Flexible"
            ],
            [
             "Turista",
             "Promo"
            ]
           ],
           "hovertemplate": "train_type=ALVIA<br>origin=%{x}<br>destination=%{y}<br>price=%{marker.size}<br>train_class=%{customdata[0]}<br>fare=%{customdata[1]}<extra></extra>",
           "legendgroup": "ALVIA",
           "marker": {
            "color": "#636efa",
            "size": [
             27.9,
             0,
             0,
             0,
             0,
             47.05,
             33.5,
             27.9,
             0,
             0,
             0,
             0,
             0,
             47.05,
             0,
             27.9,
             33.5,
             0,
             33.5,
             0,
             0,
             0,
             0,
             47.05,
             27.9,
             0,
             0,
             0,
             0,
             0,
             47.05,
             27.9,
             33.5,
             0,
             0,
             0,
             0,
             47.05,
             27.9,
             0,
             33.5,
             27.9,
             33.5,
             0,
             47.05,
             0,
             0,
             0,
             0,
             0,
             0,
             0,
             0,
             47.05,
             27.9,
             0,
             33.5
            ],
            "sizemode": "area",
            "sizeref": 0.26925,
            "symbol": "circle"
           },
           "mode": "markers",
           "name": "ALVIA",
           "orientation": "v",
           "showlegend": true,
           "type": "scatter",
           "x": [
            "PONFERRADA",
            "SEVILLA",
            "SEVILLA",
            "SEVILLA",
            "SEVILLA",
            "SEVILLA",
            "MADRID",
            "PONFERRADA",
            "MADRID",
            "SEVILLA",
            "SEVILLA",
            "SEVILLA",
            "SEVILLA",
            "SEVILLA",
            "MADRID",
            "PONFERRADA",
            "MADRID",
            "MADRID",
            "MADRID",
            "SEVILLA",
            "SEVILLA",
            "SEVILLA",
            "SEVILLA",
            "SEVILLA",
            "PONFERRADA",
            "MADRID",
            "SEVILLA",
            "SEVILLA",
            "SEVILLA",
            "SEVILLA",
            "SEVILLA",
            "PONFERRADA",
            "MADRID",
            "SEVILLA",
            "SEVILLA",
            "SEVILLA",
            "SEVILLA",
            "SEVILLA",
            "PONFERRADA",
            "MADRID",
            "MADRID",
            "PONFERRADA",
            "MADRID",
            "SEVILLA",
            "SEVILLA",
            "SEVILLA",
            "SEVILLA",
            "SEVILLA",
            "MADRID",
            "SEVILLA",
            "SEVILLA",
            "SEVILLA",
            "SEVILLA",
            "SEVILLA",
            "PONFERRADA",
            "MADRID",
            "MADRID"
           ],
           "xaxis": "x",
           "y": [
            "MADRID",
            "MADRID",
            "MADRID",
            "MADRID",
            "MADRID",
            "MADRID",
            "PONFERRADA",
            "MADRID",
            "SEVILLA",
            "MADRID",
            "MADRID",
            "MADRID",
            "MADRID",
            "MADRID",
            "SEVILLA",
            "MADRID",
            "PONFERRADA",
            "SEVILLA",
            "PONFERRADA",
            "MADRID",
            "MADRID",
            "MADRID",
            "MADRID",
            "MADRID",
            "MADRID",
            "SEVILLA",
            "MADRID",
            "MADRID",
            "MADRID",
            "MADRID",
            "MADRID",
            "MADRID",
            "PONFERRADA",
            "MADRID",
            "MADRID",
            "MADRID",
            "MADRID",
            "MADRID",
            "MADRID",
            "SEVILLA",
            "PONFERRADA",
            "MADRID",
            "PONFERRADA",
            "MADRID",
            "MADRID",
            "MADRID",
            "MADRID",
            "MADRID",
            "SEVILLA",
            "MADRID",
            "MADRID",
            "MADRID",
            "MADRID",
            "MADRID",
            "MADRID",
            "SEVILLA",
            "PONFERRADA"
           ],
           "yaxis": "y"
          }
         ],
         "name": "ALVIA"
        },
        {
         "data": [
          {
           "customdata": [
            [
             "Turista",
             "Promo"
            ],
            [
             "Turista",
             "Promo"
            ],
            [
             "Turista",
             "Promo"
            ],
            [
             "Turista",
             "Promo"
            ],
            [
             "Turista",
             "Promo"
            ],
            [
             "Turista",
             "Promo"
            ],
            [
             "Turista",
             "Promo"
            ],
            [
             "Turista",
             "Promo"
            ],
            [
             "Turista",
             "Promo"
            ],
            [
             "Turista",
             "Promo"
            ],
            [
             "Turista",
             "Promo"
            ],
            [
             "Turista",
             "Promo"
            ],
            [
             "Turista",
             "Promo"
            ],
            [
             "Turista",
             "Promo"
            ],
            [
             "Turista",
             "Promo"
            ],
            [
             "Turista",
             "Promo"
            ],
            [
             "Turista",
             "Promo"
            ],
            [
             "Turista",
             "Promo"
            ],
            [
             "Turista",
             "Promo"
            ],
            [
             "Turista",
             "Promo"
            ],
            [
             "Turista",
             "Promo"
            ],
            [
             "Turista",
             "Promo"
            ],
            [
             "Turista",
             "Flexible"
            ],
            [
             "Turista Plus",
             "Promo"
            ],
            [
             "Turista",
             "Promo"
            ],
            [
             "Turista Plus",
             "Promo"
            ],
            [
             "Turista Plus",
             "Promo"
            ],
            [
             "Turista",
             "Promo"
            ],
            [
             "Turista",
             "Promo"
            ],
            [
             "Turista",
             "Promo"
            ],
            [
             "Turista",
             "Promo"
            ],
            [
             "Turista",
             "Promo"
            ],
            [
             "Turista",
             "Promo"
            ],
            [
             "Turista",
             "Promo"
            ],
            [
             "Turista",
             "Promo"
            ],
            [
             "Turista",
             "Promo"
            ],
            [
             "Turista",
             "Promo"
            ],
            [
             "Turista",
             "Promo"
            ],
            [
             "Turista",
             "Promo"
            ],
            [
             "Turista",
             "Promo"
            ],
            [
             "Turista Plus",
             "Promo"
            ],
            [
             "Turista Plus",
             "Promo"
            ],
            [
             "Turista Plus",
             "Promo"
            ],
            [
             "Turista Plus",
             "Promo"
            ],
            [
             "Turista",
             "Promo"
            ],
            [
             "Turista",
             "Promo"
            ],
            [
             "Turista",
             "Flexible"
            ],
            [
             "Turista",
             "Flexible"
            ],
            [
             "Turista",
             "Flexible"
            ],
            [
             "Turista",
             "Flexible"
            ],
            [
             "Turista",
             "Flexible"
            ],
            [
             "Turista",
             "Flexible"
            ],
            [
             "Turista",
             "Flexible"
            ],
            [
             "Turista Plus",
             "Promo"
            ],
            [
             "Turista Plus",
             "Promo"
            ],
            [
             "Turista",
             "Promo"
            ],
            [
             "Turista",
             "Flexible"
            ],
            [
             "Turista",
             "Promo"
            ],
            [
             "Turista",
             "Promo"
            ],
            [
             "Turista",
             "Promo"
            ],
            [
             "Turista",
             "Promo"
            ],
            [
             "Turista",
             "Promo"
            ],
            [
             "Turista",
             "Promo"
            ],
            [
             "Turista",
             "Promo"
            ],
            [
             "Turista",
             "Promo"
            ],
            [
             "Turista",
             "Promo"
            ],
            [
             "Turista",
             "Promo"
            ],
            [
             "Turista",
             "Promo"
            ],
            [
             "Turista",
             "Promo"
            ],
            [
             "Turista",
             "Promo"
            ],
            [
             "Turista",
             "Promo"
            ],
            [
             "Turista",
             "Promo"
            ],
            [
             "Turista",
             "Promo"
            ],
            [
             "Turista",
             "Promo"
            ],
            [
             "Turista",
             "Promo"
            ],
            [
             "Turista",
             "Promo"
            ],
            [
             "Turista",
             "Promo"
            ],
            [
             "Turista",
             "Promo"
            ],
            [
             "Turista",
             "Promo"
            ],
            [
             "Turista",
             "Promo"
            ],
            [
             "Turista",
             "Promo"
            ],
            [
             "Turista",
             "Promo"
            ],
            [
             "Turista",
             "Promo"
            ],
            [
             "Turista",
             "Promo"
            ],
            [
             "Turista",
             "Promo"
            ],
            [
             "Turista",
             "Promo"
            ],
            [
             "Turista",
             "Promo"
            ],
            [
             "Turista",
             "Promo"
            ],
            [
             "Turista",
             "Promo"
            ],
            [
             "Turista",
             "Promo"
            ],
            [
             "Turista",
             "Promo"
            ],
            [
             "Turista",
             "Promo"
            ],
            [
             "Turista",
             "Promo"
            ],
            [
             "Turista",
             "Promo"
            ],
            [
             "Turista",
             "Promo"
            ],
            [
             "Turista",
             "Promo"
            ],
            [
             "Turista",
             "Promo"
            ],
            [
             "Turista",
             "Promo"
            ],
            [
             "Turista",
             "Promo"
            ],
            [
             "Turista",
             "Promo"
            ],
            [
             "Turista",
             "Promo"
            ],
            [
             "Turista",
             "Promo"
            ],
            [
             "Turista",
             "Flexible"
            ],
            [
             "Turista",
             "Flexible"
            ],
            [
             "Turista Plus",
             "Promo"
            ],
            [
             "Turista Plus",
             "Promo"
            ],
            [
             "Turista Plus",
             "Promo"
            ],
            [
             "Turista",
             "Promo"
            ],
            [
             "Turista",
             "Flexible"
            ],
            [
             "Turista",
             "Promo"
            ],
            [
             "Turista",
             "Promo"
            ],
            [
             "Turista Plus",
             "Promo"
            ],
            [
             "Turista",
             "Promo"
            ],
            [
             "Turista",
             "Promo"
            ],
            [
             "Turista",
             "Flexible"
            ],
            [
             "Turista Plus",
             "Promo"
            ],
            [
             "Turista",
             "Promo"
            ],
            [
             "Turista",
             "Promo"
            ],
            [
             "Turista",
             "Promo"
            ],
            [
             "Turista",
             "Promo"
            ],
            [
             "Turista",
             "Promo"
            ],
            [
             "Turista",
             "Promo"
            ],
            [
             "Turista",
             "Promo"
            ],
            [
             "Turista",
             "Promo"
            ],
            [
             "Turista",
             "Promo"
            ],
            [
             "Turista Plus",
             "Promo"
            ],
            [
             "Turista",
             "Promo"
            ],
            [
             "Turista",
             "Promo"
            ],
            [
             "Turista",
             "Promo"
            ],
            [
             "Turista",
             "Flexible"
            ],
            [
             "Turista Plus",
             "Promo"
            ],
            [
             "Turista Plus",
             "Promo"
            ],
            [
             "Turista",
             "Promo"
            ],
            [
             "Turista",
             "Promo"
            ],
            [
             "Turista",
             "Promo"
            ],
            [
             "Turista",
             "Flexible"
            ],
            [
             "Turista",
             "Promo"
            ],
            [
             "Turista",
             "Promo"
            ],
            [
             "Turista",
             "Promo"
            ],
            [
             "Turista",
             "Promo"
            ],
            [
             "Turista Plus",
             "Promo"
            ],
            [
             "Turista",
             "Promo"
            ],
            [
             "Turista",
             "Promo"
            ],
            [
             "Turista",
             "Promo"
            ],
            [
             "Turista",
             "Promo"
            ],
            [
             "Turista",
             "Promo"
            ],
            [
             "Turista",
             "Promo"
            ],
            [
             "Turista",
             "Promo"
            ],
            [
             "Turista",
             "Promo"
            ],
            [
             "Turista",
             "Promo"
            ],
            [
             "Turista",
             "Promo"
            ],
            [
             "Turista Plus",
             "Promo"
            ],
            [
             "Turista",
             "Promo"
            ],
            [
             "Turista",
             "Promo"
            ],
            [
             "Turista",
             "Promo"
            ],
            [
             "Turista",
             "Promo"
            ],
            [
             "Turista",
             "Promo"
            ],
            [
             "Turista",
             "Promo"
            ],
            [
             "Turista",
             "Promo"
            ],
            [
             "Turista",
             "Flexible"
            ],
            [
             "Turista",
             "Flexible"
            ],
            [
             "Turista Plus",
             "Promo"
            ],
            [
             "Turista Plus",
             "Promo"
            ],
            [
             "Turista Plus",
             "Promo"
            ],
            [
             "Turista",
             "Promo"
            ],
            [
             "Turista",
             "Flexible"
            ],
            [
             "Turista",
             "Promo"
            ],
            [
             "Turista",
             "Promo"
            ],
            [
             "Turista Plus",
             "Promo"
            ],
            [
             "Turista",
             "Promo"
            ],
            [
             "Turista",
             "Promo"
            ],
            [
             "Turista",
             "Flexible"
            ],
            [
             "Turista",
             "Promo"
            ],
            [
             "Turista",
             "Promo"
            ],
            [
             "Turista",
             "Promo"
            ],
            [
             "Turista",
             "Promo"
            ],
            [
             "Turista",
             "Promo"
            ],
            [
             "Turista",
             "Promo"
            ],
            [
             "Turista",
             "Promo"
            ],
            [
             "Turista",
             "Promo"
            ],
            [
             "Turista",
             "Promo"
            ],
            [
             "Turista",
             "Promo"
            ],
            [
             "Turista",
             "Promo"
            ],
            [
             "Turista",
             "Promo"
            ],
            [
             "Turista",
             "Promo"
            ],
            [
             "Turista",
             "Promo"
            ],
            [
             "Turista",
             "Promo"
            ],
            [
             "Turista",
             "Promo"
            ],
            [
             "Turista",
             "Promo"
            ],
            [
             "Turista",
             "Flexible"
            ],
            [
             "Turista",
             "Flexible"
            ],
            [
             "Turista",
             "Flexible"
            ],
            [
             "Turista",
             "Flexible"
            ],
            [
             "Turista",
             "Flexible"
            ],
            [
             "Turista",
             "Flexible"
            ],
            [
             "Turista",
             "Flexible"
            ],
            [
             "Turista Plus",
             "Promo"
            ],
            [
             "Turista Plus",
             "Promo"
            ],
            [
             "Turista",
             "Promo"
            ],
            [
             "Turista",
             "Flexible"
            ],
            [
             "Turista",
             "Promo"
            ],
            [
             "Turista",
             "Promo"
            ],
            [
             "Turista",
             "Promo"
            ],
            [
             "Turista",
             "Promo"
            ],
            [
             "Turista",
             "Promo"
            ],
            [
             "Turista",
             "Promo"
            ],
            [
             "Turista",
             "Flexible"
            ],
            [
             "Turista Plus",
             "Promo"
            ],
            [
             "Turista Plus",
             "Promo"
            ],
            [
             "Turista",
             "Promo"
            ],
            [
             "Turista",
             "Promo"
            ],
            [
             "Turista",
             "Promo"
            ],
            [
             "Turista",
             "Flexible"
            ],
            [
             "Turista",
             "Promo"
            ],
            [
             "Turista",
             "Promo"
            ],
            [
             "Turista",
             "Promo"
            ],
            [
             "Turista",
             "Promo"
            ],
            [
             "Turista",
             "Promo"
            ],
            [
             "Turista",
             "Promo"
            ],
            [
             "Turista",
             "Promo"
            ],
            [
             "Turista",
             "Promo"
            ],
            [
             "Turista",
             "Promo"
            ],
            [
             "Turista",
             "Flexible"
            ],
            [
             "Turista Plus",
             "Promo"
            ],
            [
             "Turista",
             "Promo"
            ],
            [
             "Turista Plus",
             "Promo"
            ],
            [
             "Turista Plus",
             "Promo"
            ],
            [
             "Turista",
             "Promo"
            ],
            [
             "Turista",
             "Promo"
            ],
            [
             "Turista",
             "Promo"
            ],
            [
             "Turista",
             "Promo"
            ],
            [
             "Turista",
             "Promo"
            ],
            [
             "Turista",
             "Promo"
            ],
            [
             "Turista",
             "Promo"
            ],
            [
             "Turista",
             "Promo"
            ],
            [
             "Turista",
             "Promo"
            ],
            [
             "Turista",
             "Promo"
            ],
            [
             "Turista",
             "Promo"
            ],
            [
             "Turista",
             "Promo"
            ],
            [
             "Turista",
             "Promo"
            ],
            [
             "Turista",
             "Promo"
            ],
            [
             "Turista",
             "Promo"
            ],
            [
             "Turista",
             "Promo"
            ],
            [
             "Turista",
             "Promo"
            ],
            [
             "Turista",
             "Promo"
            ],
            [
             "Turista",
             "Promo"
            ],
            [
             "Turista",
             "Promo"
            ],
            [
             "Turista",
             "Promo"
            ],
            [
             "Turista",
             "Promo"
            ],
            [
             "Turista",
             "Promo"
            ],
            [
             "Turista",
             "Promo"
            ],
            [
             "Turista",
             "Flexible"
            ],
            [
             "Turista Plus",
             "Promo"
            ],
            [
             "Turista Plus",
             "Promo"
            ],
            [
             "Turista",
             "Promo"
            ],
            [
             "Turista",
             "Promo"
            ],
            [
             "Turista",
             "Promo"
            ],
            [
             "Turista",
             "Flexible"
            ],
            [
             "Turista",
             "Promo"
            ],
            [
             "Turista",
             "Promo"
            ],
            [
             "Turista",
             "Promo"
            ],
            [
             "Turista",
             "Promo"
            ],
            [
             "Turista",
             "Promo"
            ],
            [
             "Turista",
             "Promo"
            ],
            [
             "Turista",
             "Promo"
            ],
            [
             "Turista",
             "Promo"
            ],
            [
             "Turista",
             "Promo"
            ],
            [
             "Turista",
             "Promo"
            ],
            [
             "Turista",
             "Flexible"
            ],
            [
             "Turista Plus",
             "Promo"
            ],
            [
             "Turista",
             "Promo"
            ],
            [
             "Turista Plus",
             "Promo"
            ],
            [
             "Turista Plus",
             "Promo"
            ],
            [
             "Turista",
             "Promo"
            ],
            [
             "Turista",
             "Promo"
            ],
            [
             "Turista",
             "Promo"
            ],
            [
             "Turista",
             "Promo"
            ],
            [
             "Turista",
             "Promo"
            ],
            [
             "Turista",
             "Promo"
            ],
            [
             "Turista",
             "Promo"
            ],
            [
             "Turista",
             "Promo"
            ],
            [
             "Turista",
             "Promo"
            ],
            [
             "Turista",
             "Promo"
            ],
            [
             "Turista",
             "Promo"
            ],
            [
             "Turista",
             "Promo"
            ],
            [
             "Turista Plus",
             "Promo"
            ],
            [
             "Turista Plus",
             "Promo"
            ],
            [
             "Turista Plus",
             "Promo"
            ],
            [
             "Turista Plus",
             "Promo"
            ],
            [
             "Turista",
             "Promo"
            ],
            [
             "Turista",
             "Promo"
            ],
            [
             "Turista",
             "Promo"
            ],
            [
             "Turista",
             "Promo"
            ],
            [
             "Turista",
             "Promo"
            ],
            [
             "Turista",
             "Promo"
            ],
            [
             "Turista",
             "Flexible"
            ],
            [
             "Turista",
             "Flexible"
            ],
            [
             "Turista Plus",
             "Promo"
            ],
            [
             "Turista Plus",
             "Promo"
            ],
            [
             "Turista Plus",
             "Promo"
            ],
            [
             "Turista",
             "Promo"
            ],
            [
             "Turista",
             "Flexible"
            ],
            [
             "Turista",
             "Promo"
            ],
            [
             "Turista",
             "Promo"
            ],
            [
             "Turista Plus",
             "Promo"
            ],
            [
             "Turista",
             "Promo"
            ],
            [
             "Turista",
             "Promo"
            ],
            [
             "Turista",
             "Flexible"
            ],
            [
             "Turista Plus",
             "Promo"
            ],
            [
             "Turista",
             "Promo"
            ],
            [
             "Turista",
             "Promo"
            ],
            [
             "Turista",
             "Promo"
            ],
            [
             "Turista",
             "Promo"
            ],
            [
             "Turista",
             "Promo"
            ],
            [
             "Turista",
             "Promo"
            ],
            [
             "Turista",
             "Promo"
            ],
            [
             "Turista",
             "Promo"
            ],
            [
             "Turista",
             "Promo"
            ],
            [
             "Turista",
             "Promo"
            ],
            [
             "Turista Plus",
             "Promo"
            ],
            [
             "Turista",
             "Promo"
            ],
            [
             "Turista",
             "Promo"
            ],
            [
             "Turista",
             "Promo"
            ],
            [
             "Turista",
             "Promo"
            ],
            [
             "Turista",
             "Promo"
            ],
            [
             "Turista",
             "Promo"
            ],
            [
             "Turista",
             "Promo"
            ],
            [
             "Turista",
             "Promo"
            ],
            [
             "Turista",
             "Promo"
            ],
            [
             "Turista",
             "Promo"
            ],
            [
             "Turista",
             "Flexible"
            ],
            [
             "Turista",
             "Flexible"
            ],
            [
             "Turista",
             "Flexible"
            ],
            [
             "Turista",
             "Flexible"
            ],
            [
             "Turista",
             "Flexible"
            ],
            [
             "Turista",
             "Flexible"
            ],
            [
             "Turista",
             "Flexible"
            ],
            [
             "Turista Plus",
             "Promo"
            ],
            [
             "Turista Plus",
             "Promo"
            ],
            [
             "Turista",
             "Promo"
            ],
            [
             "Turista",
             "Flexible"
            ],
            [
             "Turista",
             "Promo"
            ],
            [
             "Turista",
             "Promo"
            ],
            [
             "Turista",
             "Promo"
            ],
            [
             "Turista",
             "Promo"
            ],
            [
             "Turista",
             "Promo"
            ],
            [
             "Turista",
             "Promo"
            ],
            [
             "Turista",
             "Promo"
            ],
            [
             "Turista",
             "Promo"
            ],
            [
             "Turista",
             "Promo"
            ],
            [
             "Turista",
             "Promo"
            ],
            [
             "Turista",
             "Promo"
            ],
            [
             "Turista",
             "Promo"
            ],
            [
             "Turista",
             "Promo"
            ],
            [
             "Turista",
             "Promo"
            ],
            [
             "Turista",
             "Promo"
            ],
            [
             "Turista",
             "Promo"
            ],
            [
             "Turista",
             "Promo"
            ],
            [
             "Turista",
             "Promo"
            ],
            [
             "Turista",
             "Promo"
            ],
            [
             "Turista",
             "Promo"
            ],
            [
             "Turista",
             "Promo"
            ],
            [
             "Turista",
             "Promo"
            ],
            [
             "Turista",
             "Promo"
            ],
            [
             "Turista",
             "Flexible"
            ],
            [
             "Turista Plus",
             "Promo"
            ],
            [
             "Turista Plus",
             "Promo"
            ],
            [
             "Turista",
             "Promo"
            ],
            [
             "Turista",
             "Promo"
            ],
            [
             "Turista",
             "Promo"
            ],
            [
             "Turista",
             "Flexible"
            ],
            [
             "Turista",
             "Promo"
            ],
            [
             "Turista",
             "Promo"
            ],
            [
             "Turista",
             "Promo"
            ],
            [
             "Turista",
             "Promo"
            ],
            [
             "Turista",
             "Promo"
            ],
            [
             "Turista",
             "Promo"
            ],
            [
             "Turista",
             "Promo"
            ],
            [
             "Turista",
             "Promo"
            ],
            [
             "Turista",
             "Flexible"
            ],
            [
             "Turista",
             "Flexible"
            ],
            [
             "Turista Plus",
             "Promo"
            ],
            [
             "Turista Plus",
             "Promo"
            ],
            [
             "Turista Plus",
             "Promo"
            ],
            [
             "Turista",
             "Promo"
            ],
            [
             "Turista",
             "Flexible"
            ],
            [
             "Turista",
             "Promo"
            ],
            [
             "Turista",
             "Promo"
            ],
            [
             "Turista Plus",
             "Promo"
            ],
            [
             "Turista",
             "Promo"
            ],
            [
             "Turista",
             "Promo"
            ],
            [
             "Turista",
             "Flexible"
            ],
            [
             "Turista Plus",
             "Promo"
            ],
            [
             "Turista",
             "Promo"
            ],
            [
             "Turista",
             "Promo"
            ],
            [
             "Turista",
             "Promo"
            ],
            [
             "Turista",
             "Promo"
            ],
            [
             "Turista",
             "Promo"
            ],
            [
             "Turista",
             "Promo"
            ],
            [
             "Turista",
             "Promo"
            ],
            [
             "Turista",
             "Promo"
            ],
            [
             "Turista",
             "Promo"
            ],
            [
             "Turista",
             "Promo"
            ],
            [
             "Turista Plus",
             "Promo"
            ],
            [
             "Turista",
             "Promo"
            ],
            [
             "Turista",
             "Promo"
            ],
            [
             "Turista",
             "Promo"
            ],
            [
             "Turista",
             "Promo"
            ],
            [
             "Turista",
             "Promo"
            ],
            [
             "Turista",
             "Promo"
            ],
            [
             "Turista",
             "Promo"
            ],
            [
             "Turista",
             "Promo"
            ],
            [
             "Turista",
             "Promo"
            ],
            [
             "Turista",
             "Promo"
            ],
            [
             "Turista",
             "Promo"
            ],
            [
             "Turista",
             "Promo"
            ],
            [
             "Turista",
             "Promo"
            ],
            [
             "Turista",
             "Promo"
            ],
            [
             "Turista",
             "Promo"
            ],
            [
             "Turista",
             "Promo"
            ],
            [
             "Turista",
             "Promo"
            ],
            [
             "Turista",
             "Promo"
            ],
            [
             "Turista",
             "Promo"
            ],
            [
             "Turista",
             "Promo"
            ],
            [
             "Turista",
             "Flexible"
            ],
            [
             "Turista",
             "Flexible"
            ],
            [
             "Turista",
             "Flexible"
            ],
            [
             "Turista",
             "Flexible"
            ],
            [
             "Turista",
             "Flexible"
            ],
            [
             "Turista",
             "Flexible"
            ],
            [
             "Turista",
             "Flexible"
            ],
            [
             "Turista Plus",
             "Promo"
            ],
            [
             "Turista Plus",
             "Promo"
            ],
            [
             "Turista",
             "Promo"
            ],
            [
             "Turista",
             "Flexible"
            ],
            [
             "Turista",
             "Promo"
            ],
            [
             "Turista",
             "Promo"
            ],
            [
             "Turista",
             "Promo"
            ],
            [
             "Turista",
             "Promo"
            ],
            [
             "Turista",
             "Promo"
            ],
            [
             "Turista",
             "Promo"
            ],
            [
             "Turista",
             "Promo"
            ],
            [
             "Turista",
             "Promo"
            ],
            [
             "Turista",
             "Promo"
            ],
            [
             "Turista",
             "Promo"
            ],
            [
             "Turista",
             "Promo"
            ],
            [
             "Turista",
             "Promo"
            ],
            [
             "Turista",
             "Promo"
            ],
            [
             "Turista",
             "Promo"
            ],
            [
             "Turista",
             "Promo"
            ],
            [
             "Turista",
             "Promo"
            ],
            [
             "Turista",
             "Promo"
            ],
            [
             "Turista",
             "Promo"
            ],
            [
             "Turista",
             "Promo"
            ],
            [
             "Turista",
             "Promo"
            ],
            [
             "Turista",
             "Promo"
            ],
            [
             "Turista",
             "Promo"
            ],
            [
             "Turista",
             "Promo"
            ],
            [
             "Turista",
             "Promo"
            ],
            [
             "Turista",
             "Promo"
            ],
            [
             "Turista",
             "Promo"
            ],
            [
             "Turista",
             "Promo"
            ],
            [
             "Turista",
             "Promo"
            ],
            [
             "Turista",
             "Flexible"
            ],
            [
             "Turista Plus",
             "Promo"
            ],
            [
             "Turista",
             "Promo"
            ],
            [
             "Turista Plus",
             "Promo"
            ],
            [
             "Turista Plus",
             "Promo"
            ],
            [
             "Turista",
             "Promo"
            ],
            [
             "Turista",
             "Promo"
            ],
            [
             "Turista",
             "Promo"
            ],
            [
             "Turista",
             "Promo"
            ],
            [
             "Turista",
             "Promo"
            ],
            [
             "Turista",
             "Promo"
            ],
            [
             "Turista",
             "Promo"
            ],
            [
             "Turista",
             "Promo"
            ],
            [
             "Turista",
             "Promo"
            ],
            [
             "Turista",
             "Promo"
            ],
            [
             "Turista",
             "Promo"
            ],
            [
             "Turista",
             "Promo"
            ],
            [
             "Turista",
             "Promo"
            ],
            [
             "Turista Plus",
             "Promo"
            ],
            [
             "Turista Plus",
             "Promo"
            ],
            [
             "Turista Plus",
             "Promo"
            ],
            [
             "Turista Plus",
             "Promo"
            ],
            [
             "Turista",
             "Promo"
            ],
            [
             "Turista",
             "Promo"
            ],
            [
             "Turista",
             "Flexible"
            ],
            [
             "Turista",
             "Flexible"
            ],
            [
             "Turista",
             "Flexible"
            ],
            [
             "Turista",
             "Flexible"
            ],
            [
             "Turista",
             "Flexible"
            ],
            [
             "Turista",
             "Flexible"
            ],
            [
             "Turista",
             "Flexible"
            ],
            [
             "Turista Plus",
             "Promo"
            ],
            [
             "Turista Plus",
             "Promo"
            ],
            [
             "Turista",
             "Promo"
            ],
            [
             "Turista",
             "Flexible"
            ],
            [
             "Turista",
             "Promo"
            ],
            [
             "Turista",
             "Promo"
            ],
            [
             "Turista",
             "Promo"
            ],
            [
             "Turista",
             "Promo"
            ],
            [
             "Turista",
             "Promo"
            ],
            [
             "Turista",
             "Promo"
            ],
            [
             "Turista",
             "Promo"
            ],
            [
             "Turista",
             "Promo"
            ],
            [
             "Turista",
             "Promo"
            ],
            [
             "Turista",
             "Promo"
            ],
            [
             "Turista",
             "Promo"
            ],
            [
             "Turista",
             "Flexible"
            ],
            [
             "Turista Plus",
             "Promo"
            ],
            [
             "Turista",
             "Promo"
            ],
            [
             "Turista Plus",
             "Promo"
            ],
            [
             "Turista Plus",
             "Promo"
            ],
            [
             "Turista",
             "Promo"
            ],
            [
             "Turista",
             "Promo"
            ],
            [
             "Turista",
             "Promo"
            ],
            [
             "Turista",
             "Promo"
            ],
            [
             "Turista",
             "Promo"
            ],
            [
             "Turista",
             "Promo"
            ],
            [
             "Turista",
             "Promo"
            ],
            [
             "Turista",
             "Promo"
            ],
            [
             "Turista",
             "Promo"
            ],
            [
             "Turista",
             "Promo"
            ],
            [
             "Turista",
             "Promo"
            ],
            [
             "Turista",
             "Promo"
            ],
            [
             "Turista",
             "Promo"
            ],
            [
             "Turista Plus",
             "Promo"
            ],
            [
             "Turista Plus",
             "Promo"
            ],
            [
             "Turista Plus",
             "Promo"
            ],
            [
             "Turista Plus",
             "Promo"
            ],
            [
             "Turista",
             "Promo"
            ],
            [
             "Turista",
             "Promo"
            ],
            [
             "Turista",
             "Promo"
            ],
            [
             "Turista",
             "Promo"
            ],
            [
             "Turista",
             "Promo"
            ],
            [
             "Turista",
             "Promo"
            ],
            [
             "Turista",
             "Promo"
            ],
            [
             "Turista",
             "Promo"
            ],
            [
             "Turista",
             "Promo"
            ],
            [
             "Turista",
             "Promo"
            ],
            [
             "Turista",
             "Promo"
            ],
            [
             "Turista",
             "Promo"
            ],
            [
             "Turista",
             "Promo"
            ],
            [
             "Turista",
             "Promo"
            ],
            [
             "Turista",
             "Promo"
            ],
            [
             "Turista",
             "Promo"
            ],
            [
             "Turista",
             "Promo"
            ],
            [
             "Turista",
             "Promo"
            ],
            [
             "Turista",
             "Promo"
            ],
            [
             "Turista",
             "Flexible"
            ],
            [
             "Turista Plus",
             "Promo"
            ],
            [
             "Turista Plus",
             "Promo"
            ],
            [
             "Turista",
             "Promo"
            ],
            [
             "Turista",
             "Promo"
            ],
            [
             "Turista",
             "Promo"
            ],
            [
             "Turista",
             "Flexible"
            ],
            [
             "Turista",
             "Promo"
            ],
            [
             "Turista",
             "Promo"
            ],
            [
             "Turista",
             "Promo"
            ],
            [
             "Turista",
             "Promo"
            ],
            [
             "Turista",
             "Promo"
            ],
            [
             "Turista",
             "Promo"
            ],
            [
             "Turista",
             "Promo"
            ],
            [
             "Turista",
             "Promo"
            ],
            [
             "Turista",
             "Flexible"
            ],
            [
             "Turista",
             "Flexible"
            ],
            [
             "Turista Plus",
             "Promo"
            ],
            [
             "Turista Plus",
             "Promo"
            ],
            [
             "Turista Plus",
             "Promo"
            ],
            [
             "Turista",
             "Promo"
            ],
            [
             "Turista",
             "Flexible"
            ],
            [
             "Turista",
             "Promo"
            ],
            [
             "Turista",
             "Promo"
            ],
            [
             "Turista Plus",
             "Promo"
            ],
            [
             "Turista",
             "Promo"
            ],
            [
             "Turista",
             "Promo"
            ],
            [
             "Turista",
             "Flexible"
            ],
            [
             "Turista Plus",
             "Promo"
            ],
            [
             "Turista",
             "Promo"
            ],
            [
             "Turista",
             "Promo"
            ],
            [
             "Turista",
             "Promo"
            ],
            [
             "Turista",
             "Promo"
            ],
            [
             "Turista",
             "Promo"
            ],
            [
             "Turista",
             "Promo"
            ],
            [
             "Turista",
             "Promo"
            ],
            [
             "Turista",
             "Promo"
            ],
            [
             "Turista",
             "Promo"
            ],
            [
             "Turista",
             "Promo"
            ],
            [
             "Turista Plus",
             "Promo"
            ],
            [
             "Turista",
             "Promo"
            ],
            [
             "Turista",
             "Promo"
            ],
            [
             "Turista",
             "Promo"
            ],
            [
             "Turista",
             "Promo"
            ],
            [
             "Turista",
             "Promo"
            ],
            [
             "Turista",
             "Promo"
            ],
            [
             "Turista",
             "Promo"
            ],
            [
             "Turista",
             "Promo"
            ],
            [
             "Turista",
             "Promo"
            ],
            [
             "Turista",
             "Promo"
            ],
            [
             "Turista",
             "Promo"
            ],
            [
             "Turista",
             "Promo"
            ],
            [
             "Turista",
             "Promo"
            ],
            [
             "Turista",
             "Promo"
            ],
            [
             "Turista",
             "Promo"
            ],
            [
             "Turista",
             "Promo"
            ],
            [
             "Turista",
             "Promo"
            ],
            [
             "Turista",
             "Promo"
            ],
            [
             "Turista",
             "Promo"
            ],
            [
             "Turista",
             "Promo"
            ],
            [
             "Turista",
             "Promo"
            ],
            [
             "Turista",
             "Promo"
            ],
            [
             "Turista",
             "Promo"
            ],
            [
             "Turista",
             "Promo"
            ],
            [
             "Turista",
             "Flexible"
            ],
            [
             "Turista",
             "Flexible"
            ],
            [
             "Turista Plus",
             "Promo"
            ],
            [
             "Turista Plus",
             "Promo"
            ],
            [
             "Turista Plus",
             "Promo"
            ],
            [
             "Turista",
             "Promo"
            ],
            [
             "Turista",
             "Flexible"
            ],
            [
             "Turista",
             "Promo"
            ],
            [
             "Turista",
             "Promo"
            ],
            [
             "Turista Plus",
             "Promo"
            ],
            [
             "Turista",
             "Promo"
            ],
            [
             "Turista",
             "Promo"
            ],
            [
             "Turista",
             "Flexible"
            ],
            [
             "Turista Plus",
             "Promo"
            ],
            [
             "Turista",
             "Promo"
            ],
            [
             "Turista",
             "Promo"
            ],
            [
             "Turista",
             "Promo"
            ],
            [
             "Turista",
             "Promo"
            ],
            [
             "Turista",
             "Promo"
            ],
            [
             "Turista",
             "Promo"
            ],
            [
             "Turista",
             "Promo"
            ],
            [
             "Turista",
             "Promo"
            ],
            [
             "Turista",
             "Promo"
            ],
            [
             "Turista",
             "Promo"
            ],
            [
             "Turista Plus",
             "Promo"
            ],
            [
             "Turista",
             "Promo"
            ],
            [
             "Turista",
             "Promo"
            ],
            [
             "Turista",
             "Promo"
            ],
            [
             "Turista",
             "Promo"
            ],
            [
             "Turista",
             "Promo"
            ],
            [
             "Turista",
             "Promo"
            ],
            [
             "Turista",
             "Promo"
            ],
            [
             "Turista",
             "Promo"
            ],
            [
             "Turista",
             "Promo"
            ],
            [
             "Turista",
             "Promo"
            ],
            [
             "Turista",
             "Promo"
            ],
            [
             "Turista",
             "Promo"
            ],
            [
             "Turista",
             "Promo"
            ],
            [
             "Turista",
             "Promo"
            ],
            [
             "Turista",
             "Promo"
            ],
            [
             "Turista",
             "Promo"
            ],
            [
             "Turista",
             "Promo"
            ],
            [
             "Turista",
             "Promo"
            ],
            [
             "Turista",
             "Promo"
            ],
            [
             "Turista",
             "Promo"
            ],
            [
             "Turista",
             "Promo"
            ],
            [
             "Turista",
             "Promo"
            ],
            [
             "Turista",
             "Promo"
            ],
            [
             "Turista",
             "Promo"
            ],
            [
             "Turista",
             "Promo"
            ],
            [
             "Turista",
             "Promo"
            ],
            [
             "Turista",
             "Promo"
            ],
            [
             "Turista",
             "Promo"
            ],
            [
             "Turista",
             "Promo"
            ],
            [
             "Turista",
             "Promo"
            ],
            [
             "Turista",
             "Promo"
            ],
            [
             "Turista",
             "Promo"
            ],
            [
             "Turista",
             "Promo"
            ],
            [
             "Turista",
             "Promo"
            ],
            [
             "Turista",
             "Promo"
            ],
            [
             "Turista",
             "Promo"
            ],
            [
             "Turista",
             "Promo"
            ],
            [
             "Turista",
             "Promo"
            ],
            [
             "Turista",
             "Flexible"
            ],
            [
             "Turista",
             "Promo"
            ],
            [
             "Turista",
             "Promo"
            ],
            [
             "Turista",
             "Promo"
            ],
            [
             "Turista",
             "Promo"
            ],
            [
             "Turista",
             "Promo"
            ],
            [
             "Turista",
             "Promo"
            ],
            [
             "Turista",
             "Flexible"
            ],
            [
             "Turista",
             "Flexible"
            ],
            [
             "Turista",
             "Flexible"
            ],
            [
             "Turista",
             "Flexible"
            ],
            [
             "Turista",
             "Flexible"
            ],
            [
             "Turista",
             "Flexible"
            ],
            [
             "Turista",
             "Flexible"
            ],
            [
             "Turista Plus",
             "Promo"
            ],
            [
             "Turista Plus",
             "Promo"
            ],
            [
             "Turista",
             "Flexible"
            ],
            [
             "Turista Plus",
             "Promo"
            ],
            [
             "Turista Plus",
             "Promo"
            ],
            [
             "Turista",
             "Promo"
            ],
            [
             "Turista",
             "Promo"
            ],
            [
             "Turista",
             "Promo"
            ],
            [
             "Turista",
             "Flexible"
            ],
            [
             "Turista",
             "Promo"
            ],
            [
             "Turista",
             "Promo"
            ],
            [
             "Turista",
             "Promo"
            ],
            [
             "Turista",
             "Promo"
            ],
            [
             "Turista",
             "Promo"
            ],
            [
             "Turista",
             "Promo"
            ],
            [
             "Turista",
             "Promo"
            ],
            [
             "Turista",
             "Promo"
            ],
            [
             "Turista",
             "Promo"
            ],
            [
             "Turista",
             "Flexible"
            ],
            [
             "Turista Plus",
             "Promo"
            ],
            [
             "Turista",
             "Promo"
            ],
            [
             "Turista Plus",
             "Promo"
            ],
            [
             "Turista Plus",
             "Promo"
            ],
            [
             "Turista",
             "Promo"
            ],
            [
             "Turista",
             "Promo"
            ],
            [
             "Turista",
             "Promo"
            ],
            [
             "Turista",
             "Promo"
            ],
            [
             "Turista",
             "Promo"
            ],
            [
             "Turista",
             "Promo"
            ],
            [
             "Turista",
             "Promo"
            ],
            [
             "Turista",
             "Promo"
            ],
            [
             "Turista",
             "Promo"
            ],
            [
             "Turista",
             "Promo"
            ],
            [
             "Turista",
             "Promo"
            ],
            [
             "Turista",
             "Promo"
            ],
            [
             "Turista",
             "Promo"
            ],
            [
             "Turista Plus",
             "Promo"
            ],
            [
             "Turista Plus",
             "Promo"
            ],
            [
             "Turista Plus",
             "Promo"
            ],
            [
             "Turista Plus",
             "Promo"
            ],
            [
             "Turista",
             "Promo"
            ],
            [
             "Turista",
             "Promo"
            ],
            [
             "Turista",
             "Promo"
            ],
            [
             "Turista",
             "Promo"
            ],
            [
             "Turista",
             "Promo"
            ],
            [
             "Turista",
             "Promo"
            ],
            [
             "Turista",
             "Flexible"
            ],
            [
             "Turista",
             "Flexible"
            ],
            [
             "Turista Plus",
             "Promo"
            ],
            [
             "Turista Plus",
             "Promo"
            ],
            [
             "Turista Plus",
             "Promo"
            ],
            [
             "Turista",
             "Promo"
            ],
            [
             "Turista",
             "Flexible"
            ],
            [
             "Turista",
             "Promo"
            ],
            [
             "Turista",
             "Promo"
            ],
            [
             "Turista Plus",
             "Promo"
            ],
            [
             "Turista",
             "Promo"
            ],
            [
             "Turista",
             "Promo"
            ],
            [
             "Turista",
             "Flexible"
            ],
            [
             "Turista Plus",
             "Promo"
            ],
            [
             "Turista",
             "Promo"
            ],
            [
             "Turista",
             "Promo"
            ],
            [
             "Turista",
             "Promo"
            ],
            [
             "Turista",
             "Promo"
            ],
            [
             "Turista",
             "Promo"
            ],
            [
             "Turista",
             "Promo"
            ],
            [
             "Turista",
             "Promo"
            ],
            [
             "Turista",
             "Promo"
            ],
            [
             "Turista",
             "Promo"
            ],
            [
             "Turista",
             "Promo"
            ],
            [
             "Turista Plus",
             "Promo"
            ],
            [
             "Turista",
             "Promo"
            ],
            [
             "Turista",
             "Promo"
            ],
            [
             "Turista",
             "Promo"
            ],
            [
             "Turista",
             "Flexible"
            ],
            [
             "Turista",
             "Flexible"
            ],
            [
             "Turista",
             "Flexible"
            ],
            [
             "Turista",
             "Flexible"
            ],
            [
             "Turista",
             "Flexible"
            ],
            [
             "Turista",
             "Flexible"
            ],
            [
             "Turista",
             "Flexible"
            ],
            [
             "Turista Plus",
             "Promo"
            ],
            [
             "Turista Plus",
             "Promo"
            ],
            [
             "Turista",
             "Promo"
            ],
            [
             "Turista",
             "Flexible"
            ],
            [
             "Turista",
             "Promo"
            ],
            [
             "Turista",
             "Promo"
            ],
            [
             "Turista",
             "Promo"
            ],
            [
             "Turista",
             "Promo"
            ],
            [
             "Turista",
             "Promo"
            ],
            [
             "Turista",
             "Promo"
            ],
            [
             "Turista",
             "Promo"
            ],
            [
             "Turista",
             "Promo"
            ],
            [
             "Turista",
             "Promo"
            ],
            [
             "Turista",
             "Promo"
            ],
            [
             "Turista",
             "Promo"
            ],
            [
             "Turista",
             "Promo"
            ],
            [
             "Turista",
             "Promo"
            ],
            [
             "Turista",
             "Promo"
            ],
            [
             "Turista",
             "Promo"
            ],
            [
             "Turista",
             "Promo"
            ],
            [
             "Turista",
             "Promo"
            ],
            [
             "Turista",
             "Promo"
            ],
            [
             "Turista",
             "Promo"
            ],
            [
             "Turista",
             "Promo"
            ],
            [
             "Turista",
             "Promo"
            ],
            [
             "Turista",
             "Promo"
            ],
            [
             "Turista",
             "Promo"
            ],
            [
             "Turista",
             "Promo"
            ],
            [
             "Turista",
             "Promo"
            ],
            [
             "Turista",
             "Promo"
            ],
            [
             "Turista",
             "Promo"
            ],
            [
             "Turista",
             "Promo"
            ],
            [
             "Turista",
             "Promo"
            ],
            [
             "Turista",
             "Promo"
            ],
            [
             "Turista",
             "Promo"
            ],
            [
             "Turista",
             "Promo"
            ],
            [
             "Turista",
             "Promo"
            ],
            [
             "Turista",
             "Promo"
            ],
            [
             "Turista",
             "Promo"
            ],
            [
             "Turista",
             "Promo"
            ],
            [
             "Turista",
             "Promo"
            ],
            [
             "Turista",
             "Promo"
            ],
            [
             "Turista",
             "Promo"
            ],
            [
             "Turista",
             "Promo"
            ],
            [
             "Turista",
             "Flexible"
            ],
            [
             "Turista Plus",
             "Promo"
            ],
            [
             "Turista Plus",
             "Promo"
            ],
            [
             "Turista",
             "Promo"
            ],
            [
             "Turista",
             "Promo"
            ],
            [
             "Turista",
             "Promo"
            ],
            [
             "Turista",
             "Flexible"
            ],
            [
             "Turista",
             "Promo"
            ],
            [
             "Turista",
             "Promo"
            ],
            [
             "Turista",
             "Promo"
            ],
            [
             "Turista",
             "Promo"
            ],
            [
             "Turista",
             "Promo"
            ],
            [
             "Turista",
             "Promo"
            ],
            [
             "Turista",
             "Promo"
            ],
            [
             "Turista",
             "Promo"
            ],
            [
             "Turista",
             "Promo"
            ],
            [
             "Turista",
             "Flexible"
            ],
            [
             "Turista Plus",
             "Promo"
            ],
            [
             "Turista",
             "Promo"
            ],
            [
             "Turista Plus",
             "Promo"
            ],
            [
             "Turista Plus",
             "Promo"
            ],
            [
             "Turista",
             "Promo"
            ],
            [
             "Turista",
             "Promo"
            ],
            [
             "Turista",
             "Promo"
            ],
            [
             "Turista",
             "Promo"
            ],
            [
             "Turista",
             "Promo"
            ],
            [
             "Turista",
             "Promo"
            ],
            [
             "Turista",
             "Promo"
            ],
            [
             "Turista",
             "Promo"
            ],
            [
             "Turista",
             "Promo"
            ],
            [
             "Turista",
             "Promo"
            ],
            [
             "Turista",
             "Promo"
            ],
            [
             "Turista",
             "Promo"
            ],
            [
             "Turista",
             "Promo"
            ],
            [
             "Turista Plus",
             "Promo"
            ],
            [
             "Turista Plus",
             "Promo"
            ],
            [
             "Turista Plus",
             "Promo"
            ],
            [
             "Turista Plus",
             "Promo"
            ],
            [
             "Turista",
             "Promo"
            ],
            [
             "Turista",
             "Promo"
            ]
           ],
           "hovertemplate": "train_type=AVE<br>origin=%{x}<br>destination=%{y}<br>price=%{marker.size}<br>train_class=%{customdata[0]}<br>fare=%{customdata[1]}<extra></extra>",
           "legendgroup": "AVE",
           "marker": {
            "color": "#EF553B",
            "size": [
             21.95,
             39.45,
             21.95,
             33.65,
             45.3,
             45.3,
             51.15,
             39.45,
             33.65,
             45.3,
             33.65,
             27.8,
             39.45,
             33.65,
             39.45,
             45.3,
             33.65,
             66.75,
             66.75,
             85.1,
             85.1,
             85.1,
             107.7,
             102.15,
             88.95,
             90.5,
             90.5,
             88.95,
             88.95,
             100.4,
             85.1,
             88.95,
             85.1,
             75.4,
             58.15,
             75.4,
             85.1,
             75.4,
             75.4,
             75.4,
             80.15,
             80.15,
             80.15,
             69.8,
             58.15,
             66.75,
             76.3,
             76.3,
             76.3,
             76.3,
             76.3,
             76.3,
             76.3,
             64.05,
             72.3,
             47.3,
             76.3,
             47.3,
             47.3,
             53.4,
             53.4,
             60.3,
             47.3,
             21.95,
             39.45,
             21.95,
             33.65,
             45.3,
             45.3,
             51.15,
             39.45,
             33.65,
             45.3,
             33.65,
             27.8,
             39.45,
             33.65,
             39.45,
             45.3,
             33.65,
             39.45,
             51.15,
             51.15,
             45.3,
             45.3,
             57.75,
             57.75,
             57.75,
             57.75,
             51.15,
             39.45,
             39.45,
             45.3,
             33.65,
             33.65,
             21.95,
             27.8,
             85.1,
             66.75,
             85.1,
             85.1,
             85.1,
             107.7,
             107.7,
             102.15,
             90.5,
             90.5,
             100.4,
             107.7,
             100.4,
             100.4,
             102.15,
             100.4,
             85.1,
             107.7,
             69.8,
             75.4,
             75.4,
             78.8,
             85.1,
             85.1,
             75.4,
             58.15,
             66.75,
             75.4,
             69.8,
             58.15,
             66.75,
             49.55,
             76.3,
             64.05,
             64.05,
             47.3,
             53.4,
             53.4,
             76.3,
             47.3,
             47.3,
             47.3,
             47.3,
             69.8,
             75.4,
             75.4,
             78.8,
             85.1,
             85.1,
             85.1,
             75.4,
             58.15,
             66.75,
             75.4,
             69.8,
             58.15,
             66.75,
             49.55,
             66.75,
             85.1,
             85.1,
             85.1,
             107.7,
             107.7,
             102.15,
             90.5,
             90.5,
             100.4,
             107.7,
             100.4,
             100.4,
             102.15,
             100.4,
             85.1,
             107.7,
             39.45,
             51.15,
             51.15,
             45.3,
             45.3,
             57.75,
             57.75,
             57.75,
             57.75,
             51.15,
             39.45,
             39.45,
             45.3,
             33.65,
             33.65,
             21.95,
             27.8,
             76.3,
             76.3,
             76.3,
             76.3,
             76.3,
             76.3,
             76.3,
             64.05,
             72.3,
             47.3,
             76.3,
             47.3,
             47.3,
             53.4,
             53.4,
             60.3,
             47.3,
             76.3,
             64.05,
             64.05,
             47.3,
             53.4,
             53.4,
             76.3,
             47.3,
             47.3,
             47.3,
             47.3,
             66.75,
             66.75,
             85.1,
             85.1,
             85.1,
             107.7,
             102.15,
             88.95,
             90.5,
             90.5,
             88.95,
             88.95,
             100.4,
             85.1,
             88.95,
             85.1,
             75.4,
             21.95,
             39.45,
             21.95,
             33.65,
             45.3,
             45.3,
             51.15,
             39.45,
             33.65,
             45.3,
             33.65,
             27.8,
             39.45,
             33.65,
             39.45,
             45.3,
             33.65,
             76.3,
             64.05,
             64.05,
             47.3,
             53.4,
             53.4,
             76.3,
             47.3,
             47.3,
             47.3,
             47.3,
             88.95,
             66.75,
             66.75,
             85.1,
             85.1,
             85.1,
             107.7,
             102.15,
             88.95,
             90.5,
             90.5,
             88.95,
             88.95,
             100.4,
             85.1,
             85.1,
             75.4,
             58.15,
             75.4,
             85.1,
             75.4,
             75.4,
             75.4,
             80.15,
             80.15,
             80.15,
             69.8,
             58.15,
             66.75,
             66.75,
             85.1,
             85.1,
             85.1,
             107.7,
             107.7,
             102.15,
             90.5,
             90.5,
             100.4,
             107.7,
             100.4,
             100.4,
             102.15,
             100.4,
             85.1,
             107.7,
             69.8,
             75.4,
             75.4,
             78.8,
             85.1,
             85.1,
             85.1,
             75.4,
             58.15,
             66.75,
             75.4,
             69.8,
             58.15,
             66.75,
             49.55,
             39.45,
             39.45,
             45.3,
             33.65,
             33.65,
             21.95,
             27.8,
             76.3,
             76.3,
             76.3,
             76.3,
             76.3,
             76.3,
             76.3,
             64.05,
             72.3,
             47.3,
             76.3,
             47.3,
             47.3,
             53.4,
             53.4,
             60.3,
             47.3,
             21.95,
             39.45,
             21.95,
             33.65,
             45.3,
             45.3,
             51.15,
             39.45,
             33.65,
             45.3,
             33.65,
             27.8,
             39.45,
             33.65,
             39.45,
             45.3,
             33.65,
             76.3,
             64.05,
             64.05,
             47.3,
             53.4,
             53.4,
             76.3,
             47.3,
             47.3,
             47.3,
             47.3,
             66.75,
             85.1,
             85.1,
             85.1,
             107.7,
             107.7,
             102.15,
             90.5,
             90.5,
             100.4,
             107.7,
             100.4,
             100.4,
             102.15,
             100.4,
             85.1,
             107.7,
             69.8,
             75.4,
             75.4,
             78.8,
             85.1,
             85.1,
             85.1,
             75.4,
             58.15,
             66.75,
             75.4,
             69.8,
             58.15,
             66.75,
             49.55,
             39.45,
             51.15,
             51.15,
             45.3,
             45.3,
             57.75,
             57.75,
             57.75,
             57.75,
             51.15,
             39.45,
             39.45,
             45.3,
             33.65,
             33.65,
             21.95,
             27.8,
             76.3,
             76.3,
             76.3,
             76.3,
             76.3,
             76.3,
             76.3,
             64.05,
             72.3,
             47.3,
             76.3,
             47.3,
             47.3,
             53.4,
             53.4,
             60.3,
             47.3,
             21.95,
             39.45,
             21.95,
             33.65,
             45.3,
             45.3,
             51.15,
             39.45,
             33.65,
             45.3,
             33.65,
             27.8,
             39.45,
             33.65,
             39.45,
             45.3,
             33.65,
             66.75,
             66.75,
             85.1,
             85.1,
             85.1,
             107.7,
             102.15,
             88.95,
             90.5,
             90.5,
             88.95,
             88.95,
             100.4,
             85.1,
             88.95,
             85.1,
             75.4,
             58.15,
             75.4,
             85.1,
             75.4,
             75.4,
             75.4,
             80.15,
             80.15,
             80.15,
             69.8,
             58.15,
             66.75,
             76.3,
             76.3,
             76.3,
             76.3,
             76.3,
             76.3,
             76.3,
             64.05,
             72.3,
             47.3,
             76.3,
             47.3,
             47.3,
             53.4,
             53.4,
             60.3,
             47.3,
             66.75,
             66.75,
             85.1,
             85.1,
             85.1,
             107.7,
             102.15,
             88.95,
             90.5,
             90.5,
             88.95,
             88.95,
             100.4,
             85.1,
             88.95,
             85.1,
             75.4,
             58.15,
             75.4,
             85.1,
             75.4,
             75.4,
             75.4,
             80.15,
             80.15,
             80.15,
             69.8,
             58.15,
             66.75,
             39.45,
             51.15,
             51.15,
             45.3,
             45.3,
             57.75,
             57.75,
             57.75,
             57.75,
             51.15,
             39.45,
             39.45,
             45.3,
             33.65,
             33.65,
             21.95,
             27.8,
             76.3,
             64.05,
             64.05,
             47.3,
             53.4,
             53.4,
             76.3,
             47.3,
             47.3,
             47.3,
             47.3,
             66.75,
             85.1,
             85.1,
             85.1,
             107.7,
             107.7,
             102.15,
             90.5,
             90.5,
             100.4,
             107.7,
             100.4,
             100.4,
             102.15,
             100.4,
             85.1,
             107.7,
             69.8,
             75.4,
             75.4,
             78.8,
             85.1,
             85.1,
             85.1,
             75.4,
             58.15,
             66.75,
             75.4,
             69.8,
             58.15,
             66.75,
             49.55,
             21.95,
             39.45,
             21.95,
             33.65,
             45.3,
             45.3,
             51.15,
             39.45,
             33.65,
             45.3,
             33.65,
             27.8,
             39.45,
             33.65,
             39.45,
             45.3,
             33.65,
             66.75,
             85.1,
             85.1,
             85.1,
             107.7,
             107.7,
             102.15,
             90.5,
             90.5,
             100.4,
             107.7,
             100.4,
             100.4,
             102.15,
             100.4,
             85.1,
             107.7,
             69.8,
             75.4,
             75.4,
             78.8,
             85.1,
             85.1,
             85.1,
             75.4,
             58.15,
             66.75,
             75.4,
             69.8,
             58.15,
             66.75,
             49.55,
             39.45,
             51.15,
             51.15,
             45.3,
             45.3,
             57.75,
             57.75,
             57.75,
             57.75,
             51.15,
             39.45,
             39.45,
             45.3,
             33.65,
             33.65,
             21.95,
             27.8,
             45.3,
             33.65,
             27.8,
             39.45,
             33.65,
             39.45,
             45.3,
             33.65,
             21.95,
             39.45,
             21.95,
             33.65,
             45.3,
             45.3,
             51.15,
             39.45,
             33.65,
             47.3,
             76.3,
             47.3,
             47.3,
             53.4,
             53.4,
             60.3,
             47.3,
             76.3,
             76.3,
             76.3,
             76.3,
             76.3,
             76.3,
             76.3,
             64.05,
             72.3,
             76.3,
             64.05,
             64.05,
             47.3,
             53.4,
             53.4,
             76.3,
             47.3,
             47.3,
             47.3,
             47.3,
             66.75,
             66.75,
             85.1,
             85.1,
             85.1,
             107.7,
             102.15,
             88.95,
             90.5,
             90.5,
             88.95,
             88.95,
             100.4,
             85.1,
             88.95,
             85.1,
             75.4,
             58.15,
             75.4,
             85.1,
             75.4,
             75.4,
             75.4,
             80.15,
             80.15,
             80.15,
             69.8,
             58.15,
             66.75,
             66.75,
             85.1,
             85.1,
             85.1,
             107.7,
             107.7,
             102.15,
             90.5,
             90.5,
             100.4,
             107.7,
             100.4,
             100.4,
             102.15,
             100.4,
             85.1,
             107.7,
             69.8,
             75.4,
             75.4,
             78.8,
             85.1,
             85.1,
             85.1,
             75.4,
             58.15,
             66.75,
             75.4,
             69.8,
             58.15,
             66.75,
             49.55,
             76.3,
             76.3,
             76.3,
             76.3,
             76.3,
             76.3,
             76.3,
             64.05,
             72.3,
             47.3,
             76.3,
             47.3,
             47.3,
             53.4,
             53.4,
             60.3,
             47.3,
             21.95,
             39.45,
             21.95,
             33.65,
             45.3,
             45.3,
             51.15,
             39.45,
             33.65,
             45.3,
             33.65,
             27.8,
             39.45,
             33.65,
             39.45,
             45.3,
             33.65,
             39.45,
             51.15,
             51.15,
             45.3,
             45.3,
             57.75,
             57.75,
             57.75,
             57.75,
             51.15,
             39.45,
             39.45,
             45.3,
             33.65,
             33.65,
             21.95,
             27.8,
             76.3,
             64.05,
             64.05,
             47.3,
             53.4,
             53.4,
             76.3,
             47.3,
             47.3,
             47.3,
             47.3,
             66.75,
             66.75,
             85.1,
             85.1,
             85.1,
             107.7,
             102.15,
             88.95,
             90.5,
             90.5,
             88.95,
             88.95,
             100.4,
             85.1,
             88.95,
             85.1,
             75.4,
             58.15,
             75.4,
             85.1,
             75.4,
             75.4,
             75.4,
             80.15,
             80.15,
             80.15,
             69.8,
             58.15,
             66.75
            ],
            "sizemode": "area",
            "sizeref": 0.26925,
            "symbol": "circle"
           },
           "mode": "markers",
           "name": "AVE",
           "orientation": "v",
           "showlegend": true,
           "type": "scatter",
           "x": [
            "MADRID",
            "MADRID",
            "MADRID",
            "MADRID",
            "MADRID",
            "MADRID",
            "MADRID",
            "MADRID",
            "MADRID",
            "MADRID",
            "MADRID",
            "MADRID",
            "MADRID",
            "MADRID",
            "MADRID",
            "MADRID",
            "MADRID",
            "MADRID",
            "MADRID",
            "MADRID",
            "MADRID",
            "MADRID",
            "MADRID",
            "MADRID",
            "MADRID",
            "MADRID",
            "MADRID",
            "MADRID",
            "MADRID",
            "MADRID",
            "MADRID",
            "MADRID",
            "MADRID",
            "MADRID",
            "MADRID",
            "MADRID",
            "MADRID",
            "MADRID",
            "MADRID",
            "MADRID",
            "MADRID",
            "MADRID",
            "MADRID",
            "MADRID",
            "MADRID",
            "MADRID",
            "SEVILLA",
            "SEVILLA",
            "SEVILLA",
            "SEVILLA",
            "SEVILLA",
            "SEVILLA",
            "SEVILLA",
            "SEVILLA",
            "SEVILLA",
            "SEVILLA",
            "SEVILLA",
            "SEVILLA",
            "SEVILLA",
            "SEVILLA",
            "SEVILLA",
            "SEVILLA",
            "SEVILLA",
            "MADRID",
            "MADRID",
            "MADRID",
            "MADRID",
            "MADRID",
            "MADRID",
            "MADRID",
            "MADRID",
            "MADRID",
            "MADRID",
            "MADRID",
            "MADRID",
            "MADRID",
            "MADRID",
            "MADRID",
            "MADRID",
            "MADRID",
            "VALENCIA",
            "VALENCIA",
            "VALENCIA",
            "VALENCIA",
            "VALENCIA",
            "VALENCIA",
            "VALENCIA",
            "VALENCIA",
            "VALENCIA",
            "VALENCIA",
            "VALENCIA",
            "VALENCIA",
            "VALENCIA",
            "VALENCIA",
            "VALENCIA",
            "VALENCIA",
            "VALENCIA",
            "BARCELONA",
            "BARCELONA",
            "BARCELONA",
            "BARCELONA",
            "BARCELONA",
            "BARCELONA",
            "BARCELONA",
            "BARCELONA",
            "BARCELONA",
            "BARCELONA",
            "BARCELONA",
            "BARCELONA",
            "BARCELONA",
            "BARCELONA",
            "BARCELONA",
            "BARCELONA",
            "BARCELONA",
            "BARCELONA",
            "BARCELONA",
            "BARCELONA",
            "BARCELONA",
            "BARCELONA",
            "BARCELONA",
            "BARCELONA",
            "BARCELONA",
            "BARCELONA",
            "BARCELONA",
            "BARCELONA",
            "BARCELONA",
            "BARCELONA",
            "BARCELONA",
            "BARCELONA",
            "MADRID",
            "MADRID",
            "MADRID",
            "MADRID",
            "MADRID",
            "MADRID",
            "MADRID",
            "MADRID",
            "MADRID",
            "MADRID",
            "MADRID",
            "BARCELONA",
            "BARCELONA",
            "BARCELONA",
            "BARCELONA",
            "BARCELONA",
            "BARCELONA",
            "BARCELONA",
            "BARCELONA",
            "BARCELONA",
            "BARCELONA",
            "BARCELONA",
            "BARCELONA",
            "BARCELONA",
            "BARCELONA",
            "BARCELONA",
            "BARCELONA",
            "BARCELONA",
            "BARCELONA",
            "BARCELONA",
            "BARCELONA",
            "BARCELONA",
            "BARCELONA",
            "BARCELONA",
            "BARCELONA",
            "BARCELONA",
            "BARCELONA",
            "BARCELONA",
            "BARCELONA",
            "BARCELONA",
            "BARCELONA",
            "BARCELONA",
            "BARCELONA",
            "VALENCIA",
            "VALENCIA",
            "VALENCIA",
            "VALENCIA",
            "VALENCIA",
            "VALENCIA",
            "VALENCIA",
            "VALENCIA",
            "VALENCIA",
            "VALENCIA",
            "VALENCIA",
            "VALENCIA",
            "VALENCIA",
            "VALENCIA",
            "VALENCIA",
            "VALENCIA",
            "VALENCIA",
            "SEVILLA",
            "SEVILLA",
            "SEVILLA",
            "SEVILLA",
            "SEVILLA",
            "SEVILLA",
            "SEVILLA",
            "SEVILLA",
            "SEVILLA",
            "SEVILLA",
            "SEVILLA",
            "SEVILLA",
            "SEVILLA",
            "SEVILLA",
            "SEVILLA",
            "SEVILLA",
            "SEVILLA",
            "MADRID",
            "MADRID",
            "MADRID",
            "MADRID",
            "MADRID",
            "MADRID",
            "MADRID",
            "MADRID",
            "MADRID",
            "MADRID",
            "MADRID",
            "MADRID",
            "MADRID",
            "MADRID",
            "MADRID",
            "MADRID",
            "MADRID",
            "MADRID",
            "MADRID",
            "MADRID",
            "MADRID",
            "MADRID",
            "MADRID",
            "MADRID",
            "MADRID",
            "MADRID",
            "MADRID",
            "MADRID",
            "MADRID",
            "MADRID",
            "MADRID",
            "MADRID",
            "MADRID",
            "MADRID",
            "MADRID",
            "MADRID",
            "MADRID",
            "MADRID",
            "MADRID",
            "MADRID",
            "MADRID",
            "MADRID",
            "MADRID",
            "MADRID",
            "MADRID",
            "MADRID",
            "MADRID",
            "MADRID",
            "MADRID",
            "MADRID",
            "MADRID",
            "MADRID",
            "MADRID",
            "MADRID",
            "MADRID",
            "MADRID",
            "MADRID",
            "MADRID",
            "MADRID",
            "MADRID",
            "MADRID",
            "MADRID",
            "MADRID",
            "MADRID",
            "MADRID",
            "MADRID",
            "MADRID",
            "MADRID",
            "MADRID",
            "MADRID",
            "MADRID",
            "MADRID",
            "MADRID",
            "MADRID",
            "MADRID",
            "MADRID",
            "MADRID",
            "MADRID",
            "MADRID",
            "MADRID",
            "MADRID",
            "MADRID",
            "MADRID",
            "MADRID",
            "MADRID",
            "BARCELONA",
            "BARCELONA",
            "BARCELONA",
            "BARCELONA",
            "BARCELONA",
            "BARCELONA",
            "BARCELONA",
            "BARCELONA",
            "BARCELONA",
            "BARCELONA",
            "BARCELONA",
            "BARCELONA",
            "BARCELONA",
            "BARCELONA",
            "BARCELONA",
            "BARCELONA",
            "BARCELONA",
            "BARCELONA",
            "BARCELONA",
            "BARCELONA",
            "BARCELONA",
            "BARCELONA",
            "BARCELONA",
            "BARCELONA",
            "BARCELONA",
            "BARCELONA",
            "BARCELONA",
            "BARCELONA",
            "BARCELONA",
            "BARCELONA",
            "BARCELONA",
            "BARCELONA",
            "VALENCIA",
            "VALENCIA",
            "VALENCIA",
            "VALENCIA",
            "VALENCIA",
            "VALENCIA",
            "VALENCIA",
            "SEVILLA",
            "SEVILLA",
            "SEVILLA",
            "SEVILLA",
            "SEVILLA",
            "SEVILLA",
            "SEVILLA",
            "SEVILLA",
            "SEVILLA",
            "SEVILLA",
            "SEVILLA",
            "SEVILLA",
            "SEVILLA",
            "SEVILLA",
            "SEVILLA",
            "SEVILLA",
            "SEVILLA",
            "MADRID",
            "MADRID",
            "MADRID",
            "MADRID",
            "MADRID",
            "MADRID",
            "MADRID",
            "MADRID",
            "MADRID",
            "MADRID",
            "MADRID",
            "MADRID",
            "MADRID",
            "MADRID",
            "MADRID",
            "MADRID",
            "MADRID",
            "MADRID",
            "MADRID",
            "MADRID",
            "MADRID",
            "MADRID",
            "MADRID",
            "MADRID",
            "MADRID",
            "MADRID",
            "MADRID",
            "MADRID",
            "BARCELONA",
            "BARCELONA",
            "BARCELONA",
            "BARCELONA",
            "BARCELONA",
            "BARCELONA",
            "BARCELONA",
            "BARCELONA",
            "BARCELONA",
            "BARCELONA",
            "BARCELONA",
            "BARCELONA",
            "BARCELONA",
            "BARCELONA",
            "BARCELONA",
            "BARCELONA",
            "BARCELONA",
            "BARCELONA",
            "BARCELONA",
            "BARCELONA",
            "BARCELONA",
            "BARCELONA",
            "BARCELONA",
            "BARCELONA",
            "BARCELONA",
            "BARCELONA",
            "BARCELONA",
            "BARCELONA",
            "BARCELONA",
            "BARCELONA",
            "BARCELONA",
            "BARCELONA",
            "VALENCIA",
            "VALENCIA",
            "VALENCIA",
            "VALENCIA",
            "VALENCIA",
            "VALENCIA",
            "VALENCIA",
            "VALENCIA",
            "VALENCIA",
            "VALENCIA",
            "VALENCIA",
            "VALENCIA",
            "VALENCIA",
            "VALENCIA",
            "VALENCIA",
            "VALENCIA",
            "VALENCIA",
            "SEVILLA",
            "SEVILLA",
            "SEVILLA",
            "SEVILLA",
            "SEVILLA",
            "SEVILLA",
            "SEVILLA",
            "SEVILLA",
            "SEVILLA",
            "SEVILLA",
            "SEVILLA",
            "SEVILLA",
            "SEVILLA",
            "SEVILLA",
            "SEVILLA",
            "SEVILLA",
            "SEVILLA",
            "MADRID",
            "MADRID",
            "MADRID",
            "MADRID",
            "MADRID",
            "MADRID",
            "MADRID",
            "MADRID",
            "MADRID",
            "MADRID",
            "MADRID",
            "MADRID",
            "MADRID",
            "MADRID",
            "MADRID",
            "MADRID",
            "MADRID",
            "MADRID",
            "MADRID",
            "MADRID",
            "MADRID",
            "MADRID",
            "MADRID",
            "MADRID",
            "MADRID",
            "MADRID",
            "MADRID",
            "MADRID",
            "MADRID",
            "MADRID",
            "MADRID",
            "MADRID",
            "MADRID",
            "MADRID",
            "MADRID",
            "MADRID",
            "MADRID",
            "MADRID",
            "MADRID",
            "MADRID",
            "MADRID",
            "MADRID",
            "MADRID",
            "MADRID",
            "MADRID",
            "MADRID",
            "SEVILLA",
            "SEVILLA",
            "SEVILLA",
            "SEVILLA",
            "SEVILLA",
            "SEVILLA",
            "SEVILLA",
            "SEVILLA",
            "SEVILLA",
            "SEVILLA",
            "SEVILLA",
            "SEVILLA",
            "SEVILLA",
            "SEVILLA",
            "SEVILLA",
            "SEVILLA",
            "SEVILLA",
            "MADRID",
            "MADRID",
            "MADRID",
            "MADRID",
            "MADRID",
            "MADRID",
            "MADRID",
            "MADRID",
            "MADRID",
            "MADRID",
            "MADRID",
            "MADRID",
            "MADRID",
            "MADRID",
            "MADRID",
            "MADRID",
            "MADRID",
            "MADRID",
            "MADRID",
            "MADRID",
            "MADRID",
            "MADRID",
            "MADRID",
            "MADRID",
            "MADRID",
            "MADRID",
            "MADRID",
            "MADRID",
            "MADRID",
            "VALENCIA",
            "VALENCIA",
            "VALENCIA",
            "VALENCIA",
            "VALENCIA",
            "VALENCIA",
            "VALENCIA",
            "VALENCIA",
            "VALENCIA",
            "VALENCIA",
            "VALENCIA",
            "VALENCIA",
            "VALENCIA",
            "VALENCIA",
            "VALENCIA",
            "VALENCIA",
            "VALENCIA",
            "MADRID",
            "MADRID",
            "MADRID",
            "MADRID",
            "MADRID",
            "MADRID",
            "MADRID",
            "MADRID",
            "MADRID",
            "MADRID",
            "MADRID",
            "BARCELONA",
            "BARCELONA",
            "BARCELONA",
            "BARCELONA",
            "BARCELONA",
            "BARCELONA",
            "BARCELONA",
            "BARCELONA",
            "BARCELONA",
            "BARCELONA",
            "BARCELONA",
            "BARCELONA",
            "BARCELONA",
            "BARCELONA",
            "BARCELONA",
            "BARCELONA",
            "BARCELONA",
            "BARCELONA",
            "BARCELONA",
            "BARCELONA",
            "BARCELONA",
            "BARCELONA",
            "BARCELONA",
            "BARCELONA",
            "BARCELONA",
            "BARCELONA",
            "BARCELONA",
            "BARCELONA",
            "BARCELONA",
            "BARCELONA",
            "BARCELONA",
            "BARCELONA",
            "MADRID",
            "MADRID",
            "MADRID",
            "MADRID",
            "MADRID",
            "MADRID",
            "MADRID",
            "MADRID",
            "MADRID",
            "MADRID",
            "MADRID",
            "MADRID",
            "MADRID",
            "MADRID",
            "MADRID",
            "MADRID",
            "MADRID",
            "BARCELONA",
            "BARCELONA",
            "BARCELONA",
            "BARCELONA",
            "BARCELONA",
            "BARCELONA",
            "BARCELONA",
            "BARCELONA",
            "BARCELONA",
            "BARCELONA",
            "BARCELONA",
            "BARCELONA",
            "BARCELONA",
            "BARCELONA",
            "BARCELONA",
            "BARCELONA",
            "BARCELONA",
            "BARCELONA",
            "BARCELONA",
            "BARCELONA",
            "BARCELONA",
            "BARCELONA",
            "BARCELONA",
            "BARCELONA",
            "BARCELONA",
            "BARCELONA",
            "BARCELONA",
            "BARCELONA",
            "BARCELONA",
            "BARCELONA",
            "BARCELONA",
            "BARCELONA",
            "VALENCIA",
            "VALENCIA",
            "VALENCIA",
            "VALENCIA",
            "VALENCIA",
            "VALENCIA",
            "VALENCIA",
            "VALENCIA",
            "VALENCIA",
            "VALENCIA",
            "VALENCIA",
            "VALENCIA",
            "VALENCIA",
            "VALENCIA",
            "VALENCIA",
            "VALENCIA",
            "VALENCIA",
            "MADRID",
            "MADRID",
            "MADRID",
            "MADRID",
            "MADRID",
            "MADRID",
            "MADRID",
            "MADRID",
            "MADRID",
            "MADRID",
            "MADRID",
            "MADRID",
            "MADRID",
            "MADRID",
            "MADRID",
            "MADRID",
            "MADRID",
            "SEVILLA",
            "SEVILLA",
            "SEVILLA",
            "SEVILLA",
            "SEVILLA",
            "SEVILLA",
            "SEVILLA",
            "SEVILLA",
            "SEVILLA",
            "SEVILLA",
            "SEVILLA",
            "SEVILLA",
            "SEVILLA",
            "SEVILLA",
            "SEVILLA",
            "SEVILLA",
            "SEVILLA",
            "MADRID",
            "MADRID",
            "MADRID",
            "MADRID",
            "MADRID",
            "MADRID",
            "MADRID",
            "MADRID",
            "MADRID",
            "MADRID",
            "MADRID",
            "MADRID",
            "MADRID",
            "MADRID",
            "MADRID",
            "MADRID",
            "MADRID",
            "MADRID",
            "MADRID",
            "MADRID",
            "MADRID",
            "MADRID",
            "MADRID",
            "MADRID",
            "MADRID",
            "MADRID",
            "MADRID",
            "MADRID",
            "MADRID",
            "MADRID",
            "MADRID",
            "MADRID",
            "MADRID",
            "MADRID",
            "MADRID",
            "MADRID",
            "MADRID",
            "MADRID",
            "MADRID",
            "MADRID",
            "BARCELONA",
            "BARCELONA",
            "BARCELONA",
            "BARCELONA",
            "BARCELONA",
            "BARCELONA",
            "BARCELONA",
            "BARCELONA",
            "BARCELONA",
            "BARCELONA",
            "BARCELONA",
            "BARCELONA",
            "BARCELONA",
            "BARCELONA",
            "BARCELONA",
            "BARCELONA",
            "BARCELONA",
            "BARCELONA",
            "BARCELONA",
            "BARCELONA",
            "BARCELONA",
            "BARCELONA",
            "BARCELONA",
            "BARCELONA",
            "BARCELONA",
            "BARCELONA",
            "BARCELONA",
            "BARCELONA",
            "BARCELONA",
            "BARCELONA",
            "BARCELONA",
            "BARCELONA",
            "SEVILLA",
            "SEVILLA",
            "SEVILLA",
            "SEVILLA",
            "SEVILLA",
            "SEVILLA",
            "SEVILLA",
            "SEVILLA",
            "SEVILLA",
            "SEVILLA",
            "SEVILLA",
            "SEVILLA",
            "SEVILLA",
            "SEVILLA",
            "SEVILLA",
            "SEVILLA",
            "SEVILLA",
            "MADRID",
            "MADRID",
            "MADRID",
            "MADRID",
            "MADRID",
            "MADRID",
            "MADRID",
            "MADRID",
            "MADRID",
            "MADRID",
            "MADRID",
            "MADRID",
            "MADRID",
            "MADRID",
            "MADRID",
            "MADRID",
            "MADRID",
            "VALENCIA",
            "VALENCIA",
            "VALENCIA",
            "VALENCIA",
            "VALENCIA",
            "VALENCIA",
            "VALENCIA",
            "VALENCIA",
            "VALENCIA",
            "VALENCIA",
            "VALENCIA",
            "VALENCIA",
            "VALENCIA",
            "VALENCIA",
            "VALENCIA",
            "VALENCIA",
            "VALENCIA",
            "MADRID",
            "MADRID",
            "MADRID",
            "MADRID",
            "MADRID",
            "MADRID",
            "MADRID",
            "MADRID",
            "MADRID",
            "MADRID",
            "MADRID",
            "MADRID",
            "MADRID",
            "MADRID",
            "MADRID",
            "MADRID",
            "MADRID",
            "MADRID",
            "MADRID",
            "MADRID",
            "MADRID",
            "MADRID",
            "MADRID",
            "MADRID",
            "MADRID",
            "MADRID",
            "MADRID",
            "MADRID",
            "MADRID",
            "MADRID",
            "MADRID",
            "MADRID",
            "MADRID",
            "MADRID",
            "MADRID",
            "MADRID",
            "MADRID",
            "MADRID",
            "MADRID",
            "MADRID"
           ],
           "xaxis": "x",
           "y": [
            "VALENCIA",
            "VALENCIA",
            "VALENCIA",
            "VALENCIA",
            "VALENCIA",
            "VALENCIA",
            "VALENCIA",
            "VALENCIA",
            "VALENCIA",
            "VALENCIA",
            "VALENCIA",
            "VALENCIA",
            "VALENCIA",
            "VALENCIA",
            "VALENCIA",
            "VALENCIA",
            "VALENCIA",
            "BARCELONA",
            "BARCELONA",
            "BARCELONA",
            "BARCELONA",
            "BARCELONA",
            "BARCELONA",
            "BARCELONA",
            "BARCELONA",
            "BARCELONA",
            "BARCELONA",
            "BARCELONA",
            "BARCELONA",
            "BARCELONA",
            "BARCELONA",
            "BARCELONA",
            "BARCELONA",
            "BARCELONA",
            "BARCELONA",
            "BARCELONA",
            "BARCELONA",
            "BARCELONA",
            "BARCELONA",
            "BARCELONA",
            "BARCELONA",
            "BARCELONA",
            "BARCELONA",
            "BARCELONA",
            "BARCELONA",
            "BARCELONA",
            "MADRID",
            "MADRID",
            "MADRID",
            "MADRID",
            "MADRID",
            "MADRID",
            "MADRID",
            "MADRID",
            "MADRID",
            "MADRID",
            "MADRID",
            "MADRID",
            "MADRID",
            "MADRID",
            "MADRID",
            "MADRID",
            "MADRID",
            "VALENCIA",
            "VALENCIA",
            "VALENCIA",
            "VALENCIA",
            "VALENCIA",
            "VALENCIA",
            "VALENCIA",
            "VALENCIA",
            "VALENCIA",
            "VALENCIA",
            "VALENCIA",
            "VALENCIA",
            "VALENCIA",
            "VALENCIA",
            "VALENCIA",
            "VALENCIA",
            "VALENCIA",
            "MADRID",
            "MADRID",
            "MADRID",
            "MADRID",
            "MADRID",
            "MADRID",
            "MADRID",
            "MADRID",
            "MADRID",
            "MADRID",
            "MADRID",
            "MADRID",
            "MADRID",
            "MADRID",
            "MADRID",
            "MADRID",
            "MADRID",
            "MADRID",
            "MADRID",
            "MADRID",
            "MADRID",
            "MADRID",
            "MADRID",
            "MADRID",
            "MADRID",
            "MADRID",
            "MADRID",
            "MADRID",
            "MADRID",
            "MADRID",
            "MADRID",
            "MADRID",
            "MADRID",
            "MADRID",
            "MADRID",
            "MADRID",
            "MADRID",
            "MADRID",
            "MADRID",
            "MADRID",
            "MADRID",
            "MADRID",
            "MADRID",
            "MADRID",
            "MADRID",
            "MADRID",
            "MADRID",
            "MADRID",
            "MADRID",
            "SEVILLA",
            "SEVILLA",
            "SEVILLA",
            "SEVILLA",
            "SEVILLA",
            "SEVILLA",
            "SEVILLA",
            "SEVILLA",
            "SEVILLA",
            "SEVILLA",
            "SEVILLA",
            "MADRID",
            "MADRID",
            "MADRID",
            "MADRID",
            "MADRID",
            "MADRID",
            "MADRID",
            "MADRID",
            "MADRID",
            "MADRID",
            "MADRID",
            "MADRID",
            "MADRID",
            "MADRID",
            "MADRID",
            "MADRID",
            "MADRID",
            "MADRID",
            "MADRID",
            "MADRID",
            "MADRID",
            "MADRID",
            "MADRID",
            "MADRID",
            "MADRID",
            "MADRID",
            "MADRID",
            "MADRID",
            "MADRID",
            "MADRID",
            "MADRID",
            "MADRID",
            "MADRID",
            "MADRID",
            "MADRID",
            "MADRID",
            "MADRID",
            "MADRID",
            "MADRID",
            "MADRID",
            "MADRID",
            "MADRID",
            "MADRID",
            "MADRID",
            "MADRID",
            "MADRID",
            "MADRID",
            "MADRID",
            "MADRID",
            "MADRID",
            "MADRID",
            "MADRID",
            "MADRID",
            "MADRID",
            "MADRID",
            "MADRID",
            "MADRID",
            "MADRID",
            "MADRID",
            "MADRID",
            "MADRID",
            "MADRID",
            "MADRID",
            "MADRID",
            "MADRID",
            "MADRID",
            "SEVILLA",
            "SEVILLA",
            "SEVILLA",
            "SEVILLA",
            "SEVILLA",
            "SEVILLA",
            "SEVILLA",
            "SEVILLA",
            "SEVILLA",
            "SEVILLA",
            "SEVILLA",
            "BARCELONA",
            "BARCELONA",
            "BARCELONA",
            "BARCELONA",
            "BARCELONA",
            "BARCELONA",
            "BARCELONA",
            "BARCELONA",
            "BARCELONA",
            "BARCELONA",
            "BARCELONA",
            "BARCELONA",
            "BARCELONA",
            "BARCELONA",
            "BARCELONA",
            "BARCELONA",
            "BARCELONA",
            "VALENCIA",
            "VALENCIA",
            "VALENCIA",
            "VALENCIA",
            "VALENCIA",
            "VALENCIA",
            "VALENCIA",
            "VALENCIA",
            "VALENCIA",
            "VALENCIA",
            "VALENCIA",
            "VALENCIA",
            "VALENCIA",
            "VALENCIA",
            "VALENCIA",
            "VALENCIA",
            "VALENCIA",
            "SEVILLA",
            "SEVILLA",
            "SEVILLA",
            "SEVILLA",
            "SEVILLA",
            "SEVILLA",
            "SEVILLA",
            "SEVILLA",
            "SEVILLA",
            "SEVILLA",
            "SEVILLA",
            "BARCELONA",
            "BARCELONA",
            "BARCELONA",
            "BARCELONA",
            "BARCELONA",
            "BARCELONA",
            "BARCELONA",
            "BARCELONA",
            "BARCELONA",
            "BARCELONA",
            "BARCELONA",
            "BARCELONA",
            "BARCELONA",
            "BARCELONA",
            "BARCELONA",
            "BARCELONA",
            "BARCELONA",
            "BARCELONA",
            "BARCELONA",
            "BARCELONA",
            "BARCELONA",
            "BARCELONA",
            "BARCELONA",
            "BARCELONA",
            "BARCELONA",
            "BARCELONA",
            "BARCELONA",
            "BARCELONA",
            "BARCELONA",
            "MADRID",
            "MADRID",
            "MADRID",
            "MADRID",
            "MADRID",
            "MADRID",
            "MADRID",
            "MADRID",
            "MADRID",
            "MADRID",
            "MADRID",
            "MADRID",
            "MADRID",
            "MADRID",
            "MADRID",
            "MADRID",
            "MADRID",
            "MADRID",
            "MADRID",
            "MADRID",
            "MADRID",
            "MADRID",
            "MADRID",
            "MADRID",
            "MADRID",
            "MADRID",
            "MADRID",
            "MADRID",
            "MADRID",
            "MADRID",
            "MADRID",
            "MADRID",
            "MADRID",
            "MADRID",
            "MADRID",
            "MADRID",
            "MADRID",
            "MADRID",
            "MADRID",
            "MADRID",
            "MADRID",
            "MADRID",
            "MADRID",
            "MADRID",
            "MADRID",
            "MADRID",
            "MADRID",
            "MADRID",
            "MADRID",
            "MADRID",
            "MADRID",
            "MADRID",
            "MADRID",
            "MADRID",
            "MADRID",
            "MADRID",
            "VALENCIA",
            "VALENCIA",
            "VALENCIA",
            "VALENCIA",
            "VALENCIA",
            "VALENCIA",
            "VALENCIA",
            "VALENCIA",
            "VALENCIA",
            "VALENCIA",
            "VALENCIA",
            "VALENCIA",
            "VALENCIA",
            "VALENCIA",
            "VALENCIA",
            "VALENCIA",
            "VALENCIA",
            "SEVILLA",
            "SEVILLA",
            "SEVILLA",
            "SEVILLA",
            "SEVILLA",
            "SEVILLA",
            "SEVILLA",
            "SEVILLA",
            "SEVILLA",
            "SEVILLA",
            "SEVILLA",
            "MADRID",
            "MADRID",
            "MADRID",
            "MADRID",
            "MADRID",
            "MADRID",
            "MADRID",
            "MADRID",
            "MADRID",
            "MADRID",
            "MADRID",
            "MADRID",
            "MADRID",
            "MADRID",
            "MADRID",
            "MADRID",
            "MADRID",
            "MADRID",
            "MADRID",
            "MADRID",
            "MADRID",
            "MADRID",
            "MADRID",
            "MADRID",
            "MADRID",
            "MADRID",
            "MADRID",
            "MADRID",
            "MADRID",
            "MADRID",
            "MADRID",
            "MADRID",
            "MADRID",
            "MADRID",
            "MADRID",
            "MADRID",
            "MADRID",
            "MADRID",
            "MADRID",
            "MADRID",
            "MADRID",
            "MADRID",
            "MADRID",
            "MADRID",
            "MADRID",
            "MADRID",
            "MADRID",
            "MADRID",
            "MADRID",
            "MADRID",
            "MADRID",
            "MADRID",
            "MADRID",
            "MADRID",
            "MADRID",
            "MADRID",
            "MADRID",
            "MADRID",
            "MADRID",
            "MADRID",
            "MADRID",
            "MADRID",
            "MADRID",
            "MADRID",
            "MADRID",
            "MADRID",
            "VALENCIA",
            "VALENCIA",
            "VALENCIA",
            "VALENCIA",
            "VALENCIA",
            "VALENCIA",
            "VALENCIA",
            "VALENCIA",
            "VALENCIA",
            "VALENCIA",
            "VALENCIA",
            "VALENCIA",
            "VALENCIA",
            "VALENCIA",
            "VALENCIA",
            "VALENCIA",
            "VALENCIA",
            "BARCELONA",
            "BARCELONA",
            "BARCELONA",
            "BARCELONA",
            "BARCELONA",
            "BARCELONA",
            "BARCELONA",
            "BARCELONA",
            "BARCELONA",
            "BARCELONA",
            "BARCELONA",
            "BARCELONA",
            "BARCELONA",
            "BARCELONA",
            "BARCELONA",
            "BARCELONA",
            "BARCELONA",
            "BARCELONA",
            "BARCELONA",
            "BARCELONA",
            "BARCELONA",
            "BARCELONA",
            "BARCELONA",
            "BARCELONA",
            "BARCELONA",
            "BARCELONA",
            "BARCELONA",
            "BARCELONA",
            "BARCELONA",
            "MADRID",
            "MADRID",
            "MADRID",
            "MADRID",
            "MADRID",
            "MADRID",
            "MADRID",
            "MADRID",
            "MADRID",
            "MADRID",
            "MADRID",
            "MADRID",
            "MADRID",
            "MADRID",
            "MADRID",
            "MADRID",
            "MADRID",
            "BARCELONA",
            "BARCELONA",
            "BARCELONA",
            "BARCELONA",
            "BARCELONA",
            "BARCELONA",
            "BARCELONA",
            "BARCELONA",
            "BARCELONA",
            "BARCELONA",
            "BARCELONA",
            "BARCELONA",
            "BARCELONA",
            "BARCELONA",
            "BARCELONA",
            "BARCELONA",
            "BARCELONA",
            "BARCELONA",
            "BARCELONA",
            "BARCELONA",
            "BARCELONA",
            "BARCELONA",
            "BARCELONA",
            "BARCELONA",
            "BARCELONA",
            "BARCELONA",
            "BARCELONA",
            "BARCELONA",
            "BARCELONA",
            "MADRID",
            "MADRID",
            "MADRID",
            "MADRID",
            "MADRID",
            "MADRID",
            "MADRID",
            "MADRID",
            "MADRID",
            "MADRID",
            "MADRID",
            "MADRID",
            "MADRID",
            "MADRID",
            "MADRID",
            "MADRID",
            "MADRID",
            "SEVILLA",
            "SEVILLA",
            "SEVILLA",
            "SEVILLA",
            "SEVILLA",
            "SEVILLA",
            "SEVILLA",
            "SEVILLA",
            "SEVILLA",
            "SEVILLA",
            "SEVILLA",
            "MADRID",
            "MADRID",
            "MADRID",
            "MADRID",
            "MADRID",
            "MADRID",
            "MADRID",
            "MADRID",
            "MADRID",
            "MADRID",
            "MADRID",
            "MADRID",
            "MADRID",
            "MADRID",
            "MADRID",
            "MADRID",
            "MADRID",
            "MADRID",
            "MADRID",
            "MADRID",
            "MADRID",
            "MADRID",
            "MADRID",
            "MADRID",
            "MADRID",
            "MADRID",
            "MADRID",
            "MADRID",
            "MADRID",
            "MADRID",
            "MADRID",
            "MADRID",
            "VALENCIA",
            "VALENCIA",
            "VALENCIA",
            "VALENCIA",
            "VALENCIA",
            "VALENCIA",
            "VALENCIA",
            "VALENCIA",
            "VALENCIA",
            "VALENCIA",
            "VALENCIA",
            "VALENCIA",
            "VALENCIA",
            "VALENCIA",
            "VALENCIA",
            "VALENCIA",
            "VALENCIA",
            "MADRID",
            "MADRID",
            "MADRID",
            "MADRID",
            "MADRID",
            "MADRID",
            "MADRID",
            "MADRID",
            "MADRID",
            "MADRID",
            "MADRID",
            "MADRID",
            "MADRID",
            "MADRID",
            "MADRID",
            "MADRID",
            "MADRID",
            "MADRID",
            "MADRID",
            "MADRID",
            "MADRID",
            "MADRID",
            "MADRID",
            "MADRID",
            "MADRID",
            "MADRID",
            "MADRID",
            "MADRID",
            "MADRID",
            "MADRID",
            "MADRID",
            "MADRID",
            "MADRID",
            "MADRID",
            "MADRID",
            "MADRID",
            "MADRID",
            "MADRID",
            "MADRID",
            "MADRID",
            "MADRID",
            "MADRID",
            "MADRID",
            "MADRID",
            "MADRID",
            "MADRID",
            "MADRID",
            "MADRID",
            "MADRID",
            "VALENCIA",
            "VALENCIA",
            "VALENCIA",
            "VALENCIA",
            "VALENCIA",
            "VALENCIA",
            "VALENCIA",
            "VALENCIA",
            "VALENCIA",
            "VALENCIA",
            "VALENCIA",
            "VALENCIA",
            "VALENCIA",
            "VALENCIA",
            "VALENCIA",
            "VALENCIA",
            "VALENCIA",
            "MADRID",
            "MADRID",
            "MADRID",
            "MADRID",
            "MADRID",
            "MADRID",
            "MADRID",
            "MADRID",
            "MADRID",
            "MADRID",
            "MADRID",
            "MADRID",
            "MADRID",
            "MADRID",
            "MADRID",
            "MADRID",
            "MADRID",
            "SEVILLA",
            "SEVILLA",
            "SEVILLA",
            "SEVILLA",
            "SEVILLA",
            "SEVILLA",
            "SEVILLA",
            "SEVILLA",
            "SEVILLA",
            "SEVILLA",
            "SEVILLA",
            "BARCELONA",
            "BARCELONA",
            "BARCELONA",
            "BARCELONA",
            "BARCELONA",
            "BARCELONA",
            "BARCELONA",
            "BARCELONA",
            "BARCELONA",
            "BARCELONA",
            "BARCELONA",
            "BARCELONA",
            "BARCELONA",
            "BARCELONA",
            "BARCELONA",
            "BARCELONA",
            "BARCELONA",
            "BARCELONA",
            "BARCELONA",
            "BARCELONA",
            "BARCELONA",
            "BARCELONA",
            "BARCELONA",
            "BARCELONA",
            "BARCELONA",
            "BARCELONA",
            "BARCELONA",
            "BARCELONA",
            "BARCELONA",
            "MADRID",
            "MADRID",
            "MADRID",
            "MADRID",
            "MADRID",
            "MADRID",
            "MADRID",
            "MADRID",
            "MADRID",
            "MADRID",
            "MADRID",
            "MADRID",
            "MADRID",
            "MADRID",
            "MADRID",
            "MADRID",
            "MADRID",
            "MADRID",
            "MADRID",
            "MADRID",
            "MADRID",
            "MADRID",
            "MADRID",
            "MADRID",
            "MADRID",
            "MADRID",
            "MADRID",
            "MADRID",
            "MADRID",
            "MADRID",
            "MADRID",
            "MADRID",
            "MADRID",
            "MADRID",
            "MADRID",
            "MADRID",
            "MADRID",
            "MADRID",
            "MADRID",
            "MADRID",
            "MADRID",
            "MADRID",
            "MADRID",
            "MADRID",
            "MADRID",
            "MADRID",
            "MADRID",
            "MADRID",
            "MADRID",
            "VALENCIA",
            "VALENCIA",
            "VALENCIA",
            "VALENCIA",
            "VALENCIA",
            "VALENCIA",
            "VALENCIA",
            "VALENCIA",
            "VALENCIA",
            "VALENCIA",
            "VALENCIA",
            "VALENCIA",
            "VALENCIA",
            "VALENCIA",
            "VALENCIA",
            "VALENCIA",
            "VALENCIA",
            "MADRID",
            "MADRID",
            "MADRID",
            "MADRID",
            "MADRID",
            "MADRID",
            "MADRID",
            "MADRID",
            "MADRID",
            "MADRID",
            "MADRID",
            "MADRID",
            "MADRID",
            "MADRID",
            "MADRID",
            "MADRID",
            "MADRID",
            "SEVILLA",
            "SEVILLA",
            "SEVILLA",
            "SEVILLA",
            "SEVILLA",
            "SEVILLA",
            "SEVILLA",
            "SEVILLA",
            "SEVILLA",
            "SEVILLA",
            "SEVILLA",
            "BARCELONA",
            "BARCELONA",
            "BARCELONA",
            "BARCELONA",
            "BARCELONA",
            "BARCELONA",
            "BARCELONA",
            "BARCELONA",
            "BARCELONA",
            "BARCELONA",
            "BARCELONA",
            "BARCELONA",
            "BARCELONA",
            "BARCELONA",
            "BARCELONA",
            "BARCELONA",
            "BARCELONA",
            "BARCELONA",
            "BARCELONA",
            "BARCELONA",
            "BARCELONA",
            "BARCELONA",
            "BARCELONA",
            "BARCELONA",
            "BARCELONA",
            "BARCELONA",
            "BARCELONA",
            "BARCELONA",
            "BARCELONA"
           ],
           "yaxis": "y"
          }
         ],
         "name": "AVE"
        },
        {
         "data": [
          {
           "customdata": [
            [
             "Turista con enlace",
             "Flexible"
            ],
            [
             "Turista con enlace",
             "Flexible"
            ],
            [
             "Turista con enlace",
             "Flexible"
            ],
            [
             "Turista con enlace",
             "Flexible"
            ],
            [
             "Turista con enlace",
             "Promo"
            ],
            [
             "Turista con enlace",
             "Flexible"
            ],
            [
             "Turista con enlace",
             "Flexible"
            ],
            [
             "Turista con enlace",
             "Promo"
            ],
            [
             "Turista con enlace",
             "Promo"
            ],
            [
             "Turista con enlace",
             "Flexible"
            ],
            [
             "Turista con enlace",
             "Flexible"
            ],
            [
             "Turista con enlace",
             "Flexible"
            ],
            [
             "Turista con enlace",
             "Flexible"
            ],
            [
             "Turista con enlace",
             "Promo"
            ],
            [
             "Turista con enlace",
             "Flexible"
            ],
            [
             "Turista con enlace",
             "Flexible"
            ],
            [
             "Turista con enlace",
             "Promo"
            ],
            [
             "Turista con enlace",
             "Promo"
            ],
            [
             "Turista con enlace",
             "Flexible"
            ],
            [
             "Turista con enlace",
             "Flexible"
            ],
            [
             "Turista con enlace",
             "Flexible"
            ],
            [
             "Turista con enlace",
             "Flexible"
            ],
            [
             "Turista con enlace",
             "Promo"
            ],
            [
             "Turista con enlace",
             "Promo"
            ]
           ],
           "hovertemplate": "train_type=AVE-MD<br>origin=%{x}<br>destination=%{y}<br>price=%{marker.size}<br>train_class=%{customdata[0]}<br>fare=%{customdata[1]}<extra></extra>",
           "legendgroup": "AVE-MD",
           "marker": {
            "color": "#00cc96",
            "size": [
             71,
             71,
             71,
             71,
             35.75,
             71,
             71,
             35.75,
             35.75,
             71,
             71,
             71,
             71,
             35.75,
             71,
             71,
             35.75,
             35.75,
             71,
             71,
             71,
             71,
             35.75,
             35.75
            ],
            "sizemode": "area",
            "sizeref": 0.26925,
            "symbol": "circle"
           },
           "mode": "markers",
           "name": "AVE-MD",
           "orientation": "v",
           "showlegend": true,
           "type": "scatter",
           "x": [
            "MADRID",
            "MADRID",
            "MADRID",
            "MADRID",
            "MADRID",
            "MADRID",
            "MADRID",
            "MADRID",
            "MADRID",
            "MADRID",
            "MADRID",
            "MADRID",
            "MADRID",
            "MADRID",
            "MADRID",
            "MADRID",
            "MADRID",
            "MADRID",
            "MADRID",
            "MADRID",
            "MADRID",
            "MADRID",
            "MADRID",
            "MADRID"
           ],
           "xaxis": "x",
           "y": [
            "VALENCIA",
            "VALENCIA",
            "VALENCIA",
            "VALENCIA",
            "PONFERRADA",
            "VALENCIA",
            "VALENCIA",
            "PONFERRADA",
            "PONFERRADA",
            "VALENCIA",
            "VALENCIA",
            "VALENCIA",
            "VALENCIA",
            "PONFERRADA",
            "VALENCIA",
            "VALENCIA",
            "PONFERRADA",
            "PONFERRADA",
            "VALENCIA",
            "VALENCIA",
            "VALENCIA",
            "VALENCIA",
            "PONFERRADA",
            "PONFERRADA"
           ],
           "yaxis": "y"
          }
         ],
         "name": "AVE-MD"
        },
        {
         "data": [
          {
           "customdata": [
            [
             "Turista con enlace",
             "Flexible"
            ],
            [
             "Turista con enlace",
             "Flexible"
            ],
            [
             "Turista con enlace",
             "Promo"
            ],
            [
             "Turista con enlace",
             "Flexible"
            ],
            [
             "Turista con enlace",
             "Promo"
            ],
            [
             "Turista con enlace",
             "Promo"
            ],
            [
             "Turista con enlace",
             "Flexible"
            ],
            [
             "Turista con enlace",
             "Flexible"
            ],
            [
             "Turista con enlace",
             "Promo"
            ],
            [
             "Turista con enlace",
             "Flexible"
            ],
            [
             "Turista con enlace",
             "Promo"
            ],
            [
             "Turista con enlace",
             "Promo"
            ],
            [
             "Turista con enlace",
             "Flexible"
            ],
            [
             "Turista con enlace",
             "Flexible"
            ],
            [
             "Turista con enlace",
             "Promo"
            ],
            [
             "Turista con enlace",
             "Promo"
            ]
           ],
           "hovertemplate": "train_type=AVE-LD<br>origin=%{x}<br>destination=%{y}<br>price=%{marker.size}<br>train_class=%{customdata[0]}<br>fare=%{customdata[1]}<extra></extra>",
           "legendgroup": "AVE-LD",
           "marker": {
            "color": "#ab63fa",
            "size": [
             56.1,
             56.1,
             31.2,
             56.1,
             31.2,
             31.2,
             56.1,
             56.1,
             31.2,
             56.1,
             31.2,
             31.2,
             56.1,
             56.1,
             31.2,
             31.2
            ],
            "sizemode": "area",
            "sizeref": 0.26925,
            "symbol": "circle"
           },
           "mode": "markers",
           "name": "AVE-LD",
           "orientation": "v",
           "showlegend": true,
           "type": "scatter",
           "x": [
            "MADRID",
            "MADRID",
            "MADRID",
            "MADRID",
            "MADRID",
            "MADRID",
            "MADRID",
            "MADRID",
            "MADRID",
            "MADRID",
            "MADRID",
            "MADRID",
            "MADRID",
            "MADRID",
            "MADRID",
            "MADRID"
           ],
           "xaxis": "x",
           "y": [
            "VALENCIA",
            "VALENCIA",
            "PONFERRADA",
            "VALENCIA",
            "PONFERRADA",
            "PONFERRADA",
            "VALENCIA",
            "VALENCIA",
            "PONFERRADA",
            "VALENCIA",
            "PONFERRADA",
            "PONFERRADA",
            "VALENCIA",
            "VALENCIA",
            "PONFERRADA",
            "PONFERRADA"
           ],
           "yaxis": "y"
          }
         ],
         "name": "AVE-LD"
        },
        {
         "data": [
          {
           "customdata": [
            [
             "Turista Plus",
             "Promo"
            ],
            [
             "Turista",
             "Flexible"
            ],
            [
             "Turista Plus",
             "Promo"
            ],
            [
             "Turista Plus",
             "Promo"
            ],
            [
             "Turista",
             "Promo"
            ],
            [
             "Turista Plus",
             "Promo"
            ],
            [
             "Turista Plus",
             "Promo"
            ],
            [
             "Turista Plus",
             "Promo"
            ],
            [
             "Turista Plus",
             "Promo"
            ],
            [
             "Turista",
             "Flexible"
            ],
            [
             "Turista Plus",
             "Promo"
            ],
            [
             "Turista Plus",
             "Promo"
            ],
            [
             "Turista",
             "Promo"
            ],
            [
             "Turista Plus",
             "Promo"
            ],
            [
             "Turista Plus",
             "Promo"
            ],
            [
             "Turista Plus",
             "Promo"
            ],
            [
             "Turista",
             "Promo"
            ],
            [
             "Turista Plus",
             "Promo"
            ],
            [
             "Turista Plus",
             "Promo"
            ],
            [
             "Turista Plus",
             "Promo"
            ],
            [
             "Turista Plus",
             "Promo"
            ],
            [
             "Turista",
             "Flexible"
            ],
            [
             "Turista Plus",
             "Promo"
            ],
            [
             "Turista Plus",
             "Promo"
            ],
            [
             "Turista",
             "Promo"
            ],
            [
             "Turista Plus",
             "Promo"
            ],
            [
             "Turista Plus",
             "Promo"
            ],
            [
             "Turista Plus",
             "Promo"
            ],
            [
             "Turista Plus",
             "Promo"
            ],
            [
             "Turista",
             "Flexible"
            ],
            [
             "Turista Plus",
             "Promo"
            ],
            [
             "Turista Plus",
             "Promo"
            ],
            [
             "Turista Plus",
             "Promo"
            ],
            [
             "Turista",
             "Flexible"
            ],
            [
             "Turista Plus",
             "Promo"
            ],
            [
             "Turista Plus",
             "Promo"
            ],
            [
             "Turista",
             "Promo"
            ],
            [
             "Turista Plus",
             "Promo"
            ],
            [
             "Turista Plus",
             "Promo"
            ],
            [
             "Turista Plus",
             "Promo"
            ],
            [
             "Turista Plus",
             "Promo"
            ],
            [
             "Turista Plus",
             "Promo"
            ],
            [
             "Turista Plus",
             "Promo"
            ],
            [
             "Turista",
             "Flexible"
            ],
            [
             "Turista",
             "Promo"
            ],
            [
             "Turista Plus",
             "Promo"
            ],
            [
             "Turista Plus",
             "Promo"
            ],
            [
             "Turista Plus",
             "Promo"
            ],
            [
             "Turista Plus",
             "Promo"
            ],
            [
             "Turista",
             "Flexible"
            ],
            [
             "Turista Plus",
             "Promo"
            ],
            [
             "Turista Plus",
             "Promo"
            ],
            [
             "Turista",
             "Promo"
            ],
            [
             "Turista Plus",
             "Promo"
            ],
            [
             "Turista Plus",
             "Promo"
            ],
            [
             "Turista Plus",
             "Promo"
            ]
           ],
           "hovertemplate": "train_type=AV City<br>origin=%{x}<br>destination=%{y}<br>price=%{marker.size}<br>train_class=%{customdata[0]}<br>fare=%{customdata[1]}<extra></extra>",
           "legendgroup": "AV City",
           "marker": {
            "color": "#FFA15A",
            "size": [
             58.95,
             62.2,
             58.95,
             52.2,
             49.15,
             52.2,
             58.95,
             52.2,
             58.95,
             62.2,
             58.95,
             52.2,
             49.15,
             52.2,
             58.95,
             52.2,
             49.15,
             52.2,
             58.95,
             52.2,
             58.95,
             62.2,
             58.95,
             52.2,
             49.15,
             52.2,
             58.95,
             52.2,
             58.95,
             62.2,
             58.95,
             52.2,
             58.95,
             62.2,
             58.95,
             52.2,
             49.15,
             52.2,
             58.95,
             52.2,
             58.95,
             52.2,
             58.95,
             62.2,
             49.15,
             52.2,
             58.95,
             52.2,
             58.95,
             62.2,
             58.95,
             52.2,
             49.15,
             52.2,
             58.95,
             52.2
            ],
            "sizemode": "area",
            "sizeref": 0.26925,
            "symbol": "circle"
           },
           "mode": "markers",
           "name": "AV City",
           "orientation": "v",
           "showlegend": true,
           "type": "scatter",
           "x": [
            "SEVILLA",
            "SEVILLA",
            "SEVILLA",
            "SEVILLA",
            "MADRID",
            "MADRID",
            "MADRID",
            "MADRID",
            "SEVILLA",
            "SEVILLA",
            "SEVILLA",
            "SEVILLA",
            "MADRID",
            "MADRID",
            "MADRID",
            "MADRID",
            "MADRID",
            "MADRID",
            "MADRID",
            "MADRID",
            "SEVILLA",
            "SEVILLA",
            "SEVILLA",
            "SEVILLA",
            "MADRID",
            "MADRID",
            "MADRID",
            "MADRID",
            "SEVILLA",
            "SEVILLA",
            "SEVILLA",
            "SEVILLA",
            "SEVILLA",
            "SEVILLA",
            "SEVILLA",
            "SEVILLA",
            "MADRID",
            "MADRID",
            "MADRID",
            "MADRID",
            "SEVILLA",
            "SEVILLA",
            "SEVILLA",
            "SEVILLA",
            "MADRID",
            "MADRID",
            "MADRID",
            "MADRID",
            "SEVILLA",
            "SEVILLA",
            "SEVILLA",
            "SEVILLA",
            "MADRID",
            "MADRID",
            "MADRID",
            "MADRID"
           ],
           "xaxis": "x",
           "y": [
            "MADRID",
            "MADRID",
            "MADRID",
            "MADRID",
            "SEVILLA",
            "SEVILLA",
            "SEVILLA",
            "SEVILLA",
            "MADRID",
            "MADRID",
            "MADRID",
            "MADRID",
            "SEVILLA",
            "SEVILLA",
            "SEVILLA",
            "SEVILLA",
            "SEVILLA",
            "SEVILLA",
            "SEVILLA",
            "SEVILLA",
            "MADRID",
            "MADRID",
            "MADRID",
            "MADRID",
            "SEVILLA",
            "SEVILLA",
            "SEVILLA",
            "SEVILLA",
            "MADRID",
            "MADRID",
            "MADRID",
            "MADRID",
            "MADRID",
            "MADRID",
            "MADRID",
            "MADRID",
            "SEVILLA",
            "SEVILLA",
            "SEVILLA",
            "SEVILLA",
            "MADRID",
            "MADRID",
            "MADRID",
            "MADRID",
            "SEVILLA",
            "SEVILLA",
            "SEVILLA",
            "SEVILLA",
            "MADRID",
            "MADRID",
            "MADRID",
            "MADRID",
            "SEVILLA",
            "SEVILLA",
            "SEVILLA",
            "SEVILLA"
           ],
           "yaxis": "y"
          }
         ],
         "name": "AV City"
        }
       ],
       "layout": {
        "autosize": true,
        "legend": {
         "itemsizing": "constant",
         "title": {
          "text": "train_type"
         },
         "tracegroupgap": 0
        },
        "sliders": [
         {
          "active": 4,
          "currentvalue": {
           "prefix": "train_type="
          },
          "len": 0.9,
          "pad": {
           "b": 10,
           "t": 60
          },
          "steps": [
           {
            "args": [
             [
              "ALVIA"
             ],
             {
              "frame": {
               "duration": 0,
               "redraw": false
              },
              "fromcurrent": true,
              "mode": "immediate",
              "transition": {
               "duration": 0,
               "easing": "linear"
              }
             }
            ],
            "label": "ALVIA",
            "method": "animate"
           },
           {
            "args": [
             [
              "AVE"
             ],
             {
              "frame": {
               "duration": 0,
               "redraw": false
              },
              "fromcurrent": true,
              "mode": "immediate",
              "transition": {
               "duration": 0,
               "easing": "linear"
              }
             }
            ],
            "label": "AVE",
            "method": "animate"
           },
           {
            "args": [
             [
              "AVE-MD"
             ],
             {
              "frame": {
               "duration": 0,
               "redraw": false
              },
              "fromcurrent": true,
              "mode": "immediate",
              "transition": {
               "duration": 0,
               "easing": "linear"
              }
             }
            ],
            "label": "AVE-MD",
            "method": "animate"
           },
           {
            "args": [
             [
              "AVE-LD"
             ],
             {
              "frame": {
               "duration": 0,
               "redraw": false
              },
              "fromcurrent": true,
              "mode": "immediate",
              "transition": {
               "duration": 0,
               "easing": "linear"
              }
             }
            ],
            "label": "AVE-LD",
            "method": "animate"
           },
           {
            "args": [
             [
              "AV City"
             ],
             {
              "frame": {
               "duration": 0,
               "redraw": false
              },
              "fromcurrent": true,
              "mode": "immediate",
              "transition": {
               "duration": 0,
               "easing": "linear"
              }
             }
            ],
            "label": "AV City",
            "method": "animate"
           }
          ],
          "x": 0.1,
          "xanchor": "left",
          "y": 0,
          "yanchor": "top"
         }
        ],
        "template": {
         "data": {
          "bar": [
           {
            "error_x": {
             "color": "#2a3f5f"
            },
            "error_y": {
             "color": "#2a3f5f"
            },
            "marker": {
             "line": {
              "color": "#E5ECF6",
              "width": 0.5
             },
             "pattern": {
              "fillmode": "overlay",
              "size": 10,
              "solidity": 0.2
             }
            },
            "type": "bar"
           }
          ],
          "barpolar": [
           {
            "marker": {
             "line": {
              "color": "#E5ECF6",
              "width": 0.5
             },
             "pattern": {
              "fillmode": "overlay",
              "size": 10,
              "solidity": 0.2
             }
            },
            "type": "barpolar"
           }
          ],
          "carpet": [
           {
            "aaxis": {
             "endlinecolor": "#2a3f5f",
             "gridcolor": "white",
             "linecolor": "white",
             "minorgridcolor": "white",
             "startlinecolor": "#2a3f5f"
            },
            "baxis": {
             "endlinecolor": "#2a3f5f",
             "gridcolor": "white",
             "linecolor": "white",
             "minorgridcolor": "white",
             "startlinecolor": "#2a3f5f"
            },
            "type": "carpet"
           }
          ],
          "choropleth": [
           {
            "colorbar": {
             "outlinewidth": 0,
             "ticks": ""
            },
            "type": "choropleth"
           }
          ],
          "contour": [
           {
            "colorbar": {
             "outlinewidth": 0,
             "ticks": ""
            },
            "colorscale": [
             [
              0,
              "#0d0887"
             ],
             [
              0.1111111111111111,
              "#46039f"
             ],
             [
              0.2222222222222222,
              "#7201a8"
             ],
             [
              0.3333333333333333,
              "#9c179e"
             ],
             [
              0.4444444444444444,
              "#bd3786"
             ],
             [
              0.5555555555555556,
              "#d8576b"
             ],
             [
              0.6666666666666666,
              "#ed7953"
             ],
             [
              0.7777777777777778,
              "#fb9f3a"
             ],
             [
              0.8888888888888888,
              "#fdca26"
             ],
             [
              1,
              "#f0f921"
             ]
            ],
            "type": "contour"
           }
          ],
          "contourcarpet": [
           {
            "colorbar": {
             "outlinewidth": 0,
             "ticks": ""
            },
            "type": "contourcarpet"
           }
          ],
          "heatmap": [
           {
            "colorbar": {
             "outlinewidth": 0,
             "ticks": ""
            },
            "colorscale": [
             [
              0,
              "#0d0887"
             ],
             [
              0.1111111111111111,
              "#46039f"
             ],
             [
              0.2222222222222222,
              "#7201a8"
             ],
             [
              0.3333333333333333,
              "#9c179e"
             ],
             [
              0.4444444444444444,
              "#bd3786"
             ],
             [
              0.5555555555555556,
              "#d8576b"
             ],
             [
              0.6666666666666666,
              "#ed7953"
             ],
             [
              0.7777777777777778,
              "#fb9f3a"
             ],
             [
              0.8888888888888888,
              "#fdca26"
             ],
             [
              1,
              "#f0f921"
             ]
            ],
            "type": "heatmap"
           }
          ],
          "heatmapgl": [
           {
            "colorbar": {
             "outlinewidth": 0,
             "ticks": ""
            },
            "colorscale": [
             [
              0,
              "#0d0887"
             ],
             [
              0.1111111111111111,
              "#46039f"
             ],
             [
              0.2222222222222222,
              "#7201a8"
             ],
             [
              0.3333333333333333,
              "#9c179e"
             ],
             [
              0.4444444444444444,
              "#bd3786"
             ],
             [
              0.5555555555555556,
              "#d8576b"
             ],
             [
              0.6666666666666666,
              "#ed7953"
             ],
             [
              0.7777777777777778,
              "#fb9f3a"
             ],
             [
              0.8888888888888888,
              "#fdca26"
             ],
             [
              1,
              "#f0f921"
             ]
            ],
            "type": "heatmapgl"
           }
          ],
          "histogram": [
           {
            "marker": {
             "pattern": {
              "fillmode": "overlay",
              "size": 10,
              "solidity": 0.2
             }
            },
            "type": "histogram"
           }
          ],
          "histogram2d": [
           {
            "colorbar": {
             "outlinewidth": 0,
             "ticks": ""
            },
            "colorscale": [
             [
              0,
              "#0d0887"
             ],
             [
              0.1111111111111111,
              "#46039f"
             ],
             [
              0.2222222222222222,
              "#7201a8"
             ],
             [
              0.3333333333333333,
              "#9c179e"
             ],
             [
              0.4444444444444444,
              "#bd3786"
             ],
             [
              0.5555555555555556,
              "#d8576b"
             ],
             [
              0.6666666666666666,
              "#ed7953"
             ],
             [
              0.7777777777777778,
              "#fb9f3a"
             ],
             [
              0.8888888888888888,
              "#fdca26"
             ],
             [
              1,
              "#f0f921"
             ]
            ],
            "type": "histogram2d"
           }
          ],
          "histogram2dcontour": [
           {
            "colorbar": {
             "outlinewidth": 0,
             "ticks": ""
            },
            "colorscale": [
             [
              0,
              "#0d0887"
             ],
             [
              0.1111111111111111,
              "#46039f"
             ],
             [
              0.2222222222222222,
              "#7201a8"
             ],
             [
              0.3333333333333333,
              "#9c179e"
             ],
             [
              0.4444444444444444,
              "#bd3786"
             ],
             [
              0.5555555555555556,
              "#d8576b"
             ],
             [
              0.6666666666666666,
              "#ed7953"
             ],
             [
              0.7777777777777778,
              "#fb9f3a"
             ],
             [
              0.8888888888888888,
              "#fdca26"
             ],
             [
              1,
              "#f0f921"
             ]
            ],
            "type": "histogram2dcontour"
           }
          ],
          "mesh3d": [
           {
            "colorbar": {
             "outlinewidth": 0,
             "ticks": ""
            },
            "type": "mesh3d"
           }
          ],
          "parcoords": [
           {
            "line": {
             "colorbar": {
              "outlinewidth": 0,
              "ticks": ""
             }
            },
            "type": "parcoords"
           }
          ],
          "pie": [
           {
            "automargin": true,
            "type": "pie"
           }
          ],
          "scatter": [
           {
            "fillpattern": {
             "fillmode": "overlay",
             "size": 10,
             "solidity": 0.2
            },
            "type": "scatter"
           }
          ],
          "scatter3d": [
           {
            "line": {
             "colorbar": {
              "outlinewidth": 0,
              "ticks": ""
             }
            },
            "marker": {
             "colorbar": {
              "outlinewidth": 0,
              "ticks": ""
             }
            },
            "type": "scatter3d"
           }
          ],
          "scattercarpet": [
           {
            "marker": {
             "colorbar": {
              "outlinewidth": 0,
              "ticks": ""
             }
            },
            "type": "scattercarpet"
           }
          ],
          "scattergeo": [
           {
            "marker": {
             "colorbar": {
              "outlinewidth": 0,
              "ticks": ""
             }
            },
            "type": "scattergeo"
           }
          ],
          "scattergl": [
           {
            "marker": {
             "colorbar": {
              "outlinewidth": 0,
              "ticks": ""
             }
            },
            "type": "scattergl"
           }
          ],
          "scattermapbox": [
           {
            "marker": {
             "colorbar": {
              "outlinewidth": 0,
              "ticks": ""
             }
            },
            "type": "scattermapbox"
           }
          ],
          "scatterpolar": [
           {
            "marker": {
             "colorbar": {
              "outlinewidth": 0,
              "ticks": ""
             }
            },
            "type": "scatterpolar"
           }
          ],
          "scatterpolargl": [
           {
            "marker": {
             "colorbar": {
              "outlinewidth": 0,
              "ticks": ""
             }
            },
            "type": "scatterpolargl"
           }
          ],
          "scatterternary": [
           {
            "marker": {
             "colorbar": {
              "outlinewidth": 0,
              "ticks": ""
             }
            },
            "type": "scatterternary"
           }
          ],
          "surface": [
           {
            "colorbar": {
             "outlinewidth": 0,
             "ticks": ""
            },
            "colorscale": [
             [
              0,
              "#0d0887"
             ],
             [
              0.1111111111111111,
              "#46039f"
             ],
             [
              0.2222222222222222,
              "#7201a8"
             ],
             [
              0.3333333333333333,
              "#9c179e"
             ],
             [
              0.4444444444444444,
              "#bd3786"
             ],
             [
              0.5555555555555556,
              "#d8576b"
             ],
             [
              0.6666666666666666,
              "#ed7953"
             ],
             [
              0.7777777777777778,
              "#fb9f3a"
             ],
             [
              0.8888888888888888,
              "#fdca26"
             ],
             [
              1,
              "#f0f921"
             ]
            ],
            "type": "surface"
           }
          ],
          "table": [
           {
            "cells": {
             "fill": {
              "color": "#EBF0F8"
             },
             "line": {
              "color": "white"
             }
            },
            "header": {
             "fill": {
              "color": "#C8D4E3"
             },
             "line": {
              "color": "white"
             }
            },
            "type": "table"
           }
          ]
         },
         "layout": {
          "annotationdefaults": {
           "arrowcolor": "#2a3f5f",
           "arrowhead": 0,
           "arrowwidth": 1
          },
          "autotypenumbers": "strict",
          "coloraxis": {
           "colorbar": {
            "outlinewidth": 0,
            "ticks": ""
           }
          },
          "colorscale": {
           "diverging": [
            [
             0,
             "#8e0152"
            ],
            [
             0.1,
             "#c51b7d"
            ],
            [
             0.2,
             "#de77ae"
            ],
            [
             0.3,
             "#f1b6da"
            ],
            [
             0.4,
             "#fde0ef"
            ],
            [
             0.5,
             "#f7f7f7"
            ],
            [
             0.6,
             "#e6f5d0"
            ],
            [
             0.7,
             "#b8e186"
            ],
            [
             0.8,
             "#7fbc41"
            ],
            [
             0.9,
             "#4d9221"
            ],
            [
             1,
             "#276419"
            ]
           ],
           "sequential": [
            [
             0,
             "#0d0887"
            ],
            [
             0.1111111111111111,
             "#46039f"
            ],
            [
             0.2222222222222222,
             "#7201a8"
            ],
            [
             0.3333333333333333,
             "#9c179e"
            ],
            [
             0.4444444444444444,
             "#bd3786"
            ],
            [
             0.5555555555555556,
             "#d8576b"
            ],
            [
             0.6666666666666666,
             "#ed7953"
            ],
            [
             0.7777777777777778,
             "#fb9f3a"
            ],
            [
             0.8888888888888888,
             "#fdca26"
            ],
            [
             1,
             "#f0f921"
            ]
           ],
           "sequentialminus": [
            [
             0,
             "#0d0887"
            ],
            [
             0.1111111111111111,
             "#46039f"
            ],
            [
             0.2222222222222222,
             "#7201a8"
            ],
            [
             0.3333333333333333,
             "#9c179e"
            ],
            [
             0.4444444444444444,
             "#bd3786"
            ],
            [
             0.5555555555555556,
             "#d8576b"
            ],
            [
             0.6666666666666666,
             "#ed7953"
            ],
            [
             0.7777777777777778,
             "#fb9f3a"
            ],
            [
             0.8888888888888888,
             "#fdca26"
            ],
            [
             1,
             "#f0f921"
            ]
           ]
          },
          "colorway": [
           "#636efa",
           "#EF553B",
           "#00cc96",
           "#ab63fa",
           "#FFA15A",
           "#19d3f3",
           "#FF6692",
           "#B6E880",
           "#FF97FF",
           "#FECB52"
          ],
          "font": {
           "color": "#2a3f5f"
          },
          "geo": {
           "bgcolor": "white",
           "lakecolor": "white",
           "landcolor": "#E5ECF6",
           "showlakes": true,
           "showland": true,
           "subunitcolor": "white"
          },
          "hoverlabel": {
           "align": "left"
          },
          "hovermode": "closest",
          "mapbox": {
           "style": "light"
          },
          "paper_bgcolor": "white",
          "plot_bgcolor": "#E5ECF6",
          "polar": {
           "angularaxis": {
            "gridcolor": "white",
            "linecolor": "white",
            "ticks": ""
           },
           "bgcolor": "#E5ECF6",
           "radialaxis": {
            "gridcolor": "white",
            "linecolor": "white",
            "ticks": ""
           }
          },
          "scene": {
           "xaxis": {
            "backgroundcolor": "#E5ECF6",
            "gridcolor": "white",
            "gridwidth": 2,
            "linecolor": "white",
            "showbackground": true,
            "ticks": "",
            "zerolinecolor": "white"
           },
           "yaxis": {
            "backgroundcolor": "#E5ECF6",
            "gridcolor": "white",
            "gridwidth": 2,
            "linecolor": "white",
            "showbackground": true,
            "ticks": "",
            "zerolinecolor": "white"
           },
           "zaxis": {
            "backgroundcolor": "#E5ECF6",
            "gridcolor": "white",
            "gridwidth": 2,
            "linecolor": "white",
            "showbackground": true,
            "ticks": "",
            "zerolinecolor": "white"
           }
          },
          "shapedefaults": {
           "line": {
            "color": "#2a3f5f"
           }
          },
          "ternary": {
           "aaxis": {
            "gridcolor": "white",
            "linecolor": "white",
            "ticks": ""
           },
           "baxis": {
            "gridcolor": "white",
            "linecolor": "white",
            "ticks": ""
           },
           "bgcolor": "#E5ECF6",
           "caxis": {
            "gridcolor": "white",
            "linecolor": "white",
            "ticks": ""
           }
          },
          "title": {
           "x": 0.05
          },
          "xaxis": {
           "automargin": true,
           "gridcolor": "white",
           "linecolor": "white",
           "ticks": "",
           "title": {
            "standoff": 15
           },
           "zerolinecolor": "white",
           "zerolinewidth": 2
          },
          "yaxis": {
           "automargin": true,
           "gridcolor": "white",
           "linecolor": "white",
           "ticks": "",
           "title": {
            "standoff": 15
           },
           "zerolinecolor": "white",
           "zerolinewidth": 2
          }
         }
        },
        "title": {
         "text": "Animated Graph - Train Types"
        },
        "updatemenus": [
         {
          "active": 0,
          "buttons": [
           {
            "args": [
             null,
             {
              "frame": {
               "duration": 1000,
               "redraw": true
              },
              "fromcurrent": true
             }
            ],
            "label": "Play",
            "method": "animate"
           },
           {
            "args": [
             [
              null
             ],
             {
              "frame": {
               "duration": 0,
               "redraw": true
              },
              "mode": "immediate",
              "transition": {
               "duration": 0
              }
             }
            ],
            "label": "Pause",
            "method": "animate"
           }
          ],
          "direction": "left",
          "pad": {
           "r": 10,
           "t": 70
          },
          "showactive": false,
          "type": "buttons",
          "x": 0.1,
          "xanchor": "right",
          "y": 0,
          "yanchor": "top"
         }
        ],
        "xaxis": {
         "anchor": "y",
         "autorange": true,
         "domain": [
          0,
          1
         ],
         "range": [
          -0.13456536523737944,
          2.136577370754351
         ],
         "title": {
          "text": "origin"
         },
         "type": "category"
        },
        "yaxis": {
         "anchor": "x",
         "autorange": true,
         "domain": [
          0,
          1
         ],
         "range": [
          -0.3843986964106121,
          2.2025640653040743
         ],
         "title": {
          "text": "destination"
         },
         "type": "category"
        }
       }
      },
      "image/png": "[encoded data removed]",
      "text/html": [
       "<div>                            <div id=\"9f8b24b6-4e05-4e73-a2e9-cfab25d783ca\" class=\"plotly-graph-div\" style=\"height:525px; width:100%;\"></div>            <script type=\"text/javascript\">                require([\"plotly\"], function(Plotly) {                    window.PLOTLYENV=window.PLOTLYENV || {};                                    if (document.getElementById(\"9f8b24b6-4e05-4e73-a2e9-cfab25d783ca\")) {                    Plotly.newPlot(                        \"9f8b24b6-4e05-4e73-a2e9-cfab25d783ca\",                        [{\"customdata\":[[\"Turista\",\"Promo\"],[\"Turista\",\"Flexible\"],[\"Turista\",\"Flexible\"],[\"Turista\",\"Flexible\"],[\"Turista\",\"Promo\"],[\"Turista\",\"Promo\"],[\"Turista\",\"Promo\"],[\"Turista\",\"Promo\"],[\"Turista\",\"Flexible\"],[\"Turista\",\"Flexible\"],[\"Turista\",\"Flexible\"],[\"Turista\",\"Flexible\"],[\"Turista\",\"Promo\"],[\"Turista\",\"Promo\"],[\"Turista\",\"Flexible\"],[\"Turista\",\"Promo\"],[\"Turista\",\"Promo\"],[\"Turista\",\"Flexible\"],[\"Turista\",\"Promo\"],[\"Turista\",\"Flexible\"],[\"Turista\",\"Flexible\"],[\"Turista\",\"Flexible\"],[\"Turista\",\"Promo\"],[\"Turista\",\"Promo\"],[\"Turista\",\"Promo\"],[\"Turista\",\"Flexible\"],[\"Turista\",\"Flexible\"],[\"Turista\",\"Flexible\"],[\"Turista\",\"Flexible\"],[\"Turista\",\"Promo\"],[\"Turista\",\"Promo\"],[\"Turista\",\"Promo\"],[\"Turista\",\"Promo\"],[\"Turista\",\"Flexible\"],[\"Turista\",\"Flexible\"],[\"Turista\",\"Flexible\"],[\"Turista\",\"Promo\"],[\"Turista\",\"Promo\"],[\"Turista\",\"Promo\"],[\"Turista\",\"Flexible\"],[\"Turista\",\"Promo\"],[\"Turista\",\"Promo\"],[\"Turista\",\"Promo\"],[\"Turista\",\"Promo\"],[\"Turista\",\"Promo\"],[\"Turista\",\"Flexible\"],[\"Turista\",\"Flexible\"],[\"Turista\",\"Flexible\"],[\"Turista\",\"Flexible\"],[\"Turista\",\"Flexible\"],[\"Turista\",\"Flexible\"],[\"Turista\",\"Flexible\"],[\"Turista\",\"Promo\"],[\"Turista\",\"Promo\"],[\"Turista\",\"Promo\"],[\"Turista\",\"Flexible\"],[\"Turista\",\"Promo\"]],\"hovertemplate\":\"train_type=ALVIA\\u003cbr\\u003eorigin=%{x}\\u003cbr\\u003edestination=%{y}\\u003cbr\\u003eprice=%{marker.size}\\u003cbr\\u003etrain_class=%{customdata[0]}\\u003cbr\\u003efare=%{customdata[1]}\\u003cextra\\u003e\\u003c\\u002fextra\\u003e\",\"legendgroup\":\"ALVIA\",\"marker\":{\"color\":\"#636efa\",\"size\":[27.9,0.0,0.0,0.0,0.0,47.05,33.5,27.9,0.0,0.0,0.0,0.0,0.0,47.05,0.0,27.9,33.5,0.0,33.5,0.0,0.0,0.0,0.0,47.05,27.9,0.0,0.0,0.0,0.0,0.0,47.05,27.9,33.5,0.0,0.0,0.0,0.0,47.05,27.9,0.0,33.5,27.9,33.5,0.0,47.05,0.0,0.0,0.0,0.0,0.0,0.0,0.0,0.0,47.05,27.9,0.0,33.5],\"sizemode\":\"area\",\"sizeref\":0.26925,\"symbol\":\"circle\"},\"mode\":\"markers\",\"name\":\"ALVIA\",\"orientation\":\"v\",\"showlegend\":true,\"x\":[\"PONFERRADA\",\"SEVILLA\",\"SEVILLA\",\"SEVILLA\",\"SEVILLA\",\"SEVILLA\",\"MADRID\",\"PONFERRADA\",\"MADRID\",\"SEVILLA\",\"SEVILLA\",\"SEVILLA\",\"SEVILLA\",\"SEVILLA\",\"MADRID\",\"PONFERRADA\",\"MADRID\",\"MADRID\",\"MADRID\",\"SEVILLA\",\"SEVILLA\",\"SEVILLA\",\"SEVILLA\",\"SEVILLA\",\"PONFERRADA\",\"MADRID\",\"SEVILLA\",\"SEVILLA\",\"SEVILLA\",\"SEVILLA\",\"SEVILLA\",\"PONFERRADA\",\"MADRID\",\"SEVILLA\",\"SEVILLA\",\"SEVILLA\",\"SEVILLA\",\"SEVILLA\",\"PONFERRADA\",\"MADRID\",\"MADRID\",\"PONFERRADA\",\"MADRID\",\"SEVILLA\",\"SEVILLA\",\"SEVILLA\",\"SEVILLA\",\"SEVILLA\",\"MADRID\",\"SEVILLA\",\"SEVILLA\",\"SEVILLA\",\"SEVILLA\",\"SEVILLA\",\"PONFERRADA\",\"MADRID\",\"MADRID\"],\"xaxis\":\"x\",\"y\":[\"MADRID\",\"MADRID\",\"MADRID\",\"MADRID\",\"MADRID\",\"MADRID\",\"PONFERRADA\",\"MADRID\",\"SEVILLA\",\"MADRID\",\"MADRID\",\"MADRID\",\"MADRID\",\"MADRID\",\"SEVILLA\",\"MADRID\",\"PONFERRADA\",\"SEVILLA\",\"PONFERRADA\",\"MADRID\",\"MADRID\",\"MADRID\",\"MADRID\",\"MADRID\",\"MADRID\",\"SEVILLA\",\"MADRID\",\"MADRID\",\"MADRID\",\"MADRID\",\"MADRID\",\"MADRID\",\"PONFERRADA\",\"MADRID\",\"MADRID\",\"MADRID\",\"MADRID\",\"MADRID\",\"MADRID\",\"SEVILLA\",\"PONFERRADA\",\"MADRID\",\"PONFERRADA\",\"MADRID\",\"MADRID\",\"MADRID\",\"MADRID\",\"MADRID\",\"SEVILLA\",\"MADRID\",\"MADRID\",\"MADRID\",\"MADRID\",\"MADRID\",\"MADRID\",\"SEVILLA\",\"PONFERRADA\"],\"yaxis\":\"y\",\"type\":\"scatter\"}],                        {\"template\":{\"data\":{\"histogram2dcontour\":[{\"type\":\"histogram2dcontour\",\"colorbar\":{\"outlinewidth\":0,\"ticks\":\"\"},\"colorscale\":[[0.0,\"#0d0887\"],[0.1111111111111111,\"#46039f\"],[0.2222222222222222,\"#7201a8\"],[0.3333333333333333,\"#9c179e\"],[0.4444444444444444,\"#bd3786\"],[0.5555555555555556,\"#d8576b\"],[0.6666666666666666,\"#ed7953\"],[0.7777777777777778,\"#fb9f3a\"],[0.8888888888888888,\"#fdca26\"],[1.0,\"#f0f921\"]]}],\"choropleth\":[{\"type\":\"choropleth\",\"colorbar\":{\"outlinewidth\":0,\"ticks\":\"\"}}],\"histogram2d\":[{\"type\":\"histogram2d\",\"colorbar\":{\"outlinewidth\":0,\"ticks\":\"\"},\"colorscale\":[[0.0,\"#0d0887\"],[0.1111111111111111,\"#46039f\"],[0.2222222222222222,\"#7201a8\"],[0.3333333333333333,\"#9c179e\"],[0.4444444444444444,\"#bd3786\"],[0.5555555555555556,\"#d8576b\"],[0.6666666666666666,\"#ed7953\"],[0.7777777777777778,\"#fb9f3a\"],[0.8888888888888888,\"#fdca26\"],[1.0,\"#f0f921\"]]}],\"heatmap\":[{\"type\":\"heatmap\",\"colorbar\":{\"outlinewidth\":0,\"ticks\":\"\"},\"colorscale\":[[0.0,\"#0d0887\"],[0.1111111111111111,\"#46039f\"],[0.2222222222222222,\"#7201a8\"],[0.3333333333333333,\"#9c179e\"],[0.4444444444444444,\"#bd3786\"],[0.5555555555555556,\"#d8576b\"],[0.6666666666666666,\"#ed7953\"],[0.7777777777777778,\"#fb9f3a\"],[0.8888888888888888,\"#fdca26\"],[1.0,\"#f0f921\"]]}],\"heatmapgl\":[{\"type\":\"heatmapgl\",\"colorbar\":{\"outlinewidth\":0,\"ticks\":\"\"},\"colorscale\":[[0.0,\"#0d0887\"],[0.1111111111111111,\"#46039f\"],[0.2222222222222222,\"#7201a8\"],[0.3333333333333333,\"#9c179e\"],[0.4444444444444444,\"#bd3786\"],[0.5555555555555556,\"#d8576b\"],[0.6666666666666666,\"#ed7953\"],[0.7777777777777778,\"#fb9f3a\"],[0.8888888888888888,\"#fdca26\"],[1.0,\"#f0f921\"]]}],\"contourcarpet\":[{\"type\":\"contourcarpet\",\"colorbar\":{\"outlinewidth\":0,\"ticks\":\"\"}}],\"contour\":[{\"type\":\"contour\",\"colorbar\":{\"outlinewidth\":0,\"ticks\":\"\"},\"colorscale\":[[0.0,\"#0d0887\"],[0.1111111111111111,\"#46039f\"],[0.2222222222222222,\"#7201a8\"],[0.3333333333333333,\"#9c179e\"],[0.4444444444444444,\"#bd3786\"],[0.5555555555555556,\"#d8576b\"],[0.6666666666666666,\"#ed7953\"],[0.7777777777777778,\"#fb9f3a\"],[0.8888888888888888,\"#fdca26\"],[1.0,\"#f0f921\"]]}],\"surface\":[{\"type\":\"surface\",\"colorbar\":{\"outlinewidth\":0,\"ticks\":\"\"},\"colorscale\":[[0.0,\"#0d0887\"],[0.1111111111111111,\"#46039f\"],[0.2222222222222222,\"#7201a8\"],[0.3333333333333333,\"#9c179e\"],[0.4444444444444444,\"#bd3786\"],[0.5555555555555556,\"#d8576b\"],[0.6666666666666666,\"#ed7953\"],[0.7777777777777778,\"#fb9f3a\"],[0.8888888888888888,\"#fdca26\"],[1.0,\"#f0f921\"]]}],\"mesh3d\":[{\"type\":\"mesh3d\",\"colorbar\":{\"outlinewidth\":0,\"ticks\":\"\"}}],\"scatter\":[{\"fillpattern\":{\"fillmode\":\"overlay\",\"size\":10,\"solidity\":0.2},\"type\":\"scatter\"}],\"parcoords\":[{\"type\":\"parcoords\",\"line\":{\"colorbar\":{\"outlinewidth\":0,\"ticks\":\"\"}}}],\"scatterpolargl\":[{\"type\":\"scatterpolargl\",\"marker\":{\"colorbar\":{\"outlinewidth\":0,\"ticks\":\"\"}}}],\"bar\":[{\"error_x\":{\"color\":\"#2a3f5f\"},\"error_y\":{\"color\":\"#2a3f5f\"},\"marker\":{\"line\":{\"color\":\"#E5ECF6\",\"width\":0.5},\"pattern\":{\"fillmode\":\"overlay\",\"size\":10,\"solidity\":0.2}},\"type\":\"bar\"}],\"scattergeo\":[{\"type\":\"scattergeo\",\"marker\":{\"colorbar\":{\"outlinewidth\":0,\"ticks\":\"\"}}}],\"scatterpolar\":[{\"type\":\"scatterpolar\",\"marker\":{\"colorbar\":{\"outlinewidth\":0,\"ticks\":\"\"}}}],\"histogram\":[{\"marker\":{\"pattern\":{\"fillmode\":\"overlay\",\"size\":10,\"solidity\":0.2}},\"type\":\"histogram\"}],\"scattergl\":[{\"type\":\"scattergl\",\"marker\":{\"colorbar\":{\"outlinewidth\":0,\"ticks\":\"\"}}}],\"scatter3d\":[{\"type\":\"scatter3d\",\"line\":{\"colorbar\":{\"outlinewidth\":0,\"ticks\":\"\"}},\"marker\":{\"colorbar\":{\"outlinewidth\":0,\"ticks\":\"\"}}}],\"scattermapbox\":[{\"type\":\"scattermapbox\",\"marker\":{\"colorbar\":{\"outlinewidth\":0,\"ticks\":\"\"}}}],\"scatterternary\":[{\"type\":\"scatterternary\",\"marker\":{\"colorbar\":{\"outlinewidth\":0,\"ticks\":\"\"}}}],\"scattercarpet\":[{\"type\":\"scattercarpet\",\"marker\":{\"colorbar\":{\"outlinewidth\":0,\"ticks\":\"\"}}}],\"carpet\":[{\"aaxis\":{\"endlinecolor\":\"#2a3f5f\",\"gridcolor\":\"white\",\"linecolor\":\"white\",\"minorgridcolor\":\"white\",\"startlinecolor\":\"#2a3f5f\"},\"baxis\":{\"endlinecolor\":\"#2a3f5f\",\"gridcolor\":\"white\",\"linecolor\":\"white\",\"minorgridcolor\":\"white\",\"startlinecolor\":\"#2a3f5f\"},\"type\":\"carpet\"}],\"table\":[{\"cells\":{\"fill\":{\"color\":\"#EBF0F8\"},\"line\":{\"color\":\"white\"}},\"header\":{\"fill\":{\"color\":\"#C8D4E3\"},\"line\":{\"color\":\"white\"}},\"type\":\"table\"}],\"barpolar\":[{\"marker\":{\"line\":{\"color\":\"#E5ECF6\",\"width\":0.5},\"pattern\":{\"fillmode\":\"overlay\",\"size\":10,\"solidity\":0.2}},\"type\":\"barpolar\"}],\"pie\":[{\"automargin\":true,\"type\":\"pie\"}]},\"layout\":{\"autotypenumbers\":\"strict\",\"colorway\":[\"#636efa\",\"#EF553B\",\"#00cc96\",\"#ab63fa\",\"#FFA15A\",\"#19d3f3\",\"#FF6692\",\"#B6E880\",\"#FF97FF\",\"#FECB52\"],\"font\":{\"color\":\"#2a3f5f\"},\"hovermode\":\"closest\",\"hoverlabel\":{\"align\":\"left\"},\"paper_bgcolor\":\"white\",\"plot_bgcolor\":\"#E5ECF6\",\"polar\":{\"bgcolor\":\"#E5ECF6\",\"angularaxis\":{\"gridcolor\":\"white\",\"linecolor\":\"white\",\"ticks\":\"\"},\"radialaxis\":{\"gridcolor\":\"white\",\"linecolor\":\"white\",\"ticks\":\"\"}},\"ternary\":{\"bgcolor\":\"#E5ECF6\",\"aaxis\":{\"gridcolor\":\"white\",\"linecolor\":\"white\",\"ticks\":\"\"},\"baxis\":{\"gridcolor\":\"white\",\"linecolor\":\"white\",\"ticks\":\"\"},\"caxis\":{\"gridcolor\":\"white\",\"linecolor\":\"white\",\"ticks\":\"\"}},\"coloraxis\":{\"colorbar\":{\"outlinewidth\":0,\"ticks\":\"\"}},\"colorscale\":{\"sequential\":[[0.0,\"#0d0887\"],[0.1111111111111111,\"#46039f\"],[0.2222222222222222,\"#7201a8\"],[0.3333333333333333,\"#9c179e\"],[0.4444444444444444,\"#bd3786\"],[0.5555555555555556,\"#d8576b\"],[0.6666666666666666,\"#ed7953\"],[0.7777777777777778,\"#fb9f3a\"],[0.8888888888888888,\"#fdca26\"],[1.0,\"#f0f921\"]],\"sequentialminus\":[[0.0,\"#0d0887\"],[0.1111111111111111,\"#46039f\"],[0.2222222222222222,\"#7201a8\"],[0.3333333333333333,\"#9c179e\"],[0.4444444444444444,\"#bd3786\"],[0.5555555555555556,\"#d8576b\"],[0.6666666666666666,\"#ed7953\"],[0.7777777777777778,\"#fb9f3a\"],[0.8888888888888888,\"#fdca26\"],[1.0,\"#f0f921\"]],\"diverging\":[[0,\"#8e0152\"],[0.1,\"#c51b7d\"],[0.2,\"#de77ae\"],[0.3,\"#f1b6da\"],[0.4,\"#fde0ef\"],[0.5,\"#f7f7f7\"],[0.6,\"#e6f5d0\"],[0.7,\"#b8e186\"],[0.8,\"#7fbc41\"],[0.9,\"#4d9221\"],[1,\"#276419\"]]},\"xaxis\":{\"gridcolor\":\"white\",\"linecolor\":\"white\",\"ticks\":\"\",\"title\":{\"standoff\":15},\"zerolinecolor\":\"white\",\"automargin\":true,\"zerolinewidth\":2},\"yaxis\":{\"gridcolor\":\"white\",\"linecolor\":\"white\",\"ticks\":\"\",\"title\":{\"standoff\":15},\"zerolinecolor\":\"white\",\"automargin\":true,\"zerolinewidth\":2},\"scene\":{\"xaxis\":{\"backgroundcolor\":\"#E5ECF6\",\"gridcolor\":\"white\",\"linecolor\":\"white\",\"showbackground\":true,\"ticks\":\"\",\"zerolinecolor\":\"white\",\"gridwidth\":2},\"yaxis\":{\"backgroundcolor\":\"#E5ECF6\",\"gridcolor\":\"white\",\"linecolor\":\"white\",\"showbackground\":true,\"ticks\":\"\",\"zerolinecolor\":\"white\",\"gridwidth\":2},\"zaxis\":{\"backgroundcolor\":\"#E5ECF6\",\"gridcolor\":\"white\",\"linecolor\":\"white\",\"showbackground\":true,\"ticks\":\"\",\"zerolinecolor\":\"white\",\"gridwidth\":2}},\"shapedefaults\":{\"line\":{\"color\":\"#2a3f5f\"}},\"annotationdefaults\":{\"arrowcolor\":\"#2a3f5f\",\"arrowhead\":0,\"arrowwidth\":1},\"geo\":{\"bgcolor\":\"white\",\"landcolor\":\"#E5ECF6\",\"subunitcolor\":\"white\",\"showland\":true,\"showlakes\":true,\"lakecolor\":\"white\"},\"title\":{\"x\":0.05},\"mapbox\":{\"style\":\"light\"}}},\"xaxis\":{\"anchor\":\"y\",\"domain\":[0.0,1.0],\"title\":{\"text\":\"origin\"}},\"yaxis\":{\"anchor\":\"x\",\"domain\":[0.0,1.0],\"title\":{\"text\":\"destination\"}},\"legend\":{\"title\":{\"text\":\"train_type\"},\"tracegroupgap\":0,\"itemsizing\":\"constant\"},\"title\":{\"text\":\"Animated Graph - Train Types\"},\"updatemenus\":[{\"buttons\":[{\"args\":[null,{\"frame\":{\"duration\":1000,\"redraw\":true},\"fromcurrent\":true}],\"label\":\"Play\",\"method\":\"animate\"},{\"args\":[[null],{\"frame\":{\"duration\":0,\"redraw\":true},\"mode\":\"immediate\",\"transition\":{\"duration\":0}}],\"label\":\"Pause\",\"method\":\"animate\"}],\"direction\":\"left\",\"pad\":{\"r\":10,\"t\":70},\"showactive\":false,\"type\":\"buttons\",\"x\":0.1,\"xanchor\":\"right\",\"y\":0,\"yanchor\":\"top\"}],\"sliders\":[{\"active\":0,\"currentvalue\":{\"prefix\":\"train_type=\"},\"len\":0.9,\"pad\":{\"b\":10,\"t\":60},\"steps\":[{\"args\":[[\"ALVIA\"],{\"frame\":{\"duration\":0,\"redraw\":false},\"mode\":\"immediate\",\"fromcurrent\":true,\"transition\":{\"duration\":0,\"easing\":\"linear\"}}],\"label\":\"ALVIA\",\"method\":\"animate\"},{\"args\":[[\"AVE\"],{\"frame\":{\"duration\":0,\"redraw\":false},\"mode\":\"immediate\",\"fromcurrent\":true,\"transition\":{\"duration\":0,\"easing\":\"linear\"}}],\"label\":\"AVE\",\"method\":\"animate\"},{\"args\":[[\"AVE-MD\"],{\"frame\":{\"duration\":0,\"redraw\":false},\"mode\":\"immediate\",\"fromcurrent\":true,\"transition\":{\"duration\":0,\"easing\":\"linear\"}}],\"label\":\"AVE-MD\",\"method\":\"animate\"},{\"args\":[[\"AVE-LD\"],{\"frame\":{\"duration\":0,\"redraw\":false},\"mode\":\"immediate\",\"fromcurrent\":true,\"transition\":{\"duration\":0,\"easing\":\"linear\"}}],\"label\":\"AVE-LD\",\"method\":\"animate\"},{\"args\":[[\"AV City\"],{\"frame\":{\"duration\":0,\"redraw\":false},\"mode\":\"immediate\",\"fromcurrent\":true,\"transition\":{\"duration\":0,\"easing\":\"linear\"}}],\"label\":\"AV City\",\"method\":\"animate\"}],\"x\":0.1,\"xanchor\":\"left\",\"y\":0,\"yanchor\":\"top\"}]},                        {\"responsive\": true}                    ).then(function(){\n",
       "                            Plotly.addFrames('9f8b24b6-4e05-4e73-a2e9-cfab25d783ca', [{\"data\":[{\"customdata\":[[\"Turista\",\"Promo\"],[\"Turista\",\"Flexible\"],[\"Turista\",\"Flexible\"],[\"Turista\",\"Flexible\"],[\"Turista\",\"Promo\"],[\"Turista\",\"Promo\"],[\"Turista\",\"Promo\"],[\"Turista\",\"Promo\"],[\"Turista\",\"Flexible\"],[\"Turista\",\"Flexible\"],[\"Turista\",\"Flexible\"],[\"Turista\",\"Flexible\"],[\"Turista\",\"Promo\"],[\"Turista\",\"Promo\"],[\"Turista\",\"Flexible\"],[\"Turista\",\"Promo\"],[\"Turista\",\"Promo\"],[\"Turista\",\"Flexible\"],[\"Turista\",\"Promo\"],[\"Turista\",\"Flexible\"],[\"Turista\",\"Flexible\"],[\"Turista\",\"Flexible\"],[\"Turista\",\"Promo\"],[\"Turista\",\"Promo\"],[\"Turista\",\"Promo\"],[\"Turista\",\"Flexible\"],[\"Turista\",\"Flexible\"],[\"Turista\",\"Flexible\"],[\"Turista\",\"Flexible\"],[\"Turista\",\"Promo\"],[\"Turista\",\"Promo\"],[\"Turista\",\"Promo\"],[\"Turista\",\"Promo\"],[\"Turista\",\"Flexible\"],[\"Turista\",\"Flexible\"],[\"Turista\",\"Flexible\"],[\"Turista\",\"Promo\"],[\"Turista\",\"Promo\"],[\"Turista\",\"Promo\"],[\"Turista\",\"Flexible\"],[\"Turista\",\"Promo\"],[\"Turista\",\"Promo\"],[\"Turista\",\"Promo\"],[\"Turista\",\"Promo\"],[\"Turista\",\"Promo\"],[\"Turista\",\"Flexible\"],[\"Turista\",\"Flexible\"],[\"Turista\",\"Flexible\"],[\"Turista\",\"Flexible\"],[\"Turista\",\"Flexible\"],[\"Turista\",\"Flexible\"],[\"Turista\",\"Flexible\"],[\"Turista\",\"Promo\"],[\"Turista\",\"Promo\"],[\"Turista\",\"Promo\"],[\"Turista\",\"Flexible\"],[\"Turista\",\"Promo\"]],\"hovertemplate\":\"train_type=ALVIA\\u003cbr\\u003eorigin=%{x}\\u003cbr\\u003edestination=%{y}\\u003cbr\\u003eprice=%{marker.size}\\u003cbr\\u003etrain_class=%{customdata[0]}\\u003cbr\\u003efare=%{customdata[1]}\\u003cextra\\u003e\\u003c\\u002fextra\\u003e\",\"legendgroup\":\"ALVIA\",\"marker\":{\"color\":\"#636efa\",\"size\":[27.9,0.0,0.0,0.0,0.0,47.05,33.5,27.9,0.0,0.0,0.0,0.0,0.0,47.05,0.0,27.9,33.5,0.0,33.5,0.0,0.0,0.0,0.0,47.05,27.9,0.0,0.0,0.0,0.0,0.0,47.05,27.9,33.5,0.0,0.0,0.0,0.0,47.05,27.9,0.0,33.5,27.9,33.5,0.0,47.05,0.0,0.0,0.0,0.0,0.0,0.0,0.0,0.0,47.05,27.9,0.0,33.5],\"sizemode\":\"area\",\"sizeref\":0.26925,\"symbol\":\"circle\"},\"mode\":\"markers\",\"name\":\"ALVIA\",\"orientation\":\"v\",\"showlegend\":true,\"x\":[\"PONFERRADA\",\"SEVILLA\",\"SEVILLA\",\"SEVILLA\",\"SEVILLA\",\"SEVILLA\",\"MADRID\",\"PONFERRADA\",\"MADRID\",\"SEVILLA\",\"SEVILLA\",\"SEVILLA\",\"SEVILLA\",\"SEVILLA\",\"MADRID\",\"PONFERRADA\",\"MADRID\",\"MADRID\",\"MADRID\",\"SEVILLA\",\"SEVILLA\",\"SEVILLA\",\"SEVILLA\",\"SEVILLA\",\"PONFERRADA\",\"MADRID\",\"SEVILLA\",\"SEVILLA\",\"SEVILLA\",\"SEVILLA\",\"SEVILLA\",\"PONFERRADA\",\"MADRID\",\"SEVILLA\",\"SEVILLA\",\"SEVILLA\",\"SEVILLA\",\"SEVILLA\",\"PONFERRADA\",\"MADRID\",\"MADRID\",\"PONFERRADA\",\"MADRID\",\"SEVILLA\",\"SEVILLA\",\"SEVILLA\",\"SEVILLA\",\"SEVILLA\",\"MADRID\",\"SEVILLA\",\"SEVILLA\",\"SEVILLA\",\"SEVILLA\",\"SEVILLA\",\"PONFERRADA\",\"MADRID\",\"MADRID\"],\"xaxis\":\"x\",\"y\":[\"MADRID\",\"MADRID\",\"MADRID\",\"MADRID\",\"MADRID\",\"MADRID\",\"PONFERRADA\",\"MADRID\",\"SEVILLA\",\"MADRID\",\"MADRID\",\"MADRID\",\"MADRID\",\"MADRID\",\"SEVILLA\",\"MADRID\",\"PONFERRADA\",\"SEVILLA\",\"PONFERRADA\",\"MADRID\",\"MADRID\",\"MADRID\",\"MADRID\",\"MADRID\",\"MADRID\",\"SEVILLA\",\"MADRID\",\"MADRID\",\"MADRID\",\"MADRID\",\"MADRID\",\"MADRID\",\"PONFERRADA\",\"MADRID\",\"MADRID\",\"MADRID\",\"MADRID\",\"MADRID\",\"MADRID\",\"SEVILLA\",\"PONFERRADA\",\"MADRID\",\"PONFERRADA\",\"MADRID\",\"MADRID\",\"MADRID\",\"MADRID\",\"MADRID\",\"SEVILLA\",\"MADRID\",\"MADRID\",\"MADRID\",\"MADRID\",\"MADRID\",\"MADRID\",\"SEVILLA\",\"PONFERRADA\"],\"yaxis\":\"y\",\"type\":\"scatter\"}],\"name\":\"ALVIA\"},{\"data\":[{\"customdata\":[[\"Turista\",\"Promo\"],[\"Turista\",\"Promo\"],[\"Turista\",\"Promo\"],[\"Turista\",\"Promo\"],[\"Turista\",\"Promo\"],[\"Turista\",\"Promo\"],[\"Turista\",\"Promo\"],[\"Turista\",\"Promo\"],[\"Turista\",\"Promo\"],[\"Turista\",\"Promo\"],[\"Turista\",\"Promo\"],[\"Turista\",\"Promo\"],[\"Turista\",\"Promo\"],[\"Turista\",\"Promo\"],[\"Turista\",\"Promo\"],[\"Turista\",\"Promo\"],[\"Turista\",\"Promo\"],[\"Turista\",\"Promo\"],[\"Turista\",\"Promo\"],[\"Turista\",\"Promo\"],[\"Turista\",\"Promo\"],[\"Turista\",\"Promo\"],[\"Turista\",\"Flexible\"],[\"Turista Plus\",\"Promo\"],[\"Turista\",\"Promo\"],[\"Turista Plus\",\"Promo\"],[\"Turista Plus\",\"Promo\"],[\"Turista\",\"Promo\"],[\"Turista\",\"Promo\"],[\"Turista\",\"Promo\"],[\"Turista\",\"Promo\"],[\"Turista\",\"Promo\"],[\"Turista\",\"Promo\"],[\"Turista\",\"Promo\"],[\"Turista\",\"Promo\"],[\"Turista\",\"Promo\"],[\"Turista\",\"Promo\"],[\"Turista\",\"Promo\"],[\"Turista\",\"Promo\"],[\"Turista\",\"Promo\"],[\"Turista Plus\",\"Promo\"],[\"Turista Plus\",\"Promo\"],[\"Turista Plus\",\"Promo\"],[\"Turista Plus\",\"Promo\"],[\"Turista\",\"Promo\"],[\"Turista\",\"Promo\"],[\"Turista\",\"Flexible\"],[\"Turista\",\"Flexible\"],[\"Turista\",\"Flexible\"],[\"Turista\",\"Flexible\"],[\"Turista\",\"Flexible\"],[\"Turista\",\"Flexible\"],[\"Turista\",\"Flexible\"],[\"Turista Plus\",\"Promo\"],[\"Turista Plus\",\"Promo\"],[\"Turista\",\"Promo\"],[\"Turista\",\"Flexible\"],[\"Turista\",\"Promo\"],[\"Turista\",\"Promo\"],[\"Turista\",\"Promo\"],[\"Turista\",\"Promo\"],[\"Turista\",\"Promo\"],[\"Turista\",\"Promo\"],[\"Turista\",\"Promo\"],[\"Turista\",\"Promo\"],[\"Turista\",\"Promo\"],[\"Turista\",\"Promo\"],[\"Turista\",\"Promo\"],[\"Turista\",\"Promo\"],[\"Turista\",\"Promo\"],[\"Turista\",\"Promo\"],[\"Turista\",\"Promo\"],[\"Turista\",\"Promo\"],[\"Turista\",\"Promo\"],[\"Turista\",\"Promo\"],[\"Turista\",\"Promo\"],[\"Turista\",\"Promo\"],[\"Turista\",\"Promo\"],[\"Turista\",\"Promo\"],[\"Turista\",\"Promo\"],[\"Turista\",\"Promo\"],[\"Turista\",\"Promo\"],[\"Turista\",\"Promo\"],[\"Turista\",\"Promo\"],[\"Turista\",\"Promo\"],[\"Turista\",\"Promo\"],[\"Turista\",\"Promo\"],[\"Turista\",\"Promo\"],[\"Turista\",\"Promo\"],[\"Turista\",\"Promo\"],[\"Turista\",\"Promo\"],[\"Turista\",\"Promo\"],[\"Turista\",\"Promo\"],[\"Turista\",\"Promo\"],[\"Turista\",\"Promo\"],[\"Turista\",\"Promo\"],[\"Turista\",\"Promo\"],[\"Turista\",\"Promo\"],[\"Turista\",\"Promo\"],[\"Turista\",\"Promo\"],[\"Turista\",\"Promo\"],[\"Turista\",\"Promo\"],[\"Turista\",\"Flexible\"],[\"Turista\",\"Flexible\"],[\"Turista Plus\",\"Promo\"],[\"Turista Plus\",\"Promo\"],[\"Turista Plus\",\"Promo\"],[\"Turista\",\"Promo\"],[\"Turista\",\"Flexible\"],[\"Turista\",\"Promo\"],[\"Turista\",\"Promo\"],[\"Turista Plus\",\"Promo\"],[\"Turista\",\"Promo\"],[\"Turista\",\"Promo\"],[\"Turista\",\"Flexible\"],[\"Turista Plus\",\"Promo\"],[\"Turista\",\"Promo\"],[\"Turista\",\"Promo\"],[\"Turista\",\"Promo\"],[\"Turista\",\"Promo\"],[\"Turista\",\"Promo\"],[\"Turista\",\"Promo\"],[\"Turista\",\"Promo\"],[\"Turista\",\"Promo\"],[\"Turista\",\"Promo\"],[\"Turista Plus\",\"Promo\"],[\"Turista\",\"Promo\"],[\"Turista\",\"Promo\"],[\"Turista\",\"Promo\"],[\"Turista\",\"Flexible\"],[\"Turista Plus\",\"Promo\"],[\"Turista Plus\",\"Promo\"],[\"Turista\",\"Promo\"],[\"Turista\",\"Promo\"],[\"Turista\",\"Promo\"],[\"Turista\",\"Flexible\"],[\"Turista\",\"Promo\"],[\"Turista\",\"Promo\"],[\"Turista\",\"Promo\"],[\"Turista\",\"Promo\"],[\"Turista Plus\",\"Promo\"],[\"Turista\",\"Promo\"],[\"Turista\",\"Promo\"],[\"Turista\",\"Promo\"],[\"Turista\",\"Promo\"],[\"Turista\",\"Promo\"],[\"Turista\",\"Promo\"],[\"Turista\",\"Promo\"],[\"Turista\",\"Promo\"],[\"Turista\",\"Promo\"],[\"Turista\",\"Promo\"],[\"Turista Plus\",\"Promo\"],[\"Turista\",\"Promo\"],[\"Turista\",\"Promo\"],[\"Turista\",\"Promo\"],[\"Turista\",\"Promo\"],[\"Turista\",\"Promo\"],[\"Turista\",\"Promo\"],[\"Turista\",\"Promo\"],[\"Turista\",\"Flexible\"],[\"Turista\",\"Flexible\"],[\"Turista Plus\",\"Promo\"],[\"Turista Plus\",\"Promo\"],[\"Turista Plus\",\"Promo\"],[\"Turista\",\"Promo\"],[\"Turista\",\"Flexible\"],[\"Turista\",\"Promo\"],[\"Turista\",\"Promo\"],[\"Turista Plus\",\"Promo\"],[\"Turista\",\"Promo\"],[\"Turista\",\"Promo\"],[\"Turista\",\"Flexible\"],[\"Turista\",\"Promo\"],[\"Turista\",\"Promo\"],[\"Turista\",\"Promo\"],[\"Turista\",\"Promo\"],[\"Turista\",\"Promo\"],[\"Turista\",\"Promo\"],[\"Turista\",\"Promo\"],[\"Turista\",\"Promo\"],[\"Turista\",\"Promo\"],[\"Turista\",\"Promo\"],[\"Turista\",\"Promo\"],[\"Turista\",\"Promo\"],[\"Turista\",\"Promo\"],[\"Turista\",\"Promo\"],[\"Turista\",\"Promo\"],[\"Turista\",\"Promo\"],[\"Turista\",\"Promo\"],[\"Turista\",\"Flexible\"],[\"Turista\",\"Flexible\"],[\"Turista\",\"Flexible\"],[\"Turista\",\"Flexible\"],[\"Turista\",\"Flexible\"],[\"Turista\",\"Flexible\"],[\"Turista\",\"Flexible\"],[\"Turista Plus\",\"Promo\"],[\"Turista Plus\",\"Promo\"],[\"Turista\",\"Promo\"],[\"Turista\",\"Flexible\"],[\"Turista\",\"Promo\"],[\"Turista\",\"Promo\"],[\"Turista\",\"Promo\"],[\"Turista\",\"Promo\"],[\"Turista\",\"Promo\"],[\"Turista\",\"Promo\"],[\"Turista\",\"Flexible\"],[\"Turista Plus\",\"Promo\"],[\"Turista Plus\",\"Promo\"],[\"Turista\",\"Promo\"],[\"Turista\",\"Promo\"],[\"Turista\",\"Promo\"],[\"Turista\",\"Flexible\"],[\"Turista\",\"Promo\"],[\"Turista\",\"Promo\"],[\"Turista\",\"Promo\"],[\"Turista\",\"Promo\"],[\"Turista\",\"Promo\"],[\"Turista\",\"Promo\"],[\"Turista\",\"Promo\"],[\"Turista\",\"Promo\"],[\"Turista\",\"Promo\"],[\"Turista\",\"Flexible\"],[\"Turista Plus\",\"Promo\"],[\"Turista\",\"Promo\"],[\"Turista Plus\",\"Promo\"],[\"Turista Plus\",\"Promo\"],[\"Turista\",\"Promo\"],[\"Turista\",\"Promo\"],[\"Turista\",\"Promo\"],[\"Turista\",\"Promo\"],[\"Turista\",\"Promo\"],[\"Turista\",\"Promo\"],[\"Turista\",\"Promo\"],[\"Turista\",\"Promo\"],[\"Turista\",\"Promo\"],[\"Turista\",\"Promo\"],[\"Turista\",\"Promo\"],[\"Turista\",\"Promo\"],[\"Turista\",\"Promo\"],[\"Turista\",\"Promo\"],[\"Turista\",\"Promo\"],[\"Turista\",\"Promo\"],[\"Turista\",\"Promo\"],[\"Turista\",\"Promo\"],[\"Turista\",\"Promo\"],[\"Turista\",\"Promo\"],[\"Turista\",\"Promo\"],[\"Turista\",\"Promo\"],[\"Turista\",\"Promo\"],[\"Turista\",\"Promo\"],[\"Turista\",\"Flexible\"],[\"Turista Plus\",\"Promo\"],[\"Turista Plus\",\"Promo\"],[\"Turista\",\"Promo\"],[\"Turista\",\"Promo\"],[\"Turista\",\"Promo\"],[\"Turista\",\"Flexible\"],[\"Turista\",\"Promo\"],[\"Turista\",\"Promo\"],[\"Turista\",\"Promo\"],[\"Turista\",\"Promo\"],[\"Turista\",\"Promo\"],[\"Turista\",\"Promo\"],[\"Turista\",\"Promo\"],[\"Turista\",\"Promo\"],[\"Turista\",\"Promo\"],[\"Turista\",\"Promo\"],[\"Turista\",\"Flexible\"],[\"Turista Plus\",\"Promo\"],[\"Turista\",\"Promo\"],[\"Turista Plus\",\"Promo\"],[\"Turista Plus\",\"Promo\"],[\"Turista\",\"Promo\"],[\"Turista\",\"Promo\"],[\"Turista\",\"Promo\"],[\"Turista\",\"Promo\"],[\"Turista\",\"Promo\"],[\"Turista\",\"Promo\"],[\"Turista\",\"Promo\"],[\"Turista\",\"Promo\"],[\"Turista\",\"Promo\"],[\"Turista\",\"Promo\"],[\"Turista\",\"Promo\"],[\"Turista\",\"Promo\"],[\"Turista Plus\",\"Promo\"],[\"Turista Plus\",\"Promo\"],[\"Turista Plus\",\"Promo\"],[\"Turista Plus\",\"Promo\"],[\"Turista\",\"Promo\"],[\"Turista\",\"Promo\"],[\"Turista\",\"Promo\"],[\"Turista\",\"Promo\"],[\"Turista\",\"Promo\"],[\"Turista\",\"Promo\"],[\"Turista\",\"Flexible\"],[\"Turista\",\"Flexible\"],[\"Turista Plus\",\"Promo\"],[\"Turista Plus\",\"Promo\"],[\"Turista Plus\",\"Promo\"],[\"Turista\",\"Promo\"],[\"Turista\",\"Flexible\"],[\"Turista\",\"Promo\"],[\"Turista\",\"Promo\"],[\"Turista Plus\",\"Promo\"],[\"Turista\",\"Promo\"],[\"Turista\",\"Promo\"],[\"Turista\",\"Flexible\"],[\"Turista Plus\",\"Promo\"],[\"Turista\",\"Promo\"],[\"Turista\",\"Promo\"],[\"Turista\",\"Promo\"],[\"Turista\",\"Promo\"],[\"Turista\",\"Promo\"],[\"Turista\",\"Promo\"],[\"Turista\",\"Promo\"],[\"Turista\",\"Promo\"],[\"Turista\",\"Promo\"],[\"Turista\",\"Promo\"],[\"Turista Plus\",\"Promo\"],[\"Turista\",\"Promo\"],[\"Turista\",\"Promo\"],[\"Turista\",\"Promo\"],[\"Turista\",\"Promo\"],[\"Turista\",\"Promo\"],[\"Turista\",\"Promo\"],[\"Turista\",\"Promo\"],[\"Turista\",\"Promo\"],[\"Turista\",\"Promo\"],[\"Turista\",\"Promo\"],[\"Turista\",\"Flexible\"],[\"Turista\",\"Flexible\"],[\"Turista\",\"Flexible\"],[\"Turista\",\"Flexible\"],[\"Turista\",\"Flexible\"],[\"Turista\",\"Flexible\"],[\"Turista\",\"Flexible\"],[\"Turista Plus\",\"Promo\"],[\"Turista Plus\",\"Promo\"],[\"Turista\",\"Promo\"],[\"Turista\",\"Flexible\"],[\"Turista\",\"Promo\"],[\"Turista\",\"Promo\"],[\"Turista\",\"Promo\"],[\"Turista\",\"Promo\"],[\"Turista\",\"Promo\"],[\"Turista\",\"Promo\"],[\"Turista\",\"Promo\"],[\"Turista\",\"Promo\"],[\"Turista\",\"Promo\"],[\"Turista\",\"Promo\"],[\"Turista\",\"Promo\"],[\"Turista\",\"Promo\"],[\"Turista\",\"Promo\"],[\"Turista\",\"Promo\"],[\"Turista\",\"Promo\"],[\"Turista\",\"Promo\"],[\"Turista\",\"Promo\"],[\"Turista\",\"Promo\"],[\"Turista\",\"Promo\"],[\"Turista\",\"Promo\"],[\"Turista\",\"Promo\"],[\"Turista\",\"Promo\"],[\"Turista\",\"Promo\"],[\"Turista\",\"Flexible\"],[\"Turista Plus\",\"Promo\"],[\"Turista Plus\",\"Promo\"],[\"Turista\",\"Promo\"],[\"Turista\",\"Promo\"],[\"Turista\",\"Promo\"],[\"Turista\",\"Flexible\"],[\"Turista\",\"Promo\"],[\"Turista\",\"Promo\"],[\"Turista\",\"Promo\"],[\"Turista\",\"Promo\"],[\"Turista\",\"Promo\"],[\"Turista\",\"Promo\"],[\"Turista\",\"Promo\"],[\"Turista\",\"Promo\"],[\"Turista\",\"Flexible\"],[\"Turista\",\"Flexible\"],[\"Turista Plus\",\"Promo\"],[\"Turista Plus\",\"Promo\"],[\"Turista Plus\",\"Promo\"],[\"Turista\",\"Promo\"],[\"Turista\",\"Flexible\"],[\"Turista\",\"Promo\"],[\"Turista\",\"Promo\"],[\"Turista Plus\",\"Promo\"],[\"Turista\",\"Promo\"],[\"Turista\",\"Promo\"],[\"Turista\",\"Flexible\"],[\"Turista Plus\",\"Promo\"],[\"Turista\",\"Promo\"],[\"Turista\",\"Promo\"],[\"Turista\",\"Promo\"],[\"Turista\",\"Promo\"],[\"Turista\",\"Promo\"],[\"Turista\",\"Promo\"],[\"Turista\",\"Promo\"],[\"Turista\",\"Promo\"],[\"Turista\",\"Promo\"],[\"Turista\",\"Promo\"],[\"Turista Plus\",\"Promo\"],[\"Turista\",\"Promo\"],[\"Turista\",\"Promo\"],[\"Turista\",\"Promo\"],[\"Turista\",\"Promo\"],[\"Turista\",\"Promo\"],[\"Turista\",\"Promo\"],[\"Turista\",\"Promo\"],[\"Turista\",\"Promo\"],[\"Turista\",\"Promo\"],[\"Turista\",\"Promo\"],[\"Turista\",\"Promo\"],[\"Turista\",\"Promo\"],[\"Turista\",\"Promo\"],[\"Turista\",\"Promo\"],[\"Turista\",\"Promo\"],[\"Turista\",\"Promo\"],[\"Turista\",\"Promo\"],[\"Turista\",\"Promo\"],[\"Turista\",\"Promo\"],[\"Turista\",\"Promo\"],[\"Turista\",\"Flexible\"],[\"Turista\",\"Flexible\"],[\"Turista\",\"Flexible\"],[\"Turista\",\"Flexible\"],[\"Turista\",\"Flexible\"],[\"Turista\",\"Flexible\"],[\"Turista\",\"Flexible\"],[\"Turista Plus\",\"Promo\"],[\"Turista Plus\",\"Promo\"],[\"Turista\",\"Promo\"],[\"Turista\",\"Flexible\"],[\"Turista\",\"Promo\"],[\"Turista\",\"Promo\"],[\"Turista\",\"Promo\"],[\"Turista\",\"Promo\"],[\"Turista\",\"Promo\"],[\"Turista\",\"Promo\"],[\"Turista\",\"Promo\"],[\"Turista\",\"Promo\"],[\"Turista\",\"Promo\"],[\"Turista\",\"Promo\"],[\"Turista\",\"Promo\"],[\"Turista\",\"Promo\"],[\"Turista\",\"Promo\"],[\"Turista\",\"Promo\"],[\"Turista\",\"Promo\"],[\"Turista\",\"Promo\"],[\"Turista\",\"Promo\"],[\"Turista\",\"Promo\"],[\"Turista\",\"Promo\"],[\"Turista\",\"Promo\"],[\"Turista\",\"Promo\"],[\"Turista\",\"Promo\"],[\"Turista\",\"Promo\"],[\"Turista\",\"Promo\"],[\"Turista\",\"Promo\"],[\"Turista\",\"Promo\"],[\"Turista\",\"Promo\"],[\"Turista\",\"Promo\"],[\"Turista\",\"Flexible\"],[\"Turista Plus\",\"Promo\"],[\"Turista\",\"Promo\"],[\"Turista Plus\",\"Promo\"],[\"Turista Plus\",\"Promo\"],[\"Turista\",\"Promo\"],[\"Turista\",\"Promo\"],[\"Turista\",\"Promo\"],[\"Turista\",\"Promo\"],[\"Turista\",\"Promo\"],[\"Turista\",\"Promo\"],[\"Turista\",\"Promo\"],[\"Turista\",\"Promo\"],[\"Turista\",\"Promo\"],[\"Turista\",\"Promo\"],[\"Turista\",\"Promo\"],[\"Turista\",\"Promo\"],[\"Turista\",\"Promo\"],[\"Turista Plus\",\"Promo\"],[\"Turista Plus\",\"Promo\"],[\"Turista Plus\",\"Promo\"],[\"Turista Plus\",\"Promo\"],[\"Turista\",\"Promo\"],[\"Turista\",\"Promo\"],[\"Turista\",\"Flexible\"],[\"Turista\",\"Flexible\"],[\"Turista\",\"Flexible\"],[\"Turista\",\"Flexible\"],[\"Turista\",\"Flexible\"],[\"Turista\",\"Flexible\"],[\"Turista\",\"Flexible\"],[\"Turista Plus\",\"Promo\"],[\"Turista Plus\",\"Promo\"],[\"Turista\",\"Promo\"],[\"Turista\",\"Flexible\"],[\"Turista\",\"Promo\"],[\"Turista\",\"Promo\"],[\"Turista\",\"Promo\"],[\"Turista\",\"Promo\"],[\"Turista\",\"Promo\"],[\"Turista\",\"Promo\"],[\"Turista\",\"Promo\"],[\"Turista\",\"Promo\"],[\"Turista\",\"Promo\"],[\"Turista\",\"Promo\"],[\"Turista\",\"Promo\"],[\"Turista\",\"Flexible\"],[\"Turista Plus\",\"Promo\"],[\"Turista\",\"Promo\"],[\"Turista Plus\",\"Promo\"],[\"Turista Plus\",\"Promo\"],[\"Turista\",\"Promo\"],[\"Turista\",\"Promo\"],[\"Turista\",\"Promo\"],[\"Turista\",\"Promo\"],[\"Turista\",\"Promo\"],[\"Turista\",\"Promo\"],[\"Turista\",\"Promo\"],[\"Turista\",\"Promo\"],[\"Turista\",\"Promo\"],[\"Turista\",\"Promo\"],[\"Turista\",\"Promo\"],[\"Turista\",\"Promo\"],[\"Turista\",\"Promo\"],[\"Turista Plus\",\"Promo\"],[\"Turista Plus\",\"Promo\"],[\"Turista Plus\",\"Promo\"],[\"Turista Plus\",\"Promo\"],[\"Turista\",\"Promo\"],[\"Turista\",\"Promo\"],[\"Turista\",\"Promo\"],[\"Turista\",\"Promo\"],[\"Turista\",\"Promo\"],[\"Turista\",\"Promo\"],[\"Turista\",\"Promo\"],[\"Turista\",\"Promo\"],[\"Turista\",\"Promo\"],[\"Turista\",\"Promo\"],[\"Turista\",\"Promo\"],[\"Turista\",\"Promo\"],[\"Turista\",\"Promo\"],[\"Turista\",\"Promo\"],[\"Turista\",\"Promo\"],[\"Turista\",\"Promo\"],[\"Turista\",\"Promo\"],[\"Turista\",\"Promo\"],[\"Turista\",\"Promo\"],[\"Turista\",\"Flexible\"],[\"Turista Plus\",\"Promo\"],[\"Turista Plus\",\"Promo\"],[\"Turista\",\"Promo\"],[\"Turista\",\"Promo\"],[\"Turista\",\"Promo\"],[\"Turista\",\"Flexible\"],[\"Turista\",\"Promo\"],[\"Turista\",\"Promo\"],[\"Turista\",\"Promo\"],[\"Turista\",\"Promo\"],[\"Turista\",\"Promo\"],[\"Turista\",\"Promo\"],[\"Turista\",\"Promo\"],[\"Turista\",\"Promo\"],[\"Turista\",\"Flexible\"],[\"Turista\",\"Flexible\"],[\"Turista Plus\",\"Promo\"],[\"Turista Plus\",\"Promo\"],[\"Turista Plus\",\"Promo\"],[\"Turista\",\"Promo\"],[\"Turista\",\"Flexible\"],[\"Turista\",\"Promo\"],[\"Turista\",\"Promo\"],[\"Turista Plus\",\"Promo\"],[\"Turista\",\"Promo\"],[\"Turista\",\"Promo\"],[\"Turista\",\"Flexible\"],[\"Turista Plus\",\"Promo\"],[\"Turista\",\"Promo\"],[\"Turista\",\"Promo\"],[\"Turista\",\"Promo\"],[\"Turista\",\"Promo\"],[\"Turista\",\"Promo\"],[\"Turista\",\"Promo\"],[\"Turista\",\"Promo\"],[\"Turista\",\"Promo\"],[\"Turista\",\"Promo\"],[\"Turista\",\"Promo\"],[\"Turista Plus\",\"Promo\"],[\"Turista\",\"Promo\"],[\"Turista\",\"Promo\"],[\"Turista\",\"Promo\"],[\"Turista\",\"Promo\"],[\"Turista\",\"Promo\"],[\"Turista\",\"Promo\"],[\"Turista\",\"Promo\"],[\"Turista\",\"Promo\"],[\"Turista\",\"Promo\"],[\"Turista\",\"Promo\"],[\"Turista\",\"Promo\"],[\"Turista\",\"Promo\"],[\"Turista\",\"Promo\"],[\"Turista\",\"Promo\"],[\"Turista\",\"Promo\"],[\"Turista\",\"Promo\"],[\"Turista\",\"Promo\"],[\"Turista\",\"Promo\"],[\"Turista\",\"Promo\"],[\"Turista\",\"Promo\"],[\"Turista\",\"Promo\"],[\"Turista\",\"Promo\"],[\"Turista\",\"Promo\"],[\"Turista\",\"Promo\"],[\"Turista\",\"Flexible\"],[\"Turista\",\"Flexible\"],[\"Turista Plus\",\"Promo\"],[\"Turista Plus\",\"Promo\"],[\"Turista Plus\",\"Promo\"],[\"Turista\",\"Promo\"],[\"Turista\",\"Flexible\"],[\"Turista\",\"Promo\"],[\"Turista\",\"Promo\"],[\"Turista Plus\",\"Promo\"],[\"Turista\",\"Promo\"],[\"Turista\",\"Promo\"],[\"Turista\",\"Flexible\"],[\"Turista Plus\",\"Promo\"],[\"Turista\",\"Promo\"],[\"Turista\",\"Promo\"],[\"Turista\",\"Promo\"],[\"Turista\",\"Promo\"],[\"Turista\",\"Promo\"],[\"Turista\",\"Promo\"],[\"Turista\",\"Promo\"],[\"Turista\",\"Promo\"],[\"Turista\",\"Promo\"],[\"Turista\",\"Promo\"],[\"Turista Plus\",\"Promo\"],[\"Turista\",\"Promo\"],[\"Turista\",\"Promo\"],[\"Turista\",\"Promo\"],[\"Turista\",\"Promo\"],[\"Turista\",\"Promo\"],[\"Turista\",\"Promo\"],[\"Turista\",\"Promo\"],[\"Turista\",\"Promo\"],[\"Turista\",\"Promo\"],[\"Turista\",\"Promo\"],[\"Turista\",\"Promo\"],[\"Turista\",\"Promo\"],[\"Turista\",\"Promo\"],[\"Turista\",\"Promo\"],[\"Turista\",\"Promo\"],[\"Turista\",\"Promo\"],[\"Turista\",\"Promo\"],[\"Turista\",\"Promo\"],[\"Turista\",\"Promo\"],[\"Turista\",\"Promo\"],[\"Turista\",\"Promo\"],[\"Turista\",\"Promo\"],[\"Turista\",\"Promo\"],[\"Turista\",\"Promo\"],[\"Turista\",\"Promo\"],[\"Turista\",\"Promo\"],[\"Turista\",\"Promo\"],[\"Turista\",\"Promo\"],[\"Turista\",\"Promo\"],[\"Turista\",\"Promo\"],[\"Turista\",\"Promo\"],[\"Turista\",\"Promo\"],[\"Turista\",\"Promo\"],[\"Turista\",\"Promo\"],[\"Turista\",\"Promo\"],[\"Turista\",\"Promo\"],[\"Turista\",\"Promo\"],[\"Turista\",\"Promo\"],[\"Turista\",\"Flexible\"],[\"Turista\",\"Promo\"],[\"Turista\",\"Promo\"],[\"Turista\",\"Promo\"],[\"Turista\",\"Promo\"],[\"Turista\",\"Promo\"],[\"Turista\",\"Promo\"],[\"Turista\",\"Flexible\"],[\"Turista\",\"Flexible\"],[\"Turista\",\"Flexible\"],[\"Turista\",\"Flexible\"],[\"Turista\",\"Flexible\"],[\"Turista\",\"Flexible\"],[\"Turista\",\"Flexible\"],[\"Turista Plus\",\"Promo\"],[\"Turista Plus\",\"Promo\"],[\"Turista\",\"Flexible\"],[\"Turista Plus\",\"Promo\"],[\"Turista Plus\",\"Promo\"],[\"Turista\",\"Promo\"],[\"Turista\",\"Promo\"],[\"Turista\",\"Promo\"],[\"Turista\",\"Flexible\"],[\"Turista\",\"Promo\"],[\"Turista\",\"Promo\"],[\"Turista\",\"Promo\"],[\"Turista\",\"Promo\"],[\"Turista\",\"Promo\"],[\"Turista\",\"Promo\"],[\"Turista\",\"Promo\"],[\"Turista\",\"Promo\"],[\"Turista\",\"Promo\"],[\"Turista\",\"Flexible\"],[\"Turista Plus\",\"Promo\"],[\"Turista\",\"Promo\"],[\"Turista Plus\",\"Promo\"],[\"Turista Plus\",\"Promo\"],[\"Turista\",\"Promo\"],[\"Turista\",\"Promo\"],[\"Turista\",\"Promo\"],[\"Turista\",\"Promo\"],[\"Turista\",\"Promo\"],[\"Turista\",\"Promo\"],[\"Turista\",\"Promo\"],[\"Turista\",\"Promo\"],[\"Turista\",\"Promo\"],[\"Turista\",\"Promo\"],[\"Turista\",\"Promo\"],[\"Turista\",\"Promo\"],[\"Turista\",\"Promo\"],[\"Turista Plus\",\"Promo\"],[\"Turista Plus\",\"Promo\"],[\"Turista Plus\",\"Promo\"],[\"Turista Plus\",\"Promo\"],[\"Turista\",\"Promo\"],[\"Turista\",\"Promo\"],[\"Turista\",\"Promo\"],[\"Turista\",\"Promo\"],[\"Turista\",\"Promo\"],[\"Turista\",\"Promo\"],[\"Turista\",\"Flexible\"],[\"Turista\",\"Flexible\"],[\"Turista Plus\",\"Promo\"],[\"Turista Plus\",\"Promo\"],[\"Turista Plus\",\"Promo\"],[\"Turista\",\"Promo\"],[\"Turista\",\"Flexible\"],[\"Turista\",\"Promo\"],[\"Turista\",\"Promo\"],[\"Turista Plus\",\"Promo\"],[\"Turista\",\"Promo\"],[\"Turista\",\"Promo\"],[\"Turista\",\"Flexible\"],[\"Turista Plus\",\"Promo\"],[\"Turista\",\"Promo\"],[\"Turista\",\"Promo\"],[\"Turista\",\"Promo\"],[\"Turista\",\"Promo\"],[\"Turista\",\"Promo\"],[\"Turista\",\"Promo\"],[\"Turista\",\"Promo\"],[\"Turista\",\"Promo\"],[\"Turista\",\"Promo\"],[\"Turista\",\"Promo\"],[\"Turista Plus\",\"Promo\"],[\"Turista\",\"Promo\"],[\"Turista\",\"Promo\"],[\"Turista\",\"Promo\"],[\"Turista\",\"Flexible\"],[\"Turista\",\"Flexible\"],[\"Turista\",\"Flexible\"],[\"Turista\",\"Flexible\"],[\"Turista\",\"Flexible\"],[\"Turista\",\"Flexible\"],[\"Turista\",\"Flexible\"],[\"Turista Plus\",\"Promo\"],[\"Turista Plus\",\"Promo\"],[\"Turista\",\"Promo\"],[\"Turista\",\"Flexible\"],[\"Turista\",\"Promo\"],[\"Turista\",\"Promo\"],[\"Turista\",\"Promo\"],[\"Turista\",\"Promo\"],[\"Turista\",\"Promo\"],[\"Turista\",\"Promo\"],[\"Turista\",\"Promo\"],[\"Turista\",\"Promo\"],[\"Turista\",\"Promo\"],[\"Turista\",\"Promo\"],[\"Turista\",\"Promo\"],[\"Turista\",\"Promo\"],[\"Turista\",\"Promo\"],[\"Turista\",\"Promo\"],[\"Turista\",\"Promo\"],[\"Turista\",\"Promo\"],[\"Turista\",\"Promo\"],[\"Turista\",\"Promo\"],[\"Turista\",\"Promo\"],[\"Turista\",\"Promo\"],[\"Turista\",\"Promo\"],[\"Turista\",\"Promo\"],[\"Turista\",\"Promo\"],[\"Turista\",\"Promo\"],[\"Turista\",\"Promo\"],[\"Turista\",\"Promo\"],[\"Turista\",\"Promo\"],[\"Turista\",\"Promo\"],[\"Turista\",\"Promo\"],[\"Turista\",\"Promo\"],[\"Turista\",\"Promo\"],[\"Turista\",\"Promo\"],[\"Turista\",\"Promo\"],[\"Turista\",\"Promo\"],[\"Turista\",\"Promo\"],[\"Turista\",\"Promo\"],[\"Turista\",\"Promo\"],[\"Turista\",\"Promo\"],[\"Turista\",\"Promo\"],[\"Turista\",\"Promo\"],[\"Turista\",\"Flexible\"],[\"Turista Plus\",\"Promo\"],[\"Turista Plus\",\"Promo\"],[\"Turista\",\"Promo\"],[\"Turista\",\"Promo\"],[\"Turista\",\"Promo\"],[\"Turista\",\"Flexible\"],[\"Turista\",\"Promo\"],[\"Turista\",\"Promo\"],[\"Turista\",\"Promo\"],[\"Turista\",\"Promo\"],[\"Turista\",\"Promo\"],[\"Turista\",\"Promo\"],[\"Turista\",\"Promo\"],[\"Turista\",\"Promo\"],[\"Turista\",\"Promo\"],[\"Turista\",\"Flexible\"],[\"Turista Plus\",\"Promo\"],[\"Turista\",\"Promo\"],[\"Turista Plus\",\"Promo\"],[\"Turista Plus\",\"Promo\"],[\"Turista\",\"Promo\"],[\"Turista\",\"Promo\"],[\"Turista\",\"Promo\"],[\"Turista\",\"Promo\"],[\"Turista\",\"Promo\"],[\"Turista\",\"Promo\"],[\"Turista\",\"Promo\"],[\"Turista\",\"Promo\"],[\"Turista\",\"Promo\"],[\"Turista\",\"Promo\"],[\"Turista\",\"Promo\"],[\"Turista\",\"Promo\"],[\"Turista\",\"Promo\"],[\"Turista Plus\",\"Promo\"],[\"Turista Plus\",\"Promo\"],[\"Turista Plus\",\"Promo\"],[\"Turista Plus\",\"Promo\"],[\"Turista\",\"Promo\"],[\"Turista\",\"Promo\"]],\"hovertemplate\":\"train_type=AVE\\u003cbr\\u003eorigin=%{x}\\u003cbr\\u003edestination=%{y}\\u003cbr\\u003eprice=%{marker.size}\\u003cbr\\u003etrain_class=%{customdata[0]}\\u003cbr\\u003efare=%{customdata[1]}\\u003cextra\\u003e\\u003c\\u002fextra\\u003e\",\"legendgroup\":\"AVE\",\"marker\":{\"color\":\"#EF553B\",\"size\":[21.95,39.45,21.95,33.65,45.3,45.3,51.15,39.45,33.65,45.3,33.65,27.8,39.45,33.65,39.45,45.3,33.65,66.75,66.75,85.1,85.1,85.1,107.7,102.15,88.95,90.5,90.5,88.95,88.95,100.4,85.1,88.95,85.1,75.4,58.15,75.4,85.1,75.4,75.4,75.4,80.15,80.15,80.15,69.8,58.15,66.75,76.3,76.3,76.3,76.3,76.3,76.3,76.3,64.05,72.3,47.3,76.3,47.3,47.3,53.4,53.4,60.3,47.3,21.95,39.45,21.95,33.65,45.3,45.3,51.15,39.45,33.65,45.3,33.65,27.8,39.45,33.65,39.45,45.3,33.65,39.45,51.15,51.15,45.3,45.3,57.75,57.75,57.75,57.75,51.15,39.45,39.45,45.3,33.65,33.65,21.95,27.8,85.1,66.75,85.1,85.1,85.1,107.7,107.7,102.15,90.5,90.5,100.4,107.7,100.4,100.4,102.15,100.4,85.1,107.7,69.8,75.4,75.4,78.8,85.1,85.1,75.4,58.15,66.75,75.4,69.8,58.15,66.75,49.55,76.3,64.05,64.05,47.3,53.4,53.4,76.3,47.3,47.3,47.3,47.3,69.8,75.4,75.4,78.8,85.1,85.1,85.1,75.4,58.15,66.75,75.4,69.8,58.15,66.75,49.55,66.75,85.1,85.1,85.1,107.7,107.7,102.15,90.5,90.5,100.4,107.7,100.4,100.4,102.15,100.4,85.1,107.7,39.45,51.15,51.15,45.3,45.3,57.75,57.75,57.75,57.75,51.15,39.45,39.45,45.3,33.65,33.65,21.95,27.8,76.3,76.3,76.3,76.3,76.3,76.3,76.3,64.05,72.3,47.3,76.3,47.3,47.3,53.4,53.4,60.3,47.3,76.3,64.05,64.05,47.3,53.4,53.4,76.3,47.3,47.3,47.3,47.3,66.75,66.75,85.1,85.1,85.1,107.7,102.15,88.95,90.5,90.5,88.95,88.95,100.4,85.1,88.95,85.1,75.4,21.95,39.45,21.95,33.65,45.3,45.3,51.15,39.45,33.65,45.3,33.65,27.8,39.45,33.65,39.45,45.3,33.65,76.3,64.05,64.05,47.3,53.4,53.4,76.3,47.3,47.3,47.3,47.3,88.95,66.75,66.75,85.1,85.1,85.1,107.7,102.15,88.95,90.5,90.5,88.95,88.95,100.4,85.1,85.1,75.4,58.15,75.4,85.1,75.4,75.4,75.4,80.15,80.15,80.15,69.8,58.15,66.75,66.75,85.1,85.1,85.1,107.7,107.7,102.15,90.5,90.5,100.4,107.7,100.4,100.4,102.15,100.4,85.1,107.7,69.8,75.4,75.4,78.8,85.1,85.1,85.1,75.4,58.15,66.75,75.4,69.8,58.15,66.75,49.55,39.45,39.45,45.3,33.65,33.65,21.95,27.8,76.3,76.3,76.3,76.3,76.3,76.3,76.3,64.05,72.3,47.3,76.3,47.3,47.3,53.4,53.4,60.3,47.3,21.95,39.45,21.95,33.65,45.3,45.3,51.15,39.45,33.65,45.3,33.65,27.8,39.45,33.65,39.45,45.3,33.65,76.3,64.05,64.05,47.3,53.4,53.4,76.3,47.3,47.3,47.3,47.3,66.75,85.1,85.1,85.1,107.7,107.7,102.15,90.5,90.5,100.4,107.7,100.4,100.4,102.15,100.4,85.1,107.7,69.8,75.4,75.4,78.8,85.1,85.1,85.1,75.4,58.15,66.75,75.4,69.8,58.15,66.75,49.55,39.45,51.15,51.15,45.3,45.3,57.75,57.75,57.75,57.75,51.15,39.45,39.45,45.3,33.65,33.65,21.95,27.8,76.3,76.3,76.3,76.3,76.3,76.3,76.3,64.05,72.3,47.3,76.3,47.3,47.3,53.4,53.4,60.3,47.3,21.95,39.45,21.95,33.65,45.3,45.3,51.15,39.45,33.65,45.3,33.65,27.8,39.45,33.65,39.45,45.3,33.65,66.75,66.75,85.1,85.1,85.1,107.7,102.15,88.95,90.5,90.5,88.95,88.95,100.4,85.1,88.95,85.1,75.4,58.15,75.4,85.1,75.4,75.4,75.4,80.15,80.15,80.15,69.8,58.15,66.75,76.3,76.3,76.3,76.3,76.3,76.3,76.3,64.05,72.3,47.3,76.3,47.3,47.3,53.4,53.4,60.3,47.3,66.75,66.75,85.1,85.1,85.1,107.7,102.15,88.95,90.5,90.5,88.95,88.95,100.4,85.1,88.95,85.1,75.4,58.15,75.4,85.1,75.4,75.4,75.4,80.15,80.15,80.15,69.8,58.15,66.75,39.45,51.15,51.15,45.3,45.3,57.75,57.75,57.75,57.75,51.15,39.45,39.45,45.3,33.65,33.65,21.95,27.8,76.3,64.05,64.05,47.3,53.4,53.4,76.3,47.3,47.3,47.3,47.3,66.75,85.1,85.1,85.1,107.7,107.7,102.15,90.5,90.5,100.4,107.7,100.4,100.4,102.15,100.4,85.1,107.7,69.8,75.4,75.4,78.8,85.1,85.1,85.1,75.4,58.15,66.75,75.4,69.8,58.15,66.75,49.55,21.95,39.45,21.95,33.65,45.3,45.3,51.15,39.45,33.65,45.3,33.65,27.8,39.45,33.65,39.45,45.3,33.65,66.75,85.1,85.1,85.1,107.7,107.7,102.15,90.5,90.5,100.4,107.7,100.4,100.4,102.15,100.4,85.1,107.7,69.8,75.4,75.4,78.8,85.1,85.1,85.1,75.4,58.15,66.75,75.4,69.8,58.15,66.75,49.55,39.45,51.15,51.15,45.3,45.3,57.75,57.75,57.75,57.75,51.15,39.45,39.45,45.3,33.65,33.65,21.95,27.8,45.3,33.65,27.8,39.45,33.65,39.45,45.3,33.65,21.95,39.45,21.95,33.65,45.3,45.3,51.15,39.45,33.65,47.3,76.3,47.3,47.3,53.4,53.4,60.3,47.3,76.3,76.3,76.3,76.3,76.3,76.3,76.3,64.05,72.3,76.3,64.05,64.05,47.3,53.4,53.4,76.3,47.3,47.3,47.3,47.3,66.75,66.75,85.1,85.1,85.1,107.7,102.15,88.95,90.5,90.5,88.95,88.95,100.4,85.1,88.95,85.1,75.4,58.15,75.4,85.1,75.4,75.4,75.4,80.15,80.15,80.15,69.8,58.15,66.75,66.75,85.1,85.1,85.1,107.7,107.7,102.15,90.5,90.5,100.4,107.7,100.4,100.4,102.15,100.4,85.1,107.7,69.8,75.4,75.4,78.8,85.1,85.1,85.1,75.4,58.15,66.75,75.4,69.8,58.15,66.75,49.55,76.3,76.3,76.3,76.3,76.3,76.3,76.3,64.05,72.3,47.3,76.3,47.3,47.3,53.4,53.4,60.3,47.3,21.95,39.45,21.95,33.65,45.3,45.3,51.15,39.45,33.65,45.3,33.65,27.8,39.45,33.65,39.45,45.3,33.65,39.45,51.15,51.15,45.3,45.3,57.75,57.75,57.75,57.75,51.15,39.45,39.45,45.3,33.65,33.65,21.95,27.8,76.3,64.05,64.05,47.3,53.4,53.4,76.3,47.3,47.3,47.3,47.3,66.75,66.75,85.1,85.1,85.1,107.7,102.15,88.95,90.5,90.5,88.95,88.95,100.4,85.1,88.95,85.1,75.4,58.15,75.4,85.1,75.4,75.4,75.4,80.15,80.15,80.15,69.8,58.15,66.75],\"sizemode\":\"area\",\"sizeref\":0.26925,\"symbol\":\"circle\"},\"mode\":\"markers\",\"name\":\"AVE\",\"orientation\":\"v\",\"showlegend\":true,\"x\":[\"MADRID\",\"MADRID\",\"MADRID\",\"MADRID\",\"MADRID\",\"MADRID\",\"MADRID\",\"MADRID\",\"MADRID\",\"MADRID\",\"MADRID\",\"MADRID\",\"MADRID\",\"MADRID\",\"MADRID\",\"MADRID\",\"MADRID\",\"MADRID\",\"MADRID\",\"MADRID\",\"MADRID\",\"MADRID\",\"MADRID\",\"MADRID\",\"MADRID\",\"MADRID\",\"MADRID\",\"MADRID\",\"MADRID\",\"MADRID\",\"MADRID\",\"MADRID\",\"MADRID\",\"MADRID\",\"MADRID\",\"MADRID\",\"MADRID\",\"MADRID\",\"MADRID\",\"MADRID\",\"MADRID\",\"MADRID\",\"MADRID\",\"MADRID\",\"MADRID\",\"MADRID\",\"SEVILLA\",\"SEVILLA\",\"SEVILLA\",\"SEVILLA\",\"SEVILLA\",\"SEVILLA\",\"SEVILLA\",\"SEVILLA\",\"SEVILLA\",\"SEVILLA\",\"SEVILLA\",\"SEVILLA\",\"SEVILLA\",\"SEVILLA\",\"SEVILLA\",\"SEVILLA\",\"SEVILLA\",\"MADRID\",\"MADRID\",\"MADRID\",\"MADRID\",\"MADRID\",\"MADRID\",\"MADRID\",\"MADRID\",\"MADRID\",\"MADRID\",\"MADRID\",\"MADRID\",\"MADRID\",\"MADRID\",\"MADRID\",\"MADRID\",\"MADRID\",\"VALENCIA\",\"VALENCIA\",\"VALENCIA\",\"VALENCIA\",\"VALENCIA\",\"VALENCIA\",\"VALENCIA\",\"VALENCIA\",\"VALENCIA\",\"VALENCIA\",\"VALENCIA\",\"VALENCIA\",\"VALENCIA\",\"VALENCIA\",\"VALENCIA\",\"VALENCIA\",\"VALENCIA\",\"BARCELONA\",\"BARCELONA\",\"BARCELONA\",\"BARCELONA\",\"BARCELONA\",\"BARCELONA\",\"BARCELONA\",\"BARCELONA\",\"BARCELONA\",\"BARCELONA\",\"BARCELONA\",\"BARCELONA\",\"BARCELONA\",\"BARCELONA\",\"BARCELONA\",\"BARCELONA\",\"BARCELONA\",\"BARCELONA\",\"BARCELONA\",\"BARCELONA\",\"BARCELONA\",\"BARCELONA\",\"BARCELONA\",\"BARCELONA\",\"BARCELONA\",\"BARCELONA\",\"BARCELONA\",\"BARCELONA\",\"BARCELONA\",\"BARCELONA\",\"BARCELONA\",\"BARCELONA\",\"MADRID\",\"MADRID\",\"MADRID\",\"MADRID\",\"MADRID\",\"MADRID\",\"MADRID\",\"MADRID\",\"MADRID\",\"MADRID\",\"MADRID\",\"BARCELONA\",\"BARCELONA\",\"BARCELONA\",\"BARCELONA\",\"BARCELONA\",\"BARCELONA\",\"BARCELONA\",\"BARCELONA\",\"BARCELONA\",\"BARCELONA\",\"BARCELONA\",\"BARCELONA\",\"BARCELONA\",\"BARCELONA\",\"BARCELONA\",\"BARCELONA\",\"BARCELONA\",\"BARCELONA\",\"BARCELONA\",\"BARCELONA\",\"BARCELONA\",\"BARCELONA\",\"BARCELONA\",\"BARCELONA\",\"BARCELONA\",\"BARCELONA\",\"BARCELONA\",\"BARCELONA\",\"BARCELONA\",\"BARCELONA\",\"BARCELONA\",\"BARCELONA\",\"VALENCIA\",\"VALENCIA\",\"VALENCIA\",\"VALENCIA\",\"VALENCIA\",\"VALENCIA\",\"VALENCIA\",\"VALENCIA\",\"VALENCIA\",\"VALENCIA\",\"VALENCIA\",\"VALENCIA\",\"VALENCIA\",\"VALENCIA\",\"VALENCIA\",\"VALENCIA\",\"VALENCIA\",\"SEVILLA\",\"SEVILLA\",\"SEVILLA\",\"SEVILLA\",\"SEVILLA\",\"SEVILLA\",\"SEVILLA\",\"SEVILLA\",\"SEVILLA\",\"SEVILLA\",\"SEVILLA\",\"SEVILLA\",\"SEVILLA\",\"SEVILLA\",\"SEVILLA\",\"SEVILLA\",\"SEVILLA\",\"MADRID\",\"MADRID\",\"MADRID\",\"MADRID\",\"MADRID\",\"MADRID\",\"MADRID\",\"MADRID\",\"MADRID\",\"MADRID\",\"MADRID\",\"MADRID\",\"MADRID\",\"MADRID\",\"MADRID\",\"MADRID\",\"MADRID\",\"MADRID\",\"MADRID\",\"MADRID\",\"MADRID\",\"MADRID\",\"MADRID\",\"MADRID\",\"MADRID\",\"MADRID\",\"MADRID\",\"MADRID\",\"MADRID\",\"MADRID\",\"MADRID\",\"MADRID\",\"MADRID\",\"MADRID\",\"MADRID\",\"MADRID\",\"MADRID\",\"MADRID\",\"MADRID\",\"MADRID\",\"MADRID\",\"MADRID\",\"MADRID\",\"MADRID\",\"MADRID\",\"MADRID\",\"MADRID\",\"MADRID\",\"MADRID\",\"MADRID\",\"MADRID\",\"MADRID\",\"MADRID\",\"MADRID\",\"MADRID\",\"MADRID\",\"MADRID\",\"MADRID\",\"MADRID\",\"MADRID\",\"MADRID\",\"MADRID\",\"MADRID\",\"MADRID\",\"MADRID\",\"MADRID\",\"MADRID\",\"MADRID\",\"MADRID\",\"MADRID\",\"MADRID\",\"MADRID\",\"MADRID\",\"MADRID\",\"MADRID\",\"MADRID\",\"MADRID\",\"MADRID\",\"MADRID\",\"MADRID\",\"MADRID\",\"MADRID\",\"MADRID\",\"MADRID\",\"MADRID\",\"BARCELONA\",\"BARCELONA\",\"BARCELONA\",\"BARCELONA\",\"BARCELONA\",\"BARCELONA\",\"BARCELONA\",\"BARCELONA\",\"BARCELONA\",\"BARCELONA\",\"BARCELONA\",\"BARCELONA\",\"BARCELONA\",\"BARCELONA\",\"BARCELONA\",\"BARCELONA\",\"BARCELONA\",\"BARCELONA\",\"BARCELONA\",\"BARCELONA\",\"BARCELONA\",\"BARCELONA\",\"BARCELONA\",\"BARCELONA\",\"BARCELONA\",\"BARCELONA\",\"BARCELONA\",\"BARCELONA\",\"BARCELONA\",\"BARCELONA\",\"BARCELONA\",\"BARCELONA\",\"VALENCIA\",\"VALENCIA\",\"VALENCIA\",\"VALENCIA\",\"VALENCIA\",\"VALENCIA\",\"VALENCIA\",\"SEVILLA\",\"SEVILLA\",\"SEVILLA\",\"SEVILLA\",\"SEVILLA\",\"SEVILLA\",\"SEVILLA\",\"SEVILLA\",\"SEVILLA\",\"SEVILLA\",\"SEVILLA\",\"SEVILLA\",\"SEVILLA\",\"SEVILLA\",\"SEVILLA\",\"SEVILLA\",\"SEVILLA\",\"MADRID\",\"MADRID\",\"MADRID\",\"MADRID\",\"MADRID\",\"MADRID\",\"MADRID\",\"MADRID\",\"MADRID\",\"MADRID\",\"MADRID\",\"MADRID\",\"MADRID\",\"MADRID\",\"MADRID\",\"MADRID\",\"MADRID\",\"MADRID\",\"MADRID\",\"MADRID\",\"MADRID\",\"MADRID\",\"MADRID\",\"MADRID\",\"MADRID\",\"MADRID\",\"MADRID\",\"MADRID\",\"BARCELONA\",\"BARCELONA\",\"BARCELONA\",\"BARCELONA\",\"BARCELONA\",\"BARCELONA\",\"BARCELONA\",\"BARCELONA\",\"BARCELONA\",\"BARCELONA\",\"BARCELONA\",\"BARCELONA\",\"BARCELONA\",\"BARCELONA\",\"BARCELONA\",\"BARCELONA\",\"BARCELONA\",\"BARCELONA\",\"BARCELONA\",\"BARCELONA\",\"BARCELONA\",\"BARCELONA\",\"BARCELONA\",\"BARCELONA\",\"BARCELONA\",\"BARCELONA\",\"BARCELONA\",\"BARCELONA\",\"BARCELONA\",\"BARCELONA\",\"BARCELONA\",\"BARCELONA\",\"VALENCIA\",\"VALENCIA\",\"VALENCIA\",\"VALENCIA\",\"VALENCIA\",\"VALENCIA\",\"VALENCIA\",\"VALENCIA\",\"VALENCIA\",\"VALENCIA\",\"VALENCIA\",\"VALENCIA\",\"VALENCIA\",\"VALENCIA\",\"VALENCIA\",\"VALENCIA\",\"VALENCIA\",\"SEVILLA\",\"SEVILLA\",\"SEVILLA\",\"SEVILLA\",\"SEVILLA\",\"SEVILLA\",\"SEVILLA\",\"SEVILLA\",\"SEVILLA\",\"SEVILLA\",\"SEVILLA\",\"SEVILLA\",\"SEVILLA\",\"SEVILLA\",\"SEVILLA\",\"SEVILLA\",\"SEVILLA\",\"MADRID\",\"MADRID\",\"MADRID\",\"MADRID\",\"MADRID\",\"MADRID\",\"MADRID\",\"MADRID\",\"MADRID\",\"MADRID\",\"MADRID\",\"MADRID\",\"MADRID\",\"MADRID\",\"MADRID\",\"MADRID\",\"MADRID\",\"MADRID\",\"MADRID\",\"MADRID\",\"MADRID\",\"MADRID\",\"MADRID\",\"MADRID\",\"MADRID\",\"MADRID\",\"MADRID\",\"MADRID\",\"MADRID\",\"MADRID\",\"MADRID\",\"MADRID\",\"MADRID\",\"MADRID\",\"MADRID\",\"MADRID\",\"MADRID\",\"MADRID\",\"MADRID\",\"MADRID\",\"MADRID\",\"MADRID\",\"MADRID\",\"MADRID\",\"MADRID\",\"MADRID\",\"SEVILLA\",\"SEVILLA\",\"SEVILLA\",\"SEVILLA\",\"SEVILLA\",\"SEVILLA\",\"SEVILLA\",\"SEVILLA\",\"SEVILLA\",\"SEVILLA\",\"SEVILLA\",\"SEVILLA\",\"SEVILLA\",\"SEVILLA\",\"SEVILLA\",\"SEVILLA\",\"SEVILLA\",\"MADRID\",\"MADRID\",\"MADRID\",\"MADRID\",\"MADRID\",\"MADRID\",\"MADRID\",\"MADRID\",\"MADRID\",\"MADRID\",\"MADRID\",\"MADRID\",\"MADRID\",\"MADRID\",\"MADRID\",\"MADRID\",\"MADRID\",\"MADRID\",\"MADRID\",\"MADRID\",\"MADRID\",\"MADRID\",\"MADRID\",\"MADRID\",\"MADRID\",\"MADRID\",\"MADRID\",\"MADRID\",\"MADRID\",\"VALENCIA\",\"VALENCIA\",\"VALENCIA\",\"VALENCIA\",\"VALENCIA\",\"VALENCIA\",\"VALENCIA\",\"VALENCIA\",\"VALENCIA\",\"VALENCIA\",\"VALENCIA\",\"VALENCIA\",\"VALENCIA\",\"VALENCIA\",\"VALENCIA\",\"VALENCIA\",\"VALENCIA\",\"MADRID\",\"MADRID\",\"MADRID\",\"MADRID\",\"MADRID\",\"MADRID\",\"MADRID\",\"MADRID\",\"MADRID\",\"MADRID\",\"MADRID\",\"BARCELONA\",\"BARCELONA\",\"BARCELONA\",\"BARCELONA\",\"BARCELONA\",\"BARCELONA\",\"BARCELONA\",\"BARCELONA\",\"BARCELONA\",\"BARCELONA\",\"BARCELONA\",\"BARCELONA\",\"BARCELONA\",\"BARCELONA\",\"BARCELONA\",\"BARCELONA\",\"BARCELONA\",\"BARCELONA\",\"BARCELONA\",\"BARCELONA\",\"BARCELONA\",\"BARCELONA\",\"BARCELONA\",\"BARCELONA\",\"BARCELONA\",\"BARCELONA\",\"BARCELONA\",\"BARCELONA\",\"BARCELONA\",\"BARCELONA\",\"BARCELONA\",\"BARCELONA\",\"MADRID\",\"MADRID\",\"MADRID\",\"MADRID\",\"MADRID\",\"MADRID\",\"MADRID\",\"MADRID\",\"MADRID\",\"MADRID\",\"MADRID\",\"MADRID\",\"MADRID\",\"MADRID\",\"MADRID\",\"MADRID\",\"MADRID\",\"BARCELONA\",\"BARCELONA\",\"BARCELONA\",\"BARCELONA\",\"BARCELONA\",\"BARCELONA\",\"BARCELONA\",\"BARCELONA\",\"BARCELONA\",\"BARCELONA\",\"BARCELONA\",\"BARCELONA\",\"BARCELONA\",\"BARCELONA\",\"BARCELONA\",\"BARCELONA\",\"BARCELONA\",\"BARCELONA\",\"BARCELONA\",\"BARCELONA\",\"BARCELONA\",\"BARCELONA\",\"BARCELONA\",\"BARCELONA\",\"BARCELONA\",\"BARCELONA\",\"BARCELONA\",\"BARCELONA\",\"BARCELONA\",\"BARCELONA\",\"BARCELONA\",\"BARCELONA\",\"VALENCIA\",\"VALENCIA\",\"VALENCIA\",\"VALENCIA\",\"VALENCIA\",\"VALENCIA\",\"VALENCIA\",\"VALENCIA\",\"VALENCIA\",\"VALENCIA\",\"VALENCIA\",\"VALENCIA\",\"VALENCIA\",\"VALENCIA\",\"VALENCIA\",\"VALENCIA\",\"VALENCIA\",\"MADRID\",\"MADRID\",\"MADRID\",\"MADRID\",\"MADRID\",\"MADRID\",\"MADRID\",\"MADRID\",\"MADRID\",\"MADRID\",\"MADRID\",\"MADRID\",\"MADRID\",\"MADRID\",\"MADRID\",\"MADRID\",\"MADRID\",\"SEVILLA\",\"SEVILLA\",\"SEVILLA\",\"SEVILLA\",\"SEVILLA\",\"SEVILLA\",\"SEVILLA\",\"SEVILLA\",\"SEVILLA\",\"SEVILLA\",\"SEVILLA\",\"SEVILLA\",\"SEVILLA\",\"SEVILLA\",\"SEVILLA\",\"SEVILLA\",\"SEVILLA\",\"MADRID\",\"MADRID\",\"MADRID\",\"MADRID\",\"MADRID\",\"MADRID\",\"MADRID\",\"MADRID\",\"MADRID\",\"MADRID\",\"MADRID\",\"MADRID\",\"MADRID\",\"MADRID\",\"MADRID\",\"MADRID\",\"MADRID\",\"MADRID\",\"MADRID\",\"MADRID\",\"MADRID\",\"MADRID\",\"MADRID\",\"MADRID\",\"MADRID\",\"MADRID\",\"MADRID\",\"MADRID\",\"MADRID\",\"MADRID\",\"MADRID\",\"MADRID\",\"MADRID\",\"MADRID\",\"MADRID\",\"MADRID\",\"MADRID\",\"MADRID\",\"MADRID\",\"MADRID\",\"BARCELONA\",\"BARCELONA\",\"BARCELONA\",\"BARCELONA\",\"BARCELONA\",\"BARCELONA\",\"BARCELONA\",\"BARCELONA\",\"BARCELONA\",\"BARCELONA\",\"BARCELONA\",\"BARCELONA\",\"BARCELONA\",\"BARCELONA\",\"BARCELONA\",\"BARCELONA\",\"BARCELONA\",\"BARCELONA\",\"BARCELONA\",\"BARCELONA\",\"BARCELONA\",\"BARCELONA\",\"BARCELONA\",\"BARCELONA\",\"BARCELONA\",\"BARCELONA\",\"BARCELONA\",\"BARCELONA\",\"BARCELONA\",\"BARCELONA\",\"BARCELONA\",\"BARCELONA\",\"SEVILLA\",\"SEVILLA\",\"SEVILLA\",\"SEVILLA\",\"SEVILLA\",\"SEVILLA\",\"SEVILLA\",\"SEVILLA\",\"SEVILLA\",\"SEVILLA\",\"SEVILLA\",\"SEVILLA\",\"SEVILLA\",\"SEVILLA\",\"SEVILLA\",\"SEVILLA\",\"SEVILLA\",\"MADRID\",\"MADRID\",\"MADRID\",\"MADRID\",\"MADRID\",\"MADRID\",\"MADRID\",\"MADRID\",\"MADRID\",\"MADRID\",\"MADRID\",\"MADRID\",\"MADRID\",\"MADRID\",\"MADRID\",\"MADRID\",\"MADRID\",\"VALENCIA\",\"VALENCIA\",\"VALENCIA\",\"VALENCIA\",\"VALENCIA\",\"VALENCIA\",\"VALENCIA\",\"VALENCIA\",\"VALENCIA\",\"VALENCIA\",\"VALENCIA\",\"VALENCIA\",\"VALENCIA\",\"VALENCIA\",\"VALENCIA\",\"VALENCIA\",\"VALENCIA\",\"MADRID\",\"MADRID\",\"MADRID\",\"MADRID\",\"MADRID\",\"MADRID\",\"MADRID\",\"MADRID\",\"MADRID\",\"MADRID\",\"MADRID\",\"MADRID\",\"MADRID\",\"MADRID\",\"MADRID\",\"MADRID\",\"MADRID\",\"MADRID\",\"MADRID\",\"MADRID\",\"MADRID\",\"MADRID\",\"MADRID\",\"MADRID\",\"MADRID\",\"MADRID\",\"MADRID\",\"MADRID\",\"MADRID\",\"MADRID\",\"MADRID\",\"MADRID\",\"MADRID\",\"MADRID\",\"MADRID\",\"MADRID\",\"MADRID\",\"MADRID\",\"MADRID\",\"MADRID\"],\"xaxis\":\"x\",\"y\":[\"VALENCIA\",\"VALENCIA\",\"VALENCIA\",\"VALENCIA\",\"VALENCIA\",\"VALENCIA\",\"VALENCIA\",\"VALENCIA\",\"VALENCIA\",\"VALENCIA\",\"VALENCIA\",\"VALENCIA\",\"VALENCIA\",\"VALENCIA\",\"VALENCIA\",\"VALENCIA\",\"VALENCIA\",\"BARCELONA\",\"BARCELONA\",\"BARCELONA\",\"BARCELONA\",\"BARCELONA\",\"BARCELONA\",\"BARCELONA\",\"BARCELONA\",\"BARCELONA\",\"BARCELONA\",\"BARCELONA\",\"BARCELONA\",\"BARCELONA\",\"BARCELONA\",\"BARCELONA\",\"BARCELONA\",\"BARCELONA\",\"BARCELONA\",\"BARCELONA\",\"BARCELONA\",\"BARCELONA\",\"BARCELONA\",\"BARCELONA\",\"BARCELONA\",\"BARCELONA\",\"BARCELONA\",\"BARCELONA\",\"BARCELONA\",\"BARCELONA\",\"MADRID\",\"MADRID\",\"MADRID\",\"MADRID\",\"MADRID\",\"MADRID\",\"MADRID\",\"MADRID\",\"MADRID\",\"MADRID\",\"MADRID\",\"MADRID\",\"MADRID\",\"MADRID\",\"MADRID\",\"MADRID\",\"MADRID\",\"VALENCIA\",\"VALENCIA\",\"VALENCIA\",\"VALENCIA\",\"VALENCIA\",\"VALENCIA\",\"VALENCIA\",\"VALENCIA\",\"VALENCIA\",\"VALENCIA\",\"VALENCIA\",\"VALENCIA\",\"VALENCIA\",\"VALENCIA\",\"VALENCIA\",\"VALENCIA\",\"VALENCIA\",\"MADRID\",\"MADRID\",\"MADRID\",\"MADRID\",\"MADRID\",\"MADRID\",\"MADRID\",\"MADRID\",\"MADRID\",\"MADRID\",\"MADRID\",\"MADRID\",\"MADRID\",\"MADRID\",\"MADRID\",\"MADRID\",\"MADRID\",\"MADRID\",\"MADRID\",\"MADRID\",\"MADRID\",\"MADRID\",\"MADRID\",\"MADRID\",\"MADRID\",\"MADRID\",\"MADRID\",\"MADRID\",\"MADRID\",\"MADRID\",\"MADRID\",\"MADRID\",\"MADRID\",\"MADRID\",\"MADRID\",\"MADRID\",\"MADRID\",\"MADRID\",\"MADRID\",\"MADRID\",\"MADRID\",\"MADRID\",\"MADRID\",\"MADRID\",\"MADRID\",\"MADRID\",\"MADRID\",\"MADRID\",\"MADRID\",\"SEVILLA\",\"SEVILLA\",\"SEVILLA\",\"SEVILLA\",\"SEVILLA\",\"SEVILLA\",\"SEVILLA\",\"SEVILLA\",\"SEVILLA\",\"SEVILLA\",\"SEVILLA\",\"MADRID\",\"MADRID\",\"MADRID\",\"MADRID\",\"MADRID\",\"MADRID\",\"MADRID\",\"MADRID\",\"MADRID\",\"MADRID\",\"MADRID\",\"MADRID\",\"MADRID\",\"MADRID\",\"MADRID\",\"MADRID\",\"MADRID\",\"MADRID\",\"MADRID\",\"MADRID\",\"MADRID\",\"MADRID\",\"MADRID\",\"MADRID\",\"MADRID\",\"MADRID\",\"MADRID\",\"MADRID\",\"MADRID\",\"MADRID\",\"MADRID\",\"MADRID\",\"MADRID\",\"MADRID\",\"MADRID\",\"MADRID\",\"MADRID\",\"MADRID\",\"MADRID\",\"MADRID\",\"MADRID\",\"MADRID\",\"MADRID\",\"MADRID\",\"MADRID\",\"MADRID\",\"MADRID\",\"MADRID\",\"MADRID\",\"MADRID\",\"MADRID\",\"MADRID\",\"MADRID\",\"MADRID\",\"MADRID\",\"MADRID\",\"MADRID\",\"MADRID\",\"MADRID\",\"MADRID\",\"MADRID\",\"MADRID\",\"MADRID\",\"MADRID\",\"MADRID\",\"MADRID\",\"SEVILLA\",\"SEVILLA\",\"SEVILLA\",\"SEVILLA\",\"SEVILLA\",\"SEVILLA\",\"SEVILLA\",\"SEVILLA\",\"SEVILLA\",\"SEVILLA\",\"SEVILLA\",\"BARCELONA\",\"BARCELONA\",\"BARCELONA\",\"BARCELONA\",\"BARCELONA\",\"BARCELONA\",\"BARCELONA\",\"BARCELONA\",\"BARCELONA\",\"BARCELONA\",\"BARCELONA\",\"BARCELONA\",\"BARCELONA\",\"BARCELONA\",\"BARCELONA\",\"BARCELONA\",\"BARCELONA\",\"VALENCIA\",\"VALENCIA\",\"VALENCIA\",\"VALENCIA\",\"VALENCIA\",\"VALENCIA\",\"VALENCIA\",\"VALENCIA\",\"VALENCIA\",\"VALENCIA\",\"VALENCIA\",\"VALENCIA\",\"VALENCIA\",\"VALENCIA\",\"VALENCIA\",\"VALENCIA\",\"VALENCIA\",\"SEVILLA\",\"SEVILLA\",\"SEVILLA\",\"SEVILLA\",\"SEVILLA\",\"SEVILLA\",\"SEVILLA\",\"SEVILLA\",\"SEVILLA\",\"SEVILLA\",\"SEVILLA\",\"BARCELONA\",\"BARCELONA\",\"BARCELONA\",\"BARCELONA\",\"BARCELONA\",\"BARCELONA\",\"BARCELONA\",\"BARCELONA\",\"BARCELONA\",\"BARCELONA\",\"BARCELONA\",\"BARCELONA\",\"BARCELONA\",\"BARCELONA\",\"BARCELONA\",\"BARCELONA\",\"BARCELONA\",\"BARCELONA\",\"BARCELONA\",\"BARCELONA\",\"BARCELONA\",\"BARCELONA\",\"BARCELONA\",\"BARCELONA\",\"BARCELONA\",\"BARCELONA\",\"BARCELONA\",\"BARCELONA\",\"BARCELONA\",\"MADRID\",\"MADRID\",\"MADRID\",\"MADRID\",\"MADRID\",\"MADRID\",\"MADRID\",\"MADRID\",\"MADRID\",\"MADRID\",\"MADRID\",\"MADRID\",\"MADRID\",\"MADRID\",\"MADRID\",\"MADRID\",\"MADRID\",\"MADRID\",\"MADRID\",\"MADRID\",\"MADRID\",\"MADRID\",\"MADRID\",\"MADRID\",\"MADRID\",\"MADRID\",\"MADRID\",\"MADRID\",\"MADRID\",\"MADRID\",\"MADRID\",\"MADRID\",\"MADRID\",\"MADRID\",\"MADRID\",\"MADRID\",\"MADRID\",\"MADRID\",\"MADRID\",\"MADRID\",\"MADRID\",\"MADRID\",\"MADRID\",\"MADRID\",\"MADRID\",\"MADRID\",\"MADRID\",\"MADRID\",\"MADRID\",\"MADRID\",\"MADRID\",\"MADRID\",\"MADRID\",\"MADRID\",\"MADRID\",\"MADRID\",\"VALENCIA\",\"VALENCIA\",\"VALENCIA\",\"VALENCIA\",\"VALENCIA\",\"VALENCIA\",\"VALENCIA\",\"VALENCIA\",\"VALENCIA\",\"VALENCIA\",\"VALENCIA\",\"VALENCIA\",\"VALENCIA\",\"VALENCIA\",\"VALENCIA\",\"VALENCIA\",\"VALENCIA\",\"SEVILLA\",\"SEVILLA\",\"SEVILLA\",\"SEVILLA\",\"SEVILLA\",\"SEVILLA\",\"SEVILLA\",\"SEVILLA\",\"SEVILLA\",\"SEVILLA\",\"SEVILLA\",\"MADRID\",\"MADRID\",\"MADRID\",\"MADRID\",\"MADRID\",\"MADRID\",\"MADRID\",\"MADRID\",\"MADRID\",\"MADRID\",\"MADRID\",\"MADRID\",\"MADRID\",\"MADRID\",\"MADRID\",\"MADRID\",\"MADRID\",\"MADRID\",\"MADRID\",\"MADRID\",\"MADRID\",\"MADRID\",\"MADRID\",\"MADRID\",\"MADRID\",\"MADRID\",\"MADRID\",\"MADRID\",\"MADRID\",\"MADRID\",\"MADRID\",\"MADRID\",\"MADRID\",\"MADRID\",\"MADRID\",\"MADRID\",\"MADRID\",\"MADRID\",\"MADRID\",\"MADRID\",\"MADRID\",\"MADRID\",\"MADRID\",\"MADRID\",\"MADRID\",\"MADRID\",\"MADRID\",\"MADRID\",\"MADRID\",\"MADRID\",\"MADRID\",\"MADRID\",\"MADRID\",\"MADRID\",\"MADRID\",\"MADRID\",\"MADRID\",\"MADRID\",\"MADRID\",\"MADRID\",\"MADRID\",\"MADRID\",\"MADRID\",\"MADRID\",\"MADRID\",\"MADRID\",\"VALENCIA\",\"VALENCIA\",\"VALENCIA\",\"VALENCIA\",\"VALENCIA\",\"VALENCIA\",\"VALENCIA\",\"VALENCIA\",\"VALENCIA\",\"VALENCIA\",\"VALENCIA\",\"VALENCIA\",\"VALENCIA\",\"VALENCIA\",\"VALENCIA\",\"VALENCIA\",\"VALENCIA\",\"BARCELONA\",\"BARCELONA\",\"BARCELONA\",\"BARCELONA\",\"BARCELONA\",\"BARCELONA\",\"BARCELONA\",\"BARCELONA\",\"BARCELONA\",\"BARCELONA\",\"BARCELONA\",\"BARCELONA\",\"BARCELONA\",\"BARCELONA\",\"BARCELONA\",\"BARCELONA\",\"BARCELONA\",\"BARCELONA\",\"BARCELONA\",\"BARCELONA\",\"BARCELONA\",\"BARCELONA\",\"BARCELONA\",\"BARCELONA\",\"BARCELONA\",\"BARCELONA\",\"BARCELONA\",\"BARCELONA\",\"BARCELONA\",\"MADRID\",\"MADRID\",\"MADRID\",\"MADRID\",\"MADRID\",\"MADRID\",\"MADRID\",\"MADRID\",\"MADRID\",\"MADRID\",\"MADRID\",\"MADRID\",\"MADRID\",\"MADRID\",\"MADRID\",\"MADRID\",\"MADRID\",\"BARCELONA\",\"BARCELONA\",\"BARCELONA\",\"BARCELONA\",\"BARCELONA\",\"BARCELONA\",\"BARCELONA\",\"BARCELONA\",\"BARCELONA\",\"BARCELONA\",\"BARCELONA\",\"BARCELONA\",\"BARCELONA\",\"BARCELONA\",\"BARCELONA\",\"BARCELONA\",\"BARCELONA\",\"BARCELONA\",\"BARCELONA\",\"BARCELONA\",\"BARCELONA\",\"BARCELONA\",\"BARCELONA\",\"BARCELONA\",\"BARCELONA\",\"BARCELONA\",\"BARCELONA\",\"BARCELONA\",\"BARCELONA\",\"MADRID\",\"MADRID\",\"MADRID\",\"MADRID\",\"MADRID\",\"MADRID\",\"MADRID\",\"MADRID\",\"MADRID\",\"MADRID\",\"MADRID\",\"MADRID\",\"MADRID\",\"MADRID\",\"MADRID\",\"MADRID\",\"MADRID\",\"SEVILLA\",\"SEVILLA\",\"SEVILLA\",\"SEVILLA\",\"SEVILLA\",\"SEVILLA\",\"SEVILLA\",\"SEVILLA\",\"SEVILLA\",\"SEVILLA\",\"SEVILLA\",\"MADRID\",\"MADRID\",\"MADRID\",\"MADRID\",\"MADRID\",\"MADRID\",\"MADRID\",\"MADRID\",\"MADRID\",\"MADRID\",\"MADRID\",\"MADRID\",\"MADRID\",\"MADRID\",\"MADRID\",\"MADRID\",\"MADRID\",\"MADRID\",\"MADRID\",\"MADRID\",\"MADRID\",\"MADRID\",\"MADRID\",\"MADRID\",\"MADRID\",\"MADRID\",\"MADRID\",\"MADRID\",\"MADRID\",\"MADRID\",\"MADRID\",\"MADRID\",\"VALENCIA\",\"VALENCIA\",\"VALENCIA\",\"VALENCIA\",\"VALENCIA\",\"VALENCIA\",\"VALENCIA\",\"VALENCIA\",\"VALENCIA\",\"VALENCIA\",\"VALENCIA\",\"VALENCIA\",\"VALENCIA\",\"VALENCIA\",\"VALENCIA\",\"VALENCIA\",\"VALENCIA\",\"MADRID\",\"MADRID\",\"MADRID\",\"MADRID\",\"MADRID\",\"MADRID\",\"MADRID\",\"MADRID\",\"MADRID\",\"MADRID\",\"MADRID\",\"MADRID\",\"MADRID\",\"MADRID\",\"MADRID\",\"MADRID\",\"MADRID\",\"MADRID\",\"MADRID\",\"MADRID\",\"MADRID\",\"MADRID\",\"MADRID\",\"MADRID\",\"MADRID\",\"MADRID\",\"MADRID\",\"MADRID\",\"MADRID\",\"MADRID\",\"MADRID\",\"MADRID\",\"MADRID\",\"MADRID\",\"MADRID\",\"MADRID\",\"MADRID\",\"MADRID\",\"MADRID\",\"MADRID\",\"MADRID\",\"MADRID\",\"MADRID\",\"MADRID\",\"MADRID\",\"MADRID\",\"MADRID\",\"MADRID\",\"MADRID\",\"VALENCIA\",\"VALENCIA\",\"VALENCIA\",\"VALENCIA\",\"VALENCIA\",\"VALENCIA\",\"VALENCIA\",\"VALENCIA\",\"VALENCIA\",\"VALENCIA\",\"VALENCIA\",\"VALENCIA\",\"VALENCIA\",\"VALENCIA\",\"VALENCIA\",\"VALENCIA\",\"VALENCIA\",\"MADRID\",\"MADRID\",\"MADRID\",\"MADRID\",\"MADRID\",\"MADRID\",\"MADRID\",\"MADRID\",\"MADRID\",\"MADRID\",\"MADRID\",\"MADRID\",\"MADRID\",\"MADRID\",\"MADRID\",\"MADRID\",\"MADRID\",\"SEVILLA\",\"SEVILLA\",\"SEVILLA\",\"SEVILLA\",\"SEVILLA\",\"SEVILLA\",\"SEVILLA\",\"SEVILLA\",\"SEVILLA\",\"SEVILLA\",\"SEVILLA\",\"BARCELONA\",\"BARCELONA\",\"BARCELONA\",\"BARCELONA\",\"BARCELONA\",\"BARCELONA\",\"BARCELONA\",\"BARCELONA\",\"BARCELONA\",\"BARCELONA\",\"BARCELONA\",\"BARCELONA\",\"BARCELONA\",\"BARCELONA\",\"BARCELONA\",\"BARCELONA\",\"BARCELONA\",\"BARCELONA\",\"BARCELONA\",\"BARCELONA\",\"BARCELONA\",\"BARCELONA\",\"BARCELONA\",\"BARCELONA\",\"BARCELONA\",\"BARCELONA\",\"BARCELONA\",\"BARCELONA\",\"BARCELONA\",\"MADRID\",\"MADRID\",\"MADRID\",\"MADRID\",\"MADRID\",\"MADRID\",\"MADRID\",\"MADRID\",\"MADRID\",\"MADRID\",\"MADRID\",\"MADRID\",\"MADRID\",\"MADRID\",\"MADRID\",\"MADRID\",\"MADRID\",\"MADRID\",\"MADRID\",\"MADRID\",\"MADRID\",\"MADRID\",\"MADRID\",\"MADRID\",\"MADRID\",\"MADRID\",\"MADRID\",\"MADRID\",\"MADRID\",\"MADRID\",\"MADRID\",\"MADRID\",\"MADRID\",\"MADRID\",\"MADRID\",\"MADRID\",\"MADRID\",\"MADRID\",\"MADRID\",\"MADRID\",\"MADRID\",\"MADRID\",\"MADRID\",\"MADRID\",\"MADRID\",\"MADRID\",\"MADRID\",\"MADRID\",\"MADRID\",\"VALENCIA\",\"VALENCIA\",\"VALENCIA\",\"VALENCIA\",\"VALENCIA\",\"VALENCIA\",\"VALENCIA\",\"VALENCIA\",\"VALENCIA\",\"VALENCIA\",\"VALENCIA\",\"VALENCIA\",\"VALENCIA\",\"VALENCIA\",\"VALENCIA\",\"VALENCIA\",\"VALENCIA\",\"MADRID\",\"MADRID\",\"MADRID\",\"MADRID\",\"MADRID\",\"MADRID\",\"MADRID\",\"MADRID\",\"MADRID\",\"MADRID\",\"MADRID\",\"MADRID\",\"MADRID\",\"MADRID\",\"MADRID\",\"MADRID\",\"MADRID\",\"SEVILLA\",\"SEVILLA\",\"SEVILLA\",\"SEVILLA\",\"SEVILLA\",\"SEVILLA\",\"SEVILLA\",\"SEVILLA\",\"SEVILLA\",\"SEVILLA\",\"SEVILLA\",\"BARCELONA\",\"BARCELONA\",\"BARCELONA\",\"BARCELONA\",\"BARCELONA\",\"BARCELONA\",\"BARCELONA\",\"BARCELONA\",\"BARCELONA\",\"BARCELONA\",\"BARCELONA\",\"BARCELONA\",\"BARCELONA\",\"BARCELONA\",\"BARCELONA\",\"BARCELONA\",\"BARCELONA\",\"BARCELONA\",\"BARCELONA\",\"BARCELONA\",\"BARCELONA\",\"BARCELONA\",\"BARCELONA\",\"BARCELONA\",\"BARCELONA\",\"BARCELONA\",\"BARCELONA\",\"BARCELONA\",\"BARCELONA\"],\"yaxis\":\"y\",\"type\":\"scatter\"}],\"name\":\"AVE\"},{\"data\":[{\"customdata\":[[\"Turista con enlace\",\"Flexible\"],[\"Turista con enlace\",\"Flexible\"],[\"Turista con enlace\",\"Flexible\"],[\"Turista con enlace\",\"Flexible\"],[\"Turista con enlace\",\"Promo\"],[\"Turista con enlace\",\"Flexible\"],[\"Turista con enlace\",\"Flexible\"],[\"Turista con enlace\",\"Promo\"],[\"Turista con enlace\",\"Promo\"],[\"Turista con enlace\",\"Flexible\"],[\"Turista con enlace\",\"Flexible\"],[\"Turista con enlace\",\"Flexible\"],[\"Turista con enlace\",\"Flexible\"],[\"Turista con enlace\",\"Promo\"],[\"Turista con enlace\",\"Flexible\"],[\"Turista con enlace\",\"Flexible\"],[\"Turista con enlace\",\"Promo\"],[\"Turista con enlace\",\"Promo\"],[\"Turista con enlace\",\"Flexible\"],[\"Turista con enlace\",\"Flexible\"],[\"Turista con enlace\",\"Flexible\"],[\"Turista con enlace\",\"Flexible\"],[\"Turista con enlace\",\"Promo\"],[\"Turista con enlace\",\"Promo\"]],\"hovertemplate\":\"train_type=AVE-MD\\u003cbr\\u003eorigin=%{x}\\u003cbr\\u003edestination=%{y}\\u003cbr\\u003eprice=%{marker.size}\\u003cbr\\u003etrain_class=%{customdata[0]}\\u003cbr\\u003efare=%{customdata[1]}\\u003cextra\\u003e\\u003c\\u002fextra\\u003e\",\"legendgroup\":\"AVE-MD\",\"marker\":{\"color\":\"#00cc96\",\"size\":[71.0,71.0,71.0,71.0,35.75,71.0,71.0,35.75,35.75,71.0,71.0,71.0,71.0,35.75,71.0,71.0,35.75,35.75,71.0,71.0,71.0,71.0,35.75,35.75],\"sizemode\":\"area\",\"sizeref\":0.26925,\"symbol\":\"circle\"},\"mode\":\"markers\",\"name\":\"AVE-MD\",\"orientation\":\"v\",\"showlegend\":true,\"x\":[\"MADRID\",\"MADRID\",\"MADRID\",\"MADRID\",\"MADRID\",\"MADRID\",\"MADRID\",\"MADRID\",\"MADRID\",\"MADRID\",\"MADRID\",\"MADRID\",\"MADRID\",\"MADRID\",\"MADRID\",\"MADRID\",\"MADRID\",\"MADRID\",\"MADRID\",\"MADRID\",\"MADRID\",\"MADRID\",\"MADRID\",\"MADRID\"],\"xaxis\":\"x\",\"y\":[\"VALENCIA\",\"VALENCIA\",\"VALENCIA\",\"VALENCIA\",\"PONFERRADA\",\"VALENCIA\",\"VALENCIA\",\"PONFERRADA\",\"PONFERRADA\",\"VALENCIA\",\"VALENCIA\",\"VALENCIA\",\"VALENCIA\",\"PONFERRADA\",\"VALENCIA\",\"VALENCIA\",\"PONFERRADA\",\"PONFERRADA\",\"VALENCIA\",\"VALENCIA\",\"VALENCIA\",\"VALENCIA\",\"PONFERRADA\",\"PONFERRADA\"],\"yaxis\":\"y\",\"type\":\"scatter\"}],\"name\":\"AVE-MD\"},{\"data\":[{\"customdata\":[[\"Turista con enlace\",\"Flexible\"],[\"Turista con enlace\",\"Flexible\"],[\"Turista con enlace\",\"Promo\"],[\"Turista con enlace\",\"Flexible\"],[\"Turista con enlace\",\"Promo\"],[\"Turista con enlace\",\"Promo\"],[\"Turista con enlace\",\"Flexible\"],[\"Turista con enlace\",\"Flexible\"],[\"Turista con enlace\",\"Promo\"],[\"Turista con enlace\",\"Flexible\"],[\"Turista con enlace\",\"Promo\"],[\"Turista con enlace\",\"Promo\"],[\"Turista con enlace\",\"Flexible\"],[\"Turista con enlace\",\"Flexible\"],[\"Turista con enlace\",\"Promo\"],[\"Turista con enlace\",\"Promo\"]],\"hovertemplate\":\"train_type=AVE-LD\\u003cbr\\u003eorigin=%{x}\\u003cbr\\u003edestination=%{y}\\u003cbr\\u003eprice=%{marker.size}\\u003cbr\\u003etrain_class=%{customdata[0]}\\u003cbr\\u003efare=%{customdata[1]}\\u003cextra\\u003e\\u003c\\u002fextra\\u003e\",\"legendgroup\":\"AVE-LD\",\"marker\":{\"color\":\"#ab63fa\",\"size\":[56.1,56.1,31.2,56.1,31.2,31.2,56.1,56.1,31.2,56.1,31.2,31.2,56.1,56.1,31.2,31.2],\"sizemode\":\"area\",\"sizeref\":0.26925,\"symbol\":\"circle\"},\"mode\":\"markers\",\"name\":\"AVE-LD\",\"orientation\":\"v\",\"showlegend\":true,\"x\":[\"MADRID\",\"MADRID\",\"MADRID\",\"MADRID\",\"MADRID\",\"MADRID\",\"MADRID\",\"MADRID\",\"MADRID\",\"MADRID\",\"MADRID\",\"MADRID\",\"MADRID\",\"MADRID\",\"MADRID\",\"MADRID\"],\"xaxis\":\"x\",\"y\":[\"VALENCIA\",\"VALENCIA\",\"PONFERRADA\",\"VALENCIA\",\"PONFERRADA\",\"PONFERRADA\",\"VALENCIA\",\"VALENCIA\",\"PONFERRADA\",\"VALENCIA\",\"PONFERRADA\",\"PONFERRADA\",\"VALENCIA\",\"VALENCIA\",\"PONFERRADA\",\"PONFERRADA\"],\"yaxis\":\"y\",\"type\":\"scatter\"}],\"name\":\"AVE-LD\"},{\"data\":[{\"customdata\":[[\"Turista Plus\",\"Promo\"],[\"Turista\",\"Flexible\"],[\"Turista Plus\",\"Promo\"],[\"Turista Plus\",\"Promo\"],[\"Turista\",\"Promo\"],[\"Turista Plus\",\"Promo\"],[\"Turista Plus\",\"Promo\"],[\"Turista Plus\",\"Promo\"],[\"Turista Plus\",\"Promo\"],[\"Turista\",\"Flexible\"],[\"Turista Plus\",\"Promo\"],[\"Turista Plus\",\"Promo\"],[\"Turista\",\"Promo\"],[\"Turista Plus\",\"Promo\"],[\"Turista Plus\",\"Promo\"],[\"Turista Plus\",\"Promo\"],[\"Turista\",\"Promo\"],[\"Turista Plus\",\"Promo\"],[\"Turista Plus\",\"Promo\"],[\"Turista Plus\",\"Promo\"],[\"Turista Plus\",\"Promo\"],[\"Turista\",\"Flexible\"],[\"Turista Plus\",\"Promo\"],[\"Turista Plus\",\"Promo\"],[\"Turista\",\"Promo\"],[\"Turista Plus\",\"Promo\"],[\"Turista Plus\",\"Promo\"],[\"Turista Plus\",\"Promo\"],[\"Turista Plus\",\"Promo\"],[\"Turista\",\"Flexible\"],[\"Turista Plus\",\"Promo\"],[\"Turista Plus\",\"Promo\"],[\"Turista Plus\",\"Promo\"],[\"Turista\",\"Flexible\"],[\"Turista Plus\",\"Promo\"],[\"Turista Plus\",\"Promo\"],[\"Turista\",\"Promo\"],[\"Turista Plus\",\"Promo\"],[\"Turista Plus\",\"Promo\"],[\"Turista Plus\",\"Promo\"],[\"Turista Plus\",\"Promo\"],[\"Turista Plus\",\"Promo\"],[\"Turista Plus\",\"Promo\"],[\"Turista\",\"Flexible\"],[\"Turista\",\"Promo\"],[\"Turista Plus\",\"Promo\"],[\"Turista Plus\",\"Promo\"],[\"Turista Plus\",\"Promo\"],[\"Turista Plus\",\"Promo\"],[\"Turista\",\"Flexible\"],[\"Turista Plus\",\"Promo\"],[\"Turista Plus\",\"Promo\"],[\"Turista\",\"Promo\"],[\"Turista Plus\",\"Promo\"],[\"Turista Plus\",\"Promo\"],[\"Turista Plus\",\"Promo\"]],\"hovertemplate\":\"train_type=AV City\\u003cbr\\u003eorigin=%{x}\\u003cbr\\u003edestination=%{y}\\u003cbr\\u003eprice=%{marker.size}\\u003cbr\\u003etrain_class=%{customdata[0]}\\u003cbr\\u003efare=%{customdata[1]}\\u003cextra\\u003e\\u003c\\u002fextra\\u003e\",\"legendgroup\":\"AV City\",\"marker\":{\"color\":\"#FFA15A\",\"size\":[58.95,62.2,58.95,52.2,49.15,52.2,58.95,52.2,58.95,62.2,58.95,52.2,49.15,52.2,58.95,52.2,49.15,52.2,58.95,52.2,58.95,62.2,58.95,52.2,49.15,52.2,58.95,52.2,58.95,62.2,58.95,52.2,58.95,62.2,58.95,52.2,49.15,52.2,58.95,52.2,58.95,52.2,58.95,62.2,49.15,52.2,58.95,52.2,58.95,62.2,58.95,52.2,49.15,52.2,58.95,52.2],\"sizemode\":\"area\",\"sizeref\":0.26925,\"symbol\":\"circle\"},\"mode\":\"markers\",\"name\":\"AV City\",\"orientation\":\"v\",\"showlegend\":true,\"x\":[\"SEVILLA\",\"SEVILLA\",\"SEVILLA\",\"SEVILLA\",\"MADRID\",\"MADRID\",\"MADRID\",\"MADRID\",\"SEVILLA\",\"SEVILLA\",\"SEVILLA\",\"SEVILLA\",\"MADRID\",\"MADRID\",\"MADRID\",\"MADRID\",\"MADRID\",\"MADRID\",\"MADRID\",\"MADRID\",\"SEVILLA\",\"SEVILLA\",\"SEVILLA\",\"SEVILLA\",\"MADRID\",\"MADRID\",\"MADRID\",\"MADRID\",\"SEVILLA\",\"SEVILLA\",\"SEVILLA\",\"SEVILLA\",\"SEVILLA\",\"SEVILLA\",\"SEVILLA\",\"SEVILLA\",\"MADRID\",\"MADRID\",\"MADRID\",\"MADRID\",\"SEVILLA\",\"SEVILLA\",\"SEVILLA\",\"SEVILLA\",\"MADRID\",\"MADRID\",\"MADRID\",\"MADRID\",\"SEVILLA\",\"SEVILLA\",\"SEVILLA\",\"SEVILLA\",\"MADRID\",\"MADRID\",\"MADRID\",\"MADRID\"],\"xaxis\":\"x\",\"y\":[\"MADRID\",\"MADRID\",\"MADRID\",\"MADRID\",\"SEVILLA\",\"SEVILLA\",\"SEVILLA\",\"SEVILLA\",\"MADRID\",\"MADRID\",\"MADRID\",\"MADRID\",\"SEVILLA\",\"SEVILLA\",\"SEVILLA\",\"SEVILLA\",\"SEVILLA\",\"SEVILLA\",\"SEVILLA\",\"SEVILLA\",\"MADRID\",\"MADRID\",\"MADRID\",\"MADRID\",\"SEVILLA\",\"SEVILLA\",\"SEVILLA\",\"SEVILLA\",\"MADRID\",\"MADRID\",\"MADRID\",\"MADRID\",\"MADRID\",\"MADRID\",\"MADRID\",\"MADRID\",\"SEVILLA\",\"SEVILLA\",\"SEVILLA\",\"SEVILLA\",\"MADRID\",\"MADRID\",\"MADRID\",\"MADRID\",\"SEVILLA\",\"SEVILLA\",\"SEVILLA\",\"SEVILLA\",\"MADRID\",\"MADRID\",\"MADRID\",\"MADRID\",\"SEVILLA\",\"SEVILLA\",\"SEVILLA\",\"SEVILLA\"],\"yaxis\":\"y\",\"type\":\"scatter\"}],\"name\":\"AV City\"}]);\n",
       "                        }).then(function(){\n",
       "                            \n",
       "var gd = document.getElementById('9f8b24b6-4e05-4e73-a2e9-cfab25d783ca');\n",
       "var x = new MutationObserver(function (mutations, observer) {{\n",
       "        var display = window.getComputedStyle(gd).display;\n",
       "        if (!display || display === 'none') {{\n",
       "            console.log([gd, 'removed!']);\n",
       "            Plotly.purge(gd);\n",
       "            observer.disconnect();\n",
       "        }}\n",
       "}});\n",
       "\n",
       "// Listen for the removal of the full notebook cells\n",
       "var notebookContainer = gd.closest('#notebook-container');\n",
       "if (notebookContainer) {{\n",
       "    x.observe(notebookContainer, {childList: true});\n",
       "}}\n",
       "\n",
       "// Listen for the clearing of the current output cell\n",
       "var outputEl = gd.closest('.output');\n",
       "if (outputEl) {{\n",
       "    x.observe(outputEl, {childList: true});\n",
       "}}\n",
       "\n",
       "                        })                };                });            </script>        </div>"
      ]
     },
     "metadata": {},
     "output_type": "display_data"
    }
   ],
   "source": [
    "import pandas as pd\n",
    "import plotly.express as px\n",
    "from ipywidgets import interact, widgets\n",
    "\n",
    "# Read the CSV file into a DataFrame\n",
    "df = pd.read_csv('Book112.csv')\n",
    "\n",
    "# Handle NaN values in 'price' column\n",
    "df['price'].fillna(0, inplace=True)  # Replace NaN values with 0, you can choose another strategy based on your data\n",
    "\n",
    "# Animated graph\n",
    "animated_fig = px.scatter(df, x='origin', y='destination', animation_frame='train_type',\n",
    "                          color='train_type', size='price', hover_data=['train_class', 'fare'],\n",
    "                          title='Animated Graph - Train Types')\n",
    "animated_fig.update_layout(updatemenus=[dict(type='buttons', showactive=False,\n",
    "                                              buttons=[dict(label='Play',\n",
    "                                                            method='animate', args=[None, dict(frame=dict(duration=1000, redraw=True), fromcurrent=True)]),\n",
    "                                                       dict(label='Pause',\n",
    "                                                            method='animate', args=[[None], dict(frame=dict(duration=0, redraw=True), mode='immediate', transition=dict(duration=0))])])])\n",
    "\n",
    "# Dynamic graph function\n",
    "def dynamic_graph(train_type):\n",
    "    filtered_data = df[df['train_type'] == train_type]\n",
    "    \n",
    "    fig = px.scatter(filtered_data, x='origin', y='destination',\n",
    "                     color='train_type', size='price',\n",
    "                     hover_data=['train_class', 'fare'],\n",
    "                     title=f'Dynamic Graph - {train_type} Trains')\n",
    "    fig.show()\n",
    "\n",
    "# Interactive widgets for dynamic graph\n",
    "train_type_widget = widgets.Dropdown(\n",
    "    options=list(df['train_type'].unique()),\n",
    "    value=df['train_type'].iloc[0],\n",
    "    description='Train Type'\n",
    ")\n",
    "\n",
    "interact(dynamic_graph, train_type=train_type_widget)\n",
    "animated_fig.show()\n"
   ]
  },
  {
   "cell_type": "code",
   "execution_count": 14,
   "id": "8a355d28",
   "metadata": {},
   "outputs": [
    {
     "data": {
      "application/vnd.jupyter.widget-view+json": {
       "model_id": "ae2d2f1350be46deac824fa2b1670efd",
       "version_major": 2,
       "version_minor": 0
      },
      "text/plain": [
       "interactive(children=(Dropdown(description='Train Type (Graph 3)', options=('ALVIA', 'AVE', 'AVE-MD', 'AVE-LD'…"
      ]
     },
     "metadata": {},
     "output_type": "display_data"
    },
    {
     "data": {
      "application/vnd.jupyter.widget-view+json": {
       "model_id": "ce2e9c28f5554c74ab4279fd11e11395",
       "version_major": 2,
       "version_minor": 0
      },
      "text/plain": [
       "interactive(children=(Dropdown(description='Train Type (Graph 4)', options=('ALVIA', 'AVE', 'AVE-MD', 'AVE-LD'…"
      ]
     },
     "metadata": {},
     "output_type": "display_data"
    },
    {
     "data": {
      "application/vnd.plotly.v1+json": {
       "config": {
        "plotlyServerURL": "https://plot.ly"
       },
       "data": [
        {
         "hovertemplate": "origin=PONFERRADA<br>train_type=%{x}<br>price=%{y}<extra></extra>",
         "legendgroup": "PONFERRADA",
         "line": {
          "color": "#636efa",
          "dash": "solid"
         },
         "marker": {
          "symbol": "circle"
         },
         "mode": "lines",
         "name": "PONFERRADA",
         "orientation": "v",
         "showlegend": true,
         "type": "scatter",
         "x": [
          "ALVIA",
          "ALVIA",
          "ALVIA",
          "ALVIA",
          "ALVIA",
          "ALVIA",
          "ALVIA",
          "ALVIA"
         ],
         "xaxis": "x",
         "y": [
          27.9,
          27.9,
          27.9,
          27.9,
          27.9,
          27.9,
          27.9,
          27.9
         ],
         "yaxis": "y"
        }
       ],
       "frames": [
        {
         "data": [
          {
           "hovertemplate": "origin=PONFERRADA<br>train_type=%{x}<br>price=%{y}<extra></extra>",
           "legendgroup": "PONFERRADA",
           "line": {
            "color": "#636efa",
            "dash": "solid"
           },
           "marker": {
            "symbol": "circle"
           },
           "mode": "lines",
           "name": "PONFERRADA",
           "orientation": "v",
           "showlegend": true,
           "type": "scatter",
           "x": [
            "ALVIA",
            "ALVIA",
            "ALVIA",
            "ALVIA",
            "ALVIA",
            "ALVIA",
            "ALVIA",
            "ALVIA"
           ],
           "xaxis": "x",
           "y": [
            27.9,
            27.9,
            27.9,
            27.9,
            27.9,
            27.9,
            27.9,
            27.9
           ],
           "yaxis": "y"
          }
         ],
         "name": "PONFERRADA"
        },
        {
         "data": [
          {
           "hovertemplate": "origin=MADRID<br>train_type=%{x}<br>price=%{y}<extra></extra>",
           "legendgroup": "MADRID",
           "line": {
            "color": "#EF553B",
            "dash": "solid"
           },
           "marker": {
            "symbol": "circle"
           },
           "mode": "lines",
           "name": "MADRID",
           "orientation": "v",
           "showlegend": true,
           "type": "scatter",
           "x": [
            "AVE",
            "AVE",
            "AVE",
            "AVE",
            "AVE",
            "AVE-MD",
            "AVE",
            "AVE-LD",
            "AVE",
            "AVE",
            "AVE",
            "AVE",
            "AVE",
            "AVE",
            "AVE",
            "AVE-MD",
            "AVE",
            "AVE",
            "AVE",
            "AVE",
            "AVE",
            "AVE",
            "AVE",
            "AVE",
            "AVE",
            "AVE",
            "AVE",
            "AVE",
            "AVE",
            "AVE",
            "AVE",
            "AVE",
            "AVE",
            "AVE",
            "AVE",
            "AVE",
            "AVE",
            "AVE",
            "AVE",
            "AVE",
            "AVE",
            "AVE",
            "AVE",
            "AVE",
            "AVE",
            "AVE",
            "AVE",
            "AVE",
            "AVE",
            "AVE",
            "AVE",
            "AVE",
            "AVE",
            "AVE",
            "AVE-MD",
            "AVE",
            "AVE-LD",
            "AVE",
            "AVE",
            "AVE",
            "AVE",
            "AVE",
            "AVE",
            "AVE",
            "AVE-MD",
            "AVE",
            "AVE",
            "AVE",
            "AVE",
            "AVE-MD",
            "AVE-LD",
            "ALVIA",
            "AV City",
            "AVE",
            "AVE",
            "AVE",
            "AV City",
            "AV City",
            "AVE",
            "AVE",
            "AVE",
            "ALVIA",
            "AVE",
            "AVE",
            "AVE",
            "AVE",
            "AVE",
            "AV City",
            "AV City",
            "AVE",
            "AVE",
            "AVE",
            "AV City",
            "AV City",
            "AVE",
            "AVE",
            "AVE",
            "ALVIA",
            "AVE",
            "AVE",
            "AVE",
            "AVE",
            "AVE",
            "AV City",
            "AVE",
            "AVE",
            "AVE",
            "AVE",
            "AVE",
            "AVE",
            "AVE",
            "AVE",
            "AVE",
            "AVE",
            "AVE",
            "AVE",
            "AVE",
            "AVE",
            "AVE",
            "AVE",
            "AVE",
            "AVE",
            "AVE",
            "AVE",
            "AVE",
            "AVE",
            "AVE-MD",
            "AVE",
            "AVE-LD",
            "AVE",
            "AVE",
            "AVE",
            "AVE",
            "AVE",
            "AVE",
            "AVE",
            "AVE-MD",
            "AVE",
            "AVE",
            "AVE",
            "AVE",
            "AVE-MD",
            "AVE-LD",
            "ALVIA",
            "AV City",
            "AVE",
            "AVE",
            "AVE",
            "AV City",
            "AV City",
            "AVE",
            "AVE",
            "AVE",
            "ALVIA",
            "AVE",
            "AVE",
            "AVE",
            "AVE",
            "AVE",
            "AV City",
            "AVE-MD",
            "AVE-LD",
            "ALVIA",
            "AVE",
            "AVE",
            "AVE",
            "AVE",
            "AVE",
            "AVE",
            "AVE",
            "AVE",
            "AVE",
            "AVE",
            "AVE",
            "AVE",
            "AVE",
            "AVE",
            "AVE",
            "AVE",
            "AVE",
            "AVE",
            "AVE",
            "AVE",
            "AVE",
            "AVE",
            "AVE",
            "AVE",
            "AVE",
            "AVE",
            "AVE",
            "AVE",
            "AVE",
            "AVE",
            "AVE",
            "AVE",
            "AVE",
            "AVE",
            "AVE-MD",
            "AVE",
            "AVE-LD",
            "AVE",
            "AVE",
            "AVE",
            "AVE",
            "AVE",
            "AVE",
            "AVE",
            "AVE-MD",
            "AVE",
            "AVE",
            "AVE",
            "AVE",
            "AV City",
            "AVE",
            "AVE",
            "AVE",
            "AV City",
            "AV City",
            "AVE",
            "AVE",
            "AVE",
            "ALVIA",
            "AVE",
            "AVE",
            "AVE",
            "AVE",
            "AVE",
            "AV City",
            "AVE",
            "AVE",
            "AVE",
            "AVE",
            "AVE",
            "AVE-MD",
            "AVE",
            "AVE-LD",
            "AVE",
            "AVE",
            "AVE",
            "AVE",
            "AVE",
            "AVE",
            "AVE",
            "AVE-MD",
            "AVE",
            "AVE",
            "AVE",
            "AVE",
            "AVE-MD",
            "AVE-LD",
            "ALVIA",
            "AVE",
            "AVE",
            "AVE",
            "AVE",
            "AVE",
            "AVE",
            "AVE",
            "AVE",
            "AVE",
            "AVE",
            "AVE",
            "AVE",
            "AVE",
            "AVE",
            "AVE",
            "AVE",
            "AVE",
            "AVE",
            "AVE",
            "AVE",
            "AVE",
            "AVE",
            "AVE",
            "AVE",
            "AVE",
            "AVE",
            "AVE",
            "AVE",
            "AVE",
            "AVE",
            "AVE",
            "AVE",
            "AVE",
            "AVE",
            "AVE",
            "AVE",
            "AVE",
            "AVE",
            "AVE",
            "AVE",
            "AVE",
            "AVE",
            "AVE",
            "AVE",
            "AVE",
            "AVE",
            "AVE",
            "AVE",
            "AVE",
            "AVE",
            "AVE",
            "AVE",
            "AVE",
            "AVE",
            "AVE",
            "AVE",
            "AVE",
            "AVE",
            "AV City",
            "AVE",
            "AVE",
            "AVE",
            "AV City",
            "AV City",
            "AVE",
            "AVE",
            "AVE",
            "ALVIA",
            "AVE",
            "AVE",
            "AVE",
            "AVE",
            "AVE",
            "AV City",
            "AVE",
            "AVE",
            "AVE",
            "AVE",
            "AVE",
            "AVE-MD",
            "AVE",
            "AVE-LD",
            "AVE",
            "AVE",
            "AVE",
            "AVE",
            "AVE",
            "AVE",
            "AVE",
            "AVE-MD",
            "AVE",
            "AVE",
            "AVE",
            "AVE",
            "AVE-MD",
            "AVE-LD",
            "ALVIA",
            "AVE-MD",
            "AVE-LD",
            "ALVIA",
            "AVE",
            "AVE",
            "AVE",
            "AVE",
            "AVE-MD",
            "AVE",
            "AVE",
            "AVE",
            "AVE",
            "AVE",
            "AVE",
            "AVE",
            "AVE",
            "AVE",
            "AVE-MD",
            "AVE",
            "AVE-LD",
            "AVE",
            "AVE",
            "AVE",
            "AV City",
            "AVE",
            "AVE",
            "AVE",
            "AV City",
            "AV City",
            "AVE",
            "AVE",
            "AVE",
            "ALVIA",
            "AVE",
            "AVE",
            "AVE",
            "AVE",
            "AVE",
            "AV City",
            "AVE",
            "AVE",
            "AVE",
            "AVE",
            "AVE",
            "AVE",
            "AVE",
            "AVE",
            "AVE",
            "AVE",
            "AVE",
            "AVE",
            "AVE",
            "AVE",
            "AVE",
            "AVE",
            "AVE",
            "AVE",
            "AVE",
            "AVE",
            "AVE",
            "AVE",
            "AVE",
            "AVE",
            "AVE",
            "AVE",
            "AVE",
            "AVE",
            "AVE",
            "AVE",
            "AVE",
            "AVE",
            "AVE",
            "AVE",
            "AVE-MD",
            "AVE",
            "AVE-LD",
            "AVE",
            "AVE",
            "AVE",
            "AVE",
            "AVE",
            "AVE",
            "AVE",
            "AVE-MD",
            "AVE",
            "AVE",
            "AVE",
            "AVE",
            "AV City",
            "AVE",
            "AVE",
            "AVE",
            "AV City",
            "AV City",
            "AVE",
            "AVE",
            "AVE",
            "ALVIA",
            "AVE",
            "AVE",
            "AVE",
            "AVE",
            "AVE",
            "AV City",
            "AVE-MD",
            "AVE-LD",
            "ALVIA",
            "AVE",
            "AVE",
            "AVE",
            "AVE",
            "AVE",
            "AVE",
            "AVE",
            "AVE",
            "AVE",
            "AVE",
            "AVE",
            "AVE",
            "AVE",
            "AVE",
            "AVE",
            "AVE",
            "AVE",
            "AVE",
            "AVE",
            "AVE",
            "AVE",
            "AVE",
            "AVE",
            "AVE",
            "AVE",
            "AVE",
            "AVE",
            "AVE",
            "AVE",
            "AVE-MD",
            "AVE-LD"
           ],
           "xaxis": "x",
           "y": [
            21.95,
            39.45,
            21.95,
            33.65,
            45.3,
            71,
            45.3,
            56.1,
            51.15,
            39.45,
            33.65,
            45.3,
            33.65,
            27.8,
            39.45,
            71,
            33.65,
            39.45,
            45.3,
            33.65,
            66.75,
            66.75,
            85.1,
            85.1,
            85.1,
            107.7,
            102.15,
            88.95,
            90.5,
            90.5,
            88.95,
            88.95,
            100.4,
            85.1,
            88.95,
            85.1,
            75.4,
            58.15,
            75.4,
            85.1,
            75.4,
            75.4,
            75.4,
            80.15,
            80.15,
            80.15,
            69.8,
            58.15,
            66.75,
            21.95,
            39.45,
            21.95,
            33.65,
            45.3,
            71,
            45.3,
            56.1,
            51.15,
            39.45,
            33.65,
            45.3,
            33.65,
            27.8,
            39.45,
            71,
            33.65,
            39.45,
            45.3,
            33.65,
            35.75,
            31.2,
            33.5,
            49.15,
            76.3,
            64.05,
            64.05,
            52.2,
            58.95,
            47.3,
            53.4,
            53.4,
            0,
            76.3,
            47.3,
            47.3,
            47.3,
            47.3,
            52.2,
            49.15,
            76.3,
            64.05,
            64.05,
            52.2,
            58.95,
            47.3,
            53.4,
            53.4,
            0,
            76.3,
            47.3,
            47.3,
            47.3,
            47.3,
            52.2,
            66.75,
            66.75,
            85.1,
            85.1,
            85.1,
            107.7,
            102.15,
            88.95,
            90.5,
            90.5,
            88.95,
            88.95,
            100.4,
            85.1,
            88.95,
            85.1,
            75.4,
            21.95,
            39.45,
            21.95,
            33.65,
            45.3,
            71,
            45.3,
            56.1,
            51.15,
            39.45,
            33.65,
            45.3,
            33.65,
            27.8,
            39.45,
            71,
            33.65,
            39.45,
            45.3,
            33.65,
            35.75,
            31.2,
            33.5,
            49.15,
            76.3,
            64.05,
            64.05,
            52.2,
            58.95,
            47.3,
            53.4,
            53.4,
            0,
            76.3,
            47.3,
            47.3,
            47.3,
            47.3,
            52.2,
            35.75,
            31.2,
            33.5,
            88.95,
            66.75,
            66.75,
            85.1,
            85.1,
            85.1,
            107.7,
            102.15,
            88.95,
            90.5,
            90.5,
            88.95,
            88.95,
            100.4,
            85.1,
            85.1,
            75.4,
            58.15,
            75.4,
            85.1,
            75.4,
            75.4,
            75.4,
            80.15,
            80.15,
            80.15,
            69.8,
            58.15,
            66.75,
            21.95,
            39.45,
            21.95,
            33.65,
            45.3,
            71,
            45.3,
            56.1,
            51.15,
            39.45,
            33.65,
            45.3,
            33.65,
            27.8,
            39.45,
            71,
            33.65,
            39.45,
            45.3,
            33.65,
            49.15,
            76.3,
            64.05,
            64.05,
            52.2,
            58.95,
            47.3,
            53.4,
            53.4,
            0,
            76.3,
            47.3,
            47.3,
            47.3,
            47.3,
            52.2,
            21.95,
            39.45,
            21.95,
            33.65,
            45.3,
            71,
            45.3,
            56.1,
            51.15,
            39.45,
            33.65,
            45.3,
            33.65,
            27.8,
            39.45,
            71,
            33.65,
            39.45,
            45.3,
            33.65,
            35.75,
            31.2,
            33.5,
            66.75,
            66.75,
            85.1,
            85.1,
            85.1,
            107.7,
            102.15,
            88.95,
            90.5,
            90.5,
            88.95,
            88.95,
            100.4,
            85.1,
            88.95,
            85.1,
            75.4,
            58.15,
            75.4,
            85.1,
            75.4,
            75.4,
            75.4,
            80.15,
            80.15,
            80.15,
            69.8,
            58.15,
            66.75,
            66.75,
            66.75,
            85.1,
            85.1,
            85.1,
            107.7,
            102.15,
            88.95,
            90.5,
            90.5,
            88.95,
            88.95,
            100.4,
            85.1,
            88.95,
            85.1,
            75.4,
            58.15,
            75.4,
            85.1,
            75.4,
            75.4,
            75.4,
            80.15,
            80.15,
            80.15,
            69.8,
            58.15,
            66.75,
            49.15,
            76.3,
            64.05,
            64.05,
            52.2,
            58.95,
            47.3,
            53.4,
            53.4,
            0,
            76.3,
            47.3,
            47.3,
            47.3,
            47.3,
            52.2,
            21.95,
            39.45,
            21.95,
            33.65,
            45.3,
            71,
            45.3,
            56.1,
            51.15,
            39.45,
            33.65,
            45.3,
            33.65,
            27.8,
            39.45,
            71,
            33.65,
            39.45,
            45.3,
            33.65,
            35.75,
            31.2,
            33.5,
            35.75,
            31.2,
            33.5,
            45.3,
            33.65,
            27.8,
            39.45,
            71,
            33.65,
            39.45,
            45.3,
            33.65,
            21.95,
            39.45,
            21.95,
            33.65,
            45.3,
            71,
            45.3,
            56.1,
            51.15,
            39.45,
            33.65,
            49.15,
            76.3,
            64.05,
            64.05,
            52.2,
            58.95,
            47.3,
            53.4,
            53.4,
            0,
            76.3,
            47.3,
            47.3,
            47.3,
            47.3,
            52.2,
            66.75,
            66.75,
            85.1,
            85.1,
            85.1,
            107.7,
            102.15,
            88.95,
            90.5,
            90.5,
            88.95,
            88.95,
            100.4,
            85.1,
            88.95,
            85.1,
            75.4,
            58.15,
            75.4,
            85.1,
            75.4,
            75.4,
            75.4,
            80.15,
            80.15,
            80.15,
            69.8,
            58.15,
            66.75,
            21.95,
            39.45,
            21.95,
            33.65,
            45.3,
            71,
            45.3,
            56.1,
            51.15,
            39.45,
            33.65,
            45.3,
            33.65,
            27.8,
            39.45,
            71,
            33.65,
            39.45,
            45.3,
            33.65,
            49.15,
            76.3,
            64.05,
            64.05,
            52.2,
            58.95,
            47.3,
            53.4,
            53.4,
            0,
            76.3,
            47.3,
            47.3,
            47.3,
            47.3,
            52.2,
            35.75,
            31.2,
            33.5,
            66.75,
            66.75,
            85.1,
            85.1,
            85.1,
            107.7,
            102.15,
            88.95,
            90.5,
            90.5,
            88.95,
            88.95,
            100.4,
            85.1,
            88.95,
            85.1,
            75.4,
            58.15,
            75.4,
            85.1,
            75.4,
            75.4,
            75.4,
            80.15,
            80.15,
            80.15,
            69.8,
            58.15,
            66.75,
            35.75,
            31.2
           ],
           "yaxis": "y"
          }
         ],
         "name": "MADRID"
        },
        {
         "data": [
          {
           "hovertemplate": "origin=SEVILLA<br>train_type=%{x}<br>price=%{y}<extra></extra>",
           "legendgroup": "SEVILLA",
           "line": {
            "color": "#00cc96",
            "dash": "solid"
           },
           "marker": {
            "symbol": "circle"
           },
           "mode": "lines",
           "name": "SEVILLA",
           "orientation": "v",
           "showlegend": true,
           "type": "scatter",
           "x": [
            "AV City",
            "ALVIA",
            "AVE",
            "AVE",
            "AVE",
            "AVE",
            "ALVIA",
            "AVE",
            "AVE",
            "AVE",
            "AVE",
            "AVE",
            "ALVIA",
            "AV City",
            "AV City",
            "AVE",
            "AVE",
            "AVE",
            "ALVIA",
            "AVE",
            "ALVIA",
            "AVE",
            "AVE",
            "AVE",
            "AVE",
            "AV City",
            "AV City",
            "ALVIA",
            "AVE",
            "AVE",
            "AVE",
            "AVE",
            "ALVIA",
            "AVE",
            "AVE",
            "AVE",
            "AVE",
            "AVE",
            "ALVIA",
            "AV City",
            "AV City",
            "AVE",
            "AVE",
            "AVE",
            "ALVIA",
            "AVE",
            "ALVIA",
            "AVE",
            "AVE",
            "AVE",
            "AVE",
            "AV City",
            "AV City",
            "ALVIA",
            "AVE",
            "AVE",
            "AVE",
            "AVE",
            "ALVIA",
            "AVE",
            "AVE",
            "AVE",
            "AVE",
            "AVE",
            "ALVIA",
            "AV City",
            "AV City",
            "AVE",
            "AVE",
            "AVE",
            "ALVIA",
            "AVE",
            "ALVIA",
            "AVE",
            "AVE",
            "AVE",
            "AVE",
            "AV City",
            "AV City",
            "ALVIA",
            "AVE",
            "AVE",
            "AVE",
            "AVE",
            "ALVIA",
            "AVE",
            "AVE",
            "AVE",
            "AVE",
            "AVE",
            "ALVIA",
            "AV City",
            "AV City",
            "AVE",
            "AVE",
            "AVE",
            "ALVIA",
            "AVE",
            "ALVIA",
            "AVE",
            "AVE",
            "AVE",
            "AVE",
            "AV City",
            "AV City",
            "ALVIA",
            "AVE",
            "AVE",
            "AVE",
            "AVE",
            "ALVIA",
            "AVE",
            "AVE",
            "AVE",
            "AVE",
            "AVE",
            "ALVIA",
            "AV City",
            "AV City",
            "AVE",
            "AVE",
            "AVE",
            "ALVIA",
            "AVE",
            "ALVIA",
            "AVE",
            "AVE",
            "AVE",
            "AVE",
            "AV City",
            "AV City",
            "AVE",
            "AVE",
            "AVE",
            "ALVIA",
            "AVE",
            "ALVIA",
            "AVE",
            "AVE",
            "AVE",
            "AVE",
            "AV City",
            "AV City",
            "ALVIA",
            "AVE",
            "AVE",
            "AVE",
            "AVE",
            "ALVIA",
            "AVE",
            "AVE",
            "AVE",
            "AVE",
            "AVE",
            "ALVIA",
            "AV City",
            "AV City",
            "ALVIA",
            "AVE",
            "AVE",
            "AVE",
            "AVE",
            "ALVIA",
            "AVE",
            "AVE",
            "AVE",
            "AVE",
            "AVE",
            "ALVIA",
            "AV City",
            "AV City",
            "AVE",
            "AVE",
            "AVE",
            "ALVIA",
            "AVE",
            "ALVIA",
            "AVE",
            "AVE",
            "AVE",
            "AVE",
            "AV City"
           ],
           "xaxis": "x",
           "y": [
            58.95,
            0,
            76.3,
            76.3,
            76.3,
            76.3,
            0,
            76.3,
            76.3,
            76.3,
            64.05,
            72.3,
            0,
            62.2,
            58.95,
            47.3,
            76.3,
            47.3,
            0,
            47.3,
            47.05,
            53.4,
            53.4,
            60.3,
            47.3,
            52.2,
            58.95,
            0,
            76.3,
            76.3,
            76.3,
            76.3,
            0,
            76.3,
            76.3,
            76.3,
            64.05,
            72.3,
            0,
            62.2,
            58.95,
            47.3,
            76.3,
            47.3,
            0,
            47.3,
            47.05,
            53.4,
            53.4,
            60.3,
            47.3,
            52.2,
            58.95,
            0,
            76.3,
            76.3,
            76.3,
            76.3,
            0,
            76.3,
            76.3,
            76.3,
            64.05,
            72.3,
            0,
            62.2,
            58.95,
            47.3,
            76.3,
            47.3,
            0,
            47.3,
            47.05,
            53.4,
            53.4,
            60.3,
            47.3,
            52.2,
            58.95,
            0,
            76.3,
            76.3,
            76.3,
            76.3,
            0,
            76.3,
            76.3,
            76.3,
            64.05,
            72.3,
            0,
            62.2,
            58.95,
            47.3,
            76.3,
            47.3,
            0,
            47.3,
            47.05,
            53.4,
            53.4,
            60.3,
            47.3,
            52.2,
            58.95,
            0,
            76.3,
            76.3,
            76.3,
            76.3,
            0,
            76.3,
            76.3,
            76.3,
            64.05,
            72.3,
            0,
            62.2,
            58.95,
            47.3,
            76.3,
            47.3,
            0,
            47.3,
            47.05,
            53.4,
            53.4,
            60.3,
            47.3,
            52.2,
            58.95,
            47.3,
            76.3,
            47.3,
            0,
            47.3,
            47.05,
            53.4,
            53.4,
            60.3,
            47.3,
            52.2,
            58.95,
            0,
            76.3,
            76.3,
            76.3,
            76.3,
            0,
            76.3,
            76.3,
            76.3,
            64.05,
            72.3,
            0,
            62.2,
            58.95,
            0,
            76.3,
            76.3,
            76.3,
            76.3,
            0,
            76.3,
            76.3,
            76.3,
            64.05,
            72.3,
            0,
            62.2,
            58.95,
            47.3,
            76.3,
            47.3,
            0,
            47.3,
            47.05,
            53.4,
            53.4,
            60.3,
            47.3,
            52.2
           ],
           "yaxis": "y"
          }
         ],
         "name": "SEVILLA"
        },
        {
         "data": [
          {
           "hovertemplate": "origin=VALENCIA<br>train_type=%{x}<br>price=%{y}<extra></extra>",
           "legendgroup": "VALENCIA",
           "line": {
            "color": "#ab63fa",
            "dash": "solid"
           },
           "marker": {
            "symbol": "circle"
           },
           "mode": "lines",
           "name": "VALENCIA",
           "orientation": "v",
           "showlegend": true,
           "type": "scatter",
           "x": [
            "AVE",
            "AVE",
            "AVE",
            "AVE",
            "AVE",
            "AVE",
            "AVE",
            "AVE",
            "AVE",
            "AVE",
            "AVE",
            "AVE",
            "AVE",
            "AVE",
            "AVE",
            "AVE",
            "AVE",
            "AVE",
            "AVE",
            "AVE",
            "AVE",
            "AVE",
            "AVE",
            "AVE",
            "AVE",
            "AVE",
            "AVE",
            "AVE",
            "AVE",
            "AVE",
            "AVE",
            "AVE",
            "AVE",
            "AVE",
            "AVE",
            "AVE",
            "AVE",
            "AVE",
            "AVE",
            "AVE",
            "AVE",
            "AVE",
            "AVE",
            "AVE",
            "AVE",
            "AVE",
            "AVE",
            "AVE",
            "AVE",
            "AVE",
            "AVE",
            "AVE",
            "AVE",
            "AVE",
            "AVE",
            "AVE",
            "AVE",
            "AVE",
            "AVE",
            "AVE",
            "AVE",
            "AVE",
            "AVE",
            "AVE",
            "AVE",
            "AVE",
            "AVE",
            "AVE",
            "AVE",
            "AVE",
            "AVE",
            "AVE",
            "AVE",
            "AVE",
            "AVE",
            "AVE",
            "AVE",
            "AVE",
            "AVE",
            "AVE",
            "AVE",
            "AVE",
            "AVE",
            "AVE",
            "AVE",
            "AVE",
            "AVE",
            "AVE",
            "AVE",
            "AVE",
            "AVE",
            "AVE",
            "AVE",
            "AVE",
            "AVE",
            "AVE",
            "AVE",
            "AVE",
            "AVE",
            "AVE",
            "AVE",
            "AVE",
            "AVE",
            "AVE",
            "AVE",
            "AVE",
            "AVE",
            "AVE",
            "AVE"
           ],
           "xaxis": "x",
           "y": [
            39.45,
            51.15,
            51.15,
            45.3,
            45.3,
            57.75,
            57.75,
            57.75,
            57.75,
            51.15,
            39.45,
            39.45,
            45.3,
            33.65,
            33.65,
            21.95,
            27.8,
            39.45,
            51.15,
            51.15,
            45.3,
            45.3,
            57.75,
            57.75,
            57.75,
            57.75,
            51.15,
            39.45,
            39.45,
            45.3,
            33.65,
            33.65,
            21.95,
            27.8,
            39.45,
            39.45,
            45.3,
            33.65,
            33.65,
            21.95,
            27.8,
            39.45,
            51.15,
            51.15,
            45.3,
            45.3,
            57.75,
            57.75,
            57.75,
            57.75,
            51.15,
            39.45,
            39.45,
            45.3,
            33.65,
            33.65,
            21.95,
            27.8,
            39.45,
            51.15,
            51.15,
            45.3,
            45.3,
            57.75,
            57.75,
            57.75,
            57.75,
            51.15,
            39.45,
            39.45,
            45.3,
            33.65,
            33.65,
            21.95,
            27.8,
            39.45,
            51.15,
            51.15,
            45.3,
            45.3,
            57.75,
            57.75,
            57.75,
            57.75,
            51.15,
            39.45,
            39.45,
            45.3,
            33.65,
            33.65,
            21.95,
            27.8,
            39.45,
            51.15,
            51.15,
            45.3,
            45.3,
            57.75,
            57.75,
            57.75,
            57.75,
            51.15,
            39.45,
            39.45,
            45.3,
            33.65,
            33.65,
            21.95,
            27.8
           ],
           "yaxis": "y"
          }
         ],
         "name": "VALENCIA"
        },
        {
         "data": [
          {
           "hovertemplate": "origin=BARCELONA<br>train_type=%{x}<br>price=%{y}<extra></extra>",
           "legendgroup": "BARCELONA",
           "line": {
            "color": "#FFA15A",
            "dash": "solid"
           },
           "marker": {
            "symbol": "circle"
           },
           "mode": "lines",
           "name": "BARCELONA",
           "orientation": "v",
           "showlegend": true,
           "type": "scatter",
           "x": [
            "AVE",
            "AVE",
            "AVE",
            "AVE",
            "AVE",
            "AVE",
            "AVE",
            "AVE",
            "AVE",
            "AVE",
            "AVE",
            "AVE",
            "AVE",
            "AVE",
            "AVE",
            "AVE",
            "AVE",
            "AVE",
            "AVE",
            "AVE",
            "AVE",
            "AVE",
            "AVE",
            "AVE",
            "AVE",
            "AVE",
            "AVE",
            "AVE",
            "AVE",
            "AVE",
            "AVE",
            "AVE",
            "AVE",
            "AVE",
            "AVE",
            "AVE",
            "AVE",
            "AVE",
            "AVE",
            "AVE",
            "AVE",
            "AVE",
            "AVE",
            "AVE",
            "AVE",
            "AVE",
            "AVE",
            "AVE",
            "AVE",
            "AVE",
            "AVE",
            "AVE",
            "AVE",
            "AVE",
            "AVE",
            "AVE",
            "AVE",
            "AVE",
            "AVE",
            "AVE",
            "AVE",
            "AVE",
            "AVE",
            "AVE",
            "AVE",
            "AVE",
            "AVE",
            "AVE",
            "AVE",
            "AVE",
            "AVE",
            "AVE",
            "AVE",
            "AVE",
            "AVE",
            "AVE",
            "AVE",
            "AVE",
            "AVE",
            "AVE",
            "AVE",
            "AVE",
            "AVE",
            "AVE",
            "AVE",
            "AVE",
            "AVE",
            "AVE",
            "AVE",
            "AVE",
            "AVE",
            "AVE",
            "AVE",
            "AVE",
            "AVE",
            "AVE",
            "AVE",
            "AVE",
            "AVE",
            "AVE",
            "AVE",
            "AVE",
            "AVE",
            "AVE",
            "AVE",
            "AVE",
            "AVE",
            "AVE",
            "AVE",
            "AVE",
            "AVE",
            "AVE",
            "AVE",
            "AVE",
            "AVE",
            "AVE",
            "AVE",
            "AVE",
            "AVE",
            "AVE",
            "AVE",
            "AVE",
            "AVE",
            "AVE",
            "AVE",
            "AVE",
            "AVE",
            "AVE",
            "AVE",
            "AVE",
            "AVE",
            "AVE",
            "AVE",
            "AVE",
            "AVE",
            "AVE",
            "AVE",
            "AVE",
            "AVE",
            "AVE",
            "AVE",
            "AVE",
            "AVE",
            "AVE",
            "AVE",
            "AVE",
            "AVE",
            "AVE",
            "AVE",
            "AVE",
            "AVE",
            "AVE",
            "AVE",
            "AVE",
            "AVE",
            "AVE",
            "AVE",
            "AVE",
            "AVE",
            "AVE",
            "AVE",
            "AVE",
            "AVE",
            "AVE",
            "AVE",
            "AVE",
            "AVE",
            "AVE",
            "AVE",
            "AVE",
            "AVE",
            "AVE",
            "AVE",
            "AVE",
            "AVE",
            "AVE",
            "AVE",
            "AVE",
            "AVE",
            "AVE",
            "AVE",
            "AVE",
            "AVE",
            "AVE",
            "AVE",
            "AVE",
            "AVE",
            "AVE",
            "AVE",
            "AVE",
            "AVE",
            "AVE",
            "AVE",
            "AVE",
            "AVE",
            "AVE",
            "AVE",
            "AVE",
            "AVE",
            "AVE",
            "AVE",
            "AVE",
            "AVE",
            "AVE",
            "AVE",
            "AVE",
            "AVE",
            "AVE",
            "AVE",
            "AVE",
            "AVE",
            "AVE",
            "AVE",
            "AVE",
            "AVE",
            "AVE",
            "AVE",
            "AVE",
            "AVE",
            "AVE",
            "AVE",
            "AVE",
            "AVE",
            "AVE"
           ],
           "xaxis": "x",
           "y": [
            85.1,
            66.75,
            85.1,
            85.1,
            85.1,
            107.7,
            107.7,
            102.15,
            90.5,
            90.5,
            100.4,
            107.7,
            100.4,
            100.4,
            102.15,
            100.4,
            85.1,
            107.7,
            69.8,
            75.4,
            75.4,
            78.8,
            85.1,
            85.1,
            75.4,
            58.15,
            66.75,
            75.4,
            69.8,
            58.15,
            66.75,
            49.55,
            69.8,
            75.4,
            75.4,
            78.8,
            85.1,
            85.1,
            85.1,
            75.4,
            58.15,
            66.75,
            75.4,
            69.8,
            58.15,
            66.75,
            49.55,
            66.75,
            85.1,
            85.1,
            85.1,
            107.7,
            107.7,
            102.15,
            90.5,
            90.5,
            100.4,
            107.7,
            100.4,
            100.4,
            102.15,
            100.4,
            85.1,
            107.7,
            66.75,
            85.1,
            85.1,
            85.1,
            107.7,
            107.7,
            102.15,
            90.5,
            90.5,
            100.4,
            107.7,
            100.4,
            100.4,
            102.15,
            100.4,
            85.1,
            107.7,
            69.8,
            75.4,
            75.4,
            78.8,
            85.1,
            85.1,
            85.1,
            75.4,
            58.15,
            66.75,
            75.4,
            69.8,
            58.15,
            66.75,
            49.55,
            66.75,
            85.1,
            85.1,
            85.1,
            107.7,
            107.7,
            102.15,
            90.5,
            90.5,
            100.4,
            107.7,
            100.4,
            100.4,
            102.15,
            100.4,
            85.1,
            107.7,
            69.8,
            75.4,
            75.4,
            78.8,
            85.1,
            85.1,
            85.1,
            75.4,
            58.15,
            66.75,
            75.4,
            69.8,
            58.15,
            66.75,
            49.55,
            66.75,
            85.1,
            85.1,
            85.1,
            107.7,
            107.7,
            102.15,
            90.5,
            90.5,
            100.4,
            107.7,
            100.4,
            100.4,
            102.15,
            100.4,
            85.1,
            107.7,
            69.8,
            75.4,
            75.4,
            78.8,
            85.1,
            85.1,
            85.1,
            75.4,
            58.15,
            66.75,
            75.4,
            69.8,
            58.15,
            66.75,
            49.55,
            66.75,
            85.1,
            85.1,
            85.1,
            107.7,
            107.7,
            102.15,
            90.5,
            90.5,
            100.4,
            107.7,
            100.4,
            100.4,
            102.15,
            100.4,
            85.1,
            107.7,
            69.8,
            75.4,
            75.4,
            78.8,
            85.1,
            85.1,
            85.1,
            75.4,
            58.15,
            66.75,
            75.4,
            69.8,
            58.15,
            66.75,
            49.55,
            66.75,
            85.1,
            85.1,
            85.1,
            107.7,
            107.7,
            102.15,
            90.5,
            90.5,
            100.4,
            107.7,
            100.4,
            100.4,
            102.15,
            100.4,
            85.1,
            107.7,
            69.8,
            75.4,
            75.4,
            78.8,
            85.1,
            85.1,
            85.1,
            75.4,
            58.15,
            66.75,
            75.4,
            69.8,
            58.15,
            66.75,
            49.55
           ],
           "yaxis": "y"
          }
         ],
         "name": "BARCELONA"
        }
       ],
       "layout": {
        "autosize": true,
        "legend": {
         "title": {
          "text": "origin"
         },
         "tracegroupgap": 0
        },
        "sliders": [
         {
          "active": 0,
          "currentvalue": {
           "prefix": "origin="
          },
          "len": 0.9,
          "pad": {
           "b": 10,
           "t": 60
          },
          "steps": [
           {
            "args": [
             [
              "PONFERRADA"
             ],
             {
              "frame": {
               "duration": 0,
               "redraw": false
              },
              "fromcurrent": true,
              "mode": "immediate",
              "transition": {
               "duration": 0,
               "easing": "linear"
              }
             }
            ],
            "label": "PONFERRADA",
            "method": "animate"
           },
           {
            "args": [
             [
              "MADRID"
             ],
             {
              "frame": {
               "duration": 0,
               "redraw": false
              },
              "fromcurrent": true,
              "mode": "immediate",
              "transition": {
               "duration": 0,
               "easing": "linear"
              }
             }
            ],
            "label": "MADRID",
            "method": "animate"
           },
           {
            "args": [
             [
              "SEVILLA"
             ],
             {
              "frame": {
               "duration": 0,
               "redraw": false
              },
              "fromcurrent": true,
              "mode": "immediate",
              "transition": {
               "duration": 0,
               "easing": "linear"
              }
             }
            ],
            "label": "SEVILLA",
            "method": "animate"
           },
           {
            "args": [
             [
              "VALENCIA"
             ],
             {
              "frame": {
               "duration": 0,
               "redraw": false
              },
              "fromcurrent": true,
              "mode": "immediate",
              "transition": {
               "duration": 0,
               "easing": "linear"
              }
             }
            ],
            "label": "VALENCIA",
            "method": "animate"
           },
           {
            "args": [
             [
              "BARCELONA"
             ],
             {
              "frame": {
               "duration": 0,
               "redraw": false
              },
              "fromcurrent": true,
              "mode": "immediate",
              "transition": {
               "duration": 0,
               "easing": "linear"
              }
             }
            ],
            "label": "BARCELONA",
            "method": "animate"
           }
          ],
          "x": 0.1,
          "xanchor": "left",
          "y": 0,
          "yanchor": "top"
         }
        ],
        "template": {
         "data": {
          "bar": [
           {
            "error_x": {
             "color": "#2a3f5f"
            },
            "error_y": {
             "color": "#2a3f5f"
            },
            "marker": {
             "line": {
              "color": "#E5ECF6",
              "width": 0.5
             },
             "pattern": {
              "fillmode": "overlay",
              "size": 10,
              "solidity": 0.2
             }
            },
            "type": "bar"
           }
          ],
          "barpolar": [
           {
            "marker": {
             "line": {
              "color": "#E5ECF6",
              "width": 0.5
             },
             "pattern": {
              "fillmode": "overlay",
              "size": 10,
              "solidity": 0.2
             }
            },
            "type": "barpolar"
           }
          ],
          "carpet": [
           {
            "aaxis": {
             "endlinecolor": "#2a3f5f",
             "gridcolor": "white",
             "linecolor": "white",
             "minorgridcolor": "white",
             "startlinecolor": "#2a3f5f"
            },
            "baxis": {
             "endlinecolor": "#2a3f5f",
             "gridcolor": "white",
             "linecolor": "white",
             "minorgridcolor": "white",
             "startlinecolor": "#2a3f5f"
            },
            "type": "carpet"
           }
          ],
          "choropleth": [
           {
            "colorbar": {
             "outlinewidth": 0,
             "ticks": ""
            },
            "type": "choropleth"
           }
          ],
          "contour": [
           {
            "colorbar": {
             "outlinewidth": 0,
             "ticks": ""
            },
            "colorscale": [
             [
              0,
              "#0d0887"
             ],
             [
              0.1111111111111111,
              "#46039f"
             ],
             [
              0.2222222222222222,
              "#7201a8"
             ],
             [
              0.3333333333333333,
              "#9c179e"
             ],
             [
              0.4444444444444444,
              "#bd3786"
             ],
             [
              0.5555555555555556,
              "#d8576b"
             ],
             [
              0.6666666666666666,
              "#ed7953"
             ],
             [
              0.7777777777777778,
              "#fb9f3a"
             ],
             [
              0.8888888888888888,
              "#fdca26"
             ],
             [
              1,
              "#f0f921"
             ]
            ],
            "type": "contour"
           }
          ],
          "contourcarpet": [
           {
            "colorbar": {
             "outlinewidth": 0,
             "ticks": ""
            },
            "type": "contourcarpet"
           }
          ],
          "heatmap": [
           {
            "colorbar": {
             "outlinewidth": 0,
             "ticks": ""
            },
            "colorscale": [
             [
              0,
              "#0d0887"
             ],
             [
              0.1111111111111111,
              "#46039f"
             ],
             [
              0.2222222222222222,
              "#7201a8"
             ],
             [
              0.3333333333333333,
              "#9c179e"
             ],
             [
              0.4444444444444444,
              "#bd3786"
             ],
             [
              0.5555555555555556,
              "#d8576b"
             ],
             [
              0.6666666666666666,
              "#ed7953"
             ],
             [
              0.7777777777777778,
              "#fb9f3a"
             ],
             [
              0.8888888888888888,
              "#fdca26"
             ],
             [
              1,
              "#f0f921"
             ]
            ],
            "type": "heatmap"
           }
          ],
          "heatmapgl": [
           {
            "colorbar": {
             "outlinewidth": 0,
             "ticks": ""
            },
            "colorscale": [
             [
              0,
              "#0d0887"
             ],
             [
              0.1111111111111111,
              "#46039f"
             ],
             [
              0.2222222222222222,
              "#7201a8"
             ],
             [
              0.3333333333333333,
              "#9c179e"
             ],
             [
              0.4444444444444444,
              "#bd3786"
             ],
             [
              0.5555555555555556,
              "#d8576b"
             ],
             [
              0.6666666666666666,
              "#ed7953"
             ],
             [
              0.7777777777777778,
              "#fb9f3a"
             ],
             [
              0.8888888888888888,
              "#fdca26"
             ],
             [
              1,
              "#f0f921"
             ]
            ],
            "type": "heatmapgl"
           }
          ],
          "histogram": [
           {
            "marker": {
             "pattern": {
              "fillmode": "overlay",
              "size": 10,
              "solidity": 0.2
             }
            },
            "type": "histogram"
           }
          ],
          "histogram2d": [
           {
            "colorbar": {
             "outlinewidth": 0,
             "ticks": ""
            },
            "colorscale": [
             [
              0,
              "#0d0887"
             ],
             [
              0.1111111111111111,
              "#46039f"
             ],
             [
              0.2222222222222222,
              "#7201a8"
             ],
             [
              0.3333333333333333,
              "#9c179e"
             ],
             [
              0.4444444444444444,
              "#bd3786"
             ],
             [
              0.5555555555555556,
              "#d8576b"
             ],
             [
              0.6666666666666666,
              "#ed7953"
             ],
             [
              0.7777777777777778,
              "#fb9f3a"
             ],
             [
              0.8888888888888888,
              "#fdca26"
             ],
             [
              1,
              "#f0f921"
             ]
            ],
            "type": "histogram2d"
           }
          ],
          "histogram2dcontour": [
           {
            "colorbar": {
             "outlinewidth": 0,
             "ticks": ""
            },
            "colorscale": [
             [
              0,
              "#0d0887"
             ],
             [
              0.1111111111111111,
              "#46039f"
             ],
             [
              0.2222222222222222,
              "#7201a8"
             ],
             [
              0.3333333333333333,
              "#9c179e"
             ],
             [
              0.4444444444444444,
              "#bd3786"
             ],
             [
              0.5555555555555556,
              "#d8576b"
             ],
             [
              0.6666666666666666,
              "#ed7953"
             ],
             [
              0.7777777777777778,
              "#fb9f3a"
             ],
             [
              0.8888888888888888,
              "#fdca26"
             ],
             [
              1,
              "#f0f921"
             ]
            ],
            "type": "histogram2dcontour"
           }
          ],
          "mesh3d": [
           {
            "colorbar": {
             "outlinewidth": 0,
             "ticks": ""
            },
            "type": "mesh3d"
           }
          ],
          "parcoords": [
           {
            "line": {
             "colorbar": {
              "outlinewidth": 0,
              "ticks": ""
             }
            },
            "type": "parcoords"
           }
          ],
          "pie": [
           {
            "automargin": true,
            "type": "pie"
           }
          ],
          "scatter": [
           {
            "fillpattern": {
             "fillmode": "overlay",
             "size": 10,
             "solidity": 0.2
            },
            "type": "scatter"
           }
          ],
          "scatter3d": [
           {
            "line": {
             "colorbar": {
              "outlinewidth": 0,
              "ticks": ""
             }
            },
            "marker": {
             "colorbar": {
              "outlinewidth": 0,
              "ticks": ""
             }
            },
            "type": "scatter3d"
           }
          ],
          "scattercarpet": [
           {
            "marker": {
             "colorbar": {
              "outlinewidth": 0,
              "ticks": ""
             }
            },
            "type": "scattercarpet"
           }
          ],
          "scattergeo": [
           {
            "marker": {
             "colorbar": {
              "outlinewidth": 0,
              "ticks": ""
             }
            },
            "type": "scattergeo"
           }
          ],
          "scattergl": [
           {
            "marker": {
             "colorbar": {
              "outlinewidth": 0,
              "ticks": ""
             }
            },
            "type": "scattergl"
           }
          ],
          "scattermapbox": [
           {
            "marker": {
             "colorbar": {
              "outlinewidth": 0,
              "ticks": ""
             }
            },
            "type": "scattermapbox"
           }
          ],
          "scatterpolar": [
           {
            "marker": {
             "colorbar": {
              "outlinewidth": 0,
              "ticks": ""
             }
            },
            "type": "scatterpolar"
           }
          ],
          "scatterpolargl": [
           {
            "marker": {
             "colorbar": {
              "outlinewidth": 0,
              "ticks": ""
             }
            },
            "type": "scatterpolargl"
           }
          ],
          "scatterternary": [
           {
            "marker": {
             "colorbar": {
              "outlinewidth": 0,
              "ticks": ""
             }
            },
            "type": "scatterternary"
           }
          ],
          "surface": [
           {
            "colorbar": {
             "outlinewidth": 0,
             "ticks": ""
            },
            "colorscale": [
             [
              0,
              "#0d0887"
             ],
             [
              0.1111111111111111,
              "#46039f"
             ],
             [
              0.2222222222222222,
              "#7201a8"
             ],
             [
              0.3333333333333333,
              "#9c179e"
             ],
             [
              0.4444444444444444,
              "#bd3786"
             ],
             [
              0.5555555555555556,
              "#d8576b"
             ],
             [
              0.6666666666666666,
              "#ed7953"
             ],
             [
              0.7777777777777778,
              "#fb9f3a"
             ],
             [
              0.8888888888888888,
              "#fdca26"
             ],
             [
              1,
              "#f0f921"
             ]
            ],
            "type": "surface"
           }
          ],
          "table": [
           {
            "cells": {
             "fill": {
              "color": "#EBF0F8"
             },
             "line": {
              "color": "white"
             }
            },
            "header": {
             "fill": {
              "color": "#C8D4E3"
             },
             "line": {
              "color": "white"
             }
            },
            "type": "table"
           }
          ]
         },
         "layout": {
          "annotationdefaults": {
           "arrowcolor": "#2a3f5f",
           "arrowhead": 0,
           "arrowwidth": 1
          },
          "autotypenumbers": "strict",
          "coloraxis": {
           "colorbar": {
            "outlinewidth": 0,
            "ticks": ""
           }
          },
          "colorscale": {
           "diverging": [
            [
             0,
             "#8e0152"
            ],
            [
             0.1,
             "#c51b7d"
            ],
            [
             0.2,
             "#de77ae"
            ],
            [
             0.3,
             "#f1b6da"
            ],
            [
             0.4,
             "#fde0ef"
            ],
            [
             0.5,
             "#f7f7f7"
            ],
            [
             0.6,
             "#e6f5d0"
            ],
            [
             0.7,
             "#b8e186"
            ],
            [
             0.8,
             "#7fbc41"
            ],
            [
             0.9,
             "#4d9221"
            ],
            [
             1,
             "#276419"
            ]
           ],
           "sequential": [
            [
             0,
             "#0d0887"
            ],
            [
             0.1111111111111111,
             "#46039f"
            ],
            [
             0.2222222222222222,
             "#7201a8"
            ],
            [
             0.3333333333333333,
             "#9c179e"
            ],
            [
             0.4444444444444444,
             "#bd3786"
            ],
            [
             0.5555555555555556,
             "#d8576b"
            ],
            [
             0.6666666666666666,
             "#ed7953"
            ],
            [
             0.7777777777777778,
             "#fb9f3a"
            ],
            [
             0.8888888888888888,
             "#fdca26"
            ],
            [
             1,
             "#f0f921"
            ]
           ],
           "sequentialminus": [
            [
             0,
             "#0d0887"
            ],
            [
             0.1111111111111111,
             "#46039f"
            ],
            [
             0.2222222222222222,
             "#7201a8"
            ],
            [
             0.3333333333333333,
             "#9c179e"
            ],
            [
             0.4444444444444444,
             "#bd3786"
            ],
            [
             0.5555555555555556,
             "#d8576b"
            ],
            [
             0.6666666666666666,
             "#ed7953"
            ],
            [
             0.7777777777777778,
             "#fb9f3a"
            ],
            [
             0.8888888888888888,
             "#fdca26"
            ],
            [
             1,
             "#f0f921"
            ]
           ]
          },
          "colorway": [
           "#636efa",
           "#EF553B",
           "#00cc96",
           "#ab63fa",
           "#FFA15A",
           "#19d3f3",
           "#FF6692",
           "#B6E880",
           "#FF97FF",
           "#FECB52"
          ],
          "font": {
           "color": "#2a3f5f"
          },
          "geo": {
           "bgcolor": "white",
           "lakecolor": "white",
           "landcolor": "#E5ECF6",
           "showlakes": true,
           "showland": true,
           "subunitcolor": "white"
          },
          "hoverlabel": {
           "align": "left"
          },
          "hovermode": "closest",
          "mapbox": {
           "style": "light"
          },
          "paper_bgcolor": "white",
          "plot_bgcolor": "#E5ECF6",
          "polar": {
           "angularaxis": {
            "gridcolor": "white",
            "linecolor": "white",
            "ticks": ""
           },
           "bgcolor": "#E5ECF6",
           "radialaxis": {
            "gridcolor": "white",
            "linecolor": "white",
            "ticks": ""
           }
          },
          "scene": {
           "xaxis": {
            "backgroundcolor": "#E5ECF6",
            "gridcolor": "white",
            "gridwidth": 2,
            "linecolor": "white",
            "showbackground": true,
            "ticks": "",
            "zerolinecolor": "white"
           },
           "yaxis": {
            "backgroundcolor": "#E5ECF6",
            "gridcolor": "white",
            "gridwidth": 2,
            "linecolor": "white",
            "showbackground": true,
            "ticks": "",
            "zerolinecolor": "white"
           },
           "zaxis": {
            "backgroundcolor": "#E5ECF6",
            "gridcolor": "white",
            "gridwidth": 2,
            "linecolor": "white",
            "showbackground": true,
            "ticks": "",
            "zerolinecolor": "white"
           }
          },
          "shapedefaults": {
           "line": {
            "color": "#2a3f5f"
           }
          },
          "ternary": {
           "aaxis": {
            "gridcolor": "white",
            "linecolor": "white",
            "ticks": ""
           },
           "baxis": {
            "gridcolor": "white",
            "linecolor": "white",
            "ticks": ""
           },
           "bgcolor": "#E5ECF6",
           "caxis": {
            "gridcolor": "white",
            "linecolor": "white",
            "ticks": ""
           }
          },
          "title": {
           "x": 0.05
          },
          "xaxis": {
           "automargin": true,
           "gridcolor": "white",
           "linecolor": "white",
           "ticks": "",
           "title": {
            "standoff": 15
           },
           "zerolinecolor": "white",
           "zerolinewidth": 2
          },
          "yaxis": {
           "automargin": true,
           "gridcolor": "white",
           "linecolor": "white",
           "ticks": "",
           "title": {
            "standoff": 15
           },
           "zerolinecolor": "white",
           "zerolinewidth": 2
          }
         }
        },
        "title": {
         "text": "Animated Price Trend over Time"
        },
        "updatemenus": [
         {
          "buttons": [
           {
            "args": [
             null,
             {
              "frame": {
               "duration": 500,
               "redraw": false
              },
              "fromcurrent": true,
              "mode": "immediate",
              "transition": {
               "duration": 500,
               "easing": "linear"
              }
             }
            ],
            "label": "&#9654;",
            "method": "animate"
           },
           {
            "args": [
             [
              null
             ],
             {
              "frame": {
               "duration": 0,
               "redraw": false
              },
              "fromcurrent": true,
              "mode": "immediate",
              "transition": {
               "duration": 0,
               "easing": "linear"
              }
             }
            ],
            "label": "&#9724;",
            "method": "animate"
           }
          ],
          "direction": "left",
          "pad": {
           "r": 10,
           "t": 70
          },
          "showactive": false,
          "type": "buttons",
          "x": 0.1,
          "xanchor": "right",
          "y": 0,
          "yanchor": "top"
         }
        ],
        "xaxis": {
         "anchor": "y",
         "autorange": true,
         "domain": [
          0,
          1
         ],
         "range": [
          -1,
          1
         ],
         "title": {
          "text": "train_type"
         },
         "type": "category"
        },
        "yaxis": {
         "anchor": "x",
         "autorange": true,
         "domain": [
          0,
          1
         ],
         "range": [
          26.9,
          28.9
         ],
         "title": {
          "text": "price"
         },
         "type": "linear"
        }
       }
      },
      "image/png": "[encoded data removed]",
      "text/html": [
       "<div>                            <div id=\"c0d8664f-6989-475d-850d-772358c3d9dd\" class=\"plotly-graph-div\" style=\"height:525px; width:100%;\"></div>            <script type=\"text/javascript\">                require([\"plotly\"], function(Plotly) {                    window.PLOTLYENV=window.PLOTLYENV || {};                                    if (document.getElementById(\"c0d8664f-6989-475d-850d-772358c3d9dd\")) {                    Plotly.newPlot(                        \"c0d8664f-6989-475d-850d-772358c3d9dd\",                        [{\"hovertemplate\":\"origin=PONFERRADA\\u003cbr\\u003etrain_type=%{x}\\u003cbr\\u003eprice=%{y}\\u003cextra\\u003e\\u003c\\u002fextra\\u003e\",\"legendgroup\":\"PONFERRADA\",\"line\":{\"color\":\"#636efa\",\"dash\":\"solid\"},\"marker\":{\"symbol\":\"circle\"},\"mode\":\"lines\",\"name\":\"PONFERRADA\",\"orientation\":\"v\",\"showlegend\":true,\"x\":[\"ALVIA\",\"ALVIA\",\"ALVIA\",\"ALVIA\",\"ALVIA\",\"ALVIA\",\"ALVIA\",\"ALVIA\"],\"xaxis\":\"x\",\"y\":[27.9,27.9,27.9,27.9,27.9,27.9,27.9,27.9],\"yaxis\":\"y\",\"type\":\"scatter\"}],                        {\"template\":{\"data\":{\"histogram2dcontour\":[{\"type\":\"histogram2dcontour\",\"colorbar\":{\"outlinewidth\":0,\"ticks\":\"\"},\"colorscale\":[[0.0,\"#0d0887\"],[0.1111111111111111,\"#46039f\"],[0.2222222222222222,\"#7201a8\"],[0.3333333333333333,\"#9c179e\"],[0.4444444444444444,\"#bd3786\"],[0.5555555555555556,\"#d8576b\"],[0.6666666666666666,\"#ed7953\"],[0.7777777777777778,\"#fb9f3a\"],[0.8888888888888888,\"#fdca26\"],[1.0,\"#f0f921\"]]}],\"choropleth\":[{\"type\":\"choropleth\",\"colorbar\":{\"outlinewidth\":0,\"ticks\":\"\"}}],\"histogram2d\":[{\"type\":\"histogram2d\",\"colorbar\":{\"outlinewidth\":0,\"ticks\":\"\"},\"colorscale\":[[0.0,\"#0d0887\"],[0.1111111111111111,\"#46039f\"],[0.2222222222222222,\"#7201a8\"],[0.3333333333333333,\"#9c179e\"],[0.4444444444444444,\"#bd3786\"],[0.5555555555555556,\"#d8576b\"],[0.6666666666666666,\"#ed7953\"],[0.7777777777777778,\"#fb9f3a\"],[0.8888888888888888,\"#fdca26\"],[1.0,\"#f0f921\"]]}],\"heatmap\":[{\"type\":\"heatmap\",\"colorbar\":{\"outlinewidth\":0,\"ticks\":\"\"},\"colorscale\":[[0.0,\"#0d0887\"],[0.1111111111111111,\"#46039f\"],[0.2222222222222222,\"#7201a8\"],[0.3333333333333333,\"#9c179e\"],[0.4444444444444444,\"#bd3786\"],[0.5555555555555556,\"#d8576b\"],[0.6666666666666666,\"#ed7953\"],[0.7777777777777778,\"#fb9f3a\"],[0.8888888888888888,\"#fdca26\"],[1.0,\"#f0f921\"]]}],\"heatmapgl\":[{\"type\":\"heatmapgl\",\"colorbar\":{\"outlinewidth\":0,\"ticks\":\"\"},\"colorscale\":[[0.0,\"#0d0887\"],[0.1111111111111111,\"#46039f\"],[0.2222222222222222,\"#7201a8\"],[0.3333333333333333,\"#9c179e\"],[0.4444444444444444,\"#bd3786\"],[0.5555555555555556,\"#d8576b\"],[0.6666666666666666,\"#ed7953\"],[0.7777777777777778,\"#fb9f3a\"],[0.8888888888888888,\"#fdca26\"],[1.0,\"#f0f921\"]]}],\"contourcarpet\":[{\"type\":\"contourcarpet\",\"colorbar\":{\"outlinewidth\":0,\"ticks\":\"\"}}],\"contour\":[{\"type\":\"contour\",\"colorbar\":{\"outlinewidth\":0,\"ticks\":\"\"},\"colorscale\":[[0.0,\"#0d0887\"],[0.1111111111111111,\"#46039f\"],[0.2222222222222222,\"#7201a8\"],[0.3333333333333333,\"#9c179e\"],[0.4444444444444444,\"#bd3786\"],[0.5555555555555556,\"#d8576b\"],[0.6666666666666666,\"#ed7953\"],[0.7777777777777778,\"#fb9f3a\"],[0.8888888888888888,\"#fdca26\"],[1.0,\"#f0f921\"]]}],\"surface\":[{\"type\":\"surface\",\"colorbar\":{\"outlinewidth\":0,\"ticks\":\"\"},\"colorscale\":[[0.0,\"#0d0887\"],[0.1111111111111111,\"#46039f\"],[0.2222222222222222,\"#7201a8\"],[0.3333333333333333,\"#9c179e\"],[0.4444444444444444,\"#bd3786\"],[0.5555555555555556,\"#d8576b\"],[0.6666666666666666,\"#ed7953\"],[0.7777777777777778,\"#fb9f3a\"],[0.8888888888888888,\"#fdca26\"],[1.0,\"#f0f921\"]]}],\"mesh3d\":[{\"type\":\"mesh3d\",\"colorbar\":{\"outlinewidth\":0,\"ticks\":\"\"}}],\"scatter\":[{\"fillpattern\":{\"fillmode\":\"overlay\",\"size\":10,\"solidity\":0.2},\"type\":\"scatter\"}],\"parcoords\":[{\"type\":\"parcoords\",\"line\":{\"colorbar\":{\"outlinewidth\":0,\"ticks\":\"\"}}}],\"scatterpolargl\":[{\"type\":\"scatterpolargl\",\"marker\":{\"colorbar\":{\"outlinewidth\":0,\"ticks\":\"\"}}}],\"bar\":[{\"error_x\":{\"color\":\"#2a3f5f\"},\"error_y\":{\"color\":\"#2a3f5f\"},\"marker\":{\"line\":{\"color\":\"#E5ECF6\",\"width\":0.5},\"pattern\":{\"fillmode\":\"overlay\",\"size\":10,\"solidity\":0.2}},\"type\":\"bar\"}],\"scattergeo\":[{\"type\":\"scattergeo\",\"marker\":{\"colorbar\":{\"outlinewidth\":0,\"ticks\":\"\"}}}],\"scatterpolar\":[{\"type\":\"scatterpolar\",\"marker\":{\"colorbar\":{\"outlinewidth\":0,\"ticks\":\"\"}}}],\"histogram\":[{\"marker\":{\"pattern\":{\"fillmode\":\"overlay\",\"size\":10,\"solidity\":0.2}},\"type\":\"histogram\"}],\"scattergl\":[{\"type\":\"scattergl\",\"marker\":{\"colorbar\":{\"outlinewidth\":0,\"ticks\":\"\"}}}],\"scatter3d\":[{\"type\":\"scatter3d\",\"line\":{\"colorbar\":{\"outlinewidth\":0,\"ticks\":\"\"}},\"marker\":{\"colorbar\":{\"outlinewidth\":0,\"ticks\":\"\"}}}],\"scattermapbox\":[{\"type\":\"scattermapbox\",\"marker\":{\"colorbar\":{\"outlinewidth\":0,\"ticks\":\"\"}}}],\"scatterternary\":[{\"type\":\"scatterternary\",\"marker\":{\"colorbar\":{\"outlinewidth\":0,\"ticks\":\"\"}}}],\"scattercarpet\":[{\"type\":\"scattercarpet\",\"marker\":{\"colorbar\":{\"outlinewidth\":0,\"ticks\":\"\"}}}],\"carpet\":[{\"aaxis\":{\"endlinecolor\":\"#2a3f5f\",\"gridcolor\":\"white\",\"linecolor\":\"white\",\"minorgridcolor\":\"white\",\"startlinecolor\":\"#2a3f5f\"},\"baxis\":{\"endlinecolor\":\"#2a3f5f\",\"gridcolor\":\"white\",\"linecolor\":\"white\",\"minorgridcolor\":\"white\",\"startlinecolor\":\"#2a3f5f\"},\"type\":\"carpet\"}],\"table\":[{\"cells\":{\"fill\":{\"color\":\"#EBF0F8\"},\"line\":{\"color\":\"white\"}},\"header\":{\"fill\":{\"color\":\"#C8D4E3\"},\"line\":{\"color\":\"white\"}},\"type\":\"table\"}],\"barpolar\":[{\"marker\":{\"line\":{\"color\":\"#E5ECF6\",\"width\":0.5},\"pattern\":{\"fillmode\":\"overlay\",\"size\":10,\"solidity\":0.2}},\"type\":\"barpolar\"}],\"pie\":[{\"automargin\":true,\"type\":\"pie\"}]},\"layout\":{\"autotypenumbers\":\"strict\",\"colorway\":[\"#636efa\",\"#EF553B\",\"#00cc96\",\"#ab63fa\",\"#FFA15A\",\"#19d3f3\",\"#FF6692\",\"#B6E880\",\"#FF97FF\",\"#FECB52\"],\"font\":{\"color\":\"#2a3f5f\"},\"hovermode\":\"closest\",\"hoverlabel\":{\"align\":\"left\"},\"paper_bgcolor\":\"white\",\"plot_bgcolor\":\"#E5ECF6\",\"polar\":{\"bgcolor\":\"#E5ECF6\",\"angularaxis\":{\"gridcolor\":\"white\",\"linecolor\":\"white\",\"ticks\":\"\"},\"radialaxis\":{\"gridcolor\":\"white\",\"linecolor\":\"white\",\"ticks\":\"\"}},\"ternary\":{\"bgcolor\":\"#E5ECF6\",\"aaxis\":{\"gridcolor\":\"white\",\"linecolor\":\"white\",\"ticks\":\"\"},\"baxis\":{\"gridcolor\":\"white\",\"linecolor\":\"white\",\"ticks\":\"\"},\"caxis\":{\"gridcolor\":\"white\",\"linecolor\":\"white\",\"ticks\":\"\"}},\"coloraxis\":{\"colorbar\":{\"outlinewidth\":0,\"ticks\":\"\"}},\"colorscale\":{\"sequential\":[[0.0,\"#0d0887\"],[0.1111111111111111,\"#46039f\"],[0.2222222222222222,\"#7201a8\"],[0.3333333333333333,\"#9c179e\"],[0.4444444444444444,\"#bd3786\"],[0.5555555555555556,\"#d8576b\"],[0.6666666666666666,\"#ed7953\"],[0.7777777777777778,\"#fb9f3a\"],[0.8888888888888888,\"#fdca26\"],[1.0,\"#f0f921\"]],\"sequentialminus\":[[0.0,\"#0d0887\"],[0.1111111111111111,\"#46039f\"],[0.2222222222222222,\"#7201a8\"],[0.3333333333333333,\"#9c179e\"],[0.4444444444444444,\"#bd3786\"],[0.5555555555555556,\"#d8576b\"],[0.6666666666666666,\"#ed7953\"],[0.7777777777777778,\"#fb9f3a\"],[0.8888888888888888,\"#fdca26\"],[1.0,\"#f0f921\"]],\"diverging\":[[0,\"#8e0152\"],[0.1,\"#c51b7d\"],[0.2,\"#de77ae\"],[0.3,\"#f1b6da\"],[0.4,\"#fde0ef\"],[0.5,\"#f7f7f7\"],[0.6,\"#e6f5d0\"],[0.7,\"#b8e186\"],[0.8,\"#7fbc41\"],[0.9,\"#4d9221\"],[1,\"#276419\"]]},\"xaxis\":{\"gridcolor\":\"white\",\"linecolor\":\"white\",\"ticks\":\"\",\"title\":{\"standoff\":15},\"zerolinecolor\":\"white\",\"automargin\":true,\"zerolinewidth\":2},\"yaxis\":{\"gridcolor\":\"white\",\"linecolor\":\"white\",\"ticks\":\"\",\"title\":{\"standoff\":15},\"zerolinecolor\":\"white\",\"automargin\":true,\"zerolinewidth\":2},\"scene\":{\"xaxis\":{\"backgroundcolor\":\"#E5ECF6\",\"gridcolor\":\"white\",\"linecolor\":\"white\",\"showbackground\":true,\"ticks\":\"\",\"zerolinecolor\":\"white\",\"gridwidth\":2},\"yaxis\":{\"backgroundcolor\":\"#E5ECF6\",\"gridcolor\":\"white\",\"linecolor\":\"white\",\"showbackground\":true,\"ticks\":\"\",\"zerolinecolor\":\"white\",\"gridwidth\":2},\"zaxis\":{\"backgroundcolor\":\"#E5ECF6\",\"gridcolor\":\"white\",\"linecolor\":\"white\",\"showbackground\":true,\"ticks\":\"\",\"zerolinecolor\":\"white\",\"gridwidth\":2}},\"shapedefaults\":{\"line\":{\"color\":\"#2a3f5f\"}},\"annotationdefaults\":{\"arrowcolor\":\"#2a3f5f\",\"arrowhead\":0,\"arrowwidth\":1},\"geo\":{\"bgcolor\":\"white\",\"landcolor\":\"#E5ECF6\",\"subunitcolor\":\"white\",\"showland\":true,\"showlakes\":true,\"lakecolor\":\"white\"},\"title\":{\"x\":0.05},\"mapbox\":{\"style\":\"light\"}}},\"xaxis\":{\"anchor\":\"y\",\"domain\":[0.0,1.0],\"title\":{\"text\":\"train_type\"}},\"yaxis\":{\"anchor\":\"x\",\"domain\":[0.0,1.0],\"title\":{\"text\":\"price\"}},\"legend\":{\"title\":{\"text\":\"origin\"},\"tracegroupgap\":0},\"title\":{\"text\":\"Animated Price Trend over Time\"},\"updatemenus\":[{\"buttons\":[{\"args\":[null,{\"frame\":{\"duration\":500,\"redraw\":false},\"mode\":\"immediate\",\"fromcurrent\":true,\"transition\":{\"duration\":500,\"easing\":\"linear\"}}],\"label\":\"&#9654;\",\"method\":\"animate\"},{\"args\":[[null],{\"frame\":{\"duration\":0,\"redraw\":false},\"mode\":\"immediate\",\"fromcurrent\":true,\"transition\":{\"duration\":0,\"easing\":\"linear\"}}],\"label\":\"&#9724;\",\"method\":\"animate\"}],\"direction\":\"left\",\"pad\":{\"r\":10,\"t\":70},\"showactive\":false,\"type\":\"buttons\",\"x\":0.1,\"xanchor\":\"right\",\"y\":0,\"yanchor\":\"top\"}],\"sliders\":[{\"active\":0,\"currentvalue\":{\"prefix\":\"origin=\"},\"len\":0.9,\"pad\":{\"b\":10,\"t\":60},\"steps\":[{\"args\":[[\"PONFERRADA\"],{\"frame\":{\"duration\":0,\"redraw\":false},\"mode\":\"immediate\",\"fromcurrent\":true,\"transition\":{\"duration\":0,\"easing\":\"linear\"}}],\"label\":\"PONFERRADA\",\"method\":\"animate\"},{\"args\":[[\"MADRID\"],{\"frame\":{\"duration\":0,\"redraw\":false},\"mode\":\"immediate\",\"fromcurrent\":true,\"transition\":{\"duration\":0,\"easing\":\"linear\"}}],\"label\":\"MADRID\",\"method\":\"animate\"},{\"args\":[[\"SEVILLA\"],{\"frame\":{\"duration\":0,\"redraw\":false},\"mode\":\"immediate\",\"fromcurrent\":true,\"transition\":{\"duration\":0,\"easing\":\"linear\"}}],\"label\":\"SEVILLA\",\"method\":\"animate\"},{\"args\":[[\"VALENCIA\"],{\"frame\":{\"duration\":0,\"redraw\":false},\"mode\":\"immediate\",\"fromcurrent\":true,\"transition\":{\"duration\":0,\"easing\":\"linear\"}}],\"label\":\"VALENCIA\",\"method\":\"animate\"},{\"args\":[[\"BARCELONA\"],{\"frame\":{\"duration\":0,\"redraw\":false},\"mode\":\"immediate\",\"fromcurrent\":true,\"transition\":{\"duration\":0,\"easing\":\"linear\"}}],\"label\":\"BARCELONA\",\"method\":\"animate\"}],\"x\":0.1,\"xanchor\":\"left\",\"y\":0,\"yanchor\":\"top\"}]},                        {\"responsive\": true}                    ).then(function(){\n",
       "                            Plotly.addFrames('c0d8664f-6989-475d-850d-772358c3d9dd', [{\"data\":[{\"hovertemplate\":\"origin=PONFERRADA\\u003cbr\\u003etrain_type=%{x}\\u003cbr\\u003eprice=%{y}\\u003cextra\\u003e\\u003c\\u002fextra\\u003e\",\"legendgroup\":\"PONFERRADA\",\"line\":{\"color\":\"#636efa\",\"dash\":\"solid\"},\"marker\":{\"symbol\":\"circle\"},\"mode\":\"lines\",\"name\":\"PONFERRADA\",\"orientation\":\"v\",\"showlegend\":true,\"x\":[\"ALVIA\",\"ALVIA\",\"ALVIA\",\"ALVIA\",\"ALVIA\",\"ALVIA\",\"ALVIA\",\"ALVIA\"],\"xaxis\":\"x\",\"y\":[27.9,27.9,27.9,27.9,27.9,27.9,27.9,27.9],\"yaxis\":\"y\",\"type\":\"scatter\"}],\"name\":\"PONFERRADA\"},{\"data\":[{\"hovertemplate\":\"origin=MADRID\\u003cbr\\u003etrain_type=%{x}\\u003cbr\\u003eprice=%{y}\\u003cextra\\u003e\\u003c\\u002fextra\\u003e\",\"legendgroup\":\"MADRID\",\"line\":{\"color\":\"#EF553B\",\"dash\":\"solid\"},\"marker\":{\"symbol\":\"circle\"},\"mode\":\"lines\",\"name\":\"MADRID\",\"orientation\":\"v\",\"showlegend\":true,\"x\":[\"AVE\",\"AVE\",\"AVE\",\"AVE\",\"AVE\",\"AVE-MD\",\"AVE\",\"AVE-LD\",\"AVE\",\"AVE\",\"AVE\",\"AVE\",\"AVE\",\"AVE\",\"AVE\",\"AVE-MD\",\"AVE\",\"AVE\",\"AVE\",\"AVE\",\"AVE\",\"AVE\",\"AVE\",\"AVE\",\"AVE\",\"AVE\",\"AVE\",\"AVE\",\"AVE\",\"AVE\",\"AVE\",\"AVE\",\"AVE\",\"AVE\",\"AVE\",\"AVE\",\"AVE\",\"AVE\",\"AVE\",\"AVE\",\"AVE\",\"AVE\",\"AVE\",\"AVE\",\"AVE\",\"AVE\",\"AVE\",\"AVE\",\"AVE\",\"AVE\",\"AVE\",\"AVE\",\"AVE\",\"AVE\",\"AVE-MD\",\"AVE\",\"AVE-LD\",\"AVE\",\"AVE\",\"AVE\",\"AVE\",\"AVE\",\"AVE\",\"AVE\",\"AVE-MD\",\"AVE\",\"AVE\",\"AVE\",\"AVE\",\"AVE-MD\",\"AVE-LD\",\"ALVIA\",\"AV City\",\"AVE\",\"AVE\",\"AVE\",\"AV City\",\"AV City\",\"AVE\",\"AVE\",\"AVE\",\"ALVIA\",\"AVE\",\"AVE\",\"AVE\",\"AVE\",\"AVE\",\"AV City\",\"AV City\",\"AVE\",\"AVE\",\"AVE\",\"AV City\",\"AV City\",\"AVE\",\"AVE\",\"AVE\",\"ALVIA\",\"AVE\",\"AVE\",\"AVE\",\"AVE\",\"AVE\",\"AV City\",\"AVE\",\"AVE\",\"AVE\",\"AVE\",\"AVE\",\"AVE\",\"AVE\",\"AVE\",\"AVE\",\"AVE\",\"AVE\",\"AVE\",\"AVE\",\"AVE\",\"AVE\",\"AVE\",\"AVE\",\"AVE\",\"AVE\",\"AVE\",\"AVE\",\"AVE\",\"AVE-MD\",\"AVE\",\"AVE-LD\",\"AVE\",\"AVE\",\"AVE\",\"AVE\",\"AVE\",\"AVE\",\"AVE\",\"AVE-MD\",\"AVE\",\"AVE\",\"AVE\",\"AVE\",\"AVE-MD\",\"AVE-LD\",\"ALVIA\",\"AV City\",\"AVE\",\"AVE\",\"AVE\",\"AV City\",\"AV City\",\"AVE\",\"AVE\",\"AVE\",\"ALVIA\",\"AVE\",\"AVE\",\"AVE\",\"AVE\",\"AVE\",\"AV City\",\"AVE-MD\",\"AVE-LD\",\"ALVIA\",\"AVE\",\"AVE\",\"AVE\",\"AVE\",\"AVE\",\"AVE\",\"AVE\",\"AVE\",\"AVE\",\"AVE\",\"AVE\",\"AVE\",\"AVE\",\"AVE\",\"AVE\",\"AVE\",\"AVE\",\"AVE\",\"AVE\",\"AVE\",\"AVE\",\"AVE\",\"AVE\",\"AVE\",\"AVE\",\"AVE\",\"AVE\",\"AVE\",\"AVE\",\"AVE\",\"AVE\",\"AVE\",\"AVE\",\"AVE\",\"AVE-MD\",\"AVE\",\"AVE-LD\",\"AVE\",\"AVE\",\"AVE\",\"AVE\",\"AVE\",\"AVE\",\"AVE\",\"AVE-MD\",\"AVE\",\"AVE\",\"AVE\",\"AVE\",\"AV City\",\"AVE\",\"AVE\",\"AVE\",\"AV City\",\"AV City\",\"AVE\",\"AVE\",\"AVE\",\"ALVIA\",\"AVE\",\"AVE\",\"AVE\",\"AVE\",\"AVE\",\"AV City\",\"AVE\",\"AVE\",\"AVE\",\"AVE\",\"AVE\",\"AVE-MD\",\"AVE\",\"AVE-LD\",\"AVE\",\"AVE\",\"AVE\",\"AVE\",\"AVE\",\"AVE\",\"AVE\",\"AVE-MD\",\"AVE\",\"AVE\",\"AVE\",\"AVE\",\"AVE-MD\",\"AVE-LD\",\"ALVIA\",\"AVE\",\"AVE\",\"AVE\",\"AVE\",\"AVE\",\"AVE\",\"AVE\",\"AVE\",\"AVE\",\"AVE\",\"AVE\",\"AVE\",\"AVE\",\"AVE\",\"AVE\",\"AVE\",\"AVE\",\"AVE\",\"AVE\",\"AVE\",\"AVE\",\"AVE\",\"AVE\",\"AVE\",\"AVE\",\"AVE\",\"AVE\",\"AVE\",\"AVE\",\"AVE\",\"AVE\",\"AVE\",\"AVE\",\"AVE\",\"AVE\",\"AVE\",\"AVE\",\"AVE\",\"AVE\",\"AVE\",\"AVE\",\"AVE\",\"AVE\",\"AVE\",\"AVE\",\"AVE\",\"AVE\",\"AVE\",\"AVE\",\"AVE\",\"AVE\",\"AVE\",\"AVE\",\"AVE\",\"AVE\",\"AVE\",\"AVE\",\"AVE\",\"AV City\",\"AVE\",\"AVE\",\"AVE\",\"AV City\",\"AV City\",\"AVE\",\"AVE\",\"AVE\",\"ALVIA\",\"AVE\",\"AVE\",\"AVE\",\"AVE\",\"AVE\",\"AV City\",\"AVE\",\"AVE\",\"AVE\",\"AVE\",\"AVE\",\"AVE-MD\",\"AVE\",\"AVE-LD\",\"AVE\",\"AVE\",\"AVE\",\"AVE\",\"AVE\",\"AVE\",\"AVE\",\"AVE-MD\",\"AVE\",\"AVE\",\"AVE\",\"AVE\",\"AVE-MD\",\"AVE-LD\",\"ALVIA\",\"AVE-MD\",\"AVE-LD\",\"ALVIA\",\"AVE\",\"AVE\",\"AVE\",\"AVE\",\"AVE-MD\",\"AVE\",\"AVE\",\"AVE\",\"AVE\",\"AVE\",\"AVE\",\"AVE\",\"AVE\",\"AVE\",\"AVE-MD\",\"AVE\",\"AVE-LD\",\"AVE\",\"AVE\",\"AVE\",\"AV City\",\"AVE\",\"AVE\",\"AVE\",\"AV City\",\"AV City\",\"AVE\",\"AVE\",\"AVE\",\"ALVIA\",\"AVE\",\"AVE\",\"AVE\",\"AVE\",\"AVE\",\"AV City\",\"AVE\",\"AVE\",\"AVE\",\"AVE\",\"AVE\",\"AVE\",\"AVE\",\"AVE\",\"AVE\",\"AVE\",\"AVE\",\"AVE\",\"AVE\",\"AVE\",\"AVE\",\"AVE\",\"AVE\",\"AVE\",\"AVE\",\"AVE\",\"AVE\",\"AVE\",\"AVE\",\"AVE\",\"AVE\",\"AVE\",\"AVE\",\"AVE\",\"AVE\",\"AVE\",\"AVE\",\"AVE\",\"AVE\",\"AVE\",\"AVE-MD\",\"AVE\",\"AVE-LD\",\"AVE\",\"AVE\",\"AVE\",\"AVE\",\"AVE\",\"AVE\",\"AVE\",\"AVE-MD\",\"AVE\",\"AVE\",\"AVE\",\"AVE\",\"AV City\",\"AVE\",\"AVE\",\"AVE\",\"AV City\",\"AV City\",\"AVE\",\"AVE\",\"AVE\",\"ALVIA\",\"AVE\",\"AVE\",\"AVE\",\"AVE\",\"AVE\",\"AV City\",\"AVE-MD\",\"AVE-LD\",\"ALVIA\",\"AVE\",\"AVE\",\"AVE\",\"AVE\",\"AVE\",\"AVE\",\"AVE\",\"AVE\",\"AVE\",\"AVE\",\"AVE\",\"AVE\",\"AVE\",\"AVE\",\"AVE\",\"AVE\",\"AVE\",\"AVE\",\"AVE\",\"AVE\",\"AVE\",\"AVE\",\"AVE\",\"AVE\",\"AVE\",\"AVE\",\"AVE\",\"AVE\",\"AVE\",\"AVE-MD\",\"AVE-LD\"],\"xaxis\":\"x\",\"y\":[21.95,39.45,21.95,33.65,45.3,71.0,45.3,56.1,51.15,39.45,33.65,45.3,33.65,27.8,39.45,71.0,33.65,39.45,45.3,33.65,66.75,66.75,85.1,85.1,85.1,107.7,102.15,88.95,90.5,90.5,88.95,88.95,100.4,85.1,88.95,85.1,75.4,58.15,75.4,85.1,75.4,75.4,75.4,80.15,80.15,80.15,69.8,58.15,66.75,21.95,39.45,21.95,33.65,45.3,71.0,45.3,56.1,51.15,39.45,33.65,45.3,33.65,27.8,39.45,71.0,33.65,39.45,45.3,33.65,35.75,31.2,33.5,49.15,76.3,64.05,64.05,52.2,58.95,47.3,53.4,53.4,0.0,76.3,47.3,47.3,47.3,47.3,52.2,49.15,76.3,64.05,64.05,52.2,58.95,47.3,53.4,53.4,0.0,76.3,47.3,47.3,47.3,47.3,52.2,66.75,66.75,85.1,85.1,85.1,107.7,102.15,88.95,90.5,90.5,88.95,88.95,100.4,85.1,88.95,85.1,75.4,21.95,39.45,21.95,33.65,45.3,71.0,45.3,56.1,51.15,39.45,33.65,45.3,33.65,27.8,39.45,71.0,33.65,39.45,45.3,33.65,35.75,31.2,33.5,49.15,76.3,64.05,64.05,52.2,58.95,47.3,53.4,53.4,0.0,76.3,47.3,47.3,47.3,47.3,52.2,35.75,31.2,33.5,88.95,66.75,66.75,85.1,85.1,85.1,107.7,102.15,88.95,90.5,90.5,88.95,88.95,100.4,85.1,85.1,75.4,58.15,75.4,85.1,75.4,75.4,75.4,80.15,80.15,80.15,69.8,58.15,66.75,21.95,39.45,21.95,33.65,45.3,71.0,45.3,56.1,51.15,39.45,33.65,45.3,33.65,27.8,39.45,71.0,33.65,39.45,45.3,33.65,49.15,76.3,64.05,64.05,52.2,58.95,47.3,53.4,53.4,0.0,76.3,47.3,47.3,47.3,47.3,52.2,21.95,39.45,21.95,33.65,45.3,71.0,45.3,56.1,51.15,39.45,33.65,45.3,33.65,27.8,39.45,71.0,33.65,39.45,45.3,33.65,35.75,31.2,33.5,66.75,66.75,85.1,85.1,85.1,107.7,102.15,88.95,90.5,90.5,88.95,88.95,100.4,85.1,88.95,85.1,75.4,58.15,75.4,85.1,75.4,75.4,75.4,80.15,80.15,80.15,69.8,58.15,66.75,66.75,66.75,85.1,85.1,85.1,107.7,102.15,88.95,90.5,90.5,88.95,88.95,100.4,85.1,88.95,85.1,75.4,58.15,75.4,85.1,75.4,75.4,75.4,80.15,80.15,80.15,69.8,58.15,66.75,49.15,76.3,64.05,64.05,52.2,58.95,47.3,53.4,53.4,0.0,76.3,47.3,47.3,47.3,47.3,52.2,21.95,39.45,21.95,33.65,45.3,71.0,45.3,56.1,51.15,39.45,33.65,45.3,33.65,27.8,39.45,71.0,33.65,39.45,45.3,33.65,35.75,31.2,33.5,35.75,31.2,33.5,45.3,33.65,27.8,39.45,71.0,33.65,39.45,45.3,33.65,21.95,39.45,21.95,33.65,45.3,71.0,45.3,56.1,51.15,39.45,33.65,49.15,76.3,64.05,64.05,52.2,58.95,47.3,53.4,53.4,0.0,76.3,47.3,47.3,47.3,47.3,52.2,66.75,66.75,85.1,85.1,85.1,107.7,102.15,88.95,90.5,90.5,88.95,88.95,100.4,85.1,88.95,85.1,75.4,58.15,75.4,85.1,75.4,75.4,75.4,80.15,80.15,80.15,69.8,58.15,66.75,21.95,39.45,21.95,33.65,45.3,71.0,45.3,56.1,51.15,39.45,33.65,45.3,33.65,27.8,39.45,71.0,33.65,39.45,45.3,33.65,49.15,76.3,64.05,64.05,52.2,58.95,47.3,53.4,53.4,0.0,76.3,47.3,47.3,47.3,47.3,52.2,35.75,31.2,33.5,66.75,66.75,85.1,85.1,85.1,107.7,102.15,88.95,90.5,90.5,88.95,88.95,100.4,85.1,88.95,85.1,75.4,58.15,75.4,85.1,75.4,75.4,75.4,80.15,80.15,80.15,69.8,58.15,66.75,35.75,31.2],\"yaxis\":\"y\",\"type\":\"scatter\"}],\"name\":\"MADRID\"},{\"data\":[{\"hovertemplate\":\"origin=SEVILLA\\u003cbr\\u003etrain_type=%{x}\\u003cbr\\u003eprice=%{y}\\u003cextra\\u003e\\u003c\\u002fextra\\u003e\",\"legendgroup\":\"SEVILLA\",\"line\":{\"color\":\"#00cc96\",\"dash\":\"solid\"},\"marker\":{\"symbol\":\"circle\"},\"mode\":\"lines\",\"name\":\"SEVILLA\",\"orientation\":\"v\",\"showlegend\":true,\"x\":[\"AV City\",\"ALVIA\",\"AVE\",\"AVE\",\"AVE\",\"AVE\",\"ALVIA\",\"AVE\",\"AVE\",\"AVE\",\"AVE\",\"AVE\",\"ALVIA\",\"AV City\",\"AV City\",\"AVE\",\"AVE\",\"AVE\",\"ALVIA\",\"AVE\",\"ALVIA\",\"AVE\",\"AVE\",\"AVE\",\"AVE\",\"AV City\",\"AV City\",\"ALVIA\",\"AVE\",\"AVE\",\"AVE\",\"AVE\",\"ALVIA\",\"AVE\",\"AVE\",\"AVE\",\"AVE\",\"AVE\",\"ALVIA\",\"AV City\",\"AV City\",\"AVE\",\"AVE\",\"AVE\",\"ALVIA\",\"AVE\",\"ALVIA\",\"AVE\",\"AVE\",\"AVE\",\"AVE\",\"AV City\",\"AV City\",\"ALVIA\",\"AVE\",\"AVE\",\"AVE\",\"AVE\",\"ALVIA\",\"AVE\",\"AVE\",\"AVE\",\"AVE\",\"AVE\",\"ALVIA\",\"AV City\",\"AV City\",\"AVE\",\"AVE\",\"AVE\",\"ALVIA\",\"AVE\",\"ALVIA\",\"AVE\",\"AVE\",\"AVE\",\"AVE\",\"AV City\",\"AV City\",\"ALVIA\",\"AVE\",\"AVE\",\"AVE\",\"AVE\",\"ALVIA\",\"AVE\",\"AVE\",\"AVE\",\"AVE\",\"AVE\",\"ALVIA\",\"AV City\",\"AV City\",\"AVE\",\"AVE\",\"AVE\",\"ALVIA\",\"AVE\",\"ALVIA\",\"AVE\",\"AVE\",\"AVE\",\"AVE\",\"AV City\",\"AV City\",\"ALVIA\",\"AVE\",\"AVE\",\"AVE\",\"AVE\",\"ALVIA\",\"AVE\",\"AVE\",\"AVE\",\"AVE\",\"AVE\",\"ALVIA\",\"AV City\",\"AV City\",\"AVE\",\"AVE\",\"AVE\",\"ALVIA\",\"AVE\",\"ALVIA\",\"AVE\",\"AVE\",\"AVE\",\"AVE\",\"AV City\",\"AV City\",\"AVE\",\"AVE\",\"AVE\",\"ALVIA\",\"AVE\",\"ALVIA\",\"AVE\",\"AVE\",\"AVE\",\"AVE\",\"AV City\",\"AV City\",\"ALVIA\",\"AVE\",\"AVE\",\"AVE\",\"AVE\",\"ALVIA\",\"AVE\",\"AVE\",\"AVE\",\"AVE\",\"AVE\",\"ALVIA\",\"AV City\",\"AV City\",\"ALVIA\",\"AVE\",\"AVE\",\"AVE\",\"AVE\",\"ALVIA\",\"AVE\",\"AVE\",\"AVE\",\"AVE\",\"AVE\",\"ALVIA\",\"AV City\",\"AV City\",\"AVE\",\"AVE\",\"AVE\",\"ALVIA\",\"AVE\",\"ALVIA\",\"AVE\",\"AVE\",\"AVE\",\"AVE\",\"AV City\"],\"xaxis\":\"x\",\"y\":[58.95,0.0,76.3,76.3,76.3,76.3,0.0,76.3,76.3,76.3,64.05,72.3,0.0,62.2,58.95,47.3,76.3,47.3,0.0,47.3,47.05,53.4,53.4,60.3,47.3,52.2,58.95,0.0,76.3,76.3,76.3,76.3,0.0,76.3,76.3,76.3,64.05,72.3,0.0,62.2,58.95,47.3,76.3,47.3,0.0,47.3,47.05,53.4,53.4,60.3,47.3,52.2,58.95,0.0,76.3,76.3,76.3,76.3,0.0,76.3,76.3,76.3,64.05,72.3,0.0,62.2,58.95,47.3,76.3,47.3,0.0,47.3,47.05,53.4,53.4,60.3,47.3,52.2,58.95,0.0,76.3,76.3,76.3,76.3,0.0,76.3,76.3,76.3,64.05,72.3,0.0,62.2,58.95,47.3,76.3,47.3,0.0,47.3,47.05,53.4,53.4,60.3,47.3,52.2,58.95,0.0,76.3,76.3,76.3,76.3,0.0,76.3,76.3,76.3,64.05,72.3,0.0,62.2,58.95,47.3,76.3,47.3,0.0,47.3,47.05,53.4,53.4,60.3,47.3,52.2,58.95,47.3,76.3,47.3,0.0,47.3,47.05,53.4,53.4,60.3,47.3,52.2,58.95,0.0,76.3,76.3,76.3,76.3,0.0,76.3,76.3,76.3,64.05,72.3,0.0,62.2,58.95,0.0,76.3,76.3,76.3,76.3,0.0,76.3,76.3,76.3,64.05,72.3,0.0,62.2,58.95,47.3,76.3,47.3,0.0,47.3,47.05,53.4,53.4,60.3,47.3,52.2],\"yaxis\":\"y\",\"type\":\"scatter\"}],\"name\":\"SEVILLA\"},{\"data\":[{\"hovertemplate\":\"origin=VALENCIA\\u003cbr\\u003etrain_type=%{x}\\u003cbr\\u003eprice=%{y}\\u003cextra\\u003e\\u003c\\u002fextra\\u003e\",\"legendgroup\":\"VALENCIA\",\"line\":{\"color\":\"#ab63fa\",\"dash\":\"solid\"},\"marker\":{\"symbol\":\"circle\"},\"mode\":\"lines\",\"name\":\"VALENCIA\",\"orientation\":\"v\",\"showlegend\":true,\"x\":[\"AVE\",\"AVE\",\"AVE\",\"AVE\",\"AVE\",\"AVE\",\"AVE\",\"AVE\",\"AVE\",\"AVE\",\"AVE\",\"AVE\",\"AVE\",\"AVE\",\"AVE\",\"AVE\",\"AVE\",\"AVE\",\"AVE\",\"AVE\",\"AVE\",\"AVE\",\"AVE\",\"AVE\",\"AVE\",\"AVE\",\"AVE\",\"AVE\",\"AVE\",\"AVE\",\"AVE\",\"AVE\",\"AVE\",\"AVE\",\"AVE\",\"AVE\",\"AVE\",\"AVE\",\"AVE\",\"AVE\",\"AVE\",\"AVE\",\"AVE\",\"AVE\",\"AVE\",\"AVE\",\"AVE\",\"AVE\",\"AVE\",\"AVE\",\"AVE\",\"AVE\",\"AVE\",\"AVE\",\"AVE\",\"AVE\",\"AVE\",\"AVE\",\"AVE\",\"AVE\",\"AVE\",\"AVE\",\"AVE\",\"AVE\",\"AVE\",\"AVE\",\"AVE\",\"AVE\",\"AVE\",\"AVE\",\"AVE\",\"AVE\",\"AVE\",\"AVE\",\"AVE\",\"AVE\",\"AVE\",\"AVE\",\"AVE\",\"AVE\",\"AVE\",\"AVE\",\"AVE\",\"AVE\",\"AVE\",\"AVE\",\"AVE\",\"AVE\",\"AVE\",\"AVE\",\"AVE\",\"AVE\",\"AVE\",\"AVE\",\"AVE\",\"AVE\",\"AVE\",\"AVE\",\"AVE\",\"AVE\",\"AVE\",\"AVE\",\"AVE\",\"AVE\",\"AVE\",\"AVE\",\"AVE\",\"AVE\",\"AVE\"],\"xaxis\":\"x\",\"y\":[39.45,51.15,51.15,45.3,45.3,57.75,57.75,57.75,57.75,51.15,39.45,39.45,45.3,33.65,33.65,21.95,27.8,39.45,51.15,51.15,45.3,45.3,57.75,57.75,57.75,57.75,51.15,39.45,39.45,45.3,33.65,33.65,21.95,27.8,39.45,39.45,45.3,33.65,33.65,21.95,27.8,39.45,51.15,51.15,45.3,45.3,57.75,57.75,57.75,57.75,51.15,39.45,39.45,45.3,33.65,33.65,21.95,27.8,39.45,51.15,51.15,45.3,45.3,57.75,57.75,57.75,57.75,51.15,39.45,39.45,45.3,33.65,33.65,21.95,27.8,39.45,51.15,51.15,45.3,45.3,57.75,57.75,57.75,57.75,51.15,39.45,39.45,45.3,33.65,33.65,21.95,27.8,39.45,51.15,51.15,45.3,45.3,57.75,57.75,57.75,57.75,51.15,39.45,39.45,45.3,33.65,33.65,21.95,27.8],\"yaxis\":\"y\",\"type\":\"scatter\"}],\"name\":\"VALENCIA\"},{\"data\":[{\"hovertemplate\":\"origin=BARCELONA\\u003cbr\\u003etrain_type=%{x}\\u003cbr\\u003eprice=%{y}\\u003cextra\\u003e\\u003c\\u002fextra\\u003e\",\"legendgroup\":\"BARCELONA\",\"line\":{\"color\":\"#FFA15A\",\"dash\":\"solid\"},\"marker\":{\"symbol\":\"circle\"},\"mode\":\"lines\",\"name\":\"BARCELONA\",\"orientation\":\"v\",\"showlegend\":true,\"x\":[\"AVE\",\"AVE\",\"AVE\",\"AVE\",\"AVE\",\"AVE\",\"AVE\",\"AVE\",\"AVE\",\"AVE\",\"AVE\",\"AVE\",\"AVE\",\"AVE\",\"AVE\",\"AVE\",\"AVE\",\"AVE\",\"AVE\",\"AVE\",\"AVE\",\"AVE\",\"AVE\",\"AVE\",\"AVE\",\"AVE\",\"AVE\",\"AVE\",\"AVE\",\"AVE\",\"AVE\",\"AVE\",\"AVE\",\"AVE\",\"AVE\",\"AVE\",\"AVE\",\"AVE\",\"AVE\",\"AVE\",\"AVE\",\"AVE\",\"AVE\",\"AVE\",\"AVE\",\"AVE\",\"AVE\",\"AVE\",\"AVE\",\"AVE\",\"AVE\",\"AVE\",\"AVE\",\"AVE\",\"AVE\",\"AVE\",\"AVE\",\"AVE\",\"AVE\",\"AVE\",\"AVE\",\"AVE\",\"AVE\",\"AVE\",\"AVE\",\"AVE\",\"AVE\",\"AVE\",\"AVE\",\"AVE\",\"AVE\",\"AVE\",\"AVE\",\"AVE\",\"AVE\",\"AVE\",\"AVE\",\"AVE\",\"AVE\",\"AVE\",\"AVE\",\"AVE\",\"AVE\",\"AVE\",\"AVE\",\"AVE\",\"AVE\",\"AVE\",\"AVE\",\"AVE\",\"AVE\",\"AVE\",\"AVE\",\"AVE\",\"AVE\",\"AVE\",\"AVE\",\"AVE\",\"AVE\",\"AVE\",\"AVE\",\"AVE\",\"AVE\",\"AVE\",\"AVE\",\"AVE\",\"AVE\",\"AVE\",\"AVE\",\"AVE\",\"AVE\",\"AVE\",\"AVE\",\"AVE\",\"AVE\",\"AVE\",\"AVE\",\"AVE\",\"AVE\",\"AVE\",\"AVE\",\"AVE\",\"AVE\",\"AVE\",\"AVE\",\"AVE\",\"AVE\",\"AVE\",\"AVE\",\"AVE\",\"AVE\",\"AVE\",\"AVE\",\"AVE\",\"AVE\",\"AVE\",\"AVE\",\"AVE\",\"AVE\",\"AVE\",\"AVE\",\"AVE\",\"AVE\",\"AVE\",\"AVE\",\"AVE\",\"AVE\",\"AVE\",\"AVE\",\"AVE\",\"AVE\",\"AVE\",\"AVE\",\"AVE\",\"AVE\",\"AVE\",\"AVE\",\"AVE\",\"AVE\",\"AVE\",\"AVE\",\"AVE\",\"AVE\",\"AVE\",\"AVE\",\"AVE\",\"AVE\",\"AVE\",\"AVE\",\"AVE\",\"AVE\",\"AVE\",\"AVE\",\"AVE\",\"AVE\",\"AVE\",\"AVE\",\"AVE\",\"AVE\",\"AVE\",\"AVE\",\"AVE\",\"AVE\",\"AVE\",\"AVE\",\"AVE\",\"AVE\",\"AVE\",\"AVE\",\"AVE\",\"AVE\",\"AVE\",\"AVE\",\"AVE\",\"AVE\",\"AVE\",\"AVE\",\"AVE\",\"AVE\",\"AVE\",\"AVE\",\"AVE\",\"AVE\",\"AVE\",\"AVE\",\"AVE\",\"AVE\",\"AVE\",\"AVE\",\"AVE\",\"AVE\",\"AVE\",\"AVE\",\"AVE\",\"AVE\",\"AVE\",\"AVE\",\"AVE\",\"AVE\",\"AVE\",\"AVE\",\"AVE\",\"AVE\",\"AVE\"],\"xaxis\":\"x\",\"y\":[85.1,66.75,85.1,85.1,85.1,107.7,107.7,102.15,90.5,90.5,100.4,107.7,100.4,100.4,102.15,100.4,85.1,107.7,69.8,75.4,75.4,78.8,85.1,85.1,75.4,58.15,66.75,75.4,69.8,58.15,66.75,49.55,69.8,75.4,75.4,78.8,85.1,85.1,85.1,75.4,58.15,66.75,75.4,69.8,58.15,66.75,49.55,66.75,85.1,85.1,85.1,107.7,107.7,102.15,90.5,90.5,100.4,107.7,100.4,100.4,102.15,100.4,85.1,107.7,66.75,85.1,85.1,85.1,107.7,107.7,102.15,90.5,90.5,100.4,107.7,100.4,100.4,102.15,100.4,85.1,107.7,69.8,75.4,75.4,78.8,85.1,85.1,85.1,75.4,58.15,66.75,75.4,69.8,58.15,66.75,49.55,66.75,85.1,85.1,85.1,107.7,107.7,102.15,90.5,90.5,100.4,107.7,100.4,100.4,102.15,100.4,85.1,107.7,69.8,75.4,75.4,78.8,85.1,85.1,85.1,75.4,58.15,66.75,75.4,69.8,58.15,66.75,49.55,66.75,85.1,85.1,85.1,107.7,107.7,102.15,90.5,90.5,100.4,107.7,100.4,100.4,102.15,100.4,85.1,107.7,69.8,75.4,75.4,78.8,85.1,85.1,85.1,75.4,58.15,66.75,75.4,69.8,58.15,66.75,49.55,66.75,85.1,85.1,85.1,107.7,107.7,102.15,90.5,90.5,100.4,107.7,100.4,100.4,102.15,100.4,85.1,107.7,69.8,75.4,75.4,78.8,85.1,85.1,85.1,75.4,58.15,66.75,75.4,69.8,58.15,66.75,49.55,66.75,85.1,85.1,85.1,107.7,107.7,102.15,90.5,90.5,100.4,107.7,100.4,100.4,102.15,100.4,85.1,107.7,69.8,75.4,75.4,78.8,85.1,85.1,85.1,75.4,58.15,66.75,75.4,69.8,58.15,66.75,49.55],\"yaxis\":\"y\",\"type\":\"scatter\"}],\"name\":\"BARCELONA\"}]);\n",
       "                        }).then(function(){\n",
       "                            \n",
       "var gd = document.getElementById('c0d8664f-6989-475d-850d-772358c3d9dd');\n",
       "var x = new MutationObserver(function (mutations, observer) {{\n",
       "        var display = window.getComputedStyle(gd).display;\n",
       "        if (!display || display === 'none') {{\n",
       "            console.log([gd, 'removed!']);\n",
       "            Plotly.purge(gd);\n",
       "            observer.disconnect();\n",
       "        }}\n",
       "}});\n",
       "\n",
       "// Listen for the removal of the full notebook cells\n",
       "var notebookContainer = gd.closest('#notebook-container');\n",
       "if (notebookContainer) {{\n",
       "    x.observe(notebookContainer, {childList: true});\n",
       "}}\n",
       "\n",
       "// Listen for the clearing of the current output cell\n",
       "var outputEl = gd.closest('.output');\n",
       "if (outputEl) {{\n",
       "    x.observe(outputEl, {childList: true});\n",
       "}}\n",
       "\n",
       "                        })                };                });            </script>        </div>"
      ]
     },
     "metadata": {},
     "output_type": "display_data"
    },
    {
     "data": {
      "application/vnd.plotly.v1+json": {
       "config": {
        "plotlyServerURL": "https://plot.ly"
       },
       "data": [
        {
         "alignmentgroup": "True",
         "bingroup": "x",
         "hovertemplate": "train_type=ALVIA<br>fare=%{x}<br>count=%{y}<extra></extra>",
         "legendgroup": "ALVIA",
         "marker": {
          "color": "#636efa",
          "pattern": {
           "shape": ""
          }
         },
         "name": "ALVIA",
         "offsetgroup": "ALVIA",
         "orientation": "v",
         "showlegend": true,
         "type": "histogram",
         "x": [
          "Promo",
          "Flexible",
          "Flexible",
          "Flexible",
          "Promo",
          "Promo",
          "Promo",
          "Promo",
          "Flexible",
          "Flexible",
          "Flexible",
          "Flexible",
          "Promo",
          "Promo",
          "Flexible",
          "Promo",
          "Promo",
          "Flexible",
          "Promo",
          "Flexible",
          "Flexible",
          "Flexible",
          "Promo",
          "Promo",
          "Promo",
          "Flexible",
          "Flexible",
          "Flexible",
          "Flexible",
          "Promo",
          "Promo",
          "Promo",
          "Promo",
          "Flexible",
          "Flexible",
          "Flexible",
          "Promo",
          "Promo",
          "Promo",
          "Flexible",
          "Promo",
          "Promo",
          "Promo",
          "Promo",
          "Promo",
          "Flexible",
          "Flexible",
          "Flexible",
          "Flexible",
          "Flexible",
          "Flexible",
          "Flexible",
          "Promo",
          "Promo",
          "Promo",
          "Flexible",
          "Promo"
         ],
         "xaxis": "x",
         "yaxis": "y"
        }
       ],
       "frames": [
        {
         "data": [
          {
           "alignmentgroup": "True",
           "bingroup": "x",
           "hovertemplate": "train_type=ALVIA<br>fare=%{x}<br>count=%{y}<extra></extra>",
           "legendgroup": "ALVIA",
           "marker": {
            "color": "#636efa",
            "pattern": {
             "shape": ""
            }
           },
           "name": "ALVIA",
           "offsetgroup": "ALVIA",
           "orientation": "v",
           "showlegend": true,
           "type": "histogram",
           "x": [
            "Promo",
            "Flexible",
            "Flexible",
            "Flexible",
            "Promo",
            "Promo",
            "Promo",
            "Promo",
            "Flexible",
            "Flexible",
            "Flexible",
            "Flexible",
            "Promo",
            "Promo",
            "Flexible",
            "Promo",
            "Promo",
            "Flexible",
            "Promo",
            "Flexible",
            "Flexible",
            "Flexible",
            "Promo",
            "Promo",
            "Promo",
            "Flexible",
            "Flexible",
            "Flexible",
            "Flexible",
            "Promo",
            "Promo",
            "Promo",
            "Promo",
            "Flexible",
            "Flexible",
            "Flexible",
            "Promo",
            "Promo",
            "Promo",
            "Flexible",
            "Promo",
            "Promo",
            "Promo",
            "Promo",
            "Promo",
            "Flexible",
            "Flexible",
            "Flexible",
            "Flexible",
            "Flexible",
            "Flexible",
            "Flexible",
            "Promo",
            "Promo",
            "Promo",
            "Flexible",
            "Promo"
           ],
           "xaxis": "x",
           "yaxis": "y"
          }
         ],
         "name": "ALVIA"
        },
        {
         "data": [
          {
           "alignmentgroup": "True",
           "bingroup": "x",
           "hovertemplate": "train_type=AVE<br>fare=%{x}<br>count=%{y}<extra></extra>",
           "legendgroup": "AVE",
           "marker": {
            "color": "#EF553B",
            "pattern": {
             "shape": ""
            }
           },
           "name": "AVE",
           "offsetgroup": "AVE",
           "orientation": "v",
           "showlegend": true,
           "type": "histogram",
           "x": [
            "Promo",
            "Promo",
            "Promo",
            "Promo",
            "Promo",
            "Promo",
            "Promo",
            "Promo",
            "Promo",
            "Promo",
            "Promo",
            "Promo",
            "Promo",
            "Promo",
            "Promo",
            "Promo",
            "Promo",
            "Promo",
            "Promo",
            "Promo",
            "Promo",
            "Promo",
            "Flexible",
            "Promo",
            "Promo",
            "Promo",
            "Promo",
            "Promo",
            "Promo",
            "Promo",
            "Promo",
            "Promo",
            "Promo",
            "Promo",
            "Promo",
            "Promo",
            "Promo",
            "Promo",
            "Promo",
            "Promo",
            "Promo",
            "Promo",
            "Promo",
            "Promo",
            "Promo",
            "Promo",
            "Flexible",
            "Flexible",
            "Flexible",
            "Flexible",
            "Flexible",
            "Flexible",
            "Flexible",
            "Promo",
            "Promo",
            "Promo",
            "Flexible",
            "Promo",
            "Promo",
            "Promo",
            "Promo",
            "Promo",
            "Promo",
            "Promo",
            "Promo",
            "Promo",
            "Promo",
            "Promo",
            "Promo",
            "Promo",
            "Promo",
            "Promo",
            "Promo",
            "Promo",
            "Promo",
            "Promo",
            "Promo",
            "Promo",
            "Promo",
            "Promo",
            "Promo",
            "Promo",
            "Promo",
            "Promo",
            "Promo",
            "Promo",
            "Promo",
            "Promo",
            "Promo",
            "Promo",
            "Promo",
            "Promo",
            "Promo",
            "Promo",
            "Promo",
            "Promo",
            "Promo",
            "Promo",
            "Promo",
            "Promo",
            "Promo",
            "Promo",
            "Flexible",
            "Flexible",
            "Promo",
            "Promo",
            "Promo",
            "Promo",
            "Flexible",
            "Promo",
            "Promo",
            "Promo",
            "Promo",
            "Promo",
            "Flexible",
            "Promo",
            "Promo",
            "Promo",
            "Promo",
            "Promo",
            "Promo",
            "Promo",
            "Promo",
            "Promo",
            "Promo",
            "Promo",
            "Promo",
            "Promo",
            "Promo",
            "Flexible",
            "Promo",
            "Promo",
            "Promo",
            "Promo",
            "Promo",
            "Flexible",
            "Promo",
            "Promo",
            "Promo",
            "Promo",
            "Promo",
            "Promo",
            "Promo",
            "Promo",
            "Promo",
            "Promo",
            "Promo",
            "Promo",
            "Promo",
            "Promo",
            "Promo",
            "Promo",
            "Promo",
            "Promo",
            "Promo",
            "Promo",
            "Promo",
            "Promo",
            "Promo",
            "Flexible",
            "Flexible",
            "Promo",
            "Promo",
            "Promo",
            "Promo",
            "Flexible",
            "Promo",
            "Promo",
            "Promo",
            "Promo",
            "Promo",
            "Flexible",
            "Promo",
            "Promo",
            "Promo",
            "Promo",
            "Promo",
            "Promo",
            "Promo",
            "Promo",
            "Promo",
            "Promo",
            "Promo",
            "Promo",
            "Promo",
            "Promo",
            "Promo",
            "Promo",
            "Promo",
            "Flexible",
            "Flexible",
            "Flexible",
            "Flexible",
            "Flexible",
            "Flexible",
            "Flexible",
            "Promo",
            "Promo",
            "Promo",
            "Flexible",
            "Promo",
            "Promo",
            "Promo",
            "Promo",
            "Promo",
            "Promo",
            "Flexible",
            "Promo",
            "Promo",
            "Promo",
            "Promo",
            "Promo",
            "Flexible",
            "Promo",
            "Promo",
            "Promo",
            "Promo",
            "Promo",
            "Promo",
            "Promo",
            "Promo",
            "Promo",
            "Flexible",
            "Promo",
            "Promo",
            "Promo",
            "Promo",
            "Promo",
            "Promo",
            "Promo",
            "Promo",
            "Promo",
            "Promo",
            "Promo",
            "Promo",
            "Promo",
            "Promo",
            "Promo",
            "Promo",
            "Promo",
            "Promo",
            "Promo",
            "Promo",
            "Promo",
            "Promo",
            "Promo",
            "Promo",
            "Promo",
            "Promo",
            "Promo",
            "Promo",
            "Flexible",
            "Promo",
            "Promo",
            "Promo",
            "Promo",
            "Promo",
            "Flexible",
            "Promo",
            "Promo",
            "Promo",
            "Promo",
            "Promo",
            "Promo",
            "Promo",
            "Promo",
            "Promo",
            "Promo",
            "Flexible",
            "Promo",
            "Promo",
            "Promo",
            "Promo",
            "Promo",
            "Promo",
            "Promo",
            "Promo",
            "Promo",
            "Promo",
            "Promo",
            "Promo",
            "Promo",
            "Promo",
            "Promo",
            "Promo",
            "Promo",
            "Promo",
            "Promo",
            "Promo",
            "Promo",
            "Promo",
            "Promo",
            "Promo",
            "Promo",
            "Promo",
            "Flexible",
            "Flexible",
            "Promo",
            "Promo",
            "Promo",
            "Promo",
            "Flexible",
            "Promo",
            "Promo",
            "Promo",
            "Promo",
            "Promo",
            "Flexible",
            "Promo",
            "Promo",
            "Promo",
            "Promo",
            "Promo",
            "Promo",
            "Promo",
            "Promo",
            "Promo",
            "Promo",
            "Promo",
            "Promo",
            "Promo",
            "Promo",
            "Promo",
            "Promo",
            "Promo",
            "Promo",
            "Promo",
            "Promo",
            "Promo",
            "Promo",
            "Flexible",
            "Flexible",
            "Flexible",
            "Flexible",
            "Flexible",
            "Flexible",
            "Flexible",
            "Promo",
            "Promo",
            "Promo",
            "Flexible",
            "Promo",
            "Promo",
            "Promo",
            "Promo",
            "Promo",
            "Promo",
            "Promo",
            "Promo",
            "Promo",
            "Promo",
            "Promo",
            "Promo",
            "Promo",
            "Promo",
            "Promo",
            "Promo",
            "Promo",
            "Promo",
            "Promo",
            "Promo",
            "Promo",
            "Promo",
            "Promo",
            "Flexible",
            "Promo",
            "Promo",
            "Promo",
            "Promo",
            "Promo",
            "Flexible",
            "Promo",
            "Promo",
            "Promo",
            "Promo",
            "Promo",
            "Promo",
            "Promo",
            "Promo",
            "Flexible",
            "Flexible",
            "Promo",
            "Promo",
            "Promo",
            "Promo",
            "Flexible",
            "Promo",
            "Promo",
            "Promo",
            "Promo",
            "Promo",
            "Flexible",
            "Promo",
            "Promo",
            "Promo",
            "Promo",
            "Promo",
            "Promo",
            "Promo",
            "Promo",
            "Promo",
            "Promo",
            "Promo",
            "Promo",
            "Promo",
            "Promo",
            "Promo",
            "Promo",
            "Promo",
            "Promo",
            "Promo",
            "Promo",
            "Promo",
            "Promo",
            "Promo",
            "Promo",
            "Promo",
            "Promo",
            "Promo",
            "Promo",
            "Promo",
            "Promo",
            "Promo",
            "Promo",
            "Flexible",
            "Flexible",
            "Flexible",
            "Flexible",
            "Flexible",
            "Flexible",
            "Flexible",
            "Promo",
            "Promo",
            "Promo",
            "Flexible",
            "Promo",
            "Promo",
            "Promo",
            "Promo",
            "Promo",
            "Promo",
            "Promo",
            "Promo",
            "Promo",
            "Promo",
            "Promo",
            "Promo",
            "Promo",
            "Promo",
            "Promo",
            "Promo",
            "Promo",
            "Promo",
            "Promo",
            "Promo",
            "Promo",
            "Promo",
            "Promo",
            "Promo",
            "Promo",
            "Promo",
            "Promo",
            "Promo",
            "Flexible",
            "Promo",
            "Promo",
            "Promo",
            "Promo",
            "Promo",
            "Promo",
            "Promo",
            "Promo",
            "Promo",
            "Promo",
            "Promo",
            "Promo",
            "Promo",
            "Promo",
            "Promo",
            "Promo",
            "Promo",
            "Promo",
            "Promo",
            "Promo",
            "Promo",
            "Promo",
            "Promo",
            "Flexible",
            "Flexible",
            "Flexible",
            "Flexible",
            "Flexible",
            "Flexible",
            "Flexible",
            "Promo",
            "Promo",
            "Promo",
            "Flexible",
            "Promo",
            "Promo",
            "Promo",
            "Promo",
            "Promo",
            "Promo",
            "Promo",
            "Promo",
            "Promo",
            "Promo",
            "Promo",
            "Flexible",
            "Promo",
            "Promo",
            "Promo",
            "Promo",
            "Promo",
            "Promo",
            "Promo",
            "Promo",
            "Promo",
            "Promo",
            "Promo",
            "Promo",
            "Promo",
            "Promo",
            "Promo",
            "Promo",
            "Promo",
            "Promo",
            "Promo",
            "Promo",
            "Promo",
            "Promo",
            "Promo",
            "Promo",
            "Promo",
            "Promo",
            "Promo",
            "Promo",
            "Promo",
            "Promo",
            "Promo",
            "Promo",
            "Promo",
            "Promo",
            "Promo",
            "Promo",
            "Promo",
            "Promo",
            "Promo",
            "Promo",
            "Flexible",
            "Promo",
            "Promo",
            "Promo",
            "Promo",
            "Promo",
            "Flexible",
            "Promo",
            "Promo",
            "Promo",
            "Promo",
            "Promo",
            "Promo",
            "Promo",
            "Promo",
            "Flexible",
            "Flexible",
            "Promo",
            "Promo",
            "Promo",
            "Promo",
            "Flexible",
            "Promo",
            "Promo",
            "Promo",
            "Promo",
            "Promo",
            "Flexible",
            "Promo",
            "Promo",
            "Promo",
            "Promo",
            "Promo",
            "Promo",
            "Promo",
            "Promo",
            "Promo",
            "Promo",
            "Promo",
            "Promo",
            "Promo",
            "Promo",
            "Promo",
            "Promo",
            "Promo",
            "Promo",
            "Promo",
            "Promo",
            "Promo",
            "Promo",
            "Promo",
            "Promo",
            "Promo",
            "Promo",
            "Promo",
            "Promo",
            "Promo",
            "Promo",
            "Promo",
            "Promo",
            "Promo",
            "Promo",
            "Promo",
            "Promo",
            "Flexible",
            "Flexible",
            "Promo",
            "Promo",
            "Promo",
            "Promo",
            "Flexible",
            "Promo",
            "Promo",
            "Promo",
            "Promo",
            "Promo",
            "Flexible",
            "Promo",
            "Promo",
            "Promo",
            "Promo",
            "Promo",
            "Promo",
            "Promo",
            "Promo",
            "Promo",
            "Promo",
            "Promo",
            "Promo",
            "Promo",
            "Promo",
            "Promo",
            "Promo",
            "Promo",
            "Promo",
            "Promo",
            "Promo",
            "Promo",
            "Promo",
            "Promo",
            "Promo",
            "Promo",
            "Promo",
            "Promo",
            "Promo",
            "Promo",
            "Promo",
            "Promo",
            "Promo",
            "Promo",
            "Promo",
            "Promo",
            "Promo",
            "Promo",
            "Promo",
            "Promo",
            "Promo",
            "Promo",
            "Promo",
            "Promo",
            "Promo",
            "Promo",
            "Promo",
            "Promo",
            "Promo",
            "Promo",
            "Promo",
            "Flexible",
            "Promo",
            "Promo",
            "Promo",
            "Promo",
            "Promo",
            "Promo",
            "Flexible",
            "Flexible",
            "Flexible",
            "Flexible",
            "Flexible",
            "Flexible",
            "Flexible",
            "Promo",
            "Promo",
            "Flexible",
            "Promo",
            "Promo",
            "Promo",
            "Promo",
            "Promo",
            "Flexible",
            "Promo",
            "Promo",
            "Promo",
            "Promo",
            "Promo",
            "Promo",
            "Promo",
            "Promo",
            "Promo",
            "Flexible",
            "Promo",
            "Promo",
            "Promo",
            "Promo",
            "Promo",
            "Promo",
            "Promo",
            "Promo",
            "Promo",
            "Promo",
            "Promo",
            "Promo",
            "Promo",
            "Promo",
            "Promo",
            "Promo",
            "Promo",
            "Promo",
            "Promo",
            "Promo",
            "Promo",
            "Promo",
            "Promo",
            "Promo",
            "Promo",
            "Promo",
            "Promo",
            "Flexible",
            "Flexible",
            "Promo",
            "Promo",
            "Promo",
            "Promo",
            "Flexible",
            "Promo",
            "Promo",
            "Promo",
            "Promo",
            "Promo",
            "Flexible",
            "Promo",
            "Promo",
            "Promo",
            "Promo",
            "Promo",
            "Promo",
            "Promo",
            "Promo",
            "Promo",
            "Promo",
            "Promo",
            "Promo",
            "Promo",
            "Promo",
            "Promo",
            "Flexible",
            "Flexible",
            "Flexible",
            "Flexible",
            "Flexible",
            "Flexible",
            "Flexible",
            "Promo",
            "Promo",
            "Promo",
            "Flexible",
            "Promo",
            "Promo",
            "Promo",
            "Promo",
            "Promo",
            "Promo",
            "Promo",
            "Promo",
            "Promo",
            "Promo",
            "Promo",
            "Promo",
            "Promo",
            "Promo",
            "Promo",
            "Promo",
            "Promo",
            "Promo",
            "Promo",
            "Promo",
            "Promo",
            "Promo",
            "Promo",
            "Promo",
            "Promo",
            "Promo",
            "Promo",
            "Promo",
            "Promo",
            "Promo",
            "Promo",
            "Promo",
            "Promo",
            "Promo",
            "Promo",
            "Promo",
            "Promo",
            "Promo",
            "Promo",
            "Promo",
            "Flexible",
            "Promo",
            "Promo",
            "Promo",
            "Promo",
            "Promo",
            "Flexible",
            "Promo",
            "Promo",
            "Promo",
            "Promo",
            "Promo",
            "Promo",
            "Promo",
            "Promo",
            "Promo",
            "Flexible",
            "Promo",
            "Promo",
            "Promo",
            "Promo",
            "Promo",
            "Promo",
            "Promo",
            "Promo",
            "Promo",
            "Promo",
            "Promo",
            "Promo",
            "Promo",
            "Promo",
            "Promo",
            "Promo",
            "Promo",
            "Promo",
            "Promo",
            "Promo",
            "Promo",
            "Promo",
            "Promo"
           ],
           "xaxis": "x",
           "yaxis": "y"
          }
         ],
         "name": "AVE"
        },
        {
         "data": [
          {
           "alignmentgroup": "True",
           "bingroup": "x",
           "hovertemplate": "train_type=AVE-MD<br>fare=%{x}<br>count=%{y}<extra></extra>",
           "legendgroup": "AVE-MD",
           "marker": {
            "color": "#00cc96",
            "pattern": {
             "shape": ""
            }
           },
           "name": "AVE-MD",
           "offsetgroup": "AVE-MD",
           "orientation": "v",
           "showlegend": true,
           "type": "histogram",
           "x": [
            "Flexible",
            "Flexible",
            "Flexible",
            "Flexible",
            "Promo",
            "Flexible",
            "Flexible",
            "Promo",
            "Promo",
            "Flexible",
            "Flexible",
            "Flexible",
            "Flexible",
            "Promo",
            "Flexible",
            "Flexible",
            "Promo",
            "Promo",
            "Flexible",
            "Flexible",
            "Flexible",
            "Flexible",
            "Promo",
            "Promo"
           ],
           "xaxis": "x",
           "yaxis": "y"
          }
         ],
         "name": "AVE-MD"
        },
        {
         "data": [
          {
           "alignmentgroup": "True",
           "bingroup": "x",
           "hovertemplate": "train_type=AVE-LD<br>fare=%{x}<br>count=%{y}<extra></extra>",
           "legendgroup": "AVE-LD",
           "marker": {
            "color": "#ab63fa",
            "pattern": {
             "shape": ""
            }
           },
           "name": "AVE-LD",
           "offsetgroup": "AVE-LD",
           "orientation": "v",
           "showlegend": true,
           "type": "histogram",
           "x": [
            "Flexible",
            "Flexible",
            "Promo",
            "Flexible",
            "Promo",
            "Promo",
            "Flexible",
            "Flexible",
            "Promo",
            "Flexible",
            "Promo",
            "Promo",
            "Flexible",
            "Flexible",
            "Promo",
            "Promo"
           ],
           "xaxis": "x",
           "yaxis": "y"
          }
         ],
         "name": "AVE-LD"
        },
        {
         "data": [
          {
           "alignmentgroup": "True",
           "bingroup": "x",
           "hovertemplate": "train_type=AV City<br>fare=%{x}<br>count=%{y}<extra></extra>",
           "legendgroup": "AV City",
           "marker": {
            "color": "#FFA15A",
            "pattern": {
             "shape": ""
            }
           },
           "name": "AV City",
           "offsetgroup": "AV City",
           "orientation": "v",
           "showlegend": true,
           "type": "histogram",
           "x": [
            "Promo",
            "Flexible",
            "Promo",
            "Promo",
            "Promo",
            "Promo",
            "Promo",
            "Promo",
            "Promo",
            "Flexible",
            "Promo",
            "Promo",
            "Promo",
            "Promo",
            "Promo",
            "Promo",
            "Promo",
            "Promo",
            "Promo",
            "Promo",
            "Promo",
            "Flexible",
            "Promo",
            "Promo",
            "Promo",
            "Promo",
            "Promo",
            "Promo",
            "Promo",
            "Flexible",
            "Promo",
            "Promo",
            "Promo",
            "Flexible",
            "Promo",
            "Promo",
            "Promo",
            "Promo",
            "Promo",
            "Promo",
            "Promo",
            "Promo",
            "Promo",
            "Flexible",
            "Promo",
            "Promo",
            "Promo",
            "Promo",
            "Promo",
            "Flexible",
            "Promo",
            "Promo",
            "Promo",
            "Promo",
            "Promo",
            "Promo"
           ],
           "xaxis": "x",
           "yaxis": "y"
          }
         ],
         "name": "AV City"
        }
       ],
       "layout": {
        "autosize": true,
        "barmode": "relative",
        "legend": {
         "title": {
          "text": "train_type"
         },
         "tracegroupgap": 0
        },
        "sliders": [
         {
          "active": 0,
          "currentvalue": {
           "prefix": "train_type="
          },
          "len": 0.9,
          "pad": {
           "b": 10,
           "t": 60
          },
          "steps": [
           {
            "args": [
             [
              "ALVIA"
             ],
             {
              "frame": {
               "duration": 0,
               "redraw": true
              },
              "fromcurrent": true,
              "mode": "immediate",
              "transition": {
               "duration": 0,
               "easing": "linear"
              }
             }
            ],
            "label": "ALVIA",
            "method": "animate"
           },
           {
            "args": [
             [
              "AVE"
             ],
             {
              "frame": {
               "duration": 0,
               "redraw": true
              },
              "fromcurrent": true,
              "mode": "immediate",
              "transition": {
               "duration": 0,
               "easing": "linear"
              }
             }
            ],
            "label": "AVE",
            "method": "animate"
           },
           {
            "args": [
             [
              "AVE-MD"
             ],
             {
              "frame": {
               "duration": 0,
               "redraw": true
              },
              "fromcurrent": true,
              "mode": "immediate",
              "transition": {
               "duration": 0,
               "easing": "linear"
              }
             }
            ],
            "label": "AVE-MD",
            "method": "animate"
           },
           {
            "args": [
             [
              "AVE-LD"
             ],
             {
              "frame": {
               "duration": 0,
               "redraw": true
              },
              "fromcurrent": true,
              "mode": "immediate",
              "transition": {
               "duration": 0,
               "easing": "linear"
              }
             }
            ],
            "label": "AVE-LD",
            "method": "animate"
           },
           {
            "args": [
             [
              "AV City"
             ],
             {
              "frame": {
               "duration": 0,
               "redraw": true
              },
              "fromcurrent": true,
              "mode": "immediate",
              "transition": {
               "duration": 0,
               "easing": "linear"
              }
             }
            ],
            "label": "AV City",
            "method": "animate"
           }
          ],
          "x": 0.1,
          "xanchor": "left",
          "y": 0,
          "yanchor": "top"
         }
        ],
        "template": {
         "data": {
          "bar": [
           {
            "error_x": {
             "color": "#2a3f5f"
            },
            "error_y": {
             "color": "#2a3f5f"
            },
            "marker": {
             "line": {
              "color": "#E5ECF6",
              "width": 0.5
             },
             "pattern": {
              "fillmode": "overlay",
              "size": 10,
              "solidity": 0.2
             }
            },
            "type": "bar"
           }
          ],
          "barpolar": [
           {
            "marker": {
             "line": {
              "color": "#E5ECF6",
              "width": 0.5
             },
             "pattern": {
              "fillmode": "overlay",
              "size": 10,
              "solidity": 0.2
             }
            },
            "type": "barpolar"
           }
          ],
          "carpet": [
           {
            "aaxis": {
             "endlinecolor": "#2a3f5f",
             "gridcolor": "white",
             "linecolor": "white",
             "minorgridcolor": "white",
             "startlinecolor": "#2a3f5f"
            },
            "baxis": {
             "endlinecolor": "#2a3f5f",
             "gridcolor": "white",
             "linecolor": "white",
             "minorgridcolor": "white",
             "startlinecolor": "#2a3f5f"
            },
            "type": "carpet"
           }
          ],
          "choropleth": [
           {
            "colorbar": {
             "outlinewidth": 0,
             "ticks": ""
            },
            "type": "choropleth"
           }
          ],
          "contour": [
           {
            "colorbar": {
             "outlinewidth": 0,
             "ticks": ""
            },
            "colorscale": [
             [
              0,
              "#0d0887"
             ],
             [
              0.1111111111111111,
              "#46039f"
             ],
             [
              0.2222222222222222,
              "#7201a8"
             ],
             [
              0.3333333333333333,
              "#9c179e"
             ],
             [
              0.4444444444444444,
              "#bd3786"
             ],
             [
              0.5555555555555556,
              "#d8576b"
             ],
             [
              0.6666666666666666,
              "#ed7953"
             ],
             [
              0.7777777777777778,
              "#fb9f3a"
             ],
             [
              0.8888888888888888,
              "#fdca26"
             ],
             [
              1,
              "#f0f921"
             ]
            ],
            "type": "contour"
           }
          ],
          "contourcarpet": [
           {
            "colorbar": {
             "outlinewidth": 0,
             "ticks": ""
            },
            "type": "contourcarpet"
           }
          ],
          "heatmap": [
           {
            "colorbar": {
             "outlinewidth": 0,
             "ticks": ""
            },
            "colorscale": [
             [
              0,
              "#0d0887"
             ],
             [
              0.1111111111111111,
              "#46039f"
             ],
             [
              0.2222222222222222,
              "#7201a8"
             ],
             [
              0.3333333333333333,
              "#9c179e"
             ],
             [
              0.4444444444444444,
              "#bd3786"
             ],
             [
              0.5555555555555556,
              "#d8576b"
             ],
             [
              0.6666666666666666,
              "#ed7953"
             ],
             [
              0.7777777777777778,
              "#fb9f3a"
             ],
             [
              0.8888888888888888,
              "#fdca26"
             ],
             [
              1,
              "#f0f921"
             ]
            ],
            "type": "heatmap"
           }
          ],
          "heatmapgl": [
           {
            "colorbar": {
             "outlinewidth": 0,
             "ticks": ""
            },
            "colorscale": [
             [
              0,
              "#0d0887"
             ],
             [
              0.1111111111111111,
              "#46039f"
             ],
             [
              0.2222222222222222,
              "#7201a8"
             ],
             [
              0.3333333333333333,
              "#9c179e"
             ],
             [
              0.4444444444444444,
              "#bd3786"
             ],
             [
              0.5555555555555556,
              "#d8576b"
             ],
             [
              0.6666666666666666,
              "#ed7953"
             ],
             [
              0.7777777777777778,
              "#fb9f3a"
             ],
             [
              0.8888888888888888,
              "#fdca26"
             ],
             [
              1,
              "#f0f921"
             ]
            ],
            "type": "heatmapgl"
           }
          ],
          "histogram": [
           {
            "marker": {
             "pattern": {
              "fillmode": "overlay",
              "size": 10,
              "solidity": 0.2
             }
            },
            "type": "histogram"
           }
          ],
          "histogram2d": [
           {
            "colorbar": {
             "outlinewidth": 0,
             "ticks": ""
            },
            "colorscale": [
             [
              0,
              "#0d0887"
             ],
             [
              0.1111111111111111,
              "#46039f"
             ],
             [
              0.2222222222222222,
              "#7201a8"
             ],
             [
              0.3333333333333333,
              "#9c179e"
             ],
             [
              0.4444444444444444,
              "#bd3786"
             ],
             [
              0.5555555555555556,
              "#d8576b"
             ],
             [
              0.6666666666666666,
              "#ed7953"
             ],
             [
              0.7777777777777778,
              "#fb9f3a"
             ],
             [
              0.8888888888888888,
              "#fdca26"
             ],
             [
              1,
              "#f0f921"
             ]
            ],
            "type": "histogram2d"
           }
          ],
          "histogram2dcontour": [
           {
            "colorbar": {
             "outlinewidth": 0,
             "ticks": ""
            },
            "colorscale": [
             [
              0,
              "#0d0887"
             ],
             [
              0.1111111111111111,
              "#46039f"
             ],
             [
              0.2222222222222222,
              "#7201a8"
             ],
             [
              0.3333333333333333,
              "#9c179e"
             ],
             [
              0.4444444444444444,
              "#bd3786"
             ],
             [
              0.5555555555555556,
              "#d8576b"
             ],
             [
              0.6666666666666666,
              "#ed7953"
             ],
             [
              0.7777777777777778,
              "#fb9f3a"
             ],
             [
              0.8888888888888888,
              "#fdca26"
             ],
             [
              1,
              "#f0f921"
             ]
            ],
            "type": "histogram2dcontour"
           }
          ],
          "mesh3d": [
           {
            "colorbar": {
             "outlinewidth": 0,
             "ticks": ""
            },
            "type": "mesh3d"
           }
          ],
          "parcoords": [
           {
            "line": {
             "colorbar": {
              "outlinewidth": 0,
              "ticks": ""
             }
            },
            "type": "parcoords"
           }
          ],
          "pie": [
           {
            "automargin": true,
            "type": "pie"
           }
          ],
          "scatter": [
           {
            "fillpattern": {
             "fillmode": "overlay",
             "size": 10,
             "solidity": 0.2
            },
            "type": "scatter"
           }
          ],
          "scatter3d": [
           {
            "line": {
             "colorbar": {
              "outlinewidth": 0,
              "ticks": ""
             }
            },
            "marker": {
             "colorbar": {
              "outlinewidth": 0,
              "ticks": ""
             }
            },
            "type": "scatter3d"
           }
          ],
          "scattercarpet": [
           {
            "marker": {
             "colorbar": {
              "outlinewidth": 0,
              "ticks": ""
             }
            },
            "type": "scattercarpet"
           }
          ],
          "scattergeo": [
           {
            "marker": {
             "colorbar": {
              "outlinewidth": 0,
              "ticks": ""
             }
            },
            "type": "scattergeo"
           }
          ],
          "scattergl": [
           {
            "marker": {
             "colorbar": {
              "outlinewidth": 0,
              "ticks": ""
             }
            },
            "type": "scattergl"
           }
          ],
          "scattermapbox": [
           {
            "marker": {
             "colorbar": {
              "outlinewidth": 0,
              "ticks": ""
             }
            },
            "type": "scattermapbox"
           }
          ],
          "scatterpolar": [
           {
            "marker": {
             "colorbar": {
              "outlinewidth": 0,
              "ticks": ""
             }
            },
            "type": "scatterpolar"
           }
          ],
          "scatterpolargl": [
           {
            "marker": {
             "colorbar": {
              "outlinewidth": 0,
              "ticks": ""
             }
            },
            "type": "scatterpolargl"
           }
          ],
          "scatterternary": [
           {
            "marker": {
             "colorbar": {
              "outlinewidth": 0,
              "ticks": ""
             }
            },
            "type": "scatterternary"
           }
          ],
          "surface": [
           {
            "colorbar": {
             "outlinewidth": 0,
             "ticks": ""
            },
            "colorscale": [
             [
              0,
              "#0d0887"
             ],
             [
              0.1111111111111111,
              "#46039f"
             ],
             [
              0.2222222222222222,
              "#7201a8"
             ],
             [
              0.3333333333333333,
              "#9c179e"
             ],
             [
              0.4444444444444444,
              "#bd3786"
             ],
             [
              0.5555555555555556,
              "#d8576b"
             ],
             [
              0.6666666666666666,
              "#ed7953"
             ],
             [
              0.7777777777777778,
              "#fb9f3a"
             ],
             [
              0.8888888888888888,
              "#fdca26"
             ],
             [
              1,
              "#f0f921"
             ]
            ],
            "type": "surface"
           }
          ],
          "table": [
           {
            "cells": {
             "fill": {
              "color": "#EBF0F8"
             },
             "line": {
              "color": "white"
             }
            },
            "header": {
             "fill": {
              "color": "#C8D4E3"
             },
             "line": {
              "color": "white"
             }
            },
            "type": "table"
           }
          ]
         },
         "layout": {
          "annotationdefaults": {
           "arrowcolor": "#2a3f5f",
           "arrowhead": 0,
           "arrowwidth": 1
          },
          "autotypenumbers": "strict",
          "coloraxis": {
           "colorbar": {
            "outlinewidth": 0,
            "ticks": ""
           }
          },
          "colorscale": {
           "diverging": [
            [
             0,
             "#8e0152"
            ],
            [
             0.1,
             "#c51b7d"
            ],
            [
             0.2,
             "#de77ae"
            ],
            [
             0.3,
             "#f1b6da"
            ],
            [
             0.4,
             "#fde0ef"
            ],
            [
             0.5,
             "#f7f7f7"
            ],
            [
             0.6,
             "#e6f5d0"
            ],
            [
             0.7,
             "#b8e186"
            ],
            [
             0.8,
             "#7fbc41"
            ],
            [
             0.9,
             "#4d9221"
            ],
            [
             1,
             "#276419"
            ]
           ],
           "sequential": [
            [
             0,
             "#0d0887"
            ],
            [
             0.1111111111111111,
             "#46039f"
            ],
            [
             0.2222222222222222,
             "#7201a8"
            ],
            [
             0.3333333333333333,
             "#9c179e"
            ],
            [
             0.4444444444444444,
             "#bd3786"
            ],
            [
             0.5555555555555556,
             "#d8576b"
            ],
            [
             0.6666666666666666,
             "#ed7953"
            ],
            [
             0.7777777777777778,
             "#fb9f3a"
            ],
            [
             0.8888888888888888,
             "#fdca26"
            ],
            [
             1,
             "#f0f921"
            ]
           ],
           "sequentialminus": [
            [
             0,
             "#0d0887"
            ],
            [
             0.1111111111111111,
             "#46039f"
            ],
            [
             0.2222222222222222,
             "#7201a8"
            ],
            [
             0.3333333333333333,
             "#9c179e"
            ],
            [
             0.4444444444444444,
             "#bd3786"
            ],
            [
             0.5555555555555556,
             "#d8576b"
            ],
            [
             0.6666666666666666,
             "#ed7953"
            ],
            [
             0.7777777777777778,
             "#fb9f3a"
            ],
            [
             0.8888888888888888,
             "#fdca26"
            ],
            [
             1,
             "#f0f921"
            ]
           ]
          },
          "colorway": [
           "#636efa",
           "#EF553B",
           "#00cc96",
           "#ab63fa",
           "#FFA15A",
           "#19d3f3",
           "#FF6692",
           "#B6E880",
           "#FF97FF",
           "#FECB52"
          ],
          "font": {
           "color": "#2a3f5f"
          },
          "geo": {
           "bgcolor": "white",
           "lakecolor": "white",
           "landcolor": "#E5ECF6",
           "showlakes": true,
           "showland": true,
           "subunitcolor": "white"
          },
          "hoverlabel": {
           "align": "left"
          },
          "hovermode": "closest",
          "mapbox": {
           "style": "light"
          },
          "paper_bgcolor": "white",
          "plot_bgcolor": "#E5ECF6",
          "polar": {
           "angularaxis": {
            "gridcolor": "white",
            "linecolor": "white",
            "ticks": ""
           },
           "bgcolor": "#E5ECF6",
           "radialaxis": {
            "gridcolor": "white",
            "linecolor": "white",
            "ticks": ""
           }
          },
          "scene": {
           "xaxis": {
            "backgroundcolor": "#E5ECF6",
            "gridcolor": "white",
            "gridwidth": 2,
            "linecolor": "white",
            "showbackground": true,
            "ticks": "",
            "zerolinecolor": "white"
           },
           "yaxis": {
            "backgroundcolor": "#E5ECF6",
            "gridcolor": "white",
            "gridwidth": 2,
            "linecolor": "white",
            "showbackground": true,
            "ticks": "",
            "zerolinecolor": "white"
           },
           "zaxis": {
            "backgroundcolor": "#E5ECF6",
            "gridcolor": "white",
            "gridwidth": 2,
            "linecolor": "white",
            "showbackground": true,
            "ticks": "",
            "zerolinecolor": "white"
           }
          },
          "shapedefaults": {
           "line": {
            "color": "#2a3f5f"
           }
          },
          "ternary": {
           "aaxis": {
            "gridcolor": "white",
            "linecolor": "white",
            "ticks": ""
           },
           "baxis": {
            "gridcolor": "white",
            "linecolor": "white",
            "ticks": ""
           },
           "bgcolor": "#E5ECF6",
           "caxis": {
            "gridcolor": "white",
            "linecolor": "white",
            "ticks": ""
           }
          },
          "title": {
           "x": 0.05
          },
          "xaxis": {
           "automargin": true,
           "gridcolor": "white",
           "linecolor": "white",
           "ticks": "",
           "title": {
            "standoff": 15
           },
           "zerolinecolor": "white",
           "zerolinewidth": 2
          },
          "yaxis": {
           "automargin": true,
           "gridcolor": "white",
           "linecolor": "white",
           "ticks": "",
           "title": {
            "standoff": 15
           },
           "zerolinecolor": "white",
           "zerolinewidth": 2
          }
         }
        },
        "title": {
         "text": "Animated Fare Distribution over Time"
        },
        "updatemenus": [
         {
          "buttons": [
           {
            "args": [
             null,
             {
              "frame": {
               "duration": 500,
               "redraw": true
              },
              "fromcurrent": true,
              "mode": "immediate",
              "transition": {
               "duration": 500,
               "easing": "linear"
              }
             }
            ],
            "label": "&#9654;",
            "method": "animate"
           },
           {
            "args": [
             [
              null
             ],
             {
              "frame": {
               "duration": 0,
               "redraw": true
              },
              "fromcurrent": true,
              "mode": "immediate",
              "transition": {
               "duration": 0,
               "easing": "linear"
              }
             }
            ],
            "label": "&#9724;",
            "method": "animate"
           }
          ],
          "direction": "left",
          "pad": {
           "r": 10,
           "t": 70
          },
          "showactive": false,
          "type": "buttons",
          "x": 0.1,
          "xanchor": "right",
          "y": 0,
          "yanchor": "top"
         }
        ],
        "xaxis": {
         "anchor": "y",
         "autorange": true,
         "domain": [
          0,
          1
         ],
         "range": [
          -0.5,
          1.5
         ],
         "title": {
          "text": "fare"
         },
         "type": "category"
        },
        "yaxis": {
         "anchor": "x",
         "autorange": true,
         "domain": [
          0,
          1
         ],
         "range": [
          0,
          30.526315789473685
         ],
         "title": {
          "text": "count"
         }
        }
       }
      },
      "image/png": "[encoded data removed]",
      "text/html": [
       "<div>                            <div id=\"ed3fce03-3361-4d31-9c51-ddccd7461e93\" class=\"plotly-graph-div\" style=\"height:525px; width:100%;\"></div>            <script type=\"text/javascript\">                require([\"plotly\"], function(Plotly) {                    window.PLOTLYENV=window.PLOTLYENV || {};                                    if (document.getElementById(\"ed3fce03-3361-4d31-9c51-ddccd7461e93\")) {                    Plotly.newPlot(                        \"ed3fce03-3361-4d31-9c51-ddccd7461e93\",                        [{\"alignmentgroup\":\"True\",\"bingroup\":\"x\",\"hovertemplate\":\"train_type=ALVIA\\u003cbr\\u003efare=%{x}\\u003cbr\\u003ecount=%{y}\\u003cextra\\u003e\\u003c\\u002fextra\\u003e\",\"legendgroup\":\"ALVIA\",\"marker\":{\"color\":\"#636efa\",\"pattern\":{\"shape\":\"\"}},\"name\":\"ALVIA\",\"offsetgroup\":\"ALVIA\",\"orientation\":\"v\",\"showlegend\":true,\"x\":[\"Promo\",\"Flexible\",\"Flexible\",\"Flexible\",\"Promo\",\"Promo\",\"Promo\",\"Promo\",\"Flexible\",\"Flexible\",\"Flexible\",\"Flexible\",\"Promo\",\"Promo\",\"Flexible\",\"Promo\",\"Promo\",\"Flexible\",\"Promo\",\"Flexible\",\"Flexible\",\"Flexible\",\"Promo\",\"Promo\",\"Promo\",\"Flexible\",\"Flexible\",\"Flexible\",\"Flexible\",\"Promo\",\"Promo\",\"Promo\",\"Promo\",\"Flexible\",\"Flexible\",\"Flexible\",\"Promo\",\"Promo\",\"Promo\",\"Flexible\",\"Promo\",\"Promo\",\"Promo\",\"Promo\",\"Promo\",\"Flexible\",\"Flexible\",\"Flexible\",\"Flexible\",\"Flexible\",\"Flexible\",\"Flexible\",\"Promo\",\"Promo\",\"Promo\",\"Flexible\",\"Promo\"],\"xaxis\":\"x\",\"yaxis\":\"y\",\"type\":\"histogram\"}],                        {\"template\":{\"data\":{\"histogram2dcontour\":[{\"type\":\"histogram2dcontour\",\"colorbar\":{\"outlinewidth\":0,\"ticks\":\"\"},\"colorscale\":[[0.0,\"#0d0887\"],[0.1111111111111111,\"#46039f\"],[0.2222222222222222,\"#7201a8\"],[0.3333333333333333,\"#9c179e\"],[0.4444444444444444,\"#bd3786\"],[0.5555555555555556,\"#d8576b\"],[0.6666666666666666,\"#ed7953\"],[0.7777777777777778,\"#fb9f3a\"],[0.8888888888888888,\"#fdca26\"],[1.0,\"#f0f921\"]]}],\"choropleth\":[{\"type\":\"choropleth\",\"colorbar\":{\"outlinewidth\":0,\"ticks\":\"\"}}],\"histogram2d\":[{\"type\":\"histogram2d\",\"colorbar\":{\"outlinewidth\":0,\"ticks\":\"\"},\"colorscale\":[[0.0,\"#0d0887\"],[0.1111111111111111,\"#46039f\"],[0.2222222222222222,\"#7201a8\"],[0.3333333333333333,\"#9c179e\"],[0.4444444444444444,\"#bd3786\"],[0.5555555555555556,\"#d8576b\"],[0.6666666666666666,\"#ed7953\"],[0.7777777777777778,\"#fb9f3a\"],[0.8888888888888888,\"#fdca26\"],[1.0,\"#f0f921\"]]}],\"heatmap\":[{\"type\":\"heatmap\",\"colorbar\":{\"outlinewidth\":0,\"ticks\":\"\"},\"colorscale\":[[0.0,\"#0d0887\"],[0.1111111111111111,\"#46039f\"],[0.2222222222222222,\"#7201a8\"],[0.3333333333333333,\"#9c179e\"],[0.4444444444444444,\"#bd3786\"],[0.5555555555555556,\"#d8576b\"],[0.6666666666666666,\"#ed7953\"],[0.7777777777777778,\"#fb9f3a\"],[0.8888888888888888,\"#fdca26\"],[1.0,\"#f0f921\"]]}],\"heatmapgl\":[{\"type\":\"heatmapgl\",\"colorbar\":{\"outlinewidth\":0,\"ticks\":\"\"},\"colorscale\":[[0.0,\"#0d0887\"],[0.1111111111111111,\"#46039f\"],[0.2222222222222222,\"#7201a8\"],[0.3333333333333333,\"#9c179e\"],[0.4444444444444444,\"#bd3786\"],[0.5555555555555556,\"#d8576b\"],[0.6666666666666666,\"#ed7953\"],[0.7777777777777778,\"#fb9f3a\"],[0.8888888888888888,\"#fdca26\"],[1.0,\"#f0f921\"]]}],\"contourcarpet\":[{\"type\":\"contourcarpet\",\"colorbar\":{\"outlinewidth\":0,\"ticks\":\"\"}}],\"contour\":[{\"type\":\"contour\",\"colorbar\":{\"outlinewidth\":0,\"ticks\":\"\"},\"colorscale\":[[0.0,\"#0d0887\"],[0.1111111111111111,\"#46039f\"],[0.2222222222222222,\"#7201a8\"],[0.3333333333333333,\"#9c179e\"],[0.4444444444444444,\"#bd3786\"],[0.5555555555555556,\"#d8576b\"],[0.6666666666666666,\"#ed7953\"],[0.7777777777777778,\"#fb9f3a\"],[0.8888888888888888,\"#fdca26\"],[1.0,\"#f0f921\"]]}],\"surface\":[{\"type\":\"surface\",\"colorbar\":{\"outlinewidth\":0,\"ticks\":\"\"},\"colorscale\":[[0.0,\"#0d0887\"],[0.1111111111111111,\"#46039f\"],[0.2222222222222222,\"#7201a8\"],[0.3333333333333333,\"#9c179e\"],[0.4444444444444444,\"#bd3786\"],[0.5555555555555556,\"#d8576b\"],[0.6666666666666666,\"#ed7953\"],[0.7777777777777778,\"#fb9f3a\"],[0.8888888888888888,\"#fdca26\"],[1.0,\"#f0f921\"]]}],\"mesh3d\":[{\"type\":\"mesh3d\",\"colorbar\":{\"outlinewidth\":0,\"ticks\":\"\"}}],\"scatter\":[{\"fillpattern\":{\"fillmode\":\"overlay\",\"size\":10,\"solidity\":0.2},\"type\":\"scatter\"}],\"parcoords\":[{\"type\":\"parcoords\",\"line\":{\"colorbar\":{\"outlinewidth\":0,\"ticks\":\"\"}}}],\"scatterpolargl\":[{\"type\":\"scatterpolargl\",\"marker\":{\"colorbar\":{\"outlinewidth\":0,\"ticks\":\"\"}}}],\"bar\":[{\"error_x\":{\"color\":\"#2a3f5f\"},\"error_y\":{\"color\":\"#2a3f5f\"},\"marker\":{\"line\":{\"color\":\"#E5ECF6\",\"width\":0.5},\"pattern\":{\"fillmode\":\"overlay\",\"size\":10,\"solidity\":0.2}},\"type\":\"bar\"}],\"scattergeo\":[{\"type\":\"scattergeo\",\"marker\":{\"colorbar\":{\"outlinewidth\":0,\"ticks\":\"\"}}}],\"scatterpolar\":[{\"type\":\"scatterpolar\",\"marker\":{\"colorbar\":{\"outlinewidth\":0,\"ticks\":\"\"}}}],\"histogram\":[{\"marker\":{\"pattern\":{\"fillmode\":\"overlay\",\"size\":10,\"solidity\":0.2}},\"type\":\"histogram\"}],\"scattergl\":[{\"type\":\"scattergl\",\"marker\":{\"colorbar\":{\"outlinewidth\":0,\"ticks\":\"\"}}}],\"scatter3d\":[{\"type\":\"scatter3d\",\"line\":{\"colorbar\":{\"outlinewidth\":0,\"ticks\":\"\"}},\"marker\":{\"colorbar\":{\"outlinewidth\":0,\"ticks\":\"\"}}}],\"scattermapbox\":[{\"type\":\"scattermapbox\",\"marker\":{\"colorbar\":{\"outlinewidth\":0,\"ticks\":\"\"}}}],\"scatterternary\":[{\"type\":\"scatterternary\",\"marker\":{\"colorbar\":{\"outlinewidth\":0,\"ticks\":\"\"}}}],\"scattercarpet\":[{\"type\":\"scattercarpet\",\"marker\":{\"colorbar\":{\"outlinewidth\":0,\"ticks\":\"\"}}}],\"carpet\":[{\"aaxis\":{\"endlinecolor\":\"#2a3f5f\",\"gridcolor\":\"white\",\"linecolor\":\"white\",\"minorgridcolor\":\"white\",\"startlinecolor\":\"#2a3f5f\"},\"baxis\":{\"endlinecolor\":\"#2a3f5f\",\"gridcolor\":\"white\",\"linecolor\":\"white\",\"minorgridcolor\":\"white\",\"startlinecolor\":\"#2a3f5f\"},\"type\":\"carpet\"}],\"table\":[{\"cells\":{\"fill\":{\"color\":\"#EBF0F8\"},\"line\":{\"color\":\"white\"}},\"header\":{\"fill\":{\"color\":\"#C8D4E3\"},\"line\":{\"color\":\"white\"}},\"type\":\"table\"}],\"barpolar\":[{\"marker\":{\"line\":{\"color\":\"#E5ECF6\",\"width\":0.5},\"pattern\":{\"fillmode\":\"overlay\",\"size\":10,\"solidity\":0.2}},\"type\":\"barpolar\"}],\"pie\":[{\"automargin\":true,\"type\":\"pie\"}]},\"layout\":{\"autotypenumbers\":\"strict\",\"colorway\":[\"#636efa\",\"#EF553B\",\"#00cc96\",\"#ab63fa\",\"#FFA15A\",\"#19d3f3\",\"#FF6692\",\"#B6E880\",\"#FF97FF\",\"#FECB52\"],\"font\":{\"color\":\"#2a3f5f\"},\"hovermode\":\"closest\",\"hoverlabel\":{\"align\":\"left\"},\"paper_bgcolor\":\"white\",\"plot_bgcolor\":\"#E5ECF6\",\"polar\":{\"bgcolor\":\"#E5ECF6\",\"angularaxis\":{\"gridcolor\":\"white\",\"linecolor\":\"white\",\"ticks\":\"\"},\"radialaxis\":{\"gridcolor\":\"white\",\"linecolor\":\"white\",\"ticks\":\"\"}},\"ternary\":{\"bgcolor\":\"#E5ECF6\",\"aaxis\":{\"gridcolor\":\"white\",\"linecolor\":\"white\",\"ticks\":\"\"},\"baxis\":{\"gridcolor\":\"white\",\"linecolor\":\"white\",\"ticks\":\"\"},\"caxis\":{\"gridcolor\":\"white\",\"linecolor\":\"white\",\"ticks\":\"\"}},\"coloraxis\":{\"colorbar\":{\"outlinewidth\":0,\"ticks\":\"\"}},\"colorscale\":{\"sequential\":[[0.0,\"#0d0887\"],[0.1111111111111111,\"#46039f\"],[0.2222222222222222,\"#7201a8\"],[0.3333333333333333,\"#9c179e\"],[0.4444444444444444,\"#bd3786\"],[0.5555555555555556,\"#d8576b\"],[0.6666666666666666,\"#ed7953\"],[0.7777777777777778,\"#fb9f3a\"],[0.8888888888888888,\"#fdca26\"],[1.0,\"#f0f921\"]],\"sequentialminus\":[[0.0,\"#0d0887\"],[0.1111111111111111,\"#46039f\"],[0.2222222222222222,\"#7201a8\"],[0.3333333333333333,\"#9c179e\"],[0.4444444444444444,\"#bd3786\"],[0.5555555555555556,\"#d8576b\"],[0.6666666666666666,\"#ed7953\"],[0.7777777777777778,\"#fb9f3a\"],[0.8888888888888888,\"#fdca26\"],[1.0,\"#f0f921\"]],\"diverging\":[[0,\"#8e0152\"],[0.1,\"#c51b7d\"],[0.2,\"#de77ae\"],[0.3,\"#f1b6da\"],[0.4,\"#fde0ef\"],[0.5,\"#f7f7f7\"],[0.6,\"#e6f5d0\"],[0.7,\"#b8e186\"],[0.8,\"#7fbc41\"],[0.9,\"#4d9221\"],[1,\"#276419\"]]},\"xaxis\":{\"gridcolor\":\"white\",\"linecolor\":\"white\",\"ticks\":\"\",\"title\":{\"standoff\":15},\"zerolinecolor\":\"white\",\"automargin\":true,\"zerolinewidth\":2},\"yaxis\":{\"gridcolor\":\"white\",\"linecolor\":\"white\",\"ticks\":\"\",\"title\":{\"standoff\":15},\"zerolinecolor\":\"white\",\"automargin\":true,\"zerolinewidth\":2},\"scene\":{\"xaxis\":{\"backgroundcolor\":\"#E5ECF6\",\"gridcolor\":\"white\",\"linecolor\":\"white\",\"showbackground\":true,\"ticks\":\"\",\"zerolinecolor\":\"white\",\"gridwidth\":2},\"yaxis\":{\"backgroundcolor\":\"#E5ECF6\",\"gridcolor\":\"white\",\"linecolor\":\"white\",\"showbackground\":true,\"ticks\":\"\",\"zerolinecolor\":\"white\",\"gridwidth\":2},\"zaxis\":{\"backgroundcolor\":\"#E5ECF6\",\"gridcolor\":\"white\",\"linecolor\":\"white\",\"showbackground\":true,\"ticks\":\"\",\"zerolinecolor\":\"white\",\"gridwidth\":2}},\"shapedefaults\":{\"line\":{\"color\":\"#2a3f5f\"}},\"annotationdefaults\":{\"arrowcolor\":\"#2a3f5f\",\"arrowhead\":0,\"arrowwidth\":1},\"geo\":{\"bgcolor\":\"white\",\"landcolor\":\"#E5ECF6\",\"subunitcolor\":\"white\",\"showland\":true,\"showlakes\":true,\"lakecolor\":\"white\"},\"title\":{\"x\":0.05},\"mapbox\":{\"style\":\"light\"}}},\"xaxis\":{\"anchor\":\"y\",\"domain\":[0.0,1.0],\"title\":{\"text\":\"fare\"}},\"yaxis\":{\"anchor\":\"x\",\"domain\":[0.0,1.0],\"title\":{\"text\":\"count\"}},\"legend\":{\"title\":{\"text\":\"train_type\"},\"tracegroupgap\":0},\"title\":{\"text\":\"Animated Fare Distribution over Time\"},\"barmode\":\"relative\",\"updatemenus\":[{\"buttons\":[{\"args\":[null,{\"frame\":{\"duration\":500,\"redraw\":true},\"mode\":\"immediate\",\"fromcurrent\":true,\"transition\":{\"duration\":500,\"easing\":\"linear\"}}],\"label\":\"&#9654;\",\"method\":\"animate\"},{\"args\":[[null],{\"frame\":{\"duration\":0,\"redraw\":true},\"mode\":\"immediate\",\"fromcurrent\":true,\"transition\":{\"duration\":0,\"easing\":\"linear\"}}],\"label\":\"&#9724;\",\"method\":\"animate\"}],\"direction\":\"left\",\"pad\":{\"r\":10,\"t\":70},\"showactive\":false,\"type\":\"buttons\",\"x\":0.1,\"xanchor\":\"right\",\"y\":0,\"yanchor\":\"top\"}],\"sliders\":[{\"active\":0,\"currentvalue\":{\"prefix\":\"train_type=\"},\"len\":0.9,\"pad\":{\"b\":10,\"t\":60},\"steps\":[{\"args\":[[\"ALVIA\"],{\"frame\":{\"duration\":0,\"redraw\":true},\"mode\":\"immediate\",\"fromcurrent\":true,\"transition\":{\"duration\":0,\"easing\":\"linear\"}}],\"label\":\"ALVIA\",\"method\":\"animate\"},{\"args\":[[\"AVE\"],{\"frame\":{\"duration\":0,\"redraw\":true},\"mode\":\"immediate\",\"fromcurrent\":true,\"transition\":{\"duration\":0,\"easing\":\"linear\"}}],\"label\":\"AVE\",\"method\":\"animate\"},{\"args\":[[\"AVE-MD\"],{\"frame\":{\"duration\":0,\"redraw\":true},\"mode\":\"immediate\",\"fromcurrent\":true,\"transition\":{\"duration\":0,\"easing\":\"linear\"}}],\"label\":\"AVE-MD\",\"method\":\"animate\"},{\"args\":[[\"AVE-LD\"],{\"frame\":{\"duration\":0,\"redraw\":true},\"mode\":\"immediate\",\"fromcurrent\":true,\"transition\":{\"duration\":0,\"easing\":\"linear\"}}],\"label\":\"AVE-LD\",\"method\":\"animate\"},{\"args\":[[\"AV City\"],{\"frame\":{\"duration\":0,\"redraw\":true},\"mode\":\"immediate\",\"fromcurrent\":true,\"transition\":{\"duration\":0,\"easing\":\"linear\"}}],\"label\":\"AV City\",\"method\":\"animate\"}],\"x\":0.1,\"xanchor\":\"left\",\"y\":0,\"yanchor\":\"top\"}]},                        {\"responsive\": true}                    ).then(function(){\n",
       "                            Plotly.addFrames('ed3fce03-3361-4d31-9c51-ddccd7461e93', [{\"data\":[{\"alignmentgroup\":\"True\",\"bingroup\":\"x\",\"hovertemplate\":\"train_type=ALVIA\\u003cbr\\u003efare=%{x}\\u003cbr\\u003ecount=%{y}\\u003cextra\\u003e\\u003c\\u002fextra\\u003e\",\"legendgroup\":\"ALVIA\",\"marker\":{\"color\":\"#636efa\",\"pattern\":{\"shape\":\"\"}},\"name\":\"ALVIA\",\"offsetgroup\":\"ALVIA\",\"orientation\":\"v\",\"showlegend\":true,\"x\":[\"Promo\",\"Flexible\",\"Flexible\",\"Flexible\",\"Promo\",\"Promo\",\"Promo\",\"Promo\",\"Flexible\",\"Flexible\",\"Flexible\",\"Flexible\",\"Promo\",\"Promo\",\"Flexible\",\"Promo\",\"Promo\",\"Flexible\",\"Promo\",\"Flexible\",\"Flexible\",\"Flexible\",\"Promo\",\"Promo\",\"Promo\",\"Flexible\",\"Flexible\",\"Flexible\",\"Flexible\",\"Promo\",\"Promo\",\"Promo\",\"Promo\",\"Flexible\",\"Flexible\",\"Flexible\",\"Promo\",\"Promo\",\"Promo\",\"Flexible\",\"Promo\",\"Promo\",\"Promo\",\"Promo\",\"Promo\",\"Flexible\",\"Flexible\",\"Flexible\",\"Flexible\",\"Flexible\",\"Flexible\",\"Flexible\",\"Promo\",\"Promo\",\"Promo\",\"Flexible\",\"Promo\"],\"xaxis\":\"x\",\"yaxis\":\"y\",\"type\":\"histogram\"}],\"name\":\"ALVIA\"},{\"data\":[{\"alignmentgroup\":\"True\",\"bingroup\":\"x\",\"hovertemplate\":\"train_type=AVE\\u003cbr\\u003efare=%{x}\\u003cbr\\u003ecount=%{y}\\u003cextra\\u003e\\u003c\\u002fextra\\u003e\",\"legendgroup\":\"AVE\",\"marker\":{\"color\":\"#EF553B\",\"pattern\":{\"shape\":\"\"}},\"name\":\"AVE\",\"offsetgroup\":\"AVE\",\"orientation\":\"v\",\"showlegend\":true,\"x\":[\"Promo\",\"Promo\",\"Promo\",\"Promo\",\"Promo\",\"Promo\",\"Promo\",\"Promo\",\"Promo\",\"Promo\",\"Promo\",\"Promo\",\"Promo\",\"Promo\",\"Promo\",\"Promo\",\"Promo\",\"Promo\",\"Promo\",\"Promo\",\"Promo\",\"Promo\",\"Flexible\",\"Promo\",\"Promo\",\"Promo\",\"Promo\",\"Promo\",\"Promo\",\"Promo\",\"Promo\",\"Promo\",\"Promo\",\"Promo\",\"Promo\",\"Promo\",\"Promo\",\"Promo\",\"Promo\",\"Promo\",\"Promo\",\"Promo\",\"Promo\",\"Promo\",\"Promo\",\"Promo\",\"Flexible\",\"Flexible\",\"Flexible\",\"Flexible\",\"Flexible\",\"Flexible\",\"Flexible\",\"Promo\",\"Promo\",\"Promo\",\"Flexible\",\"Promo\",\"Promo\",\"Promo\",\"Promo\",\"Promo\",\"Promo\",\"Promo\",\"Promo\",\"Promo\",\"Promo\",\"Promo\",\"Promo\",\"Promo\",\"Promo\",\"Promo\",\"Promo\",\"Promo\",\"Promo\",\"Promo\",\"Promo\",\"Promo\",\"Promo\",\"Promo\",\"Promo\",\"Promo\",\"Promo\",\"Promo\",\"Promo\",\"Promo\",\"Promo\",\"Promo\",\"Promo\",\"Promo\",\"Promo\",\"Promo\",\"Promo\",\"Promo\",\"Promo\",\"Promo\",\"Promo\",\"Promo\",\"Promo\",\"Promo\",\"Promo\",\"Promo\",\"Flexible\",\"Flexible\",\"Promo\",\"Promo\",\"Promo\",\"Promo\",\"Flexible\",\"Promo\",\"Promo\",\"Promo\",\"Promo\",\"Promo\",\"Flexible\",\"Promo\",\"Promo\",\"Promo\",\"Promo\",\"Promo\",\"Promo\",\"Promo\",\"Promo\",\"Promo\",\"Promo\",\"Promo\",\"Promo\",\"Promo\",\"Promo\",\"Flexible\",\"Promo\",\"Promo\",\"Promo\",\"Promo\",\"Promo\",\"Flexible\",\"Promo\",\"Promo\",\"Promo\",\"Promo\",\"Promo\",\"Promo\",\"Promo\",\"Promo\",\"Promo\",\"Promo\",\"Promo\",\"Promo\",\"Promo\",\"Promo\",\"Promo\",\"Promo\",\"Promo\",\"Promo\",\"Promo\",\"Promo\",\"Promo\",\"Promo\",\"Promo\",\"Flexible\",\"Flexible\",\"Promo\",\"Promo\",\"Promo\",\"Promo\",\"Flexible\",\"Promo\",\"Promo\",\"Promo\",\"Promo\",\"Promo\",\"Flexible\",\"Promo\",\"Promo\",\"Promo\",\"Promo\",\"Promo\",\"Promo\",\"Promo\",\"Promo\",\"Promo\",\"Promo\",\"Promo\",\"Promo\",\"Promo\",\"Promo\",\"Promo\",\"Promo\",\"Promo\",\"Flexible\",\"Flexible\",\"Flexible\",\"Flexible\",\"Flexible\",\"Flexible\",\"Flexible\",\"Promo\",\"Promo\",\"Promo\",\"Flexible\",\"Promo\",\"Promo\",\"Promo\",\"Promo\",\"Promo\",\"Promo\",\"Flexible\",\"Promo\",\"Promo\",\"Promo\",\"Promo\",\"Promo\",\"Flexible\",\"Promo\",\"Promo\",\"Promo\",\"Promo\",\"Promo\",\"Promo\",\"Promo\",\"Promo\",\"Promo\",\"Flexible\",\"Promo\",\"Promo\",\"Promo\",\"Promo\",\"Promo\",\"Promo\",\"Promo\",\"Promo\",\"Promo\",\"Promo\",\"Promo\",\"Promo\",\"Promo\",\"Promo\",\"Promo\",\"Promo\",\"Promo\",\"Promo\",\"Promo\",\"Promo\",\"Promo\",\"Promo\",\"Promo\",\"Promo\",\"Promo\",\"Promo\",\"Promo\",\"Promo\",\"Flexible\",\"Promo\",\"Promo\",\"Promo\",\"Promo\",\"Promo\",\"Flexible\",\"Promo\",\"Promo\",\"Promo\",\"Promo\",\"Promo\",\"Promo\",\"Promo\",\"Promo\",\"Promo\",\"Promo\",\"Flexible\",\"Promo\",\"Promo\",\"Promo\",\"Promo\",\"Promo\",\"Promo\",\"Promo\",\"Promo\",\"Promo\",\"Promo\",\"Promo\",\"Promo\",\"Promo\",\"Promo\",\"Promo\",\"Promo\",\"Promo\",\"Promo\",\"Promo\",\"Promo\",\"Promo\",\"Promo\",\"Promo\",\"Promo\",\"Promo\",\"Promo\",\"Flexible\",\"Flexible\",\"Promo\",\"Promo\",\"Promo\",\"Promo\",\"Flexible\",\"Promo\",\"Promo\",\"Promo\",\"Promo\",\"Promo\",\"Flexible\",\"Promo\",\"Promo\",\"Promo\",\"Promo\",\"Promo\",\"Promo\",\"Promo\",\"Promo\",\"Promo\",\"Promo\",\"Promo\",\"Promo\",\"Promo\",\"Promo\",\"Promo\",\"Promo\",\"Promo\",\"Promo\",\"Promo\",\"Promo\",\"Promo\",\"Promo\",\"Flexible\",\"Flexible\",\"Flexible\",\"Flexible\",\"Flexible\",\"Flexible\",\"Flexible\",\"Promo\",\"Promo\",\"Promo\",\"Flexible\",\"Promo\",\"Promo\",\"Promo\",\"Promo\",\"Promo\",\"Promo\",\"Promo\",\"Promo\",\"Promo\",\"Promo\",\"Promo\",\"Promo\",\"Promo\",\"Promo\",\"Promo\",\"Promo\",\"Promo\",\"Promo\",\"Promo\",\"Promo\",\"Promo\",\"Promo\",\"Promo\",\"Flexible\",\"Promo\",\"Promo\",\"Promo\",\"Promo\",\"Promo\",\"Flexible\",\"Promo\",\"Promo\",\"Promo\",\"Promo\",\"Promo\",\"Promo\",\"Promo\",\"Promo\",\"Flexible\",\"Flexible\",\"Promo\",\"Promo\",\"Promo\",\"Promo\",\"Flexible\",\"Promo\",\"Promo\",\"Promo\",\"Promo\",\"Promo\",\"Flexible\",\"Promo\",\"Promo\",\"Promo\",\"Promo\",\"Promo\",\"Promo\",\"Promo\",\"Promo\",\"Promo\",\"Promo\",\"Promo\",\"Promo\",\"Promo\",\"Promo\",\"Promo\",\"Promo\",\"Promo\",\"Promo\",\"Promo\",\"Promo\",\"Promo\",\"Promo\",\"Promo\",\"Promo\",\"Promo\",\"Promo\",\"Promo\",\"Promo\",\"Promo\",\"Promo\",\"Promo\",\"Promo\",\"Flexible\",\"Flexible\",\"Flexible\",\"Flexible\",\"Flexible\",\"Flexible\",\"Flexible\",\"Promo\",\"Promo\",\"Promo\",\"Flexible\",\"Promo\",\"Promo\",\"Promo\",\"Promo\",\"Promo\",\"Promo\",\"Promo\",\"Promo\",\"Promo\",\"Promo\",\"Promo\",\"Promo\",\"Promo\",\"Promo\",\"Promo\",\"Promo\",\"Promo\",\"Promo\",\"Promo\",\"Promo\",\"Promo\",\"Promo\",\"Promo\",\"Promo\",\"Promo\",\"Promo\",\"Promo\",\"Promo\",\"Flexible\",\"Promo\",\"Promo\",\"Promo\",\"Promo\",\"Promo\",\"Promo\",\"Promo\",\"Promo\",\"Promo\",\"Promo\",\"Promo\",\"Promo\",\"Promo\",\"Promo\",\"Promo\",\"Promo\",\"Promo\",\"Promo\",\"Promo\",\"Promo\",\"Promo\",\"Promo\",\"Promo\",\"Flexible\",\"Flexible\",\"Flexible\",\"Flexible\",\"Flexible\",\"Flexible\",\"Flexible\",\"Promo\",\"Promo\",\"Promo\",\"Flexible\",\"Promo\",\"Promo\",\"Promo\",\"Promo\",\"Promo\",\"Promo\",\"Promo\",\"Promo\",\"Promo\",\"Promo\",\"Promo\",\"Flexible\",\"Promo\",\"Promo\",\"Promo\",\"Promo\",\"Promo\",\"Promo\",\"Promo\",\"Promo\",\"Promo\",\"Promo\",\"Promo\",\"Promo\",\"Promo\",\"Promo\",\"Promo\",\"Promo\",\"Promo\",\"Promo\",\"Promo\",\"Promo\",\"Promo\",\"Promo\",\"Promo\",\"Promo\",\"Promo\",\"Promo\",\"Promo\",\"Promo\",\"Promo\",\"Promo\",\"Promo\",\"Promo\",\"Promo\",\"Promo\",\"Promo\",\"Promo\",\"Promo\",\"Promo\",\"Promo\",\"Promo\",\"Flexible\",\"Promo\",\"Promo\",\"Promo\",\"Promo\",\"Promo\",\"Flexible\",\"Promo\",\"Promo\",\"Promo\",\"Promo\",\"Promo\",\"Promo\",\"Promo\",\"Promo\",\"Flexible\",\"Flexible\",\"Promo\",\"Promo\",\"Promo\",\"Promo\",\"Flexible\",\"Promo\",\"Promo\",\"Promo\",\"Promo\",\"Promo\",\"Flexible\",\"Promo\",\"Promo\",\"Promo\",\"Promo\",\"Promo\",\"Promo\",\"Promo\",\"Promo\",\"Promo\",\"Promo\",\"Promo\",\"Promo\",\"Promo\",\"Promo\",\"Promo\",\"Promo\",\"Promo\",\"Promo\",\"Promo\",\"Promo\",\"Promo\",\"Promo\",\"Promo\",\"Promo\",\"Promo\",\"Promo\",\"Promo\",\"Promo\",\"Promo\",\"Promo\",\"Promo\",\"Promo\",\"Promo\",\"Promo\",\"Promo\",\"Promo\",\"Flexible\",\"Flexible\",\"Promo\",\"Promo\",\"Promo\",\"Promo\",\"Flexible\",\"Promo\",\"Promo\",\"Promo\",\"Promo\",\"Promo\",\"Flexible\",\"Promo\",\"Promo\",\"Promo\",\"Promo\",\"Promo\",\"Promo\",\"Promo\",\"Promo\",\"Promo\",\"Promo\",\"Promo\",\"Promo\",\"Promo\",\"Promo\",\"Promo\",\"Promo\",\"Promo\",\"Promo\",\"Promo\",\"Promo\",\"Promo\",\"Promo\",\"Promo\",\"Promo\",\"Promo\",\"Promo\",\"Promo\",\"Promo\",\"Promo\",\"Promo\",\"Promo\",\"Promo\",\"Promo\",\"Promo\",\"Promo\",\"Promo\",\"Promo\",\"Promo\",\"Promo\",\"Promo\",\"Promo\",\"Promo\",\"Promo\",\"Promo\",\"Promo\",\"Promo\",\"Promo\",\"Promo\",\"Promo\",\"Promo\",\"Flexible\",\"Promo\",\"Promo\",\"Promo\",\"Promo\",\"Promo\",\"Promo\",\"Flexible\",\"Flexible\",\"Flexible\",\"Flexible\",\"Flexible\",\"Flexible\",\"Flexible\",\"Promo\",\"Promo\",\"Flexible\",\"Promo\",\"Promo\",\"Promo\",\"Promo\",\"Promo\",\"Flexible\",\"Promo\",\"Promo\",\"Promo\",\"Promo\",\"Promo\",\"Promo\",\"Promo\",\"Promo\",\"Promo\",\"Flexible\",\"Promo\",\"Promo\",\"Promo\",\"Promo\",\"Promo\",\"Promo\",\"Promo\",\"Promo\",\"Promo\",\"Promo\",\"Promo\",\"Promo\",\"Promo\",\"Promo\",\"Promo\",\"Promo\",\"Promo\",\"Promo\",\"Promo\",\"Promo\",\"Promo\",\"Promo\",\"Promo\",\"Promo\",\"Promo\",\"Promo\",\"Promo\",\"Flexible\",\"Flexible\",\"Promo\",\"Promo\",\"Promo\",\"Promo\",\"Flexible\",\"Promo\",\"Promo\",\"Promo\",\"Promo\",\"Promo\",\"Flexible\",\"Promo\",\"Promo\",\"Promo\",\"Promo\",\"Promo\",\"Promo\",\"Promo\",\"Promo\",\"Promo\",\"Promo\",\"Promo\",\"Promo\",\"Promo\",\"Promo\",\"Promo\",\"Flexible\",\"Flexible\",\"Flexible\",\"Flexible\",\"Flexible\",\"Flexible\",\"Flexible\",\"Promo\",\"Promo\",\"Promo\",\"Flexible\",\"Promo\",\"Promo\",\"Promo\",\"Promo\",\"Promo\",\"Promo\",\"Promo\",\"Promo\",\"Promo\",\"Promo\",\"Promo\",\"Promo\",\"Promo\",\"Promo\",\"Promo\",\"Promo\",\"Promo\",\"Promo\",\"Promo\",\"Promo\",\"Promo\",\"Promo\",\"Promo\",\"Promo\",\"Promo\",\"Promo\",\"Promo\",\"Promo\",\"Promo\",\"Promo\",\"Promo\",\"Promo\",\"Promo\",\"Promo\",\"Promo\",\"Promo\",\"Promo\",\"Promo\",\"Promo\",\"Promo\",\"Flexible\",\"Promo\",\"Promo\",\"Promo\",\"Promo\",\"Promo\",\"Flexible\",\"Promo\",\"Promo\",\"Promo\",\"Promo\",\"Promo\",\"Promo\",\"Promo\",\"Promo\",\"Promo\",\"Flexible\",\"Promo\",\"Promo\",\"Promo\",\"Promo\",\"Promo\",\"Promo\",\"Promo\",\"Promo\",\"Promo\",\"Promo\",\"Promo\",\"Promo\",\"Promo\",\"Promo\",\"Promo\",\"Promo\",\"Promo\",\"Promo\",\"Promo\",\"Promo\",\"Promo\",\"Promo\",\"Promo\"],\"xaxis\":\"x\",\"yaxis\":\"y\",\"type\":\"histogram\"}],\"name\":\"AVE\"},{\"data\":[{\"alignmentgroup\":\"True\",\"bingroup\":\"x\",\"hovertemplate\":\"train_type=AVE-MD\\u003cbr\\u003efare=%{x}\\u003cbr\\u003ecount=%{y}\\u003cextra\\u003e\\u003c\\u002fextra\\u003e\",\"legendgroup\":\"AVE-MD\",\"marker\":{\"color\":\"#00cc96\",\"pattern\":{\"shape\":\"\"}},\"name\":\"AVE-MD\",\"offsetgroup\":\"AVE-MD\",\"orientation\":\"v\",\"showlegend\":true,\"x\":[\"Flexible\",\"Flexible\",\"Flexible\",\"Flexible\",\"Promo\",\"Flexible\",\"Flexible\",\"Promo\",\"Promo\",\"Flexible\",\"Flexible\",\"Flexible\",\"Flexible\",\"Promo\",\"Flexible\",\"Flexible\",\"Promo\",\"Promo\",\"Flexible\",\"Flexible\",\"Flexible\",\"Flexible\",\"Promo\",\"Promo\"],\"xaxis\":\"x\",\"yaxis\":\"y\",\"type\":\"histogram\"}],\"name\":\"AVE-MD\"},{\"data\":[{\"alignmentgroup\":\"True\",\"bingroup\":\"x\",\"hovertemplate\":\"train_type=AVE-LD\\u003cbr\\u003efare=%{x}\\u003cbr\\u003ecount=%{y}\\u003cextra\\u003e\\u003c\\u002fextra\\u003e\",\"legendgroup\":\"AVE-LD\",\"marker\":{\"color\":\"#ab63fa\",\"pattern\":{\"shape\":\"\"}},\"name\":\"AVE-LD\",\"offsetgroup\":\"AVE-LD\",\"orientation\":\"v\",\"showlegend\":true,\"x\":[\"Flexible\",\"Flexible\",\"Promo\",\"Flexible\",\"Promo\",\"Promo\",\"Flexible\",\"Flexible\",\"Promo\",\"Flexible\",\"Promo\",\"Promo\",\"Flexible\",\"Flexible\",\"Promo\",\"Promo\"],\"xaxis\":\"x\",\"yaxis\":\"y\",\"type\":\"histogram\"}],\"name\":\"AVE-LD\"},{\"data\":[{\"alignmentgroup\":\"True\",\"bingroup\":\"x\",\"hovertemplate\":\"train_type=AV City\\u003cbr\\u003efare=%{x}\\u003cbr\\u003ecount=%{y}\\u003cextra\\u003e\\u003c\\u002fextra\\u003e\",\"legendgroup\":\"AV City\",\"marker\":{\"color\":\"#FFA15A\",\"pattern\":{\"shape\":\"\"}},\"name\":\"AV City\",\"offsetgroup\":\"AV City\",\"orientation\":\"v\",\"showlegend\":true,\"x\":[\"Promo\",\"Flexible\",\"Promo\",\"Promo\",\"Promo\",\"Promo\",\"Promo\",\"Promo\",\"Promo\",\"Flexible\",\"Promo\",\"Promo\",\"Promo\",\"Promo\",\"Promo\",\"Promo\",\"Promo\",\"Promo\",\"Promo\",\"Promo\",\"Promo\",\"Flexible\",\"Promo\",\"Promo\",\"Promo\",\"Promo\",\"Promo\",\"Promo\",\"Promo\",\"Flexible\",\"Promo\",\"Promo\",\"Promo\",\"Flexible\",\"Promo\",\"Promo\",\"Promo\",\"Promo\",\"Promo\",\"Promo\",\"Promo\",\"Promo\",\"Promo\",\"Flexible\",\"Promo\",\"Promo\",\"Promo\",\"Promo\",\"Promo\",\"Flexible\",\"Promo\",\"Promo\",\"Promo\",\"Promo\",\"Promo\",\"Promo\"],\"xaxis\":\"x\",\"yaxis\":\"y\",\"type\":\"histogram\"}],\"name\":\"AV City\"}]);\n",
       "                        }).then(function(){\n",
       "                            \n",
       "var gd = document.getElementById('ed3fce03-3361-4d31-9c51-ddccd7461e93');\n",
       "var x = new MutationObserver(function (mutations, observer) {{\n",
       "        var display = window.getComputedStyle(gd).display;\n",
       "        if (!display || display === 'none') {{\n",
       "            console.log([gd, 'removed!']);\n",
       "            Plotly.purge(gd);\n",
       "            observer.disconnect();\n",
       "        }}\n",
       "}});\n",
       "\n",
       "// Listen for the removal of the full notebook cells\n",
       "var notebookContainer = gd.closest('#notebook-container');\n",
       "if (notebookContainer) {{\n",
       "    x.observe(notebookContainer, {childList: true});\n",
       "}}\n",
       "\n",
       "// Listen for the clearing of the current output cell\n",
       "var outputEl = gd.closest('.output');\n",
       "if (outputEl) {{\n",
       "    x.observe(outputEl, {childList: true});\n",
       "}}\n",
       "\n",
       "                        })                };                });            </script>        </div>"
      ]
     },
     "metadata": {},
     "output_type": "display_data"
    }
   ],
   "source": [
    "import pandas as pd\n",
    "import plotly.express as px\n",
    "from ipywidgets import interact, widgets\n",
    "\n",
    "# Read the CSV file into a DataFrame\n",
    "df = pd.read_csv('Book112.csv')\n",
    "\n",
    "# Handle NaN values in 'price' column\n",
    "df['price'].fillna(0, inplace=True)  # Replace NaN values with 0, you can choose another strategy based on your data\n",
    "\n",
    "# Animated graph - Price Trend over Time\n",
    "animated_price_trend = px.line(df, x='train_type', y='price', animation_frame='origin',\n",
    "                               color='origin', title='Animated Price Trend over Time')\n",
    "\n",
    "# Animated graph - Fare Distribution over Time\n",
    "animated_fare_distribution = px.histogram(df, x='fare', animation_frame='train_type',\n",
    "                                          color='train_type', title='Animated Fare Distribution over Time')\n",
    "\n",
    "# Dynamic graph function - Train Class vs Price\n",
    "def dynamic_train_class_vs_price(train_type):\n",
    "    filtered_data = df[df['train_type'] == train_type]\n",
    "    \n",
    "    fig = px.scatter(filtered_data, x='train_class', y='price',\n",
    "                     color='train_class', size='price',\n",
    "                     hover_data=['origin', 'destination', 'fare'],\n",
    "                     title=f'Dynamic Graph - {train_type} Trains: Train Class vs Price')\n",
    "    fig.show()\n",
    "\n",
    "# Dynamic graph function - Fare Distribution for a specific Train Type\n",
    "def dynamic_fare_distribution(train_type):\n",
    "    filtered_data = df[df['train_type'] == train_type]\n",
    "    \n",
    "    fig = px.histogram(filtered_data, x='fare',\n",
    "                       color='fare',\n",
    "                       title=f'Dynamic Fare Distribution for {train_type} Trains')\n",
    "    fig.show()\n",
    "\n",
    "# Interactive widgets for dynamic graphs\n",
    "train_type_widget_3 = widgets.Dropdown(\n",
    "    options=list(df['train_type'].unique()),\n",
    "    value=df['train_type'].iloc[0],\n",
    "    description='Train Type (Graph 3)'\n",
    ")\n",
    "\n",
    "train_type_widget_4 = widgets.Dropdown(\n",
    "    options=list(df['train_type'].unique()),\n",
    "    value=df['train_type'].iloc[0],\n",
    "    description='Train Type (Graph 4)'\n",
    ")\n",
    "\n",
    "interact(dynamic_train_class_vs_price, train_type=train_type_widget_3)\n",
    "interact(dynamic_fare_distribution, train_type=train_type_widget_4)\n",
    "\n",
    "# Show the graphs\n",
    "animated_price_trend.show()\n",
    "animated_fare_distribution.show()\n"
   ]
  },
  {
   "cell_type": "code",
   "execution_count": 15,
   "id": "3b1bd9b5",
   "metadata": {
    "scrolled": true
   },
   "outputs": [
    {
     "data": {
      "application/vnd.jupyter.widget-view+json": {
       "model_id": "460f797a6b224355b14c421f7b3a3921",
       "version_major": 2,
       "version_minor": 0
      },
      "text/plain": [
       "interactive(children=(Dropdown(description='Train Type (Graph 1)', options=('ALVIA', 'AVE', 'AVE-MD', 'AVE-LD'…"
      ]
     },
     "metadata": {},
     "output_type": "display_data"
    },
    {
     "data": {
      "application/vnd.jupyter.widget-view+json": {
       "model_id": "3c3b6c7e781a4db7813a36d973d1f7c8",
       "version_major": 2,
       "version_minor": 0
      },
      "text/plain": [
       "interactive(children=(Dropdown(description='Train Type (Graph 2)', options=('ALVIA', 'AVE', 'AVE-MD', 'AVE-LD'…"
      ]
     },
     "metadata": {},
     "output_type": "display_data"
    },
    {
     "data": {
      "application/vnd.plotly.v1+json": {
       "config": {
        "plotlyServerURL": "https://plot.ly"
       },
       "data": [
        {
         "customdata": [
          [
           "Turista Plus",
           "Promo"
          ],
          [
           "Turista",
           "Flexible"
          ],
          [
           "Turista Plus",
           "Promo"
          ],
          [
           "Turista Plus",
           "Promo"
          ],
          [
           "Turista",
           "Promo"
          ],
          [
           "Turista Plus",
           "Promo"
          ],
          [
           "Turista Plus",
           "Promo"
          ],
          [
           "Turista Plus",
           "Promo"
          ],
          [
           "Turista Plus",
           "Promo"
          ],
          [
           "Turista",
           "Flexible"
          ],
          [
           "Turista Plus",
           "Promo"
          ],
          [
           "Turista Plus",
           "Promo"
          ],
          [
           "Turista",
           "Promo"
          ],
          [
           "Turista Plus",
           "Promo"
          ],
          [
           "Turista Plus",
           "Promo"
          ],
          [
           "Turista Plus",
           "Promo"
          ],
          [
           "Turista",
           "Promo"
          ],
          [
           "Turista Plus",
           "Promo"
          ],
          [
           "Turista Plus",
           "Promo"
          ],
          [
           "Turista Plus",
           "Promo"
          ],
          [
           "Turista Plus",
           "Promo"
          ],
          [
           "Turista",
           "Flexible"
          ],
          [
           "Turista Plus",
           "Promo"
          ],
          [
           "Turista Plus",
           "Promo"
          ],
          [
           "Turista",
           "Promo"
          ],
          [
           "Turista Plus",
           "Promo"
          ],
          [
           "Turista Plus",
           "Promo"
          ],
          [
           "Turista Plus",
           "Promo"
          ],
          [
           "Turista Plus",
           "Promo"
          ],
          [
           "Turista",
           "Flexible"
          ],
          [
           "Turista Plus",
           "Promo"
          ],
          [
           "Turista Plus",
           "Promo"
          ],
          [
           "Turista Plus",
           "Promo"
          ],
          [
           "Turista",
           "Flexible"
          ],
          [
           "Turista Plus",
           "Promo"
          ],
          [
           "Turista Plus",
           "Promo"
          ],
          [
           "Turista",
           "Promo"
          ],
          [
           "Turista Plus",
           "Promo"
          ],
          [
           "Turista Plus",
           "Promo"
          ],
          [
           "Turista Plus",
           "Promo"
          ],
          [
           "Turista Plus",
           "Promo"
          ],
          [
           "Turista Plus",
           "Promo"
          ],
          [
           "Turista Plus",
           "Promo"
          ],
          [
           "Turista",
           "Flexible"
          ],
          [
           "Turista",
           "Promo"
          ],
          [
           "Turista Plus",
           "Promo"
          ],
          [
           "Turista Plus",
           "Promo"
          ],
          [
           "Turista Plus",
           "Promo"
          ],
          [
           "Turista Plus",
           "Promo"
          ],
          [
           "Turista",
           "Flexible"
          ],
          [
           "Turista Plus",
           "Promo"
          ],
          [
           "Turista Plus",
           "Promo"
          ],
          [
           "Turista",
           "Promo"
          ],
          [
           "Turista Plus",
           "Promo"
          ],
          [
           "Turista Plus",
           "Promo"
          ],
          [
           "Turista Plus",
           "Promo"
          ]
         ],
         "hovertemplate": "train_type=AV City<br>origin=%{x}<br>destination=%{y}<br>train_class=%{customdata[0]}<br>fare=%{customdata[1]}<extra></extra>",
         "legendgroup": "AV City",
         "marker": {
          "color": "#FFA15A",
          "symbol": "circle"
         },
         "mode": "markers",
         "name": "AV City",
         "orientation": "v",
         "showlegend": true,
         "type": "scatter",
         "x": [
          "SEVILLA",
          "SEVILLA",
          "SEVILLA",
          "SEVILLA",
          "MADRID",
          "MADRID",
          "MADRID",
          "MADRID",
          "SEVILLA",
          "SEVILLA",
          "SEVILLA",
          "SEVILLA",
          "MADRID",
          "MADRID",
          "MADRID",
          "MADRID",
          "MADRID",
          "MADRID",
          "MADRID",
          "MADRID",
          "SEVILLA",
          "SEVILLA",
          "SEVILLA",
          "SEVILLA",
          "MADRID",
          "MADRID",
          "MADRID",
          "MADRID",
          "SEVILLA",
          "SEVILLA",
          "SEVILLA",
          "SEVILLA",
          "SEVILLA",
          "SEVILLA",
          "SEVILLA",
          "SEVILLA",
          "MADRID",
          "MADRID",
          "MADRID",
          "MADRID",
          "SEVILLA",
          "SEVILLA",
          "SEVILLA",
          "SEVILLA",
          "MADRID",
          "MADRID",
          "MADRID",
          "MADRID",
          "SEVILLA",
          "SEVILLA",
          "SEVILLA",
          "SEVILLA",
          "MADRID",
          "MADRID",
          "MADRID",
          "MADRID"
         ],
         "xaxis": "x",
         "y": [
          "MADRID",
          "MADRID",
          "MADRID",
          "MADRID",
          "SEVILLA",
          "SEVILLA",
          "SEVILLA",
          "SEVILLA",
          "MADRID",
          "MADRID",
          "MADRID",
          "MADRID",
          "SEVILLA",
          "SEVILLA",
          "SEVILLA",
          "SEVILLA",
          "SEVILLA",
          "SEVILLA",
          "SEVILLA",
          "SEVILLA",
          "MADRID",
          "MADRID",
          "MADRID",
          "MADRID",
          "SEVILLA",
          "SEVILLA",
          "SEVILLA",
          "SEVILLA",
          "MADRID",
          "MADRID",
          "MADRID",
          "MADRID",
          "MADRID",
          "MADRID",
          "MADRID",
          "MADRID",
          "SEVILLA",
          "SEVILLA",
          "SEVILLA",
          "SEVILLA",
          "MADRID",
          "MADRID",
          "MADRID",
          "MADRID",
          "SEVILLA",
          "SEVILLA",
          "SEVILLA",
          "SEVILLA",
          "MADRID",
          "MADRID",
          "MADRID",
          "MADRID",
          "SEVILLA",
          "SEVILLA",
          "SEVILLA",
          "SEVILLA"
         ],
         "yaxis": "y"
        }
       ],
       "frames": [
        {
         "data": [
          {
           "customdata": [
            [
             "Turista",
             "Promo"
            ],
            [
             "Turista",
             "Flexible"
            ],
            [
             "Turista",
             "Flexible"
            ],
            [
             "Turista",
             "Flexible"
            ],
            [
             "Turista",
             "Promo"
            ],
            [
             "Turista",
             "Promo"
            ],
            [
             "Turista",
             "Promo"
            ],
            [
             "Turista",
             "Promo"
            ],
            [
             "Turista",
             "Flexible"
            ],
            [
             "Turista",
             "Flexible"
            ],
            [
             "Turista",
             "Flexible"
            ],
            [
             "Turista",
             "Flexible"
            ],
            [
             "Turista",
             "Promo"
            ],
            [
             "Turista",
             "Promo"
            ],
            [
             "Turista",
             "Flexible"
            ],
            [
             "Turista",
             "Promo"
            ],
            [
             "Turista",
             "Promo"
            ],
            [
             "Turista",
             "Flexible"
            ],
            [
             "Turista",
             "Promo"
            ],
            [
             "Turista",
             "Flexible"
            ],
            [
             "Turista",
             "Flexible"
            ],
            [
             "Turista",
             "Flexible"
            ],
            [
             "Turista",
             "Promo"
            ],
            [
             "Turista",
             "Promo"
            ],
            [
             "Turista",
             "Promo"
            ],
            [
             "Turista",
             "Flexible"
            ],
            [
             "Turista",
             "Flexible"
            ],
            [
             "Turista",
             "Flexible"
            ],
            [
             "Turista",
             "Flexible"
            ],
            [
             "Turista",
             "Promo"
            ],
            [
             "Turista",
             "Promo"
            ],
            [
             "Turista",
             "Promo"
            ],
            [
             "Turista",
             "Promo"
            ],
            [
             "Turista",
             "Flexible"
            ],
            [
             "Turista",
             "Flexible"
            ],
            [
             "Turista",
             "Flexible"
            ],
            [
             "Turista",
             "Promo"
            ],
            [
             "Turista",
             "Promo"
            ],
            [
             "Turista",
             "Promo"
            ],
            [
             "Turista",
             "Flexible"
            ],
            [
             "Turista",
             "Promo"
            ],
            [
             "Turista",
             "Promo"
            ],
            [
             "Turista",
             "Promo"
            ],
            [
             "Turista",
             "Promo"
            ],
            [
             "Turista",
             "Promo"
            ],
            [
             "Turista",
             "Flexible"
            ],
            [
             "Turista",
             "Flexible"
            ],
            [
             "Turista",
             "Flexible"
            ],
            [
             "Turista",
             "Flexible"
            ],
            [
             "Turista",
             "Flexible"
            ],
            [
             "Turista",
             "Flexible"
            ],
            [
             "Turista",
             "Flexible"
            ],
            [
             "Turista",
             "Promo"
            ],
            [
             "Turista",
             "Promo"
            ],
            [
             "Turista",
             "Promo"
            ],
            [
             "Turista",
             "Flexible"
            ],
            [
             "Turista",
             "Promo"
            ]
           ],
           "hovertemplate": "train_type=ALVIA<br>origin=%{x}<br>destination=%{y}<br>train_class=%{customdata[0]}<br>fare=%{customdata[1]}<extra></extra>",
           "legendgroup": "ALVIA",
           "marker": {
            "color": "#636efa",
            "symbol": "circle"
           },
           "mode": "markers",
           "name": "ALVIA",
           "orientation": "v",
           "showlegend": true,
           "type": "scatter",
           "x": [
            "PONFERRADA",
            "SEVILLA",
            "SEVILLA",
            "SEVILLA",
            "SEVILLA",
            "SEVILLA",
            "MADRID",
            "PONFERRADA",
            "MADRID",
            "SEVILLA",
            "SEVILLA",
            "SEVILLA",
            "SEVILLA",
            "SEVILLA",
            "MADRID",
            "PONFERRADA",
            "MADRID",
            "MADRID",
            "MADRID",
            "SEVILLA",
            "SEVILLA",
            "SEVILLA",
            "SEVILLA",
            "SEVILLA",
            "PONFERRADA",
            "MADRID",
            "SEVILLA",
            "SEVILLA",
            "SEVILLA",
            "SEVILLA",
            "SEVILLA",
            "PONFERRADA",
            "MADRID",
            "SEVILLA",
            "SEVILLA",
            "SEVILLA",
            "SEVILLA",
            "SEVILLA",
            "PONFERRADA",
            "MADRID",
            "MADRID",
            "PONFERRADA",
            "MADRID",
            "SEVILLA",
            "SEVILLA",
            "SEVILLA",
            "SEVILLA",
            "SEVILLA",
            "MADRID",
            "SEVILLA",
            "SEVILLA",
            "SEVILLA",
            "SEVILLA",
            "SEVILLA",
            "PONFERRADA",
            "MADRID",
            "MADRID"
           ],
           "xaxis": "x",
           "y": [
            "MADRID",
            "MADRID",
            "MADRID",
            "MADRID",
            "MADRID",
            "MADRID",
            "PONFERRADA",
            "MADRID",
            "SEVILLA",
            "MADRID",
            "MADRID",
            "MADRID",
            "MADRID",
            "MADRID",
            "SEVILLA",
            "MADRID",
            "PONFERRADA",
            "SEVILLA",
            "PONFERRADA",
            "MADRID",
            "MADRID",
            "MADRID",
            "MADRID",
            "MADRID",
            "MADRID",
            "SEVILLA",
            "MADRID",
            "MADRID",
            "MADRID",
            "MADRID",
            "MADRID",
            "MADRID",
            "PONFERRADA",
            "MADRID",
            "MADRID",
            "MADRID",
            "MADRID",
            "MADRID",
            "MADRID",
            "SEVILLA",
            "PONFERRADA",
            "MADRID",
            "PONFERRADA",
            "MADRID",
            "MADRID",
            "MADRID",
            "MADRID",
            "MADRID",
            "SEVILLA",
            "MADRID",
            "MADRID",
            "MADRID",
            "MADRID",
            "MADRID",
            "MADRID",
            "SEVILLA",
            "PONFERRADA"
           ],
           "yaxis": "y"
          }
         ],
         "name": "ALVIA"
        },
        {
         "data": [
          {
           "customdata": [
            [
             "Turista",
             "Promo"
            ],
            [
             "Turista",
             "Promo"
            ],
            [
             "Turista",
             "Promo"
            ],
            [
             "Turista",
             "Promo"
            ],
            [
             "Turista",
             "Promo"
            ],
            [
             "Turista",
             "Promo"
            ],
            [
             "Turista",
             "Promo"
            ],
            [
             "Turista",
             "Promo"
            ],
            [
             "Turista",
             "Promo"
            ],
            [
             "Turista",
             "Promo"
            ],
            [
             "Turista",
             "Promo"
            ],
            [
             "Turista",
             "Promo"
            ],
            [
             "Turista",
             "Promo"
            ],
            [
             "Turista",
             "Promo"
            ],
            [
             "Turista",
             "Promo"
            ],
            [
             "Turista",
             "Promo"
            ],
            [
             "Turista",
             "Promo"
            ],
            [
             "Turista",
             "Promo"
            ],
            [
             "Turista",
             "Promo"
            ],
            [
             "Turista",
             "Promo"
            ],
            [
             "Turista",
             "Promo"
            ],
            [
             "Turista",
             "Promo"
            ],
            [
             "Turista",
             "Flexible"
            ],
            [
             "Turista Plus",
             "Promo"
            ],
            [
             "Turista",
             "Promo"
            ],
            [
             "Turista Plus",
             "Promo"
            ],
            [
             "Turista Plus",
             "Promo"
            ],
            [
             "Turista",
             "Promo"
            ],
            [
             "Turista",
             "Promo"
            ],
            [
             "Turista",
             "Promo"
            ],
            [
             "Turista",
             "Promo"
            ],
            [
             "Turista",
             "Promo"
            ],
            [
             "Turista",
             "Promo"
            ],
            [
             "Turista",
             "Promo"
            ],
            [
             "Turista",
             "Promo"
            ],
            [
             "Turista",
             "Promo"
            ],
            [
             "Turista",
             "Promo"
            ],
            [
             "Turista",
             "Promo"
            ],
            [
             "Turista",
             "Promo"
            ],
            [
             "Turista",
             "Promo"
            ],
            [
             "Turista Plus",
             "Promo"
            ],
            [
             "Turista Plus",
             "Promo"
            ],
            [
             "Turista Plus",
             "Promo"
            ],
            [
             "Turista Plus",
             "Promo"
            ],
            [
             "Turista",
             "Promo"
            ],
            [
             "Turista",
             "Promo"
            ],
            [
             "Turista",
             "Flexible"
            ],
            [
             "Turista",
             "Flexible"
            ],
            [
             "Turista",
             "Flexible"
            ],
            [
             "Turista",
             "Flexible"
            ],
            [
             "Turista",
             "Flexible"
            ],
            [
             "Turista",
             "Flexible"
            ],
            [
             "Turista",
             "Flexible"
            ],
            [
             "Turista Plus",
             "Promo"
            ],
            [
             "Turista Plus",
             "Promo"
            ],
            [
             "Turista",
             "Promo"
            ],
            [
             "Turista",
             "Flexible"
            ],
            [
             "Turista",
             "Promo"
            ],
            [
             "Turista",
             "Promo"
            ],
            [
             "Turista",
             "Promo"
            ],
            [
             "Turista",
             "Promo"
            ],
            [
             "Turista",
             "Promo"
            ],
            [
             "Turista",
             "Promo"
            ],
            [
             "Turista",
             "Promo"
            ],
            [
             "Turista",
             "Promo"
            ],
            [
             "Turista",
             "Promo"
            ],
            [
             "Turista",
             "Promo"
            ],
            [
             "Turista",
             "Promo"
            ],
            [
             "Turista",
             "Promo"
            ],
            [
             "Turista",
             "Promo"
            ],
            [
             "Turista",
             "Promo"
            ],
            [
             "Turista",
             "Promo"
            ],
            [
             "Turista",
             "Promo"
            ],
            [
             "Turista",
             "Promo"
            ],
            [
             "Turista",
             "Promo"
            ],
            [
             "Turista",
             "Promo"
            ],
            [
             "Turista",
             "Promo"
            ],
            [
             "Turista",
             "Promo"
            ],
            [
             "Turista",
             "Promo"
            ],
            [
             "Turista",
             "Promo"
            ],
            [
             "Turista",
             "Promo"
            ],
            [
             "Turista",
             "Promo"
            ],
            [
             "Turista",
             "Promo"
            ],
            [
             "Turista",
             "Promo"
            ],
            [
             "Turista",
             "Promo"
            ],
            [
             "Turista",
             "Promo"
            ],
            [
             "Turista",
             "Promo"
            ],
            [
             "Turista",
             "Promo"
            ],
            [
             "Turista",
             "Promo"
            ],
            [
             "Turista",
             "Promo"
            ],
            [
             "Turista",
             "Promo"
            ],
            [
             "Turista",
             "Promo"
            ],
            [
             "Turista",
             "Promo"
            ],
            [
             "Turista",
             "Promo"
            ],
            [
             "Turista",
             "Promo"
            ],
            [
             "Turista",
             "Promo"
            ],
            [
             "Turista",
             "Promo"
            ],
            [
             "Turista",
             "Promo"
            ],
            [
             "Turista",
             "Promo"
            ],
            [
             "Turista",
             "Promo"
            ],
            [
             "Turista",
             "Promo"
            ],
            [
             "Turista",
             "Promo"
            ],
            [
             "Turista",
             "Flexible"
            ],
            [
             "Turista",
             "Flexible"
            ],
            [
             "Turista Plus",
             "Promo"
            ],
            [
             "Turista Plus",
             "Promo"
            ],
            [
             "Turista Plus",
             "Promo"
            ],
            [
             "Turista",
             "Promo"
            ],
            [
             "Turista",
             "Flexible"
            ],
            [
             "Turista",
             "Promo"
            ],
            [
             "Turista",
             "Promo"
            ],
            [
             "Turista Plus",
             "Promo"
            ],
            [
             "Turista",
             "Promo"
            ],
            [
             "Turista",
             "Promo"
            ],
            [
             "Turista",
             "Flexible"
            ],
            [
             "Turista Plus",
             "Promo"
            ],
            [
             "Turista",
             "Promo"
            ],
            [
             "Turista",
             "Promo"
            ],
            [
             "Turista",
             "Promo"
            ],
            [
             "Turista",
             "Promo"
            ],
            [
             "Turista",
             "Promo"
            ],
            [
             "Turista",
             "Promo"
            ],
            [
             "Turista",
             "Promo"
            ],
            [
             "Turista",
             "Promo"
            ],
            [
             "Turista",
             "Promo"
            ],
            [
             "Turista Plus",
             "Promo"
            ],
            [
             "Turista",
             "Promo"
            ],
            [
             "Turista",
             "Promo"
            ],
            [
             "Turista",
             "Promo"
            ],
            [
             "Turista",
             "Flexible"
            ],
            [
             "Turista Plus",
             "Promo"
            ],
            [
             "Turista Plus",
             "Promo"
            ],
            [
             "Turista",
             "Promo"
            ],
            [
             "Turista",
             "Promo"
            ],
            [
             "Turista",
             "Promo"
            ],
            [
             "Turista",
             "Flexible"
            ],
            [
             "Turista",
             "Promo"
            ],
            [
             "Turista",
             "Promo"
            ],
            [
             "Turista",
             "Promo"
            ],
            [
             "Turista",
             "Promo"
            ],
            [
             "Turista Plus",
             "Promo"
            ],
            [
             "Turista",
             "Promo"
            ],
            [
             "Turista",
             "Promo"
            ],
            [
             "Turista",
             "Promo"
            ],
            [
             "Turista",
             "Promo"
            ],
            [
             "Turista",
             "Promo"
            ],
            [
             "Turista",
             "Promo"
            ],
            [
             "Turista",
             "Promo"
            ],
            [
             "Turista",
             "Promo"
            ],
            [
             "Turista",
             "Promo"
            ],
            [
             "Turista",
             "Promo"
            ],
            [
             "Turista Plus",
             "Promo"
            ],
            [
             "Turista",
             "Promo"
            ],
            [
             "Turista",
             "Promo"
            ],
            [
             "Turista",
             "Promo"
            ],
            [
             "Turista",
             "Promo"
            ],
            [
             "Turista",
             "Promo"
            ],
            [
             "Turista",
             "Promo"
            ],
            [
             "Turista",
             "Promo"
            ],
            [
             "Turista",
             "Flexible"
            ],
            [
             "Turista",
             "Flexible"
            ],
            [
             "Turista Plus",
             "Promo"
            ],
            [
             "Turista Plus",
             "Promo"
            ],
            [
             "Turista Plus",
             "Promo"
            ],
            [
             "Turista",
             "Promo"
            ],
            [
             "Turista",
             "Flexible"
            ],
            [
             "Turista",
             "Promo"
            ],
            [
             "Turista",
             "Promo"
            ],
            [
             "Turista Plus",
             "Promo"
            ],
            [
             "Turista",
             "Promo"
            ],
            [
             "Turista",
             "Promo"
            ],
            [
             "Turista",
             "Flexible"
            ],
            [
             "Turista",
             "Promo"
            ],
            [
             "Turista",
             "Promo"
            ],
            [
             "Turista",
             "Promo"
            ],
            [
             "Turista",
             "Promo"
            ],
            [
             "Turista",
             "Promo"
            ],
            [
             "Turista",
             "Promo"
            ],
            [
             "Turista",
             "Promo"
            ],
            [
             "Turista",
             "Promo"
            ],
            [
             "Turista",
             "Promo"
            ],
            [
             "Turista",
             "Promo"
            ],
            [
             "Turista",
             "Promo"
            ],
            [
             "Turista",
             "Promo"
            ],
            [
             "Turista",
             "Promo"
            ],
            [
             "Turista",
             "Promo"
            ],
            [
             "Turista",
             "Promo"
            ],
            [
             "Turista",
             "Promo"
            ],
            [
             "Turista",
             "Promo"
            ],
            [
             "Turista",
             "Flexible"
            ],
            [
             "Turista",
             "Flexible"
            ],
            [
             "Turista",
             "Flexible"
            ],
            [
             "Turista",
             "Flexible"
            ],
            [
             "Turista",
             "Flexible"
            ],
            [
             "Turista",
             "Flexible"
            ],
            [
             "Turista",
             "Flexible"
            ],
            [
             "Turista Plus",
             "Promo"
            ],
            [
             "Turista Plus",
             "Promo"
            ],
            [
             "Turista",
             "Promo"
            ],
            [
             "Turista",
             "Flexible"
            ],
            [
             "Turista",
             "Promo"
            ],
            [
             "Turista",
             "Promo"
            ],
            [
             "Turista",
             "Promo"
            ],
            [
             "Turista",
             "Promo"
            ],
            [
             "Turista",
             "Promo"
            ],
            [
             "Turista",
             "Promo"
            ],
            [
             "Turista",
             "Flexible"
            ],
            [
             "Turista Plus",
             "Promo"
            ],
            [
             "Turista Plus",
             "Promo"
            ],
            [
             "Turista",
             "Promo"
            ],
            [
             "Turista",
             "Promo"
            ],
            [
             "Turista",
             "Promo"
            ],
            [
             "Turista",
             "Flexible"
            ],
            [
             "Turista",
             "Promo"
            ],
            [
             "Turista",
             "Promo"
            ],
            [
             "Turista",
             "Promo"
            ],
            [
             "Turista",
             "Promo"
            ],
            [
             "Turista",
             "Promo"
            ],
            [
             "Turista",
             "Promo"
            ],
            [
             "Turista",
             "Promo"
            ],
            [
             "Turista",
             "Promo"
            ],
            [
             "Turista",
             "Promo"
            ],
            [
             "Turista",
             "Flexible"
            ],
            [
             "Turista Plus",
             "Promo"
            ],
            [
             "Turista",
             "Promo"
            ],
            [
             "Turista Plus",
             "Promo"
            ],
            [
             "Turista Plus",
             "Promo"
            ],
            [
             "Turista",
             "Promo"
            ],
            [
             "Turista",
             "Promo"
            ],
            [
             "Turista",
             "Promo"
            ],
            [
             "Turista",
             "Promo"
            ],
            [
             "Turista",
             "Promo"
            ],
            [
             "Turista",
             "Promo"
            ],
            [
             "Turista",
             "Promo"
            ],
            [
             "Turista",
             "Promo"
            ],
            [
             "Turista",
             "Promo"
            ],
            [
             "Turista",
             "Promo"
            ],
            [
             "Turista",
             "Promo"
            ],
            [
             "Turista",
             "Promo"
            ],
            [
             "Turista",
             "Promo"
            ],
            [
             "Turista",
             "Promo"
            ],
            [
             "Turista",
             "Promo"
            ],
            [
             "Turista",
             "Promo"
            ],
            [
             "Turista",
             "Promo"
            ],
            [
             "Turista",
             "Promo"
            ],
            [
             "Turista",
             "Promo"
            ],
            [
             "Turista",
             "Promo"
            ],
            [
             "Turista",
             "Promo"
            ],
            [
             "Turista",
             "Promo"
            ],
            [
             "Turista",
             "Promo"
            ],
            [
             "Turista",
             "Promo"
            ],
            [
             "Turista",
             "Flexible"
            ],
            [
             "Turista Plus",
             "Promo"
            ],
            [
             "Turista Plus",
             "Promo"
            ],
            [
             "Turista",
             "Promo"
            ],
            [
             "Turista",
             "Promo"
            ],
            [
             "Turista",
             "Promo"
            ],
            [
             "Turista",
             "Flexible"
            ],
            [
             "Turista",
             "Promo"
            ],
            [
             "Turista",
             "Promo"
            ],
            [
             "Turista",
             "Promo"
            ],
            [
             "Turista",
             "Promo"
            ],
            [
             "Turista",
             "Promo"
            ],
            [
             "Turista",
             "Promo"
            ],
            [
             "Turista",
             "Promo"
            ],
            [
             "Turista",
             "Promo"
            ],
            [
             "Turista",
             "Promo"
            ],
            [
             "Turista",
             "Promo"
            ],
            [
             "Turista",
             "Flexible"
            ],
            [
             "Turista Plus",
             "Promo"
            ],
            [
             "Turista",
             "Promo"
            ],
            [
             "Turista Plus",
             "Promo"
            ],
            [
             "Turista Plus",
             "Promo"
            ],
            [
             "Turista",
             "Promo"
            ],
            [
             "Turista",
             "Promo"
            ],
            [
             "Turista",
             "Promo"
            ],
            [
             "Turista",
             "Promo"
            ],
            [
             "Turista",
             "Promo"
            ],
            [
             "Turista",
             "Promo"
            ],
            [
             "Turista",
             "Promo"
            ],
            [
             "Turista",
             "Promo"
            ],
            [
             "Turista",
             "Promo"
            ],
            [
             "Turista",
             "Promo"
            ],
            [
             "Turista",
             "Promo"
            ],
            [
             "Turista",
             "Promo"
            ],
            [
             "Turista Plus",
             "Promo"
            ],
            [
             "Turista Plus",
             "Promo"
            ],
            [
             "Turista Plus",
             "Promo"
            ],
            [
             "Turista Plus",
             "Promo"
            ],
            [
             "Turista",
             "Promo"
            ],
            [
             "Turista",
             "Promo"
            ],
            [
             "Turista",
             "Promo"
            ],
            [
             "Turista",
             "Promo"
            ],
            [
             "Turista",
             "Promo"
            ],
            [
             "Turista",
             "Promo"
            ],
            [
             "Turista",
             "Flexible"
            ],
            [
             "Turista",
             "Flexible"
            ],
            [
             "Turista Plus",
             "Promo"
            ],
            [
             "Turista Plus",
             "Promo"
            ],
            [
             "Turista Plus",
             "Promo"
            ],
            [
             "Turista",
             "Promo"
            ],
            [
             "Turista",
             "Flexible"
            ],
            [
             "Turista",
             "Promo"
            ],
            [
             "Turista",
             "Promo"
            ],
            [
             "Turista Plus",
             "Promo"
            ],
            [
             "Turista",
             "Promo"
            ],
            [
             "Turista",
             "Promo"
            ],
            [
             "Turista",
             "Flexible"
            ],
            [
             "Turista Plus",
             "Promo"
            ],
            [
             "Turista",
             "Promo"
            ],
            [
             "Turista",
             "Promo"
            ],
            [
             "Turista",
             "Promo"
            ],
            [
             "Turista",
             "Promo"
            ],
            [
             "Turista",
             "Promo"
            ],
            [
             "Turista",
             "Promo"
            ],
            [
             "Turista",
             "Promo"
            ],
            [
             "Turista",
             "Promo"
            ],
            [
             "Turista",
             "Promo"
            ],
            [
             "Turista",
             "Promo"
            ],
            [
             "Turista Plus",
             "Promo"
            ],
            [
             "Turista",
             "Promo"
            ],
            [
             "Turista",
             "Promo"
            ],
            [
             "Turista",
             "Promo"
            ],
            [
             "Turista",
             "Promo"
            ],
            [
             "Turista",
             "Promo"
            ],
            [
             "Turista",
             "Promo"
            ],
            [
             "Turista",
             "Promo"
            ],
            [
             "Turista",
             "Promo"
            ],
            [
             "Turista",
             "Promo"
            ],
            [
             "Turista",
             "Promo"
            ],
            [
             "Turista",
             "Flexible"
            ],
            [
             "Turista",
             "Flexible"
            ],
            [
             "Turista",
             "Flexible"
            ],
            [
             "Turista",
             "Flexible"
            ],
            [
             "Turista",
             "Flexible"
            ],
            [
             "Turista",
             "Flexible"
            ],
            [
             "Turista",
             "Flexible"
            ],
            [
             "Turista Plus",
             "Promo"
            ],
            [
             "Turista Plus",
             "Promo"
            ],
            [
             "Turista",
             "Promo"
            ],
            [
             "Turista",
             "Flexible"
            ],
            [
             "Turista",
             "Promo"
            ],
            [
             "Turista",
             "Promo"
            ],
            [
             "Turista",
             "Promo"
            ],
            [
             "Turista",
             "Promo"
            ],
            [
             "Turista",
             "Promo"
            ],
            [
             "Turista",
             "Promo"
            ],
            [
             "Turista",
             "Promo"
            ],
            [
             "Turista",
             "Promo"
            ],
            [
             "Turista",
             "Promo"
            ],
            [
             "Turista",
             "Promo"
            ],
            [
             "Turista",
             "Promo"
            ],
            [
             "Turista",
             "Promo"
            ],
            [
             "Turista",
             "Promo"
            ],
            [
             "Turista",
             "Promo"
            ],
            [
             "Turista",
             "Promo"
            ],
            [
             "Turista",
             "Promo"
            ],
            [
             "Turista",
             "Promo"
            ],
            [
             "Turista",
             "Promo"
            ],
            [
             "Turista",
             "Promo"
            ],
            [
             "Turista",
             "Promo"
            ],
            [
             "Turista",
             "Promo"
            ],
            [
             "Turista",
             "Promo"
            ],
            [
             "Turista",
             "Promo"
            ],
            [
             "Turista",
             "Flexible"
            ],
            [
             "Turista Plus",
             "Promo"
            ],
            [
             "Turista Plus",
             "Promo"
            ],
            [
             "Turista",
             "Promo"
            ],
            [
             "Turista",
             "Promo"
            ],
            [
             "Turista",
             "Promo"
            ],
            [
             "Turista",
             "Flexible"
            ],
            [
             "Turista",
             "Promo"
            ],
            [
             "Turista",
             "Promo"
            ],
            [
             "Turista",
             "Promo"
            ],
            [
             "Turista",
             "Promo"
            ],
            [
             "Turista",
             "Promo"
            ],
            [
             "Turista",
             "Promo"
            ],
            [
             "Turista",
             "Promo"
            ],
            [
             "Turista",
             "Promo"
            ],
            [
             "Turista",
             "Flexible"
            ],
            [
             "Turista",
             "Flexible"
            ],
            [
             "Turista Plus",
             "Promo"
            ],
            [
             "Turista Plus",
             "Promo"
            ],
            [
             "Turista Plus",
             "Promo"
            ],
            [
             "Turista",
             "Promo"
            ],
            [
             "Turista",
             "Flexible"
            ],
            [
             "Turista",
             "Promo"
            ],
            [
             "Turista",
             "Promo"
            ],
            [
             "Turista Plus",
             "Promo"
            ],
            [
             "Turista",
             "Promo"
            ],
            [
             "Turista",
             "Promo"
            ],
            [
             "Turista",
             "Flexible"
            ],
            [
             "Turista Plus",
             "Promo"
            ],
            [
             "Turista",
             "Promo"
            ],
            [
             "Turista",
             "Promo"
            ],
            [
             "Turista",
             "Promo"
            ],
            [
             "Turista",
             "Promo"
            ],
            [
             "Turista",
             "Promo"
            ],
            [
             "Turista",
             "Promo"
            ],
            [
             "Turista",
             "Promo"
            ],
            [
             "Turista",
             "Promo"
            ],
            [
             "Turista",
             "Promo"
            ],
            [
             "Turista",
             "Promo"
            ],
            [
             "Turista Plus",
             "Promo"
            ],
            [
             "Turista",
             "Promo"
            ],
            [
             "Turista",
             "Promo"
            ],
            [
             "Turista",
             "Promo"
            ],
            [
             "Turista",
             "Promo"
            ],
            [
             "Turista",
             "Promo"
            ],
            [
             "Turista",
             "Promo"
            ],
            [
             "Turista",
             "Promo"
            ],
            [
             "Turista",
             "Promo"
            ],
            [
             "Turista",
             "Promo"
            ],
            [
             "Turista",
             "Promo"
            ],
            [
             "Turista",
             "Promo"
            ],
            [
             "Turista",
             "Promo"
            ],
            [
             "Turista",
             "Promo"
            ],
            [
             "Turista",
             "Promo"
            ],
            [
             "Turista",
             "Promo"
            ],
            [
             "Turista",
             "Promo"
            ],
            [
             "Turista",
             "Promo"
            ],
            [
             "Turista",
             "Promo"
            ],
            [
             "Turista",
             "Promo"
            ],
            [
             "Turista",
             "Promo"
            ],
            [
             "Turista",
             "Flexible"
            ],
            [
             "Turista",
             "Flexible"
            ],
            [
             "Turista",
             "Flexible"
            ],
            [
             "Turista",
             "Flexible"
            ],
            [
             "Turista",
             "Flexible"
            ],
            [
             "Turista",
             "Flexible"
            ],
            [
             "Turista",
             "Flexible"
            ],
            [
             "Turista Plus",
             "Promo"
            ],
            [
             "Turista Plus",
             "Promo"
            ],
            [
             "Turista",
             "Promo"
            ],
            [
             "Turista",
             "Flexible"
            ],
            [
             "Turista",
             "Promo"
            ],
            [
             "Turista",
             "Promo"
            ],
            [
             "Turista",
             "Promo"
            ],
            [
             "Turista",
             "Promo"
            ],
            [
             "Turista",
             "Promo"
            ],
            [
             "Turista",
             "Promo"
            ],
            [
             "Turista",
             "Promo"
            ],
            [
             "Turista",
             "Promo"
            ],
            [
             "Turista",
             "Promo"
            ],
            [
             "Turista",
             "Promo"
            ],
            [
             "Turista",
             "Promo"
            ],
            [
             "Turista",
             "Promo"
            ],
            [
             "Turista",
             "Promo"
            ],
            [
             "Turista",
             "Promo"
            ],
            [
             "Turista",
             "Promo"
            ],
            [
             "Turista",
             "Promo"
            ],
            [
             "Turista",
             "Promo"
            ],
            [
             "Turista",
             "Promo"
            ],
            [
             "Turista",
             "Promo"
            ],
            [
             "Turista",
             "Promo"
            ],
            [
             "Turista",
             "Promo"
            ],
            [
             "Turista",
             "Promo"
            ],
            [
             "Turista",
             "Promo"
            ],
            [
             "Turista",
             "Promo"
            ],
            [
             "Turista",
             "Promo"
            ],
            [
             "Turista",
             "Promo"
            ],
            [
             "Turista",
             "Promo"
            ],
            [
             "Turista",
             "Promo"
            ],
            [
             "Turista",
             "Flexible"
            ],
            [
             "Turista Plus",
             "Promo"
            ],
            [
             "Turista",
             "Promo"
            ],
            [
             "Turista Plus",
             "Promo"
            ],
            [
             "Turista Plus",
             "Promo"
            ],
            [
             "Turista",
             "Promo"
            ],
            [
             "Turista",
             "Promo"
            ],
            [
             "Turista",
             "Promo"
            ],
            [
             "Turista",
             "Promo"
            ],
            [
             "Turista",
             "Promo"
            ],
            [
             "Turista",
             "Promo"
            ],
            [
             "Turista",
             "Promo"
            ],
            [
             "Turista",
             "Promo"
            ],
            [
             "Turista",
             "Promo"
            ],
            [
             "Turista",
             "Promo"
            ],
            [
             "Turista",
             "Promo"
            ],
            [
             "Turista",
             "Promo"
            ],
            [
             "Turista",
             "Promo"
            ],
            [
             "Turista Plus",
             "Promo"
            ],
            [
             "Turista Plus",
             "Promo"
            ],
            [
             "Turista Plus",
             "Promo"
            ],
            [
             "Turista Plus",
             "Promo"
            ],
            [
             "Turista",
             "Promo"
            ],
            [
             "Turista",
             "Promo"
            ],
            [
             "Turista",
             "Flexible"
            ],
            [
             "Turista",
             "Flexible"
            ],
            [
             "Turista",
             "Flexible"
            ],
            [
             "Turista",
             "Flexible"
            ],
            [
             "Turista",
             "Flexible"
            ],
            [
             "Turista",
             "Flexible"
            ],
            [
             "Turista",
             "Flexible"
            ],
            [
             "Turista Plus",
             "Promo"
            ],
            [
             "Turista Plus",
             "Promo"
            ],
            [
             "Turista",
             "Promo"
            ],
            [
             "Turista",
             "Flexible"
            ],
            [
             "Turista",
             "Promo"
            ],
            [
             "Turista",
             "Promo"
            ],
            [
             "Turista",
             "Promo"
            ],
            [
             "Turista",
             "Promo"
            ],
            [
             "Turista",
             "Promo"
            ],
            [
             "Turista",
             "Promo"
            ],
            [
             "Turista",
             "Promo"
            ],
            [
             "Turista",
             "Promo"
            ],
            [
             "Turista",
             "Promo"
            ],
            [
             "Turista",
             "Promo"
            ],
            [
             "Turista",
             "Promo"
            ],
            [
             "Turista",
             "Flexible"
            ],
            [
             "Turista Plus",
             "Promo"
            ],
            [
             "Turista",
             "Promo"
            ],
            [
             "Turista Plus",
             "Promo"
            ],
            [
             "Turista Plus",
             "Promo"
            ],
            [
             "Turista",
             "Promo"
            ],
            [
             "Turista",
             "Promo"
            ],
            [
             "Turista",
             "Promo"
            ],
            [
             "Turista",
             "Promo"
            ],
            [
             "Turista",
             "Promo"
            ],
            [
             "Turista",
             "Promo"
            ],
            [
             "Turista",
             "Promo"
            ],
            [
             "Turista",
             "Promo"
            ],
            [
             "Turista",
             "Promo"
            ],
            [
             "Turista",
             "Promo"
            ],
            [
             "Turista",
             "Promo"
            ],
            [
             "Turista",
             "Promo"
            ],
            [
             "Turista",
             "Promo"
            ],
            [
             "Turista Plus",
             "Promo"
            ],
            [
             "Turista Plus",
             "Promo"
            ],
            [
             "Turista Plus",
             "Promo"
            ],
            [
             "Turista Plus",
             "Promo"
            ],
            [
             "Turista",
             "Promo"
            ],
            [
             "Turista",
             "Promo"
            ],
            [
             "Turista",
             "Promo"
            ],
            [
             "Turista",
             "Promo"
            ],
            [
             "Turista",
             "Promo"
            ],
            [
             "Turista",
             "Promo"
            ],
            [
             "Turista",
             "Promo"
            ],
            [
             "Turista",
             "Promo"
            ],
            [
             "Turista",
             "Promo"
            ],
            [
             "Turista",
             "Promo"
            ],
            [
             "Turista",
             "Promo"
            ],
            [
             "Turista",
             "Promo"
            ],
            [
             "Turista",
             "Promo"
            ],
            [
             "Turista",
             "Promo"
            ],
            [
             "Turista",
             "Promo"
            ],
            [
             "Turista",
             "Promo"
            ],
            [
             "Turista",
             "Promo"
            ],
            [
             "Turista",
             "Promo"
            ],
            [
             "Turista",
             "Promo"
            ],
            [
             "Turista",
             "Flexible"
            ],
            [
             "Turista Plus",
             "Promo"
            ],
            [
             "Turista Plus",
             "Promo"
            ],
            [
             "Turista",
             "Promo"
            ],
            [
             "Turista",
             "Promo"
            ],
            [
             "Turista",
             "Promo"
            ],
            [
             "Turista",
             "Flexible"
            ],
            [
             "Turista",
             "Promo"
            ],
            [
             "Turista",
             "Promo"
            ],
            [
             "Turista",
             "Promo"
            ],
            [
             "Turista",
             "Promo"
            ],
            [
             "Turista",
             "Promo"
            ],
            [
             "Turista",
             "Promo"
            ],
            [
             "Turista",
             "Promo"
            ],
            [
             "Turista",
             "Promo"
            ],
            [
             "Turista",
             "Flexible"
            ],
            [
             "Turista",
             "Flexible"
            ],
            [
             "Turista Plus",
             "Promo"
            ],
            [
             "Turista Plus",
             "Promo"
            ],
            [
             "Turista Plus",
             "Promo"
            ],
            [
             "Turista",
             "Promo"
            ],
            [
             "Turista",
             "Flexible"
            ],
            [
             "Turista",
             "Promo"
            ],
            [
             "Turista",
             "Promo"
            ],
            [
             "Turista Plus",
             "Promo"
            ],
            [
             "Turista",
             "Promo"
            ],
            [
             "Turista",
             "Promo"
            ],
            [
             "Turista",
             "Flexible"
            ],
            [
             "Turista Plus",
             "Promo"
            ],
            [
             "Turista",
             "Promo"
            ],
            [
             "Turista",
             "Promo"
            ],
            [
             "Turista",
             "Promo"
            ],
            [
             "Turista",
             "Promo"
            ],
            [
             "Turista",
             "Promo"
            ],
            [
             "Turista",
             "Promo"
            ],
            [
             "Turista",
             "Promo"
            ],
            [
             "Turista",
             "Promo"
            ],
            [
             "Turista",
             "Promo"
            ],
            [
             "Turista",
             "Promo"
            ],
            [
             "Turista Plus",
             "Promo"
            ],
            [
             "Turista",
             "Promo"
            ],
            [
             "Turista",
             "Promo"
            ],
            [
             "Turista",
             "Promo"
            ],
            [
             "Turista",
             "Promo"
            ],
            [
             "Turista",
             "Promo"
            ],
            [
             "Turista",
             "Promo"
            ],
            [
             "Turista",
             "Promo"
            ],
            [
             "Turista",
             "Promo"
            ],
            [
             "Turista",
             "Promo"
            ],
            [
             "Turista",
             "Promo"
            ],
            [
             "Turista",
             "Promo"
            ],
            [
             "Turista",
             "Promo"
            ],
            [
             "Turista",
             "Promo"
            ],
            [
             "Turista",
             "Promo"
            ],
            [
             "Turista",
             "Promo"
            ],
            [
             "Turista",
             "Promo"
            ],
            [
             "Turista",
             "Promo"
            ],
            [
             "Turista",
             "Promo"
            ],
            [
             "Turista",
             "Promo"
            ],
            [
             "Turista",
             "Promo"
            ],
            [
             "Turista",
             "Promo"
            ],
            [
             "Turista",
             "Promo"
            ],
            [
             "Turista",
             "Promo"
            ],
            [
             "Turista",
             "Promo"
            ],
            [
             "Turista",
             "Flexible"
            ],
            [
             "Turista",
             "Flexible"
            ],
            [
             "Turista Plus",
             "Promo"
            ],
            [
             "Turista Plus",
             "Promo"
            ],
            [
             "Turista Plus",
             "Promo"
            ],
            [
             "Turista",
             "Promo"
            ],
            [
             "Turista",
             "Flexible"
            ],
            [
             "Turista",
             "Promo"
            ],
            [
             "Turista",
             "Promo"
            ],
            [
             "Turista Plus",
             "Promo"
            ],
            [
             "Turista",
             "Promo"
            ],
            [
             "Turista",
             "Promo"
            ],
            [
             "Turista",
             "Flexible"
            ],
            [
             "Turista Plus",
             "Promo"
            ],
            [
             "Turista",
             "Promo"
            ],
            [
             "Turista",
             "Promo"
            ],
            [
             "Turista",
             "Promo"
            ],
            [
             "Turista",
             "Promo"
            ],
            [
             "Turista",
             "Promo"
            ],
            [
             "Turista",
             "Promo"
            ],
            [
             "Turista",
             "Promo"
            ],
            [
             "Turista",
             "Promo"
            ],
            [
             "Turista",
             "Promo"
            ],
            [
             "Turista",
             "Promo"
            ],
            [
             "Turista Plus",
             "Promo"
            ],
            [
             "Turista",
             "Promo"
            ],
            [
             "Turista",
             "Promo"
            ],
            [
             "Turista",
             "Promo"
            ],
            [
             "Turista",
             "Promo"
            ],
            [
             "Turista",
             "Promo"
            ],
            [
             "Turista",
             "Promo"
            ],
            [
             "Turista",
             "Promo"
            ],
            [
             "Turista",
             "Promo"
            ],
            [
             "Turista",
             "Promo"
            ],
            [
             "Turista",
             "Promo"
            ],
            [
             "Turista",
             "Promo"
            ],
            [
             "Turista",
             "Promo"
            ],
            [
             "Turista",
             "Promo"
            ],
            [
             "Turista",
             "Promo"
            ],
            [
             "Turista",
             "Promo"
            ],
            [
             "Turista",
             "Promo"
            ],
            [
             "Turista",
             "Promo"
            ],
            [
             "Turista",
             "Promo"
            ],
            [
             "Turista",
             "Promo"
            ],
            [
             "Turista",
             "Promo"
            ],
            [
             "Turista",
             "Promo"
            ],
            [
             "Turista",
             "Promo"
            ],
            [
             "Turista",
             "Promo"
            ],
            [
             "Turista",
             "Promo"
            ],
            [
             "Turista",
             "Promo"
            ],
            [
             "Turista",
             "Promo"
            ],
            [
             "Turista",
             "Promo"
            ],
            [
             "Turista",
             "Promo"
            ],
            [
             "Turista",
             "Promo"
            ],
            [
             "Turista",
             "Promo"
            ],
            [
             "Turista",
             "Promo"
            ],
            [
             "Turista",
             "Promo"
            ],
            [
             "Turista",
             "Promo"
            ],
            [
             "Turista",
             "Promo"
            ],
            [
             "Turista",
             "Promo"
            ],
            [
             "Turista",
             "Promo"
            ],
            [
             "Turista",
             "Promo"
            ],
            [
             "Turista",
             "Promo"
            ],
            [
             "Turista",
             "Flexible"
            ],
            [
             "Turista",
             "Promo"
            ],
            [
             "Turista",
             "Promo"
            ],
            [
             "Turista",
             "Promo"
            ],
            [
             "Turista",
             "Promo"
            ],
            [
             "Turista",
             "Promo"
            ],
            [
             "Turista",
             "Promo"
            ],
            [
             "Turista",
             "Flexible"
            ],
            [
             "Turista",
             "Flexible"
            ],
            [
             "Turista",
             "Flexible"
            ],
            [
             "Turista",
             "Flexible"
            ],
            [
             "Turista",
             "Flexible"
            ],
            [
             "Turista",
             "Flexible"
            ],
            [
             "Turista",
             "Flexible"
            ],
            [
             "Turista Plus",
             "Promo"
            ],
            [
             "Turista Plus",
             "Promo"
            ],
            [
             "Turista",
             "Flexible"
            ],
            [
             "Turista Plus",
             "Promo"
            ],
            [
             "Turista Plus",
             "Promo"
            ],
            [
             "Turista",
             "Promo"
            ],
            [
             "Turista",
             "Promo"
            ],
            [
             "Turista",
             "Promo"
            ],
            [
             "Turista",
             "Flexible"
            ],
            [
             "Turista",
             "Promo"
            ],
            [
             "Turista",
             "Promo"
            ],
            [
             "Turista",
             "Promo"
            ],
            [
             "Turista",
             "Promo"
            ],
            [
             "Turista",
             "Promo"
            ],
            [
             "Turista",
             "Promo"
            ],
            [
             "Turista",
             "Promo"
            ],
            [
             "Turista",
             "Promo"
            ],
            [
             "Turista",
             "Promo"
            ],
            [
             "Turista",
             "Flexible"
            ],
            [
             "Turista Plus",
             "Promo"
            ],
            [
             "Turista",
             "Promo"
            ],
            [
             "Turista Plus",
             "Promo"
            ],
            [
             "Turista Plus",
             "Promo"
            ],
            [
             "Turista",
             "Promo"
            ],
            [
             "Turista",
             "Promo"
            ],
            [
             "Turista",
             "Promo"
            ],
            [
             "Turista",
             "Promo"
            ],
            [
             "Turista",
             "Promo"
            ],
            [
             "Turista",
             "Promo"
            ],
            [
             "Turista",
             "Promo"
            ],
            [
             "Turista",
             "Promo"
            ],
            [
             "Turista",
             "Promo"
            ],
            [
             "Turista",
             "Promo"
            ],
            [
             "Turista",
             "Promo"
            ],
            [
             "Turista",
             "Promo"
            ],
            [
             "Turista",
             "Promo"
            ],
            [
             "Turista Plus",
             "Promo"
            ],
            [
             "Turista Plus",
             "Promo"
            ],
            [
             "Turista Plus",
             "Promo"
            ],
            [
             "Turista Plus",
             "Promo"
            ],
            [
             "Turista",
             "Promo"
            ],
            [
             "Turista",
             "Promo"
            ],
            [
             "Turista",
             "Promo"
            ],
            [
             "Turista",
             "Promo"
            ],
            [
             "Turista",
             "Promo"
            ],
            [
             "Turista",
             "Promo"
            ],
            [
             "Turista",
             "Flexible"
            ],
            [
             "Turista",
             "Flexible"
            ],
            [
             "Turista Plus",
             "Promo"
            ],
            [
             "Turista Plus",
             "Promo"
            ],
            [
             "Turista Plus",
             "Promo"
            ],
            [
             "Turista",
             "Promo"
            ],
            [
             "Turista",
             "Flexible"
            ],
            [
             "Turista",
             "Promo"
            ],
            [
             "Turista",
             "Promo"
            ],
            [
             "Turista Plus",
             "Promo"
            ],
            [
             "Turista",
             "Promo"
            ],
            [
             "Turista",
             "Promo"
            ],
            [
             "Turista",
             "Flexible"
            ],
            [
             "Turista Plus",
             "Promo"
            ],
            [
             "Turista",
             "Promo"
            ],
            [
             "Turista",
             "Promo"
            ],
            [
             "Turista",
             "Promo"
            ],
            [
             "Turista",
             "Promo"
            ],
            [
             "Turista",
             "Promo"
            ],
            [
             "Turista",
             "Promo"
            ],
            [
             "Turista",
             "Promo"
            ],
            [
             "Turista",
             "Promo"
            ],
            [
             "Turista",
             "Promo"
            ],
            [
             "Turista",
             "Promo"
            ],
            [
             "Turista Plus",
             "Promo"
            ],
            [
             "Turista",
             "Promo"
            ],
            [
             "Turista",
             "Promo"
            ],
            [
             "Turista",
             "Promo"
            ],
            [
             "Turista",
             "Flexible"
            ],
            [
             "Turista",
             "Flexible"
            ],
            [
             "Turista",
             "Flexible"
            ],
            [
             "Turista",
             "Flexible"
            ],
            [
             "Turista",
             "Flexible"
            ],
            [
             "Turista",
             "Flexible"
            ],
            [
             "Turista",
             "Flexible"
            ],
            [
             "Turista Plus",
             "Promo"
            ],
            [
             "Turista Plus",
             "Promo"
            ],
            [
             "Turista",
             "Promo"
            ],
            [
             "Turista",
             "Flexible"
            ],
            [
             "Turista",
             "Promo"
            ],
            [
             "Turista",
             "Promo"
            ],
            [
             "Turista",
             "Promo"
            ],
            [
             "Turista",
             "Promo"
            ],
            [
             "Turista",
             "Promo"
            ],
            [
             "Turista",
             "Promo"
            ],
            [
             "Turista",
             "Promo"
            ],
            [
             "Turista",
             "Promo"
            ],
            [
             "Turista",
             "Promo"
            ],
            [
             "Turista",
             "Promo"
            ],
            [
             "Turista",
             "Promo"
            ],
            [
             "Turista",
             "Promo"
            ],
            [
             "Turista",
             "Promo"
            ],
            [
             "Turista",
             "Promo"
            ],
            [
             "Turista",
             "Promo"
            ],
            [
             "Turista",
             "Promo"
            ],
            [
             "Turista",
             "Promo"
            ],
            [
             "Turista",
             "Promo"
            ],
            [
             "Turista",
             "Promo"
            ],
            [
             "Turista",
             "Promo"
            ],
            [
             "Turista",
             "Promo"
            ],
            [
             "Turista",
             "Promo"
            ],
            [
             "Turista",
             "Promo"
            ],
            [
             "Turista",
             "Promo"
            ],
            [
             "Turista",
             "Promo"
            ],
            [
             "Turista",
             "Promo"
            ],
            [
             "Turista",
             "Promo"
            ],
            [
             "Turista",
             "Promo"
            ],
            [
             "Turista",
             "Promo"
            ],
            [
             "Turista",
             "Promo"
            ],
            [
             "Turista",
             "Promo"
            ],
            [
             "Turista",
             "Promo"
            ],
            [
             "Turista",
             "Promo"
            ],
            [
             "Turista",
             "Promo"
            ],
            [
             "Turista",
             "Promo"
            ],
            [
             "Turista",
             "Promo"
            ],
            [
             "Turista",
             "Promo"
            ],
            [
             "Turista",
             "Promo"
            ],
            [
             "Turista",
             "Promo"
            ],
            [
             "Turista",
             "Promo"
            ],
            [
             "Turista",
             "Flexible"
            ],
            [
             "Turista Plus",
             "Promo"
            ],
            [
             "Turista Plus",
             "Promo"
            ],
            [
             "Turista",
             "Promo"
            ],
            [
             "Turista",
             "Promo"
            ],
            [
             "Turista",
             "Promo"
            ],
            [
             "Turista",
             "Flexible"
            ],
            [
             "Turista",
             "Promo"
            ],
            [
             "Turista",
             "Promo"
            ],
            [
             "Turista",
             "Promo"
            ],
            [
             "Turista",
             "Promo"
            ],
            [
             "Turista",
             "Promo"
            ],
            [
             "Turista",
             "Promo"
            ],
            [
             "Turista",
             "Promo"
            ],
            [
             "Turista",
             "Promo"
            ],
            [
             "Turista",
             "Promo"
            ],
            [
             "Turista",
             "Flexible"
            ],
            [
             "Turista Plus",
             "Promo"
            ],
            [
             "Turista",
             "Promo"
            ],
            [
             "Turista Plus",
             "Promo"
            ],
            [
             "Turista Plus",
             "Promo"
            ],
            [
             "Turista",
             "Promo"
            ],
            [
             "Turista",
             "Promo"
            ],
            [
             "Turista",
             "Promo"
            ],
            [
             "Turista",
             "Promo"
            ],
            [
             "Turista",
             "Promo"
            ],
            [
             "Turista",
             "Promo"
            ],
            [
             "Turista",
             "Promo"
            ],
            [
             "Turista",
             "Promo"
            ],
            [
             "Turista",
             "Promo"
            ],
            [
             "Turista",
             "Promo"
            ],
            [
             "Turista",
             "Promo"
            ],
            [
             "Turista",
             "Promo"
            ],
            [
             "Turista",
             "Promo"
            ],
            [
             "Turista Plus",
             "Promo"
            ],
            [
             "Turista Plus",
             "Promo"
            ],
            [
             "Turista Plus",
             "Promo"
            ],
            [
             "Turista Plus",
             "Promo"
            ],
            [
             "Turista",
             "Promo"
            ],
            [
             "Turista",
             "Promo"
            ]
           ],
           "hovertemplate": "train_type=AVE<br>origin=%{x}<br>destination=%{y}<br>train_class=%{customdata[0]}<br>fare=%{customdata[1]}<extra></extra>",
           "legendgroup": "AVE",
           "marker": {
            "color": "#EF553B",
            "symbol": "circle"
           },
           "mode": "markers",
           "name": "AVE",
           "orientation": "v",
           "showlegend": true,
           "type": "scatter",
           "x": [
            "MADRID",
            "MADRID",
            "MADRID",
            "MADRID",
            "MADRID",
            "MADRID",
            "MADRID",
            "MADRID",
            "MADRID",
            "MADRID",
            "MADRID",
            "MADRID",
            "MADRID",
            "MADRID",
            "MADRID",
            "MADRID",
            "MADRID",
            "MADRID",
            "MADRID",
            "MADRID",
            "MADRID",
            "MADRID",
            "MADRID",
            "MADRID",
            "MADRID",
            "MADRID",
            "MADRID",
            "MADRID",
            "MADRID",
            "MADRID",
            "MADRID",
            "MADRID",
            "MADRID",
            "MADRID",
            "MADRID",
            "MADRID",
            "MADRID",
            "MADRID",
            "MADRID",
            "MADRID",
            "MADRID",
            "MADRID",
            "MADRID",
            "MADRID",
            "MADRID",
            "MADRID",
            "SEVILLA",
            "SEVILLA",
            "SEVILLA",
            "SEVILLA",
            "SEVILLA",
            "SEVILLA",
            "SEVILLA",
            "SEVILLA",
            "SEVILLA",
            "SEVILLA",
            "SEVILLA",
            "SEVILLA",
            "SEVILLA",
            "SEVILLA",
            "SEVILLA",
            "SEVILLA",
            "SEVILLA",
            "MADRID",
            "MADRID",
            "MADRID",
            "MADRID",
            "MADRID",
            "MADRID",
            "MADRID",
            "MADRID",
            "MADRID",
            "MADRID",
            "MADRID",
            "MADRID",
            "MADRID",
            "MADRID",
            "MADRID",
            "MADRID",
            "MADRID",
            "VALENCIA",
            "VALENCIA",
            "VALENCIA",
            "VALENCIA",
            "VALENCIA",
            "VALENCIA",
            "VALENCIA",
            "VALENCIA",
            "VALENCIA",
            "VALENCIA",
            "VALENCIA",
            "VALENCIA",
            "VALENCIA",
            "VALENCIA",
            "VALENCIA",
            "VALENCIA",
            "VALENCIA",
            "BARCELONA",
            "BARCELONA",
            "BARCELONA",
            "BARCELONA",
            "BARCELONA",
            "BARCELONA",
            "BARCELONA",
            "BARCELONA",
            "BARCELONA",
            "BARCELONA",
            "BARCELONA",
            "BARCELONA",
            "BARCELONA",
            "BARCELONA",
            "BARCELONA",
            "BARCELONA",
            "BARCELONA",
            "BARCELONA",
            "BARCELONA",
            "BARCELONA",
            "BARCELONA",
            "BARCELONA",
            "BARCELONA",
            "BARCELONA",
            "BARCELONA",
            "BARCELONA",
            "BARCELONA",
            "BARCELONA",
            "BARCELONA",
            "BARCELONA",
            "BARCELONA",
            "BARCELONA",
            "MADRID",
            "MADRID",
            "MADRID",
            "MADRID",
            "MADRID",
            "MADRID",
            "MADRID",
            "MADRID",
            "MADRID",
            "MADRID",
            "MADRID",
            "BARCELONA",
            "BARCELONA",
            "BARCELONA",
            "BARCELONA",
            "BARCELONA",
            "BARCELONA",
            "BARCELONA",
            "BARCELONA",
            "BARCELONA",
            "BARCELONA",
            "BARCELONA",
            "BARCELONA",
            "BARCELONA",
            "BARCELONA",
            "BARCELONA",
            "BARCELONA",
            "BARCELONA",
            "BARCELONA",
            "BARCELONA",
            "BARCELONA",
            "BARCELONA",
            "BARCELONA",
            "BARCELONA",
            "BARCELONA",
            "BARCELONA",
            "BARCELONA",
            "BARCELONA",
            "BARCELONA",
            "BARCELONA",
            "BARCELONA",
            "BARCELONA",
            "BARCELONA",
            "VALENCIA",
            "VALENCIA",
            "VALENCIA",
            "VALENCIA",
            "VALENCIA",
            "VALENCIA",
            "VALENCIA",
            "VALENCIA",
            "VALENCIA",
            "VALENCIA",
            "VALENCIA",
            "VALENCIA",
            "VALENCIA",
            "VALENCIA",
            "VALENCIA",
            "VALENCIA",
            "VALENCIA",
            "SEVILLA",
            "SEVILLA",
            "SEVILLA",
            "SEVILLA",
            "SEVILLA",
            "SEVILLA",
            "SEVILLA",
            "SEVILLA",
            "SEVILLA",
            "SEVILLA",
            "SEVILLA",
            "SEVILLA",
            "SEVILLA",
            "SEVILLA",
            "SEVILLA",
            "SEVILLA",
            "SEVILLA",
            "MADRID",
            "MADRID",
            "MADRID",
            "MADRID",
            "MADRID",
            "MADRID",
            "MADRID",
            "MADRID",
            "MADRID",
            "MADRID",
            "MADRID",
            "MADRID",
            "MADRID",
            "MADRID",
            "MADRID",
            "MADRID",
            "MADRID",
            "MADRID",
            "MADRID",
            "MADRID",
            "MADRID",
            "MADRID",
            "MADRID",
            "MADRID",
            "MADRID",
            "MADRID",
            "MADRID",
            "MADRID",
            "MADRID",
            "MADRID",
            "MADRID",
            "MADRID",
            "MADRID",
            "MADRID",
            "MADRID",
            "MADRID",
            "MADRID",
            "MADRID",
            "MADRID",
            "MADRID",
            "MADRID",
            "MADRID",
            "MADRID",
            "MADRID",
            "MADRID",
            "MADRID",
            "MADRID",
            "MADRID",
            "MADRID",
            "MADRID",
            "MADRID",
            "MADRID",
            "MADRID",
            "MADRID",
            "MADRID",
            "MADRID",
            "MADRID",
            "MADRID",
            "MADRID",
            "MADRID",
            "MADRID",
            "MADRID",
            "MADRID",
            "MADRID",
            "MADRID",
            "MADRID",
            "MADRID",
            "MADRID",
            "MADRID",
            "MADRID",
            "MADRID",
            "MADRID",
            "MADRID",
            "MADRID",
            "MADRID",
            "MADRID",
            "MADRID",
            "MADRID",
            "MADRID",
            "MADRID",
            "MADRID",
            "MADRID",
            "MADRID",
            "MADRID",
            "MADRID",
            "BARCELONA",
            "BARCELONA",
            "BARCELONA",
            "BARCELONA",
            "BARCELONA",
            "BARCELONA",
            "BARCELONA",
            "BARCELONA",
            "BARCELONA",
            "BARCELONA",
            "BARCELONA",
            "BARCELONA",
            "BARCELONA",
            "BARCELONA",
            "BARCELONA",
            "BARCELONA",
            "BARCELONA",
            "BARCELONA",
            "BARCELONA",
            "BARCELONA",
            "BARCELONA",
            "BARCELONA",
            "BARCELONA",
            "BARCELONA",
            "BARCELONA",
            "BARCELONA",
            "BARCELONA",
            "BARCELONA",
            "BARCELONA",
            "BARCELONA",
            "BARCELONA",
            "BARCELONA",
            "VALENCIA",
            "VALENCIA",
            "VALENCIA",
            "VALENCIA",
            "VALENCIA",
            "VALENCIA",
            "VALENCIA",
            "SEVILLA",
            "SEVILLA",
            "SEVILLA",
            "SEVILLA",
            "SEVILLA",
            "SEVILLA",
            "SEVILLA",
            "SEVILLA",
            "SEVILLA",
            "SEVILLA",
            "SEVILLA",
            "SEVILLA",
            "SEVILLA",
            "SEVILLA",
            "SEVILLA",
            "SEVILLA",
            "SEVILLA",
            "MADRID",
            "MADRID",
            "MADRID",
            "MADRID",
            "MADRID",
            "MADRID",
            "MADRID",
            "MADRID",
            "MADRID",
            "MADRID",
            "MADRID",
            "MADRID",
            "MADRID",
            "MADRID",
            "MADRID",
            "MADRID",
            "MADRID",
            "MADRID",
            "MADRID",
            "MADRID",
            "MADRID",
            "MADRID",
            "MADRID",
            "MADRID",
            "MADRID",
            "MADRID",
            "MADRID",
            "MADRID",
            "BARCELONA",
            "BARCELONA",
            "BARCELONA",
            "BARCELONA",
            "BARCELONA",
            "BARCELONA",
            "BARCELONA",
            "BARCELONA",
            "BARCELONA",
            "BARCELONA",
            "BARCELONA",
            "BARCELONA",
            "BARCELONA",
            "BARCELONA",
            "BARCELONA",
            "BARCELONA",
            "BARCELONA",
            "BARCELONA",
            "BARCELONA",
            "BARCELONA",
            "BARCELONA",
            "BARCELONA",
            "BARCELONA",
            "BARCELONA",
            "BARCELONA",
            "BARCELONA",
            "BARCELONA",
            "BARCELONA",
            "BARCELONA",
            "BARCELONA",
            "BARCELONA",
            "BARCELONA",
            "VALENCIA",
            "VALENCIA",
            "VALENCIA",
            "VALENCIA",
            "VALENCIA",
            "VALENCIA",
            "VALENCIA",
            "VALENCIA",
            "VALENCIA",
            "VALENCIA",
            "VALENCIA",
            "VALENCIA",
            "VALENCIA",
            "VALENCIA",
            "VALENCIA",
            "VALENCIA",
            "VALENCIA",
            "SEVILLA",
            "SEVILLA",
            "SEVILLA",
            "SEVILLA",
            "SEVILLA",
            "SEVILLA",
            "SEVILLA",
            "SEVILLA",
            "SEVILLA",
            "SEVILLA",
            "SEVILLA",
            "SEVILLA",
            "SEVILLA",
            "SEVILLA",
            "SEVILLA",
            "SEVILLA",
            "SEVILLA",
            "MADRID",
            "MADRID",
            "MADRID",
            "MADRID",
            "MADRID",
            "MADRID",
            "MADRID",
            "MADRID",
            "MADRID",
            "MADRID",
            "MADRID",
            "MADRID",
            "MADRID",
            "MADRID",
            "MADRID",
            "MADRID",
            "MADRID",
            "MADRID",
            "MADRID",
            "MADRID",
            "MADRID",
            "MADRID",
            "MADRID",
            "MADRID",
            "MADRID",
            "MADRID",
            "MADRID",
            "MADRID",
            "MADRID",
            "MADRID",
            "MADRID",
            "MADRID",
            "MADRID",
            "MADRID",
            "MADRID",
            "MADRID",
            "MADRID",
            "MADRID",
            "MADRID",
            "MADRID",
            "MADRID",
            "MADRID",
            "MADRID",
            "MADRID",
            "MADRID",
            "MADRID",
            "SEVILLA",
            "SEVILLA",
            "SEVILLA",
            "SEVILLA",
            "SEVILLA",
            "SEVILLA",
            "SEVILLA",
            "SEVILLA",
            "SEVILLA",
            "SEVILLA",
            "SEVILLA",
            "SEVILLA",
            "SEVILLA",
            "SEVILLA",
            "SEVILLA",
            "SEVILLA",
            "SEVILLA",
            "MADRID",
            "MADRID",
            "MADRID",
            "MADRID",
            "MADRID",
            "MADRID",
            "MADRID",
            "MADRID",
            "MADRID",
            "MADRID",
            "MADRID",
            "MADRID",
            "MADRID",
            "MADRID",
            "MADRID",
            "MADRID",
            "MADRID",
            "MADRID",
            "MADRID",
            "MADRID",
            "MADRID",
            "MADRID",
            "MADRID",
            "MADRID",
            "MADRID",
            "MADRID",
            "MADRID",
            "MADRID",
            "MADRID",
            "VALENCIA",
            "VALENCIA",
            "VALENCIA",
            "VALENCIA",
            "VALENCIA",
            "VALENCIA",
            "VALENCIA",
            "VALENCIA",
            "VALENCIA",
            "VALENCIA",
            "VALENCIA",
            "VALENCIA",
            "VALENCIA",
            "VALENCIA",
            "VALENCIA",
            "VALENCIA",
            "VALENCIA",
            "MADRID",
            "MADRID",
            "MADRID",
            "MADRID",
            "MADRID",
            "MADRID",
            "MADRID",
            "MADRID",
            "MADRID",
            "MADRID",
            "MADRID",
            "BARCELONA",
            "BARCELONA",
            "BARCELONA",
            "BARCELONA",
            "BARCELONA",
            "BARCELONA",
            "BARCELONA",
            "BARCELONA",
            "BARCELONA",
            "BARCELONA",
            "BARCELONA",
            "BARCELONA",
            "BARCELONA",
            "BARCELONA",
            "BARCELONA",
            "BARCELONA",
            "BARCELONA",
            "BARCELONA",
            "BARCELONA",
            "BARCELONA",
            "BARCELONA",
            "BARCELONA",
            "BARCELONA",
            "BARCELONA",
            "BARCELONA",
            "BARCELONA",
            "BARCELONA",
            "BARCELONA",
            "BARCELONA",
            "BARCELONA",
            "BARCELONA",
            "BARCELONA",
            "MADRID",
            "MADRID",
            "MADRID",
            "MADRID",
            "MADRID",
            "MADRID",
            "MADRID",
            "MADRID",
            "MADRID",
            "MADRID",
            "MADRID",
            "MADRID",
            "MADRID",
            "MADRID",
            "MADRID",
            "MADRID",
            "MADRID",
            "BARCELONA",
            "BARCELONA",
            "BARCELONA",
            "BARCELONA",
            "BARCELONA",
            "BARCELONA",
            "BARCELONA",
            "BARCELONA",
            "BARCELONA",
            "BARCELONA",
            "BARCELONA",
            "BARCELONA",
            "BARCELONA",
            "BARCELONA",
            "BARCELONA",
            "BARCELONA",
            "BARCELONA",
            "BARCELONA",
            "BARCELONA",
            "BARCELONA",
            "BARCELONA",
            "BARCELONA",
            "BARCELONA",
            "BARCELONA",
            "BARCELONA",
            "BARCELONA",
            "BARCELONA",
            "BARCELONA",
            "BARCELONA",
            "BARCELONA",
            "BARCELONA",
            "BARCELONA",
            "VALENCIA",
            "VALENCIA",
            "VALENCIA",
            "VALENCIA",
            "VALENCIA",
            "VALENCIA",
            "VALENCIA",
            "VALENCIA",
            "VALENCIA",
            "VALENCIA",
            "VALENCIA",
            "VALENCIA",
            "VALENCIA",
            "VALENCIA",
            "VALENCIA",
            "VALENCIA",
            "VALENCIA",
            "MADRID",
            "MADRID",
            "MADRID",
            "MADRID",
            "MADRID",
            "MADRID",
            "MADRID",
            "MADRID",
            "MADRID",
            "MADRID",
            "MADRID",
            "MADRID",
            "MADRID",
            "MADRID",
            "MADRID",
            "MADRID",
            "MADRID",
            "SEVILLA",
            "SEVILLA",
            "SEVILLA",
            "SEVILLA",
            "SEVILLA",
            "SEVILLA",
            "SEVILLA",
            "SEVILLA",
            "SEVILLA",
            "SEVILLA",
            "SEVILLA",
            "SEVILLA",
            "SEVILLA",
            "SEVILLA",
            "SEVILLA",
            "SEVILLA",
            "SEVILLA",
            "MADRID",
            "MADRID",
            "MADRID",
            "MADRID",
            "MADRID",
            "MADRID",
            "MADRID",
            "MADRID",
            "MADRID",
            "MADRID",
            "MADRID",
            "MADRID",
            "MADRID",
            "MADRID",
            "MADRID",
            "MADRID",
            "MADRID",
            "MADRID",
            "MADRID",
            "MADRID",
            "MADRID",
            "MADRID",
            "MADRID",
            "MADRID",
            "MADRID",
            "MADRID",
            "MADRID",
            "MADRID",
            "MADRID",
            "MADRID",
            "MADRID",
            "MADRID",
            "MADRID",
            "MADRID",
            "MADRID",
            "MADRID",
            "MADRID",
            "MADRID",
            "MADRID",
            "MADRID",
            "BARCELONA",
            "BARCELONA",
            "BARCELONA",
            "BARCELONA",
            "BARCELONA",
            "BARCELONA",
            "BARCELONA",
            "BARCELONA",
            "BARCELONA",
            "BARCELONA",
            "BARCELONA",
            "BARCELONA",
            "BARCELONA",
            "BARCELONA",
            "BARCELONA",
            "BARCELONA",
            "BARCELONA",
            "BARCELONA",
            "BARCELONA",
            "BARCELONA",
            "BARCELONA",
            "BARCELONA",
            "BARCELONA",
            "BARCELONA",
            "BARCELONA",
            "BARCELONA",
            "BARCELONA",
            "BARCELONA",
            "BARCELONA",
            "BARCELONA",
            "BARCELONA",
            "BARCELONA",
            "SEVILLA",
            "SEVILLA",
            "SEVILLA",
            "SEVILLA",
            "SEVILLA",
            "SEVILLA",
            "SEVILLA",
            "SEVILLA",
            "SEVILLA",
            "SEVILLA",
            "SEVILLA",
            "SEVILLA",
            "SEVILLA",
            "SEVILLA",
            "SEVILLA",
            "SEVILLA",
            "SEVILLA",
            "MADRID",
            "MADRID",
            "MADRID",
            "MADRID",
            "MADRID",
            "MADRID",
            "MADRID",
            "MADRID",
            "MADRID",
            "MADRID",
            "MADRID",
            "MADRID",
            "MADRID",
            "MADRID",
            "MADRID",
            "MADRID",
            "MADRID",
            "VALENCIA",
            "VALENCIA",
            "VALENCIA",
            "VALENCIA",
            "VALENCIA",
            "VALENCIA",
            "VALENCIA",
            "VALENCIA",
            "VALENCIA",
            "VALENCIA",
            "VALENCIA",
            "VALENCIA",
            "VALENCIA",
            "VALENCIA",
            "VALENCIA",
            "VALENCIA",
            "VALENCIA",
            "MADRID",
            "MADRID",
            "MADRID",
            "MADRID",
            "MADRID",
            "MADRID",
            "MADRID",
            "MADRID",
            "MADRID",
            "MADRID",
            "MADRID",
            "MADRID",
            "MADRID",
            "MADRID",
            "MADRID",
            "MADRID",
            "MADRID",
            "MADRID",
            "MADRID",
            "MADRID",
            "MADRID",
            "MADRID",
            "MADRID",
            "MADRID",
            "MADRID",
            "MADRID",
            "MADRID",
            "MADRID",
            "MADRID",
            "MADRID",
            "MADRID",
            "MADRID",
            "MADRID",
            "MADRID",
            "MADRID",
            "MADRID",
            "MADRID",
            "MADRID",
            "MADRID",
            "MADRID"
           ],
           "xaxis": "x",
           "y": [
            "VALENCIA",
            "VALENCIA",
            "VALENCIA",
            "VALENCIA",
            "VALENCIA",
            "VALENCIA",
            "VALENCIA",
            "VALENCIA",
            "VALENCIA",
            "VALENCIA",
            "VALENCIA",
            "VALENCIA",
            "VALENCIA",
            "VALENCIA",
            "VALENCIA",
            "VALENCIA",
            "VALENCIA",
            "BARCELONA",
            "BARCELONA",
            "BARCELONA",
            "BARCELONA",
            "BARCELONA",
            "BARCELONA",
            "BARCELONA",
            "BARCELONA",
            "BARCELONA",
            "BARCELONA",
            "BARCELONA",
            "BARCELONA",
            "BARCELONA",
            "BARCELONA",
            "BARCELONA",
            "BARCELONA",
            "BARCELONA",
            "BARCELONA",
            "BARCELONA",
            "BARCELONA",
            "BARCELONA",
            "BARCELONA",
            "BARCELONA",
            "BARCELONA",
            "BARCELONA",
            "BARCELONA",
            "BARCELONA",
            "BARCELONA",
            "BARCELONA",
            "MADRID",
            "MADRID",
            "MADRID",
            "MADRID",
            "MADRID",
            "MADRID",
            "MADRID",
            "MADRID",
            "MADRID",
            "MADRID",
            "MADRID",
            "MADRID",
            "MADRID",
            "MADRID",
            "MADRID",
            "MADRID",
            "MADRID",
            "VALENCIA",
            "VALENCIA",
            "VALENCIA",
            "VALENCIA",
            "VALENCIA",
            "VALENCIA",
            "VALENCIA",
            "VALENCIA",
            "VALENCIA",
            "VALENCIA",
            "VALENCIA",
            "VALENCIA",
            "VALENCIA",
            "VALENCIA",
            "VALENCIA",
            "VALENCIA",
            "VALENCIA",
            "MADRID",
            "MADRID",
            "MADRID",
            "MADRID",
            "MADRID",
            "MADRID",
            "MADRID",
            "MADRID",
            "MADRID",
            "MADRID",
            "MADRID",
            "MADRID",
            "MADRID",
            "MADRID",
            "MADRID",
            "MADRID",
            "MADRID",
            "MADRID",
            "MADRID",
            "MADRID",
            "MADRID",
            "MADRID",
            "MADRID",
            "MADRID",
            "MADRID",
            "MADRID",
            "MADRID",
            "MADRID",
            "MADRID",
            "MADRID",
            "MADRID",
            "MADRID",
            "MADRID",
            "MADRID",
            "MADRID",
            "MADRID",
            "MADRID",
            "MADRID",
            "MADRID",
            "MADRID",
            "MADRID",
            "MADRID",
            "MADRID",
            "MADRID",
            "MADRID",
            "MADRID",
            "MADRID",
            "MADRID",
            "MADRID",
            "SEVILLA",
            "SEVILLA",
            "SEVILLA",
            "SEVILLA",
            "SEVILLA",
            "SEVILLA",
            "SEVILLA",
            "SEVILLA",
            "SEVILLA",
            "SEVILLA",
            "SEVILLA",
            "MADRID",
            "MADRID",
            "MADRID",
            "MADRID",
            "MADRID",
            "MADRID",
            "MADRID",
            "MADRID",
            "MADRID",
            "MADRID",
            "MADRID",
            "MADRID",
            "MADRID",
            "MADRID",
            "MADRID",
            "MADRID",
            "MADRID",
            "MADRID",
            "MADRID",
            "MADRID",
            "MADRID",
            "MADRID",
            "MADRID",
            "MADRID",
            "MADRID",
            "MADRID",
            "MADRID",
            "MADRID",
            "MADRID",
            "MADRID",
            "MADRID",
            "MADRID",
            "MADRID",
            "MADRID",
            "MADRID",
            "MADRID",
            "MADRID",
            "MADRID",
            "MADRID",
            "MADRID",
            "MADRID",
            "MADRID",
            "MADRID",
            "MADRID",
            "MADRID",
            "MADRID",
            "MADRID",
            "MADRID",
            "MADRID",
            "MADRID",
            "MADRID",
            "MADRID",
            "MADRID",
            "MADRID",
            "MADRID",
            "MADRID",
            "MADRID",
            "MADRID",
            "MADRID",
            "MADRID",
            "MADRID",
            "MADRID",
            "MADRID",
            "MADRID",
            "MADRID",
            "MADRID",
            "SEVILLA",
            "SEVILLA",
            "SEVILLA",
            "SEVILLA",
            "SEVILLA",
            "SEVILLA",
            "SEVILLA",
            "SEVILLA",
            "SEVILLA",
            "SEVILLA",
            "SEVILLA",
            "BARCELONA",
            "BARCELONA",
            "BARCELONA",
            "BARCELONA",
            "BARCELONA",
            "BARCELONA",
            "BARCELONA",
            "BARCELONA",
            "BARCELONA",
            "BARCELONA",
            "BARCELONA",
            "BARCELONA",
            "BARCELONA",
            "BARCELONA",
            "BARCELONA",
            "BARCELONA",
            "BARCELONA",
            "VALENCIA",
            "VALENCIA",
            "VALENCIA",
            "VALENCIA",
            "VALENCIA",
            "VALENCIA",
            "VALENCIA",
            "VALENCIA",
            "VALENCIA",
            "VALENCIA",
            "VALENCIA",
            "VALENCIA",
            "VALENCIA",
            "VALENCIA",
            "VALENCIA",
            "VALENCIA",
            "VALENCIA",
            "SEVILLA",
            "SEVILLA",
            "SEVILLA",
            "SEVILLA",
            "SEVILLA",
            "SEVILLA",
            "SEVILLA",
            "SEVILLA",
            "SEVILLA",
            "SEVILLA",
            "SEVILLA",
            "BARCELONA",
            "BARCELONA",
            "BARCELONA",
            "BARCELONA",
            "BARCELONA",
            "BARCELONA",
            "BARCELONA",
            "BARCELONA",
            "BARCELONA",
            "BARCELONA",
            "BARCELONA",
            "BARCELONA",
            "BARCELONA",
            "BARCELONA",
            "BARCELONA",
            "BARCELONA",
            "BARCELONA",
            "BARCELONA",
            "BARCELONA",
            "BARCELONA",
            "BARCELONA",
            "BARCELONA",
            "BARCELONA",
            "BARCELONA",
            "BARCELONA",
            "BARCELONA",
            "BARCELONA",
            "BARCELONA",
            "BARCELONA",
            "MADRID",
            "MADRID",
            "MADRID",
            "MADRID",
            "MADRID",
            "MADRID",
            "MADRID",
            "MADRID",
            "MADRID",
            "MADRID",
            "MADRID",
            "MADRID",
            "MADRID",
            "MADRID",
            "MADRID",
            "MADRID",
            "MADRID",
            "MADRID",
            "MADRID",
            "MADRID",
            "MADRID",
            "MADRID",
            "MADRID",
            "MADRID",
            "MADRID",
            "MADRID",
            "MADRID",
            "MADRID",
            "MADRID",
            "MADRID",
            "MADRID",
            "MADRID",
            "MADRID",
            "MADRID",
            "MADRID",
            "MADRID",
            "MADRID",
            "MADRID",
            "MADRID",
            "MADRID",
            "MADRID",
            "MADRID",
            "MADRID",
            "MADRID",
            "MADRID",
            "MADRID",
            "MADRID",
            "MADRID",
            "MADRID",
            "MADRID",
            "MADRID",
            "MADRID",
            "MADRID",
            "MADRID",
            "MADRID",
            "MADRID",
            "VALENCIA",
            "VALENCIA",
            "VALENCIA",
            "VALENCIA",
            "VALENCIA",
            "VALENCIA",
            "VALENCIA",
            "VALENCIA",
            "VALENCIA",
            "VALENCIA",
            "VALENCIA",
            "VALENCIA",
            "VALENCIA",
            "VALENCIA",
            "VALENCIA",
            "VALENCIA",
            "VALENCIA",
            "SEVILLA",
            "SEVILLA",
            "SEVILLA",
            "SEVILLA",
            "SEVILLA",
            "SEVILLA",
            "SEVILLA",
            "SEVILLA",
            "SEVILLA",
            "SEVILLA",
            "SEVILLA",
            "MADRID",
            "MADRID",
            "MADRID",
            "MADRID",
            "MADRID",
            "MADRID",
            "MADRID",
            "MADRID",
            "MADRID",
            "MADRID",
            "MADRID",
            "MADRID",
            "MADRID",
            "MADRID",
            "MADRID",
            "MADRID",
            "MADRID",
            "MADRID",
            "MADRID",
            "MADRID",
            "MADRID",
            "MADRID",
            "MADRID",
            "MADRID",
            "MADRID",
            "MADRID",
            "MADRID",
            "MADRID",
            "MADRID",
            "MADRID",
            "MADRID",
            "MADRID",
            "MADRID",
            "MADRID",
            "MADRID",
            "MADRID",
            "MADRID",
            "MADRID",
            "MADRID",
            "MADRID",
            "MADRID",
            "MADRID",
            "MADRID",
            "MADRID",
            "MADRID",
            "MADRID",
            "MADRID",
            "MADRID",
            "MADRID",
            "MADRID",
            "MADRID",
            "MADRID",
            "MADRID",
            "MADRID",
            "MADRID",
            "MADRID",
            "MADRID",
            "MADRID",
            "MADRID",
            "MADRID",
            "MADRID",
            "MADRID",
            "MADRID",
            "MADRID",
            "MADRID",
            "MADRID",
            "VALENCIA",
            "VALENCIA",
            "VALENCIA",
            "VALENCIA",
            "VALENCIA",
            "VALENCIA",
            "VALENCIA",
            "VALENCIA",
            "VALENCIA",
            "VALENCIA",
            "VALENCIA",
            "VALENCIA",
            "VALENCIA",
            "VALENCIA",
            "VALENCIA",
            "VALENCIA",
            "VALENCIA",
            "BARCELONA",
            "BARCELONA",
            "BARCELONA",
            "BARCELONA",
            "BARCELONA",
            "BARCELONA",
            "BARCELONA",
            "BARCELONA",
            "BARCELONA",
            "BARCELONA",
            "BARCELONA",
            "BARCELONA",
            "BARCELONA",
            "BARCELONA",
            "BARCELONA",
            "BARCELONA",
            "BARCELONA",
            "BARCELONA",
            "BARCELONA",
            "BARCELONA",
            "BARCELONA",
            "BARCELONA",
            "BARCELONA",
            "BARCELONA",
            "BARCELONA",
            "BARCELONA",
            "BARCELONA",
            "BARCELONA",
            "BARCELONA",
            "MADRID",
            "MADRID",
            "MADRID",
            "MADRID",
            "MADRID",
            "MADRID",
            "MADRID",
            "MADRID",
            "MADRID",
            "MADRID",
            "MADRID",
            "MADRID",
            "MADRID",
            "MADRID",
            "MADRID",
            "MADRID",
            "MADRID",
            "BARCELONA",
            "BARCELONA",
            "BARCELONA",
            "BARCELONA",
            "BARCELONA",
            "BARCELONA",
            "BARCELONA",
            "BARCELONA",
            "BARCELONA",
            "BARCELONA",
            "BARCELONA",
            "BARCELONA",
            "BARCELONA",
            "BARCELONA",
            "BARCELONA",
            "BARCELONA",
            "BARCELONA",
            "BARCELONA",
            "BARCELONA",
            "BARCELONA",
            "BARCELONA",
            "BARCELONA",
            "BARCELONA",
            "BARCELONA",
            "BARCELONA",
            "BARCELONA",
            "BARCELONA",
            "BARCELONA",
            "BARCELONA",
            "MADRID",
            "MADRID",
            "MADRID",
            "MADRID",
            "MADRID",
            "MADRID",
            "MADRID",
            "MADRID",
            "MADRID",
            "MADRID",
            "MADRID",
            "MADRID",
            "MADRID",
            "MADRID",
            "MADRID",
            "MADRID",
            "MADRID",
            "SEVILLA",
            "SEVILLA",
            "SEVILLA",
            "SEVILLA",
            "SEVILLA",
            "SEVILLA",
            "SEVILLA",
            "SEVILLA",
            "SEVILLA",
            "SEVILLA",
            "SEVILLA",
            "MADRID",
            "MADRID",
            "MADRID",
            "MADRID",
            "MADRID",
            "MADRID",
            "MADRID",
            "MADRID",
            "MADRID",
            "MADRID",
            "MADRID",
            "MADRID",
            "MADRID",
            "MADRID",
            "MADRID",
            "MADRID",
            "MADRID",
            "MADRID",
            "MADRID",
            "MADRID",
            "MADRID",
            "MADRID",
            "MADRID",
            "MADRID",
            "MADRID",
            "MADRID",
            "MADRID",
            "MADRID",
            "MADRID",
            "MADRID",
            "MADRID",
            "MADRID",
            "VALENCIA",
            "VALENCIA",
            "VALENCIA",
            "VALENCIA",
            "VALENCIA",
            "VALENCIA",
            "VALENCIA",
            "VALENCIA",
            "VALENCIA",
            "VALENCIA",
            "VALENCIA",
            "VALENCIA",
            "VALENCIA",
            "VALENCIA",
            "VALENCIA",
            "VALENCIA",
            "VALENCIA",
            "MADRID",
            "MADRID",
            "MADRID",
            "MADRID",
            "MADRID",
            "MADRID",
            "MADRID",
            "MADRID",
            "MADRID",
            "MADRID",
            "MADRID",
            "MADRID",
            "MADRID",
            "MADRID",
            "MADRID",
            "MADRID",
            "MADRID",
            "MADRID",
            "MADRID",
            "MADRID",
            "MADRID",
            "MADRID",
            "MADRID",
            "MADRID",
            "MADRID",
            "MADRID",
            "MADRID",
            "MADRID",
            "MADRID",
            "MADRID",
            "MADRID",
            "MADRID",
            "MADRID",
            "MADRID",
            "MADRID",
            "MADRID",
            "MADRID",
            "MADRID",
            "MADRID",
            "MADRID",
            "MADRID",
            "MADRID",
            "MADRID",
            "MADRID",
            "MADRID",
            "MADRID",
            "MADRID",
            "MADRID",
            "MADRID",
            "VALENCIA",
            "VALENCIA",
            "VALENCIA",
            "VALENCIA",
            "VALENCIA",
            "VALENCIA",
            "VALENCIA",
            "VALENCIA",
            "VALENCIA",
            "VALENCIA",
            "VALENCIA",
            "VALENCIA",
            "VALENCIA",
            "VALENCIA",
            "VALENCIA",
            "VALENCIA",
            "VALENCIA",
            "MADRID",
            "MADRID",
            "MADRID",
            "MADRID",
            "MADRID",
            "MADRID",
            "MADRID",
            "MADRID",
            "MADRID",
            "MADRID",
            "MADRID",
            "MADRID",
            "MADRID",
            "MADRID",
            "MADRID",
            "MADRID",
            "MADRID",
            "SEVILLA",
            "SEVILLA",
            "SEVILLA",
            "SEVILLA",
            "SEVILLA",
            "SEVILLA",
            "SEVILLA",
            "SEVILLA",
            "SEVILLA",
            "SEVILLA",
            "SEVILLA",
            "BARCELONA",
            "BARCELONA",
            "BARCELONA",
            "BARCELONA",
            "BARCELONA",
            "BARCELONA",
            "BARCELONA",
            "BARCELONA",
            "BARCELONA",
            "BARCELONA",
            "BARCELONA",
            "BARCELONA",
            "BARCELONA",
            "BARCELONA",
            "BARCELONA",
            "BARCELONA",
            "BARCELONA",
            "BARCELONA",
            "BARCELONA",
            "BARCELONA",
            "BARCELONA",
            "BARCELONA",
            "BARCELONA",
            "BARCELONA",
            "BARCELONA",
            "BARCELONA",
            "BARCELONA",
            "BARCELONA",
            "BARCELONA",
            "MADRID",
            "MADRID",
            "MADRID",
            "MADRID",
            "MADRID",
            "MADRID",
            "MADRID",
            "MADRID",
            "MADRID",
            "MADRID",
            "MADRID",
            "MADRID",
            "MADRID",
            "MADRID",
            "MADRID",
            "MADRID",
            "MADRID",
            "MADRID",
            "MADRID",
            "MADRID",
            "MADRID",
            "MADRID",
            "MADRID",
            "MADRID",
            "MADRID",
            "MADRID",
            "MADRID",
            "MADRID",
            "MADRID",
            "MADRID",
            "MADRID",
            "MADRID",
            "MADRID",
            "MADRID",
            "MADRID",
            "MADRID",
            "MADRID",
            "MADRID",
            "MADRID",
            "MADRID",
            "MADRID",
            "MADRID",
            "MADRID",
            "MADRID",
            "MADRID",
            "MADRID",
            "MADRID",
            "MADRID",
            "MADRID",
            "VALENCIA",
            "VALENCIA",
            "VALENCIA",
            "VALENCIA",
            "VALENCIA",
            "VALENCIA",
            "VALENCIA",
            "VALENCIA",
            "VALENCIA",
            "VALENCIA",
            "VALENCIA",
            "VALENCIA",
            "VALENCIA",
            "VALENCIA",
            "VALENCIA",
            "VALENCIA",
            "VALENCIA",
            "MADRID",
            "MADRID",
            "MADRID",
            "MADRID",
            "MADRID",
            "MADRID",
            "MADRID",
            "MADRID",
            "MADRID",
            "MADRID",
            "MADRID",
            "MADRID",
            "MADRID",
            "MADRID",
            "MADRID",
            "MADRID",
            "MADRID",
            "SEVILLA",
            "SEVILLA",
            "SEVILLA",
            "SEVILLA",
            "SEVILLA",
            "SEVILLA",
            "SEVILLA",
            "SEVILLA",
            "SEVILLA",
            "SEVILLA",
            "SEVILLA",
            "BARCELONA",
            "BARCELONA",
            "BARCELONA",
            "BARCELONA",
            "BARCELONA",
            "BARCELONA",
            "BARCELONA",
            "BARCELONA",
            "BARCELONA",
            "BARCELONA",
            "BARCELONA",
            "BARCELONA",
            "BARCELONA",
            "BARCELONA",
            "BARCELONA",
            "BARCELONA",
            "BARCELONA",
            "BARCELONA",
            "BARCELONA",
            "BARCELONA",
            "BARCELONA",
            "BARCELONA",
            "BARCELONA",
            "BARCELONA",
            "BARCELONA",
            "BARCELONA",
            "BARCELONA",
            "BARCELONA",
            "BARCELONA"
           ],
           "yaxis": "y"
          }
         ],
         "name": "AVE"
        },
        {
         "data": [
          {
           "customdata": [
            [
             "Turista con enlace",
             "Flexible"
            ],
            [
             "Turista con enlace",
             "Flexible"
            ],
            [
             "Turista con enlace",
             "Flexible"
            ],
            [
             "Turista con enlace",
             "Flexible"
            ],
            [
             "Turista con enlace",
             "Promo"
            ],
            [
             "Turista con enlace",
             "Flexible"
            ],
            [
             "Turista con enlace",
             "Flexible"
            ],
            [
             "Turista con enlace",
             "Promo"
            ],
            [
             "Turista con enlace",
             "Promo"
            ],
            [
             "Turista con enlace",
             "Flexible"
            ],
            [
             "Turista con enlace",
             "Flexible"
            ],
            [
             "Turista con enlace",
             "Flexible"
            ],
            [
             "Turista con enlace",
             "Flexible"
            ],
            [
             "Turista con enlace",
             "Promo"
            ],
            [
             "Turista con enlace",
             "Flexible"
            ],
            [
             "Turista con enlace",
             "Flexible"
            ],
            [
             "Turista con enlace",
             "Promo"
            ],
            [
             "Turista con enlace",
             "Promo"
            ],
            [
             "Turista con enlace",
             "Flexible"
            ],
            [
             "Turista con enlace",
             "Flexible"
            ],
            [
             "Turista con enlace",
             "Flexible"
            ],
            [
             "Turista con enlace",
             "Flexible"
            ],
            [
             "Turista con enlace",
             "Promo"
            ],
            [
             "Turista con enlace",
             "Promo"
            ]
           ],
           "hovertemplate": "train_type=AVE-MD<br>origin=%{x}<br>destination=%{y}<br>train_class=%{customdata[0]}<br>fare=%{customdata[1]}<extra></extra>",
           "legendgroup": "AVE-MD",
           "marker": {
            "color": "#00cc96",
            "symbol": "circle"
           },
           "mode": "markers",
           "name": "AVE-MD",
           "orientation": "v",
           "showlegend": true,
           "type": "scatter",
           "x": [
            "MADRID",
            "MADRID",
            "MADRID",
            "MADRID",
            "MADRID",
            "MADRID",
            "MADRID",
            "MADRID",
            "MADRID",
            "MADRID",
            "MADRID",
            "MADRID",
            "MADRID",
            "MADRID",
            "MADRID",
            "MADRID",
            "MADRID",
            "MADRID",
            "MADRID",
            "MADRID",
            "MADRID",
            "MADRID",
            "MADRID",
            "MADRID"
           ],
           "xaxis": "x",
           "y": [
            "VALENCIA",
            "VALENCIA",
            "VALENCIA",
            "VALENCIA",
            "PONFERRADA",
            "VALENCIA",
            "VALENCIA",
            "PONFERRADA",
            "PONFERRADA",
            "VALENCIA",
            "VALENCIA",
            "VALENCIA",
            "VALENCIA",
            "PONFERRADA",
            "VALENCIA",
            "VALENCIA",
            "PONFERRADA",
            "PONFERRADA",
            "VALENCIA",
            "VALENCIA",
            "VALENCIA",
            "VALENCIA",
            "PONFERRADA",
            "PONFERRADA"
           ],
           "yaxis": "y"
          }
         ],
         "name": "AVE-MD"
        },
        {
         "data": [
          {
           "customdata": [
            [
             "Turista con enlace",
             "Flexible"
            ],
            [
             "Turista con enlace",
             "Flexible"
            ],
            [
             "Turista con enlace",
             "Promo"
            ],
            [
             "Turista con enlace",
             "Flexible"
            ],
            [
             "Turista con enlace",
             "Promo"
            ],
            [
             "Turista con enlace",
             "Promo"
            ],
            [
             "Turista con enlace",
             "Flexible"
            ],
            [
             "Turista con enlace",
             "Flexible"
            ],
            [
             "Turista con enlace",
             "Promo"
            ],
            [
             "Turista con enlace",
             "Flexible"
            ],
            [
             "Turista con enlace",
             "Promo"
            ],
            [
             "Turista con enlace",
             "Promo"
            ],
            [
             "Turista con enlace",
             "Flexible"
            ],
            [
             "Turista con enlace",
             "Flexible"
            ],
            [
             "Turista con enlace",
             "Promo"
            ],
            [
             "Turista con enlace",
             "Promo"
            ]
           ],
           "hovertemplate": "train_type=AVE-LD<br>origin=%{x}<br>destination=%{y}<br>train_class=%{customdata[0]}<br>fare=%{customdata[1]}<extra></extra>",
           "legendgroup": "AVE-LD",
           "marker": {
            "color": "#ab63fa",
            "symbol": "circle"
           },
           "mode": "markers",
           "name": "AVE-LD",
           "orientation": "v",
           "showlegend": true,
           "type": "scatter",
           "x": [
            "MADRID",
            "MADRID",
            "MADRID",
            "MADRID",
            "MADRID",
            "MADRID",
            "MADRID",
            "MADRID",
            "MADRID",
            "MADRID",
            "MADRID",
            "MADRID",
            "MADRID",
            "MADRID",
            "MADRID",
            "MADRID"
           ],
           "xaxis": "x",
           "y": [
            "VALENCIA",
            "VALENCIA",
            "PONFERRADA",
            "VALENCIA",
            "PONFERRADA",
            "PONFERRADA",
            "VALENCIA",
            "VALENCIA",
            "PONFERRADA",
            "VALENCIA",
            "PONFERRADA",
            "PONFERRADA",
            "VALENCIA",
            "VALENCIA",
            "PONFERRADA",
            "PONFERRADA"
           ],
           "yaxis": "y"
          }
         ],
         "name": "AVE-LD"
        },
        {
         "data": [
          {
           "customdata": [
            [
             "Turista Plus",
             "Promo"
            ],
            [
             "Turista",
             "Flexible"
            ],
            [
             "Turista Plus",
             "Promo"
            ],
            [
             "Turista Plus",
             "Promo"
            ],
            [
             "Turista",
             "Promo"
            ],
            [
             "Turista Plus",
             "Promo"
            ],
            [
             "Turista Plus",
             "Promo"
            ],
            [
             "Turista Plus",
             "Promo"
            ],
            [
             "Turista Plus",
             "Promo"
            ],
            [
             "Turista",
             "Flexible"
            ],
            [
             "Turista Plus",
             "Promo"
            ],
            [
             "Turista Plus",
             "Promo"
            ],
            [
             "Turista",
             "Promo"
            ],
            [
             "Turista Plus",
             "Promo"
            ],
            [
             "Turista Plus",
             "Promo"
            ],
            [
             "Turista Plus",
             "Promo"
            ],
            [
             "Turista",
             "Promo"
            ],
            [
             "Turista Plus",
             "Promo"
            ],
            [
             "Turista Plus",
             "Promo"
            ],
            [
             "Turista Plus",
             "Promo"
            ],
            [
             "Turista Plus",
             "Promo"
            ],
            [
             "Turista",
             "Flexible"
            ],
            [
             "Turista Plus",
             "Promo"
            ],
            [
             "Turista Plus",
             "Promo"
            ],
            [
             "Turista",
             "Promo"
            ],
            [
             "Turista Plus",
             "Promo"
            ],
            [
             "Turista Plus",
             "Promo"
            ],
            [
             "Turista Plus",
             "Promo"
            ],
            [
             "Turista Plus",
             "Promo"
            ],
            [
             "Turista",
             "Flexible"
            ],
            [
             "Turista Plus",
             "Promo"
            ],
            [
             "Turista Plus",
             "Promo"
            ],
            [
             "Turista Plus",
             "Promo"
            ],
            [
             "Turista",
             "Flexible"
            ],
            [
             "Turista Plus",
             "Promo"
            ],
            [
             "Turista Plus",
             "Promo"
            ],
            [
             "Turista",
             "Promo"
            ],
            [
             "Turista Plus",
             "Promo"
            ],
            [
             "Turista Plus",
             "Promo"
            ],
            [
             "Turista Plus",
             "Promo"
            ],
            [
             "Turista Plus",
             "Promo"
            ],
            [
             "Turista Plus",
             "Promo"
            ],
            [
             "Turista Plus",
             "Promo"
            ],
            [
             "Turista",
             "Flexible"
            ],
            [
             "Turista",
             "Promo"
            ],
            [
             "Turista Plus",
             "Promo"
            ],
            [
             "Turista Plus",
             "Promo"
            ],
            [
             "Turista Plus",
             "Promo"
            ],
            [
             "Turista Plus",
             "Promo"
            ],
            [
             "Turista",
             "Flexible"
            ],
            [
             "Turista Plus",
             "Promo"
            ],
            [
             "Turista Plus",
             "Promo"
            ],
            [
             "Turista",
             "Promo"
            ],
            [
             "Turista Plus",
             "Promo"
            ],
            [
             "Turista Plus",
             "Promo"
            ],
            [
             "Turista Plus",
             "Promo"
            ]
           ],
           "hovertemplate": "train_type=AV City<br>origin=%{x}<br>destination=%{y}<br>train_class=%{customdata[0]}<br>fare=%{customdata[1]}<extra></extra>",
           "legendgroup": "AV City",
           "marker": {
            "color": "#FFA15A",
            "symbol": "circle"
           },
           "mode": "markers",
           "name": "AV City",
           "orientation": "v",
           "showlegend": true,
           "type": "scatter",
           "x": [
            "SEVILLA",
            "SEVILLA",
            "SEVILLA",
            "SEVILLA",
            "MADRID",
            "MADRID",
            "MADRID",
            "MADRID",
            "SEVILLA",
            "SEVILLA",
            "SEVILLA",
            "SEVILLA",
            "MADRID",
            "MADRID",
            "MADRID",
            "MADRID",
            "MADRID",
            "MADRID",
            "MADRID",
            "MADRID",
            "SEVILLA",
            "SEVILLA",
            "SEVILLA",
            "SEVILLA",
            "MADRID",
            "MADRID",
            "MADRID",
            "MADRID",
            "SEVILLA",
            "SEVILLA",
            "SEVILLA",
            "SEVILLA",
            "SEVILLA",
            "SEVILLA",
            "SEVILLA",
            "SEVILLA",
            "MADRID",
            "MADRID",
            "MADRID",
            "MADRID",
            "SEVILLA",
            "SEVILLA",
            "SEVILLA",
            "SEVILLA",
            "MADRID",
            "MADRID",
            "MADRID",
            "MADRID",
            "SEVILLA",
            "SEVILLA",
            "SEVILLA",
            "SEVILLA",
            "MADRID",
            "MADRID",
            "MADRID",
            "MADRID"
           ],
           "xaxis": "x",
           "y": [
            "MADRID",
            "MADRID",
            "MADRID",
            "MADRID",
            "SEVILLA",
            "SEVILLA",
            "SEVILLA",
            "SEVILLA",
            "MADRID",
            "MADRID",
            "MADRID",
            "MADRID",
            "SEVILLA",
            "SEVILLA",
            "SEVILLA",
            "SEVILLA",
            "SEVILLA",
            "SEVILLA",
            "SEVILLA",
            "SEVILLA",
            "MADRID",
            "MADRID",
            "MADRID",
            "MADRID",
            "SEVILLA",
            "SEVILLA",
            "SEVILLA",
            "SEVILLA",
            "MADRID",
            "MADRID",
            "MADRID",
            "MADRID",
            "MADRID",
            "MADRID",
            "MADRID",
            "MADRID",
            "SEVILLA",
            "SEVILLA",
            "SEVILLA",
            "SEVILLA",
            "MADRID",
            "MADRID",
            "MADRID",
            "MADRID",
            "SEVILLA",
            "SEVILLA",
            "SEVILLA",
            "SEVILLA",
            "MADRID",
            "MADRID",
            "MADRID",
            "MADRID",
            "SEVILLA",
            "SEVILLA",
            "SEVILLA",
            "SEVILLA"
           ],
           "yaxis": "y"
          }
         ],
         "name": "AV City"
        }
       ],
       "layout": {
        "autosize": true,
        "legend": {
         "title": {
          "text": "train_type"
         },
         "tracegroupgap": 0
        },
        "sliders": [
         {
          "active": 4,
          "currentvalue": {
           "prefix": "train_type="
          },
          "len": 0.9,
          "pad": {
           "b": 10,
           "t": 60
          },
          "steps": [
           {
            "args": [
             [
              "ALVIA"
             ],
             {
              "frame": {
               "duration": 0,
               "redraw": false
              },
              "fromcurrent": true,
              "mode": "immediate",
              "transition": {
               "duration": 0,
               "easing": "linear"
              }
             }
            ],
            "label": "ALVIA",
            "method": "animate"
           },
           {
            "args": [
             [
              "AVE"
             ],
             {
              "frame": {
               "duration": 0,
               "redraw": false
              },
              "fromcurrent": true,
              "mode": "immediate",
              "transition": {
               "duration": 0,
               "easing": "linear"
              }
             }
            ],
            "label": "AVE",
            "method": "animate"
           },
           {
            "args": [
             [
              "AVE-MD"
             ],
             {
              "frame": {
               "duration": 0,
               "redraw": false
              },
              "fromcurrent": true,
              "mode": "immediate",
              "transition": {
               "duration": 0,
               "easing": "linear"
              }
             }
            ],
            "label": "AVE-MD",
            "method": "animate"
           },
           {
            "args": [
             [
              "AVE-LD"
             ],
             {
              "frame": {
               "duration": 0,
               "redraw": false
              },
              "fromcurrent": true,
              "mode": "immediate",
              "transition": {
               "duration": 0,
               "easing": "linear"
              }
             }
            ],
            "label": "AVE-LD",
            "method": "animate"
           },
           {
            "args": [
             [
              "AV City"
             ],
             {
              "frame": {
               "duration": 0,
               "redraw": false
              },
              "fromcurrent": true,
              "mode": "immediate",
              "transition": {
               "duration": 0,
               "easing": "linear"
              }
             }
            ],
            "label": "AV City",
            "method": "animate"
           }
          ],
          "x": 0.1,
          "xanchor": "left",
          "y": 0,
          "yanchor": "top"
         }
        ],
        "template": {
         "data": {
          "bar": [
           {
            "error_x": {
             "color": "#2a3f5f"
            },
            "error_y": {
             "color": "#2a3f5f"
            },
            "marker": {
             "line": {
              "color": "#E5ECF6",
              "width": 0.5
             },
             "pattern": {
              "fillmode": "overlay",
              "size": 10,
              "solidity": 0.2
             }
            },
            "type": "bar"
           }
          ],
          "barpolar": [
           {
            "marker": {
             "line": {
              "color": "#E5ECF6",
              "width": 0.5
             },
             "pattern": {
              "fillmode": "overlay",
              "size": 10,
              "solidity": 0.2
             }
            },
            "type": "barpolar"
           }
          ],
          "carpet": [
           {
            "aaxis": {
             "endlinecolor": "#2a3f5f",
             "gridcolor": "white",
             "linecolor": "white",
             "minorgridcolor": "white",
             "startlinecolor": "#2a3f5f"
            },
            "baxis": {
             "endlinecolor": "#2a3f5f",
             "gridcolor": "white",
             "linecolor": "white",
             "minorgridcolor": "white",
             "startlinecolor": "#2a3f5f"
            },
            "type": "carpet"
           }
          ],
          "choropleth": [
           {
            "colorbar": {
             "outlinewidth": 0,
             "ticks": ""
            },
            "type": "choropleth"
           }
          ],
          "contour": [
           {
            "colorbar": {
             "outlinewidth": 0,
             "ticks": ""
            },
            "colorscale": [
             [
              0,
              "#0d0887"
             ],
             [
              0.1111111111111111,
              "#46039f"
             ],
             [
              0.2222222222222222,
              "#7201a8"
             ],
             [
              0.3333333333333333,
              "#9c179e"
             ],
             [
              0.4444444444444444,
              "#bd3786"
             ],
             [
              0.5555555555555556,
              "#d8576b"
             ],
             [
              0.6666666666666666,
              "#ed7953"
             ],
             [
              0.7777777777777778,
              "#fb9f3a"
             ],
             [
              0.8888888888888888,
              "#fdca26"
             ],
             [
              1,
              "#f0f921"
             ]
            ],
            "type": "contour"
           }
          ],
          "contourcarpet": [
           {
            "colorbar": {
             "outlinewidth": 0,
             "ticks": ""
            },
            "type": "contourcarpet"
           }
          ],
          "heatmap": [
           {
            "colorbar": {
             "outlinewidth": 0,
             "ticks": ""
            },
            "colorscale": [
             [
              0,
              "#0d0887"
             ],
             [
              0.1111111111111111,
              "#46039f"
             ],
             [
              0.2222222222222222,
              "#7201a8"
             ],
             [
              0.3333333333333333,
              "#9c179e"
             ],
             [
              0.4444444444444444,
              "#bd3786"
             ],
             [
              0.5555555555555556,
              "#d8576b"
             ],
             [
              0.6666666666666666,
              "#ed7953"
             ],
             [
              0.7777777777777778,
              "#fb9f3a"
             ],
             [
              0.8888888888888888,
              "#fdca26"
             ],
             [
              1,
              "#f0f921"
             ]
            ],
            "type": "heatmap"
           }
          ],
          "heatmapgl": [
           {
            "colorbar": {
             "outlinewidth": 0,
             "ticks": ""
            },
            "colorscale": [
             [
              0,
              "#0d0887"
             ],
             [
              0.1111111111111111,
              "#46039f"
             ],
             [
              0.2222222222222222,
              "#7201a8"
             ],
             [
              0.3333333333333333,
              "#9c179e"
             ],
             [
              0.4444444444444444,
              "#bd3786"
             ],
             [
              0.5555555555555556,
              "#d8576b"
             ],
             [
              0.6666666666666666,
              "#ed7953"
             ],
             [
              0.7777777777777778,
              "#fb9f3a"
             ],
             [
              0.8888888888888888,
              "#fdca26"
             ],
             [
              1,
              "#f0f921"
             ]
            ],
            "type": "heatmapgl"
           }
          ],
          "histogram": [
           {
            "marker": {
             "pattern": {
              "fillmode": "overlay",
              "size": 10,
              "solidity": 0.2
             }
            },
            "type": "histogram"
           }
          ],
          "histogram2d": [
           {
            "colorbar": {
             "outlinewidth": 0,
             "ticks": ""
            },
            "colorscale": [
             [
              0,
              "#0d0887"
             ],
             [
              0.1111111111111111,
              "#46039f"
             ],
             [
              0.2222222222222222,
              "#7201a8"
             ],
             [
              0.3333333333333333,
              "#9c179e"
             ],
             [
              0.4444444444444444,
              "#bd3786"
             ],
             [
              0.5555555555555556,
              "#d8576b"
             ],
             [
              0.6666666666666666,
              "#ed7953"
             ],
             [
              0.7777777777777778,
              "#fb9f3a"
             ],
             [
              0.8888888888888888,
              "#fdca26"
             ],
             [
              1,
              "#f0f921"
             ]
            ],
            "type": "histogram2d"
           }
          ],
          "histogram2dcontour": [
           {
            "colorbar": {
             "outlinewidth": 0,
             "ticks": ""
            },
            "colorscale": [
             [
              0,
              "#0d0887"
             ],
             [
              0.1111111111111111,
              "#46039f"
             ],
             [
              0.2222222222222222,
              "#7201a8"
             ],
             [
              0.3333333333333333,
              "#9c179e"
             ],
             [
              0.4444444444444444,
              "#bd3786"
             ],
             [
              0.5555555555555556,
              "#d8576b"
             ],
             [
              0.6666666666666666,
              "#ed7953"
             ],
             [
              0.7777777777777778,
              "#fb9f3a"
             ],
             [
              0.8888888888888888,
              "#fdca26"
             ],
             [
              1,
              "#f0f921"
             ]
            ],
            "type": "histogram2dcontour"
           }
          ],
          "mesh3d": [
           {
            "colorbar": {
             "outlinewidth": 0,
             "ticks": ""
            },
            "type": "mesh3d"
           }
          ],
          "parcoords": [
           {
            "line": {
             "colorbar": {
              "outlinewidth": 0,
              "ticks": ""
             }
            },
            "type": "parcoords"
           }
          ],
          "pie": [
           {
            "automargin": true,
            "type": "pie"
           }
          ],
          "scatter": [
           {
            "fillpattern": {
             "fillmode": "overlay",
             "size": 10,
             "solidity": 0.2
            },
            "type": "scatter"
           }
          ],
          "scatter3d": [
           {
            "line": {
             "colorbar": {
              "outlinewidth": 0,
              "ticks": ""
             }
            },
            "marker": {
             "colorbar": {
              "outlinewidth": 0,
              "ticks": ""
             }
            },
            "type": "scatter3d"
           }
          ],
          "scattercarpet": [
           {
            "marker": {
             "colorbar": {
              "outlinewidth": 0,
              "ticks": ""
             }
            },
            "type": "scattercarpet"
           }
          ],
          "scattergeo": [
           {
            "marker": {
             "colorbar": {
              "outlinewidth": 0,
              "ticks": ""
             }
            },
            "type": "scattergeo"
           }
          ],
          "scattergl": [
           {
            "marker": {
             "colorbar": {
              "outlinewidth": 0,
              "ticks": ""
             }
            },
            "type": "scattergl"
           }
          ],
          "scattermapbox": [
           {
            "marker": {
             "colorbar": {
              "outlinewidth": 0,
              "ticks": ""
             }
            },
            "type": "scattermapbox"
           }
          ],
          "scatterpolar": [
           {
            "marker": {
             "colorbar": {
              "outlinewidth": 0,
              "ticks": ""
             }
            },
            "type": "scatterpolar"
           }
          ],
          "scatterpolargl": [
           {
            "marker": {
             "colorbar": {
              "outlinewidth": 0,
              "ticks": ""
             }
            },
            "type": "scatterpolargl"
           }
          ],
          "scatterternary": [
           {
            "marker": {
             "colorbar": {
              "outlinewidth": 0,
              "ticks": ""
             }
            },
            "type": "scatterternary"
           }
          ],
          "surface": [
           {
            "colorbar": {
             "outlinewidth": 0,
             "ticks": ""
            },
            "colorscale": [
             [
              0,
              "#0d0887"
             ],
             [
              0.1111111111111111,
              "#46039f"
             ],
             [
              0.2222222222222222,
              "#7201a8"
             ],
             [
              0.3333333333333333,
              "#9c179e"
             ],
             [
              0.4444444444444444,
              "#bd3786"
             ],
             [
              0.5555555555555556,
              "#d8576b"
             ],
             [
              0.6666666666666666,
              "#ed7953"
             ],
             [
              0.7777777777777778,
              "#fb9f3a"
             ],
             [
              0.8888888888888888,
              "#fdca26"
             ],
             [
              1,
              "#f0f921"
             ]
            ],
            "type": "surface"
           }
          ],
          "table": [
           {
            "cells": {
             "fill": {
              "color": "#EBF0F8"
             },
             "line": {
              "color": "white"
             }
            },
            "header": {
             "fill": {
              "color": "#C8D4E3"
             },
             "line": {
              "color": "white"
             }
            },
            "type": "table"
           }
          ]
         },
         "layout": {
          "annotationdefaults": {
           "arrowcolor": "#2a3f5f",
           "arrowhead": 0,
           "arrowwidth": 1
          },
          "autotypenumbers": "strict",
          "coloraxis": {
           "colorbar": {
            "outlinewidth": 0,
            "ticks": ""
           }
          },
          "colorscale": {
           "diverging": [
            [
             0,
             "#8e0152"
            ],
            [
             0.1,
             "#c51b7d"
            ],
            [
             0.2,
             "#de77ae"
            ],
            [
             0.3,
             "#f1b6da"
            ],
            [
             0.4,
             "#fde0ef"
            ],
            [
             0.5,
             "#f7f7f7"
            ],
            [
             0.6,
             "#e6f5d0"
            ],
            [
             0.7,
             "#b8e186"
            ],
            [
             0.8,
             "#7fbc41"
            ],
            [
             0.9,
             "#4d9221"
            ],
            [
             1,
             "#276419"
            ]
           ],
           "sequential": [
            [
             0,
             "#0d0887"
            ],
            [
             0.1111111111111111,
             "#46039f"
            ],
            [
             0.2222222222222222,
             "#7201a8"
            ],
            [
             0.3333333333333333,
             "#9c179e"
            ],
            [
             0.4444444444444444,
             "#bd3786"
            ],
            [
             0.5555555555555556,
             "#d8576b"
            ],
            [
             0.6666666666666666,
             "#ed7953"
            ],
            [
             0.7777777777777778,
             "#fb9f3a"
            ],
            [
             0.8888888888888888,
             "#fdca26"
            ],
            [
             1,
             "#f0f921"
            ]
           ],
           "sequentialminus": [
            [
             0,
             "#0d0887"
            ],
            [
             0.1111111111111111,
             "#46039f"
            ],
            [
             0.2222222222222222,
             "#7201a8"
            ],
            [
             0.3333333333333333,
             "#9c179e"
            ],
            [
             0.4444444444444444,
             "#bd3786"
            ],
            [
             0.5555555555555556,
             "#d8576b"
            ],
            [
             0.6666666666666666,
             "#ed7953"
            ],
            [
             0.7777777777777778,
             "#fb9f3a"
            ],
            [
             0.8888888888888888,
             "#fdca26"
            ],
            [
             1,
             "#f0f921"
            ]
           ]
          },
          "colorway": [
           "#636efa",
           "#EF553B",
           "#00cc96",
           "#ab63fa",
           "#FFA15A",
           "#19d3f3",
           "#FF6692",
           "#B6E880",
           "#FF97FF",
           "#FECB52"
          ],
          "font": {
           "color": "#2a3f5f"
          },
          "geo": {
           "bgcolor": "white",
           "lakecolor": "white",
           "landcolor": "#E5ECF6",
           "showlakes": true,
           "showland": true,
           "subunitcolor": "white"
          },
          "hoverlabel": {
           "align": "left"
          },
          "hovermode": "closest",
          "mapbox": {
           "style": "light"
          },
          "paper_bgcolor": "white",
          "plot_bgcolor": "#E5ECF6",
          "polar": {
           "angularaxis": {
            "gridcolor": "white",
            "linecolor": "white",
            "ticks": ""
           },
           "bgcolor": "#E5ECF6",
           "radialaxis": {
            "gridcolor": "white",
            "linecolor": "white",
            "ticks": ""
           }
          },
          "scene": {
           "xaxis": {
            "backgroundcolor": "#E5ECF6",
            "gridcolor": "white",
            "gridwidth": 2,
            "linecolor": "white",
            "showbackground": true,
            "ticks": "",
            "zerolinecolor": "white"
           },
           "yaxis": {
            "backgroundcolor": "#E5ECF6",
            "gridcolor": "white",
            "gridwidth": 2,
            "linecolor": "white",
            "showbackground": true,
            "ticks": "",
            "zerolinecolor": "white"
           },
           "zaxis": {
            "backgroundcolor": "#E5ECF6",
            "gridcolor": "white",
            "gridwidth": 2,
            "linecolor": "white",
            "showbackground": true,
            "ticks": "",
            "zerolinecolor": "white"
           }
          },
          "shapedefaults": {
           "line": {
            "color": "#2a3f5f"
           }
          },
          "ternary": {
           "aaxis": {
            "gridcolor": "white",
            "linecolor": "white",
            "ticks": ""
           },
           "baxis": {
            "gridcolor": "white",
            "linecolor": "white",
            "ticks": ""
           },
           "bgcolor": "#E5ECF6",
           "caxis": {
            "gridcolor": "white",
            "linecolor": "white",
            "ticks": ""
           }
          },
          "title": {
           "x": 0.05
          },
          "xaxis": {
           "automargin": true,
           "gridcolor": "white",
           "linecolor": "white",
           "ticks": "",
           "title": {
            "standoff": 15
           },
           "zerolinecolor": "white",
           "zerolinewidth": 2
          },
          "yaxis": {
           "automargin": true,
           "gridcolor": "white",
           "linecolor": "white",
           "ticks": "",
           "title": {
            "standoff": 15
           },
           "zerolinecolor": "white",
           "zerolinewidth": 2
          }
         }
        },
        "title": {
         "text": "Animated Graph - Train Types over Time"
        },
        "updatemenus": [
         {
          "active": 1,
          "buttons": [
           {
            "args": [
             null,
             {
              "frame": {
               "duration": 1000,
               "redraw": true
              },
              "fromcurrent": true
             }
            ],
            "label": "Play",
            "method": "animate"
           },
           {
            "args": [
             [
              null
             ],
             {
              "frame": {
               "duration": 0,
               "redraw": true
              },
              "mode": "immediate",
              "transition": {
               "duration": 0
              }
             }
            ],
            "label": "Pause",
            "method": "animate"
           }
          ],
          "direction": "left",
          "pad": {
           "r": 10,
           "t": 70
          },
          "showactive": false,
          "type": "buttons",
          "x": 0.1,
          "xanchor": "right",
          "y": 0,
          "yanchor": "top"
         }
        ],
        "xaxis": {
         "anchor": "y",
         "autorange": true,
         "domain": [
          0,
          1
         ],
         "range": [
          -0.12206017606096442,
          2.1220601760609643
         ],
         "title": {
          "text": "origin"
         },
         "type": "category"
        },
        "yaxis": {
         "anchor": "x",
         "autorange": true,
         "domain": [
          0,
          1
         ],
         "range": [
          -0.20591581342434587,
          2.2059158134243457
         ],
         "title": {
          "text": "destination"
         },
         "type": "category"
        }
       }
      },
      "image/png": "[encoded data removed]",
      "text/html": [
       "<div>                            <div id=\"0cc5631d-ed37-4fee-9d02-bdc0e0e97845\" class=\"plotly-graph-div\" style=\"height:525px; width:100%;\"></div>            <script type=\"text/javascript\">                require([\"plotly\"], function(Plotly) {                    window.PLOTLYENV=window.PLOTLYENV || {};                                    if (document.getElementById(\"0cc5631d-ed37-4fee-9d02-bdc0e0e97845\")) {                    Plotly.newPlot(                        \"0cc5631d-ed37-4fee-9d02-bdc0e0e97845\",                        [{\"customdata\":[[\"Turista\",\"Promo\"],[\"Turista\",\"Flexible\"],[\"Turista\",\"Flexible\"],[\"Turista\",\"Flexible\"],[\"Turista\",\"Promo\"],[\"Turista\",\"Promo\"],[\"Turista\",\"Promo\"],[\"Turista\",\"Promo\"],[\"Turista\",\"Flexible\"],[\"Turista\",\"Flexible\"],[\"Turista\",\"Flexible\"],[\"Turista\",\"Flexible\"],[\"Turista\",\"Promo\"],[\"Turista\",\"Promo\"],[\"Turista\",\"Flexible\"],[\"Turista\",\"Promo\"],[\"Turista\",\"Promo\"],[\"Turista\",\"Flexible\"],[\"Turista\",\"Promo\"],[\"Turista\",\"Flexible\"],[\"Turista\",\"Flexible\"],[\"Turista\",\"Flexible\"],[\"Turista\",\"Promo\"],[\"Turista\",\"Promo\"],[\"Turista\",\"Promo\"],[\"Turista\",\"Flexible\"],[\"Turista\",\"Flexible\"],[\"Turista\",\"Flexible\"],[\"Turista\",\"Flexible\"],[\"Turista\",\"Promo\"],[\"Turista\",\"Promo\"],[\"Turista\",\"Promo\"],[\"Turista\",\"Promo\"],[\"Turista\",\"Flexible\"],[\"Turista\",\"Flexible\"],[\"Turista\",\"Flexible\"],[\"Turista\",\"Promo\"],[\"Turista\",\"Promo\"],[\"Turista\",\"Promo\"],[\"Turista\",\"Flexible\"],[\"Turista\",\"Promo\"],[\"Turista\",\"Promo\"],[\"Turista\",\"Promo\"],[\"Turista\",\"Promo\"],[\"Turista\",\"Promo\"],[\"Turista\",\"Flexible\"],[\"Turista\",\"Flexible\"],[\"Turista\",\"Flexible\"],[\"Turista\",\"Flexible\"],[\"Turista\",\"Flexible\"],[\"Turista\",\"Flexible\"],[\"Turista\",\"Flexible\"],[\"Turista\",\"Promo\"],[\"Turista\",\"Promo\"],[\"Turista\",\"Promo\"],[\"Turista\",\"Flexible\"],[\"Turista\",\"Promo\"]],\"hovertemplate\":\"train_type=ALVIA\\u003cbr\\u003eorigin=%{x}\\u003cbr\\u003edestination=%{y}\\u003cbr\\u003etrain_class=%{customdata[0]}\\u003cbr\\u003efare=%{customdata[1]}\\u003cextra\\u003e\\u003c\\u002fextra\\u003e\",\"legendgroup\":\"ALVIA\",\"marker\":{\"color\":\"#636efa\",\"symbol\":\"circle\"},\"mode\":\"markers\",\"name\":\"ALVIA\",\"orientation\":\"v\",\"showlegend\":true,\"x\":[\"PONFERRADA\",\"SEVILLA\",\"SEVILLA\",\"SEVILLA\",\"SEVILLA\",\"SEVILLA\",\"MADRID\",\"PONFERRADA\",\"MADRID\",\"SEVILLA\",\"SEVILLA\",\"SEVILLA\",\"SEVILLA\",\"SEVILLA\",\"MADRID\",\"PONFERRADA\",\"MADRID\",\"MADRID\",\"MADRID\",\"SEVILLA\",\"SEVILLA\",\"SEVILLA\",\"SEVILLA\",\"SEVILLA\",\"PONFERRADA\",\"MADRID\",\"SEVILLA\",\"SEVILLA\",\"SEVILLA\",\"SEVILLA\",\"SEVILLA\",\"PONFERRADA\",\"MADRID\",\"SEVILLA\",\"SEVILLA\",\"SEVILLA\",\"SEVILLA\",\"SEVILLA\",\"PONFERRADA\",\"MADRID\",\"MADRID\",\"PONFERRADA\",\"MADRID\",\"SEVILLA\",\"SEVILLA\",\"SEVILLA\",\"SEVILLA\",\"SEVILLA\",\"MADRID\",\"SEVILLA\",\"SEVILLA\",\"SEVILLA\",\"SEVILLA\",\"SEVILLA\",\"PONFERRADA\",\"MADRID\",\"MADRID\"],\"xaxis\":\"x\",\"y\":[\"MADRID\",\"MADRID\",\"MADRID\",\"MADRID\",\"MADRID\",\"MADRID\",\"PONFERRADA\",\"MADRID\",\"SEVILLA\",\"MADRID\",\"MADRID\",\"MADRID\",\"MADRID\",\"MADRID\",\"SEVILLA\",\"MADRID\",\"PONFERRADA\",\"SEVILLA\",\"PONFERRADA\",\"MADRID\",\"MADRID\",\"MADRID\",\"MADRID\",\"MADRID\",\"MADRID\",\"SEVILLA\",\"MADRID\",\"MADRID\",\"MADRID\",\"MADRID\",\"MADRID\",\"MADRID\",\"PONFERRADA\",\"MADRID\",\"MADRID\",\"MADRID\",\"MADRID\",\"MADRID\",\"MADRID\",\"SEVILLA\",\"PONFERRADA\",\"MADRID\",\"PONFERRADA\",\"MADRID\",\"MADRID\",\"MADRID\",\"MADRID\",\"MADRID\",\"SEVILLA\",\"MADRID\",\"MADRID\",\"MADRID\",\"MADRID\",\"MADRID\",\"MADRID\",\"SEVILLA\",\"PONFERRADA\"],\"yaxis\":\"y\",\"type\":\"scatter\"}],                        {\"template\":{\"data\":{\"histogram2dcontour\":[{\"type\":\"histogram2dcontour\",\"colorbar\":{\"outlinewidth\":0,\"ticks\":\"\"},\"colorscale\":[[0.0,\"#0d0887\"],[0.1111111111111111,\"#46039f\"],[0.2222222222222222,\"#7201a8\"],[0.3333333333333333,\"#9c179e\"],[0.4444444444444444,\"#bd3786\"],[0.5555555555555556,\"#d8576b\"],[0.6666666666666666,\"#ed7953\"],[0.7777777777777778,\"#fb9f3a\"],[0.8888888888888888,\"#fdca26\"],[1.0,\"#f0f921\"]]}],\"choropleth\":[{\"type\":\"choropleth\",\"colorbar\":{\"outlinewidth\":0,\"ticks\":\"\"}}],\"histogram2d\":[{\"type\":\"histogram2d\",\"colorbar\":{\"outlinewidth\":0,\"ticks\":\"\"},\"colorscale\":[[0.0,\"#0d0887\"],[0.1111111111111111,\"#46039f\"],[0.2222222222222222,\"#7201a8\"],[0.3333333333333333,\"#9c179e\"],[0.4444444444444444,\"#bd3786\"],[0.5555555555555556,\"#d8576b\"],[0.6666666666666666,\"#ed7953\"],[0.7777777777777778,\"#fb9f3a\"],[0.8888888888888888,\"#fdca26\"],[1.0,\"#f0f921\"]]}],\"heatmap\":[{\"type\":\"heatmap\",\"colorbar\":{\"outlinewidth\":0,\"ticks\":\"\"},\"colorscale\":[[0.0,\"#0d0887\"],[0.1111111111111111,\"#46039f\"],[0.2222222222222222,\"#7201a8\"],[0.3333333333333333,\"#9c179e\"],[0.4444444444444444,\"#bd3786\"],[0.5555555555555556,\"#d8576b\"],[0.6666666666666666,\"#ed7953\"],[0.7777777777777778,\"#fb9f3a\"],[0.8888888888888888,\"#fdca26\"],[1.0,\"#f0f921\"]]}],\"heatmapgl\":[{\"type\":\"heatmapgl\",\"colorbar\":{\"outlinewidth\":0,\"ticks\":\"\"},\"colorscale\":[[0.0,\"#0d0887\"],[0.1111111111111111,\"#46039f\"],[0.2222222222222222,\"#7201a8\"],[0.3333333333333333,\"#9c179e\"],[0.4444444444444444,\"#bd3786\"],[0.5555555555555556,\"#d8576b\"],[0.6666666666666666,\"#ed7953\"],[0.7777777777777778,\"#fb9f3a\"],[0.8888888888888888,\"#fdca26\"],[1.0,\"#f0f921\"]]}],\"contourcarpet\":[{\"type\":\"contourcarpet\",\"colorbar\":{\"outlinewidth\":0,\"ticks\":\"\"}}],\"contour\":[{\"type\":\"contour\",\"colorbar\":{\"outlinewidth\":0,\"ticks\":\"\"},\"colorscale\":[[0.0,\"#0d0887\"],[0.1111111111111111,\"#46039f\"],[0.2222222222222222,\"#7201a8\"],[0.3333333333333333,\"#9c179e\"],[0.4444444444444444,\"#bd3786\"],[0.5555555555555556,\"#d8576b\"],[0.6666666666666666,\"#ed7953\"],[0.7777777777777778,\"#fb9f3a\"],[0.8888888888888888,\"#fdca26\"],[1.0,\"#f0f921\"]]}],\"surface\":[{\"type\":\"surface\",\"colorbar\":{\"outlinewidth\":0,\"ticks\":\"\"},\"colorscale\":[[0.0,\"#0d0887\"],[0.1111111111111111,\"#46039f\"],[0.2222222222222222,\"#7201a8\"],[0.3333333333333333,\"#9c179e\"],[0.4444444444444444,\"#bd3786\"],[0.5555555555555556,\"#d8576b\"],[0.6666666666666666,\"#ed7953\"],[0.7777777777777778,\"#fb9f3a\"],[0.8888888888888888,\"#fdca26\"],[1.0,\"#f0f921\"]]}],\"mesh3d\":[{\"type\":\"mesh3d\",\"colorbar\":{\"outlinewidth\":0,\"ticks\":\"\"}}],\"scatter\":[{\"fillpattern\":{\"fillmode\":\"overlay\",\"size\":10,\"solidity\":0.2},\"type\":\"scatter\"}],\"parcoords\":[{\"type\":\"parcoords\",\"line\":{\"colorbar\":{\"outlinewidth\":0,\"ticks\":\"\"}}}],\"scatterpolargl\":[{\"type\":\"scatterpolargl\",\"marker\":{\"colorbar\":{\"outlinewidth\":0,\"ticks\":\"\"}}}],\"bar\":[{\"error_x\":{\"color\":\"#2a3f5f\"},\"error_y\":{\"color\":\"#2a3f5f\"},\"marker\":{\"line\":{\"color\":\"#E5ECF6\",\"width\":0.5},\"pattern\":{\"fillmode\":\"overlay\",\"size\":10,\"solidity\":0.2}},\"type\":\"bar\"}],\"scattergeo\":[{\"type\":\"scattergeo\",\"marker\":{\"colorbar\":{\"outlinewidth\":0,\"ticks\":\"\"}}}],\"scatterpolar\":[{\"type\":\"scatterpolar\",\"marker\":{\"colorbar\":{\"outlinewidth\":0,\"ticks\":\"\"}}}],\"histogram\":[{\"marker\":{\"pattern\":{\"fillmode\":\"overlay\",\"size\":10,\"solidity\":0.2}},\"type\":\"histogram\"}],\"scattergl\":[{\"type\":\"scattergl\",\"marker\":{\"colorbar\":{\"outlinewidth\":0,\"ticks\":\"\"}}}],\"scatter3d\":[{\"type\":\"scatter3d\",\"line\":{\"colorbar\":{\"outlinewidth\":0,\"ticks\":\"\"}},\"marker\":{\"colorbar\":{\"outlinewidth\":0,\"ticks\":\"\"}}}],\"scattermapbox\":[{\"type\":\"scattermapbox\",\"marker\":{\"colorbar\":{\"outlinewidth\":0,\"ticks\":\"\"}}}],\"scatterternary\":[{\"type\":\"scatterternary\",\"marker\":{\"colorbar\":{\"outlinewidth\":0,\"ticks\":\"\"}}}],\"scattercarpet\":[{\"type\":\"scattercarpet\",\"marker\":{\"colorbar\":{\"outlinewidth\":0,\"ticks\":\"\"}}}],\"carpet\":[{\"aaxis\":{\"endlinecolor\":\"#2a3f5f\",\"gridcolor\":\"white\",\"linecolor\":\"white\",\"minorgridcolor\":\"white\",\"startlinecolor\":\"#2a3f5f\"},\"baxis\":{\"endlinecolor\":\"#2a3f5f\",\"gridcolor\":\"white\",\"linecolor\":\"white\",\"minorgridcolor\":\"white\",\"startlinecolor\":\"#2a3f5f\"},\"type\":\"carpet\"}],\"table\":[{\"cells\":{\"fill\":{\"color\":\"#EBF0F8\"},\"line\":{\"color\":\"white\"}},\"header\":{\"fill\":{\"color\":\"#C8D4E3\"},\"line\":{\"color\":\"white\"}},\"type\":\"table\"}],\"barpolar\":[{\"marker\":{\"line\":{\"color\":\"#E5ECF6\",\"width\":0.5},\"pattern\":{\"fillmode\":\"overlay\",\"size\":10,\"solidity\":0.2}},\"type\":\"barpolar\"}],\"pie\":[{\"automargin\":true,\"type\":\"pie\"}]},\"layout\":{\"autotypenumbers\":\"strict\",\"colorway\":[\"#636efa\",\"#EF553B\",\"#00cc96\",\"#ab63fa\",\"#FFA15A\",\"#19d3f3\",\"#FF6692\",\"#B6E880\",\"#FF97FF\",\"#FECB52\"],\"font\":{\"color\":\"#2a3f5f\"},\"hovermode\":\"closest\",\"hoverlabel\":{\"align\":\"left\"},\"paper_bgcolor\":\"white\",\"plot_bgcolor\":\"#E5ECF6\",\"polar\":{\"bgcolor\":\"#E5ECF6\",\"angularaxis\":{\"gridcolor\":\"white\",\"linecolor\":\"white\",\"ticks\":\"\"},\"radialaxis\":{\"gridcolor\":\"white\",\"linecolor\":\"white\",\"ticks\":\"\"}},\"ternary\":{\"bgcolor\":\"#E5ECF6\",\"aaxis\":{\"gridcolor\":\"white\",\"linecolor\":\"white\",\"ticks\":\"\"},\"baxis\":{\"gridcolor\":\"white\",\"linecolor\":\"white\",\"ticks\":\"\"},\"caxis\":{\"gridcolor\":\"white\",\"linecolor\":\"white\",\"ticks\":\"\"}},\"coloraxis\":{\"colorbar\":{\"outlinewidth\":0,\"ticks\":\"\"}},\"colorscale\":{\"sequential\":[[0.0,\"#0d0887\"],[0.1111111111111111,\"#46039f\"],[0.2222222222222222,\"#7201a8\"],[0.3333333333333333,\"#9c179e\"],[0.4444444444444444,\"#bd3786\"],[0.5555555555555556,\"#d8576b\"],[0.6666666666666666,\"#ed7953\"],[0.7777777777777778,\"#fb9f3a\"],[0.8888888888888888,\"#fdca26\"],[1.0,\"#f0f921\"]],\"sequentialminus\":[[0.0,\"#0d0887\"],[0.1111111111111111,\"#46039f\"],[0.2222222222222222,\"#7201a8\"],[0.3333333333333333,\"#9c179e\"],[0.4444444444444444,\"#bd3786\"],[0.5555555555555556,\"#d8576b\"],[0.6666666666666666,\"#ed7953\"],[0.7777777777777778,\"#fb9f3a\"],[0.8888888888888888,\"#fdca26\"],[1.0,\"#f0f921\"]],\"diverging\":[[0,\"#8e0152\"],[0.1,\"#c51b7d\"],[0.2,\"#de77ae\"],[0.3,\"#f1b6da\"],[0.4,\"#fde0ef\"],[0.5,\"#f7f7f7\"],[0.6,\"#e6f5d0\"],[0.7,\"#b8e186\"],[0.8,\"#7fbc41\"],[0.9,\"#4d9221\"],[1,\"#276419\"]]},\"xaxis\":{\"gridcolor\":\"white\",\"linecolor\":\"white\",\"ticks\":\"\",\"title\":{\"standoff\":15},\"zerolinecolor\":\"white\",\"automargin\":true,\"zerolinewidth\":2},\"yaxis\":{\"gridcolor\":\"white\",\"linecolor\":\"white\",\"ticks\":\"\",\"title\":{\"standoff\":15},\"zerolinecolor\":\"white\",\"automargin\":true,\"zerolinewidth\":2},\"scene\":{\"xaxis\":{\"backgroundcolor\":\"#E5ECF6\",\"gridcolor\":\"white\",\"linecolor\":\"white\",\"showbackground\":true,\"ticks\":\"\",\"zerolinecolor\":\"white\",\"gridwidth\":2},\"yaxis\":{\"backgroundcolor\":\"#E5ECF6\",\"gridcolor\":\"white\",\"linecolor\":\"white\",\"showbackground\":true,\"ticks\":\"\",\"zerolinecolor\":\"white\",\"gridwidth\":2},\"zaxis\":{\"backgroundcolor\":\"#E5ECF6\",\"gridcolor\":\"white\",\"linecolor\":\"white\",\"showbackground\":true,\"ticks\":\"\",\"zerolinecolor\":\"white\",\"gridwidth\":2}},\"shapedefaults\":{\"line\":{\"color\":\"#2a3f5f\"}},\"annotationdefaults\":{\"arrowcolor\":\"#2a3f5f\",\"arrowhead\":0,\"arrowwidth\":1},\"geo\":{\"bgcolor\":\"white\",\"landcolor\":\"#E5ECF6\",\"subunitcolor\":\"white\",\"showland\":true,\"showlakes\":true,\"lakecolor\":\"white\"},\"title\":{\"x\":0.05},\"mapbox\":{\"style\":\"light\"}}},\"xaxis\":{\"anchor\":\"y\",\"domain\":[0.0,1.0],\"title\":{\"text\":\"origin\"}},\"yaxis\":{\"anchor\":\"x\",\"domain\":[0.0,1.0],\"title\":{\"text\":\"destination\"}},\"legend\":{\"title\":{\"text\":\"train_type\"},\"tracegroupgap\":0},\"title\":{\"text\":\"Animated Graph - Train Types over Time\"},\"updatemenus\":[{\"buttons\":[{\"args\":[null,{\"frame\":{\"duration\":1000,\"redraw\":true},\"fromcurrent\":true}],\"label\":\"Play\",\"method\":\"animate\"},{\"args\":[[null],{\"frame\":{\"duration\":0,\"redraw\":true},\"mode\":\"immediate\",\"transition\":{\"duration\":0}}],\"label\":\"Pause\",\"method\":\"animate\"}],\"direction\":\"left\",\"pad\":{\"r\":10,\"t\":70},\"showactive\":false,\"type\":\"buttons\",\"x\":0.1,\"xanchor\":\"right\",\"y\":0,\"yanchor\":\"top\"}],\"sliders\":[{\"active\":0,\"currentvalue\":{\"prefix\":\"train_type=\"},\"len\":0.9,\"pad\":{\"b\":10,\"t\":60},\"steps\":[{\"args\":[[\"ALVIA\"],{\"frame\":{\"duration\":0,\"redraw\":false},\"mode\":\"immediate\",\"fromcurrent\":true,\"transition\":{\"duration\":0,\"easing\":\"linear\"}}],\"label\":\"ALVIA\",\"method\":\"animate\"},{\"args\":[[\"AVE\"],{\"frame\":{\"duration\":0,\"redraw\":false},\"mode\":\"immediate\",\"fromcurrent\":true,\"transition\":{\"duration\":0,\"easing\":\"linear\"}}],\"label\":\"AVE\",\"method\":\"animate\"},{\"args\":[[\"AVE-MD\"],{\"frame\":{\"duration\":0,\"redraw\":false},\"mode\":\"immediate\",\"fromcurrent\":true,\"transition\":{\"duration\":0,\"easing\":\"linear\"}}],\"label\":\"AVE-MD\",\"method\":\"animate\"},{\"args\":[[\"AVE-LD\"],{\"frame\":{\"duration\":0,\"redraw\":false},\"mode\":\"immediate\",\"fromcurrent\":true,\"transition\":{\"duration\":0,\"easing\":\"linear\"}}],\"label\":\"AVE-LD\",\"method\":\"animate\"},{\"args\":[[\"AV City\"],{\"frame\":{\"duration\":0,\"redraw\":false},\"mode\":\"immediate\",\"fromcurrent\":true,\"transition\":{\"duration\":0,\"easing\":\"linear\"}}],\"label\":\"AV City\",\"method\":\"animate\"}],\"x\":0.1,\"xanchor\":\"left\",\"y\":0,\"yanchor\":\"top\"}]},                        {\"responsive\": true}                    ).then(function(){\n",
       "                            Plotly.addFrames('0cc5631d-ed37-4fee-9d02-bdc0e0e97845', [{\"data\":[{\"customdata\":[[\"Turista\",\"Promo\"],[\"Turista\",\"Flexible\"],[\"Turista\",\"Flexible\"],[\"Turista\",\"Flexible\"],[\"Turista\",\"Promo\"],[\"Turista\",\"Promo\"],[\"Turista\",\"Promo\"],[\"Turista\",\"Promo\"],[\"Turista\",\"Flexible\"],[\"Turista\",\"Flexible\"],[\"Turista\",\"Flexible\"],[\"Turista\",\"Flexible\"],[\"Turista\",\"Promo\"],[\"Turista\",\"Promo\"],[\"Turista\",\"Flexible\"],[\"Turista\",\"Promo\"],[\"Turista\",\"Promo\"],[\"Turista\",\"Flexible\"],[\"Turista\",\"Promo\"],[\"Turista\",\"Flexible\"],[\"Turista\",\"Flexible\"],[\"Turista\",\"Flexible\"],[\"Turista\",\"Promo\"],[\"Turista\",\"Promo\"],[\"Turista\",\"Promo\"],[\"Turista\",\"Flexible\"],[\"Turista\",\"Flexible\"],[\"Turista\",\"Flexible\"],[\"Turista\",\"Flexible\"],[\"Turista\",\"Promo\"],[\"Turista\",\"Promo\"],[\"Turista\",\"Promo\"],[\"Turista\",\"Promo\"],[\"Turista\",\"Flexible\"],[\"Turista\",\"Flexible\"],[\"Turista\",\"Flexible\"],[\"Turista\",\"Promo\"],[\"Turista\",\"Promo\"],[\"Turista\",\"Promo\"],[\"Turista\",\"Flexible\"],[\"Turista\",\"Promo\"],[\"Turista\",\"Promo\"],[\"Turista\",\"Promo\"],[\"Turista\",\"Promo\"],[\"Turista\",\"Promo\"],[\"Turista\",\"Flexible\"],[\"Turista\",\"Flexible\"],[\"Turista\",\"Flexible\"],[\"Turista\",\"Flexible\"],[\"Turista\",\"Flexible\"],[\"Turista\",\"Flexible\"],[\"Turista\",\"Flexible\"],[\"Turista\",\"Promo\"],[\"Turista\",\"Promo\"],[\"Turista\",\"Promo\"],[\"Turista\",\"Flexible\"],[\"Turista\",\"Promo\"]],\"hovertemplate\":\"train_type=ALVIA\\u003cbr\\u003eorigin=%{x}\\u003cbr\\u003edestination=%{y}\\u003cbr\\u003etrain_class=%{customdata[0]}\\u003cbr\\u003efare=%{customdata[1]}\\u003cextra\\u003e\\u003c\\u002fextra\\u003e\",\"legendgroup\":\"ALVIA\",\"marker\":{\"color\":\"#636efa\",\"symbol\":\"circle\"},\"mode\":\"markers\",\"name\":\"ALVIA\",\"orientation\":\"v\",\"showlegend\":true,\"x\":[\"PONFERRADA\",\"SEVILLA\",\"SEVILLA\",\"SEVILLA\",\"SEVILLA\",\"SEVILLA\",\"MADRID\",\"PONFERRADA\",\"MADRID\",\"SEVILLA\",\"SEVILLA\",\"SEVILLA\",\"SEVILLA\",\"SEVILLA\",\"MADRID\",\"PONFERRADA\",\"MADRID\",\"MADRID\",\"MADRID\",\"SEVILLA\",\"SEVILLA\",\"SEVILLA\",\"SEVILLA\",\"SEVILLA\",\"PONFERRADA\",\"MADRID\",\"SEVILLA\",\"SEVILLA\",\"SEVILLA\",\"SEVILLA\",\"SEVILLA\",\"PONFERRADA\",\"MADRID\",\"SEVILLA\",\"SEVILLA\",\"SEVILLA\",\"SEVILLA\",\"SEVILLA\",\"PONFERRADA\",\"MADRID\",\"MADRID\",\"PONFERRADA\",\"MADRID\",\"SEVILLA\",\"SEVILLA\",\"SEVILLA\",\"SEVILLA\",\"SEVILLA\",\"MADRID\",\"SEVILLA\",\"SEVILLA\",\"SEVILLA\",\"SEVILLA\",\"SEVILLA\",\"PONFERRADA\",\"MADRID\",\"MADRID\"],\"xaxis\":\"x\",\"y\":[\"MADRID\",\"MADRID\",\"MADRID\",\"MADRID\",\"MADRID\",\"MADRID\",\"PONFERRADA\",\"MADRID\",\"SEVILLA\",\"MADRID\",\"MADRID\",\"MADRID\",\"MADRID\",\"MADRID\",\"SEVILLA\",\"MADRID\",\"PONFERRADA\",\"SEVILLA\",\"PONFERRADA\",\"MADRID\",\"MADRID\",\"MADRID\",\"MADRID\",\"MADRID\",\"MADRID\",\"SEVILLA\",\"MADRID\",\"MADRID\",\"MADRID\",\"MADRID\",\"MADRID\",\"MADRID\",\"PONFERRADA\",\"MADRID\",\"MADRID\",\"MADRID\",\"MADRID\",\"MADRID\",\"MADRID\",\"SEVILLA\",\"PONFERRADA\",\"MADRID\",\"PONFERRADA\",\"MADRID\",\"MADRID\",\"MADRID\",\"MADRID\",\"MADRID\",\"SEVILLA\",\"MADRID\",\"MADRID\",\"MADRID\",\"MADRID\",\"MADRID\",\"MADRID\",\"SEVILLA\",\"PONFERRADA\"],\"yaxis\":\"y\",\"type\":\"scatter\"}],\"name\":\"ALVIA\"},{\"data\":[{\"customdata\":[[\"Turista\",\"Promo\"],[\"Turista\",\"Promo\"],[\"Turista\",\"Promo\"],[\"Turista\",\"Promo\"],[\"Turista\",\"Promo\"],[\"Turista\",\"Promo\"],[\"Turista\",\"Promo\"],[\"Turista\",\"Promo\"],[\"Turista\",\"Promo\"],[\"Turista\",\"Promo\"],[\"Turista\",\"Promo\"],[\"Turista\",\"Promo\"],[\"Turista\",\"Promo\"],[\"Turista\",\"Promo\"],[\"Turista\",\"Promo\"],[\"Turista\",\"Promo\"],[\"Turista\",\"Promo\"],[\"Turista\",\"Promo\"],[\"Turista\",\"Promo\"],[\"Turista\",\"Promo\"],[\"Turista\",\"Promo\"],[\"Turista\",\"Promo\"],[\"Turista\",\"Flexible\"],[\"Turista Plus\",\"Promo\"],[\"Turista\",\"Promo\"],[\"Turista Plus\",\"Promo\"],[\"Turista Plus\",\"Promo\"],[\"Turista\",\"Promo\"],[\"Turista\",\"Promo\"],[\"Turista\",\"Promo\"],[\"Turista\",\"Promo\"],[\"Turista\",\"Promo\"],[\"Turista\",\"Promo\"],[\"Turista\",\"Promo\"],[\"Turista\",\"Promo\"],[\"Turista\",\"Promo\"],[\"Turista\",\"Promo\"],[\"Turista\",\"Promo\"],[\"Turista\",\"Promo\"],[\"Turista\",\"Promo\"],[\"Turista Plus\",\"Promo\"],[\"Turista Plus\",\"Promo\"],[\"Turista Plus\",\"Promo\"],[\"Turista Plus\",\"Promo\"],[\"Turista\",\"Promo\"],[\"Turista\",\"Promo\"],[\"Turista\",\"Flexible\"],[\"Turista\",\"Flexible\"],[\"Turista\",\"Flexible\"],[\"Turista\",\"Flexible\"],[\"Turista\",\"Flexible\"],[\"Turista\",\"Flexible\"],[\"Turista\",\"Flexible\"],[\"Turista Plus\",\"Promo\"],[\"Turista Plus\",\"Promo\"],[\"Turista\",\"Promo\"],[\"Turista\",\"Flexible\"],[\"Turista\",\"Promo\"],[\"Turista\",\"Promo\"],[\"Turista\",\"Promo\"],[\"Turista\",\"Promo\"],[\"Turista\",\"Promo\"],[\"Turista\",\"Promo\"],[\"Turista\",\"Promo\"],[\"Turista\",\"Promo\"],[\"Turista\",\"Promo\"],[\"Turista\",\"Promo\"],[\"Turista\",\"Promo\"],[\"Turista\",\"Promo\"],[\"Turista\",\"Promo\"],[\"Turista\",\"Promo\"],[\"Turista\",\"Promo\"],[\"Turista\",\"Promo\"],[\"Turista\",\"Promo\"],[\"Turista\",\"Promo\"],[\"Turista\",\"Promo\"],[\"Turista\",\"Promo\"],[\"Turista\",\"Promo\"],[\"Turista\",\"Promo\"],[\"Turista\",\"Promo\"],[\"Turista\",\"Promo\"],[\"Turista\",\"Promo\"],[\"Turista\",\"Promo\"],[\"Turista\",\"Promo\"],[\"Turista\",\"Promo\"],[\"Turista\",\"Promo\"],[\"Turista\",\"Promo\"],[\"Turista\",\"Promo\"],[\"Turista\",\"Promo\"],[\"Turista\",\"Promo\"],[\"Turista\",\"Promo\"],[\"Turista\",\"Promo\"],[\"Turista\",\"Promo\"],[\"Turista\",\"Promo\"],[\"Turista\",\"Promo\"],[\"Turista\",\"Promo\"],[\"Turista\",\"Promo\"],[\"Turista\",\"Promo\"],[\"Turista\",\"Promo\"],[\"Turista\",\"Promo\"],[\"Turista\",\"Promo\"],[\"Turista\",\"Promo\"],[\"Turista\",\"Flexible\"],[\"Turista\",\"Flexible\"],[\"Turista Plus\",\"Promo\"],[\"Turista Plus\",\"Promo\"],[\"Turista Plus\",\"Promo\"],[\"Turista\",\"Promo\"],[\"Turista\",\"Flexible\"],[\"Turista\",\"Promo\"],[\"Turista\",\"Promo\"],[\"Turista Plus\",\"Promo\"],[\"Turista\",\"Promo\"],[\"Turista\",\"Promo\"],[\"Turista\",\"Flexible\"],[\"Turista Plus\",\"Promo\"],[\"Turista\",\"Promo\"],[\"Turista\",\"Promo\"],[\"Turista\",\"Promo\"],[\"Turista\",\"Promo\"],[\"Turista\",\"Promo\"],[\"Turista\",\"Promo\"],[\"Turista\",\"Promo\"],[\"Turista\",\"Promo\"],[\"Turista\",\"Promo\"],[\"Turista Plus\",\"Promo\"],[\"Turista\",\"Promo\"],[\"Turista\",\"Promo\"],[\"Turista\",\"Promo\"],[\"Turista\",\"Flexible\"],[\"Turista Plus\",\"Promo\"],[\"Turista Plus\",\"Promo\"],[\"Turista\",\"Promo\"],[\"Turista\",\"Promo\"],[\"Turista\",\"Promo\"],[\"Turista\",\"Flexible\"],[\"Turista\",\"Promo\"],[\"Turista\",\"Promo\"],[\"Turista\",\"Promo\"],[\"Turista\",\"Promo\"],[\"Turista Plus\",\"Promo\"],[\"Turista\",\"Promo\"],[\"Turista\",\"Promo\"],[\"Turista\",\"Promo\"],[\"Turista\",\"Promo\"],[\"Turista\",\"Promo\"],[\"Turista\",\"Promo\"],[\"Turista\",\"Promo\"],[\"Turista\",\"Promo\"],[\"Turista\",\"Promo\"],[\"Turista\",\"Promo\"],[\"Turista Plus\",\"Promo\"],[\"Turista\",\"Promo\"],[\"Turista\",\"Promo\"],[\"Turista\",\"Promo\"],[\"Turista\",\"Promo\"],[\"Turista\",\"Promo\"],[\"Turista\",\"Promo\"],[\"Turista\",\"Promo\"],[\"Turista\",\"Flexible\"],[\"Turista\",\"Flexible\"],[\"Turista Plus\",\"Promo\"],[\"Turista Plus\",\"Promo\"],[\"Turista Plus\",\"Promo\"],[\"Turista\",\"Promo\"],[\"Turista\",\"Flexible\"],[\"Turista\",\"Promo\"],[\"Turista\",\"Promo\"],[\"Turista Plus\",\"Promo\"],[\"Turista\",\"Promo\"],[\"Turista\",\"Promo\"],[\"Turista\",\"Flexible\"],[\"Turista\",\"Promo\"],[\"Turista\",\"Promo\"],[\"Turista\",\"Promo\"],[\"Turista\",\"Promo\"],[\"Turista\",\"Promo\"],[\"Turista\",\"Promo\"],[\"Turista\",\"Promo\"],[\"Turista\",\"Promo\"],[\"Turista\",\"Promo\"],[\"Turista\",\"Promo\"],[\"Turista\",\"Promo\"],[\"Turista\",\"Promo\"],[\"Turista\",\"Promo\"],[\"Turista\",\"Promo\"],[\"Turista\",\"Promo\"],[\"Turista\",\"Promo\"],[\"Turista\",\"Promo\"],[\"Turista\",\"Flexible\"],[\"Turista\",\"Flexible\"],[\"Turista\",\"Flexible\"],[\"Turista\",\"Flexible\"],[\"Turista\",\"Flexible\"],[\"Turista\",\"Flexible\"],[\"Turista\",\"Flexible\"],[\"Turista Plus\",\"Promo\"],[\"Turista Plus\",\"Promo\"],[\"Turista\",\"Promo\"],[\"Turista\",\"Flexible\"],[\"Turista\",\"Promo\"],[\"Turista\",\"Promo\"],[\"Turista\",\"Promo\"],[\"Turista\",\"Promo\"],[\"Turista\",\"Promo\"],[\"Turista\",\"Promo\"],[\"Turista\",\"Flexible\"],[\"Turista Plus\",\"Promo\"],[\"Turista Plus\",\"Promo\"],[\"Turista\",\"Promo\"],[\"Turista\",\"Promo\"],[\"Turista\",\"Promo\"],[\"Turista\",\"Flexible\"],[\"Turista\",\"Promo\"],[\"Turista\",\"Promo\"],[\"Turista\",\"Promo\"],[\"Turista\",\"Promo\"],[\"Turista\",\"Promo\"],[\"Turista\",\"Promo\"],[\"Turista\",\"Promo\"],[\"Turista\",\"Promo\"],[\"Turista\",\"Promo\"],[\"Turista\",\"Flexible\"],[\"Turista Plus\",\"Promo\"],[\"Turista\",\"Promo\"],[\"Turista Plus\",\"Promo\"],[\"Turista Plus\",\"Promo\"],[\"Turista\",\"Promo\"],[\"Turista\",\"Promo\"],[\"Turista\",\"Promo\"],[\"Turista\",\"Promo\"],[\"Turista\",\"Promo\"],[\"Turista\",\"Promo\"],[\"Turista\",\"Promo\"],[\"Turista\",\"Promo\"],[\"Turista\",\"Promo\"],[\"Turista\",\"Promo\"],[\"Turista\",\"Promo\"],[\"Turista\",\"Promo\"],[\"Turista\",\"Promo\"],[\"Turista\",\"Promo\"],[\"Turista\",\"Promo\"],[\"Turista\",\"Promo\"],[\"Turista\",\"Promo\"],[\"Turista\",\"Promo\"],[\"Turista\",\"Promo\"],[\"Turista\",\"Promo\"],[\"Turista\",\"Promo\"],[\"Turista\",\"Promo\"],[\"Turista\",\"Promo\"],[\"Turista\",\"Promo\"],[\"Turista\",\"Flexible\"],[\"Turista Plus\",\"Promo\"],[\"Turista Plus\",\"Promo\"],[\"Turista\",\"Promo\"],[\"Turista\",\"Promo\"],[\"Turista\",\"Promo\"],[\"Turista\",\"Flexible\"],[\"Turista\",\"Promo\"],[\"Turista\",\"Promo\"],[\"Turista\",\"Promo\"],[\"Turista\",\"Promo\"],[\"Turista\",\"Promo\"],[\"Turista\",\"Promo\"],[\"Turista\",\"Promo\"],[\"Turista\",\"Promo\"],[\"Turista\",\"Promo\"],[\"Turista\",\"Promo\"],[\"Turista\",\"Flexible\"],[\"Turista Plus\",\"Promo\"],[\"Turista\",\"Promo\"],[\"Turista Plus\",\"Promo\"],[\"Turista Plus\",\"Promo\"],[\"Turista\",\"Promo\"],[\"Turista\",\"Promo\"],[\"Turista\",\"Promo\"],[\"Turista\",\"Promo\"],[\"Turista\",\"Promo\"],[\"Turista\",\"Promo\"],[\"Turista\",\"Promo\"],[\"Turista\",\"Promo\"],[\"Turista\",\"Promo\"],[\"Turista\",\"Promo\"],[\"Turista\",\"Promo\"],[\"Turista\",\"Promo\"],[\"Turista Plus\",\"Promo\"],[\"Turista Plus\",\"Promo\"],[\"Turista Plus\",\"Promo\"],[\"Turista Plus\",\"Promo\"],[\"Turista\",\"Promo\"],[\"Turista\",\"Promo\"],[\"Turista\",\"Promo\"],[\"Turista\",\"Promo\"],[\"Turista\",\"Promo\"],[\"Turista\",\"Promo\"],[\"Turista\",\"Flexible\"],[\"Turista\",\"Flexible\"],[\"Turista Plus\",\"Promo\"],[\"Turista Plus\",\"Promo\"],[\"Turista Plus\",\"Promo\"],[\"Turista\",\"Promo\"],[\"Turista\",\"Flexible\"],[\"Turista\",\"Promo\"],[\"Turista\",\"Promo\"],[\"Turista Plus\",\"Promo\"],[\"Turista\",\"Promo\"],[\"Turista\",\"Promo\"],[\"Turista\",\"Flexible\"],[\"Turista Plus\",\"Promo\"],[\"Turista\",\"Promo\"],[\"Turista\",\"Promo\"],[\"Turista\",\"Promo\"],[\"Turista\",\"Promo\"],[\"Turista\",\"Promo\"],[\"Turista\",\"Promo\"],[\"Turista\",\"Promo\"],[\"Turista\",\"Promo\"],[\"Turista\",\"Promo\"],[\"Turista\",\"Promo\"],[\"Turista Plus\",\"Promo\"],[\"Turista\",\"Promo\"],[\"Turista\",\"Promo\"],[\"Turista\",\"Promo\"],[\"Turista\",\"Promo\"],[\"Turista\",\"Promo\"],[\"Turista\",\"Promo\"],[\"Turista\",\"Promo\"],[\"Turista\",\"Promo\"],[\"Turista\",\"Promo\"],[\"Turista\",\"Promo\"],[\"Turista\",\"Flexible\"],[\"Turista\",\"Flexible\"],[\"Turista\",\"Flexible\"],[\"Turista\",\"Flexible\"],[\"Turista\",\"Flexible\"],[\"Turista\",\"Flexible\"],[\"Turista\",\"Flexible\"],[\"Turista Plus\",\"Promo\"],[\"Turista Plus\",\"Promo\"],[\"Turista\",\"Promo\"],[\"Turista\",\"Flexible\"],[\"Turista\",\"Promo\"],[\"Turista\",\"Promo\"],[\"Turista\",\"Promo\"],[\"Turista\",\"Promo\"],[\"Turista\",\"Promo\"],[\"Turista\",\"Promo\"],[\"Turista\",\"Promo\"],[\"Turista\",\"Promo\"],[\"Turista\",\"Promo\"],[\"Turista\",\"Promo\"],[\"Turista\",\"Promo\"],[\"Turista\",\"Promo\"],[\"Turista\",\"Promo\"],[\"Turista\",\"Promo\"],[\"Turista\",\"Promo\"],[\"Turista\",\"Promo\"],[\"Turista\",\"Promo\"],[\"Turista\",\"Promo\"],[\"Turista\",\"Promo\"],[\"Turista\",\"Promo\"],[\"Turista\",\"Promo\"],[\"Turista\",\"Promo\"],[\"Turista\",\"Promo\"],[\"Turista\",\"Flexible\"],[\"Turista Plus\",\"Promo\"],[\"Turista Plus\",\"Promo\"],[\"Turista\",\"Promo\"],[\"Turista\",\"Promo\"],[\"Turista\",\"Promo\"],[\"Turista\",\"Flexible\"],[\"Turista\",\"Promo\"],[\"Turista\",\"Promo\"],[\"Turista\",\"Promo\"],[\"Turista\",\"Promo\"],[\"Turista\",\"Promo\"],[\"Turista\",\"Promo\"],[\"Turista\",\"Promo\"],[\"Turista\",\"Promo\"],[\"Turista\",\"Flexible\"],[\"Turista\",\"Flexible\"],[\"Turista Plus\",\"Promo\"],[\"Turista Plus\",\"Promo\"],[\"Turista Plus\",\"Promo\"],[\"Turista\",\"Promo\"],[\"Turista\",\"Flexible\"],[\"Turista\",\"Promo\"],[\"Turista\",\"Promo\"],[\"Turista Plus\",\"Promo\"],[\"Turista\",\"Promo\"],[\"Turista\",\"Promo\"],[\"Turista\",\"Flexible\"],[\"Turista Plus\",\"Promo\"],[\"Turista\",\"Promo\"],[\"Turista\",\"Promo\"],[\"Turista\",\"Promo\"],[\"Turista\",\"Promo\"],[\"Turista\",\"Promo\"],[\"Turista\",\"Promo\"],[\"Turista\",\"Promo\"],[\"Turista\",\"Promo\"],[\"Turista\",\"Promo\"],[\"Turista\",\"Promo\"],[\"Turista Plus\",\"Promo\"],[\"Turista\",\"Promo\"],[\"Turista\",\"Promo\"],[\"Turista\",\"Promo\"],[\"Turista\",\"Promo\"],[\"Turista\",\"Promo\"],[\"Turista\",\"Promo\"],[\"Turista\",\"Promo\"],[\"Turista\",\"Promo\"],[\"Turista\",\"Promo\"],[\"Turista\",\"Promo\"],[\"Turista\",\"Promo\"],[\"Turista\",\"Promo\"],[\"Turista\",\"Promo\"],[\"Turista\",\"Promo\"],[\"Turista\",\"Promo\"],[\"Turista\",\"Promo\"],[\"Turista\",\"Promo\"],[\"Turista\",\"Promo\"],[\"Turista\",\"Promo\"],[\"Turista\",\"Promo\"],[\"Turista\",\"Flexible\"],[\"Turista\",\"Flexible\"],[\"Turista\",\"Flexible\"],[\"Turista\",\"Flexible\"],[\"Turista\",\"Flexible\"],[\"Turista\",\"Flexible\"],[\"Turista\",\"Flexible\"],[\"Turista Plus\",\"Promo\"],[\"Turista Plus\",\"Promo\"],[\"Turista\",\"Promo\"],[\"Turista\",\"Flexible\"],[\"Turista\",\"Promo\"],[\"Turista\",\"Promo\"],[\"Turista\",\"Promo\"],[\"Turista\",\"Promo\"],[\"Turista\",\"Promo\"],[\"Turista\",\"Promo\"],[\"Turista\",\"Promo\"],[\"Turista\",\"Promo\"],[\"Turista\",\"Promo\"],[\"Turista\",\"Promo\"],[\"Turista\",\"Promo\"],[\"Turista\",\"Promo\"],[\"Turista\",\"Promo\"],[\"Turista\",\"Promo\"],[\"Turista\",\"Promo\"],[\"Turista\",\"Promo\"],[\"Turista\",\"Promo\"],[\"Turista\",\"Promo\"],[\"Turista\",\"Promo\"],[\"Turista\",\"Promo\"],[\"Turista\",\"Promo\"],[\"Turista\",\"Promo\"],[\"Turista\",\"Promo\"],[\"Turista\",\"Promo\"],[\"Turista\",\"Promo\"],[\"Turista\",\"Promo\"],[\"Turista\",\"Promo\"],[\"Turista\",\"Promo\"],[\"Turista\",\"Flexible\"],[\"Turista Plus\",\"Promo\"],[\"Turista\",\"Promo\"],[\"Turista Plus\",\"Promo\"],[\"Turista Plus\",\"Promo\"],[\"Turista\",\"Promo\"],[\"Turista\",\"Promo\"],[\"Turista\",\"Promo\"],[\"Turista\",\"Promo\"],[\"Turista\",\"Promo\"],[\"Turista\",\"Promo\"],[\"Turista\",\"Promo\"],[\"Turista\",\"Promo\"],[\"Turista\",\"Promo\"],[\"Turista\",\"Promo\"],[\"Turista\",\"Promo\"],[\"Turista\",\"Promo\"],[\"Turista\",\"Promo\"],[\"Turista Plus\",\"Promo\"],[\"Turista Plus\",\"Promo\"],[\"Turista Plus\",\"Promo\"],[\"Turista Plus\",\"Promo\"],[\"Turista\",\"Promo\"],[\"Turista\",\"Promo\"],[\"Turista\",\"Flexible\"],[\"Turista\",\"Flexible\"],[\"Turista\",\"Flexible\"],[\"Turista\",\"Flexible\"],[\"Turista\",\"Flexible\"],[\"Turista\",\"Flexible\"],[\"Turista\",\"Flexible\"],[\"Turista Plus\",\"Promo\"],[\"Turista Plus\",\"Promo\"],[\"Turista\",\"Promo\"],[\"Turista\",\"Flexible\"],[\"Turista\",\"Promo\"],[\"Turista\",\"Promo\"],[\"Turista\",\"Promo\"],[\"Turista\",\"Promo\"],[\"Turista\",\"Promo\"],[\"Turista\",\"Promo\"],[\"Turista\",\"Promo\"],[\"Turista\",\"Promo\"],[\"Turista\",\"Promo\"],[\"Turista\",\"Promo\"],[\"Turista\",\"Promo\"],[\"Turista\",\"Flexible\"],[\"Turista Plus\",\"Promo\"],[\"Turista\",\"Promo\"],[\"Turista Plus\",\"Promo\"],[\"Turista Plus\",\"Promo\"],[\"Turista\",\"Promo\"],[\"Turista\",\"Promo\"],[\"Turista\",\"Promo\"],[\"Turista\",\"Promo\"],[\"Turista\",\"Promo\"],[\"Turista\",\"Promo\"],[\"Turista\",\"Promo\"],[\"Turista\",\"Promo\"],[\"Turista\",\"Promo\"],[\"Turista\",\"Promo\"],[\"Turista\",\"Promo\"],[\"Turista\",\"Promo\"],[\"Turista\",\"Promo\"],[\"Turista Plus\",\"Promo\"],[\"Turista Plus\",\"Promo\"],[\"Turista Plus\",\"Promo\"],[\"Turista Plus\",\"Promo\"],[\"Turista\",\"Promo\"],[\"Turista\",\"Promo\"],[\"Turista\",\"Promo\"],[\"Turista\",\"Promo\"],[\"Turista\",\"Promo\"],[\"Turista\",\"Promo\"],[\"Turista\",\"Promo\"],[\"Turista\",\"Promo\"],[\"Turista\",\"Promo\"],[\"Turista\",\"Promo\"],[\"Turista\",\"Promo\"],[\"Turista\",\"Promo\"],[\"Turista\",\"Promo\"],[\"Turista\",\"Promo\"],[\"Turista\",\"Promo\"],[\"Turista\",\"Promo\"],[\"Turista\",\"Promo\"],[\"Turista\",\"Promo\"],[\"Turista\",\"Promo\"],[\"Turista\",\"Flexible\"],[\"Turista Plus\",\"Promo\"],[\"Turista Plus\",\"Promo\"],[\"Turista\",\"Promo\"],[\"Turista\",\"Promo\"],[\"Turista\",\"Promo\"],[\"Turista\",\"Flexible\"],[\"Turista\",\"Promo\"],[\"Turista\",\"Promo\"],[\"Turista\",\"Promo\"],[\"Turista\",\"Promo\"],[\"Turista\",\"Promo\"],[\"Turista\",\"Promo\"],[\"Turista\",\"Promo\"],[\"Turista\",\"Promo\"],[\"Turista\",\"Flexible\"],[\"Turista\",\"Flexible\"],[\"Turista Plus\",\"Promo\"],[\"Turista Plus\",\"Promo\"],[\"Turista Plus\",\"Promo\"],[\"Turista\",\"Promo\"],[\"Turista\",\"Flexible\"],[\"Turista\",\"Promo\"],[\"Turista\",\"Promo\"],[\"Turista Plus\",\"Promo\"],[\"Turista\",\"Promo\"],[\"Turista\",\"Promo\"],[\"Turista\",\"Flexible\"],[\"Turista Plus\",\"Promo\"],[\"Turista\",\"Promo\"],[\"Turista\",\"Promo\"],[\"Turista\",\"Promo\"],[\"Turista\",\"Promo\"],[\"Turista\",\"Promo\"],[\"Turista\",\"Promo\"],[\"Turista\",\"Promo\"],[\"Turista\",\"Promo\"],[\"Turista\",\"Promo\"],[\"Turista\",\"Promo\"],[\"Turista Plus\",\"Promo\"],[\"Turista\",\"Promo\"],[\"Turista\",\"Promo\"],[\"Turista\",\"Promo\"],[\"Turista\",\"Promo\"],[\"Turista\",\"Promo\"],[\"Turista\",\"Promo\"],[\"Turista\",\"Promo\"],[\"Turista\",\"Promo\"],[\"Turista\",\"Promo\"],[\"Turista\",\"Promo\"],[\"Turista\",\"Promo\"],[\"Turista\",\"Promo\"],[\"Turista\",\"Promo\"],[\"Turista\",\"Promo\"],[\"Turista\",\"Promo\"],[\"Turista\",\"Promo\"],[\"Turista\",\"Promo\"],[\"Turista\",\"Promo\"],[\"Turista\",\"Promo\"],[\"Turista\",\"Promo\"],[\"Turista\",\"Promo\"],[\"Turista\",\"Promo\"],[\"Turista\",\"Promo\"],[\"Turista\",\"Promo\"],[\"Turista\",\"Flexible\"],[\"Turista\",\"Flexible\"],[\"Turista Plus\",\"Promo\"],[\"Turista Plus\",\"Promo\"],[\"Turista Plus\",\"Promo\"],[\"Turista\",\"Promo\"],[\"Turista\",\"Flexible\"],[\"Turista\",\"Promo\"],[\"Turista\",\"Promo\"],[\"Turista Plus\",\"Promo\"],[\"Turista\",\"Promo\"],[\"Turista\",\"Promo\"],[\"Turista\",\"Flexible\"],[\"Turista Plus\",\"Promo\"],[\"Turista\",\"Promo\"],[\"Turista\",\"Promo\"],[\"Turista\",\"Promo\"],[\"Turista\",\"Promo\"],[\"Turista\",\"Promo\"],[\"Turista\",\"Promo\"],[\"Turista\",\"Promo\"],[\"Turista\",\"Promo\"],[\"Turista\",\"Promo\"],[\"Turista\",\"Promo\"],[\"Turista Plus\",\"Promo\"],[\"Turista\",\"Promo\"],[\"Turista\",\"Promo\"],[\"Turista\",\"Promo\"],[\"Turista\",\"Promo\"],[\"Turista\",\"Promo\"],[\"Turista\",\"Promo\"],[\"Turista\",\"Promo\"],[\"Turista\",\"Promo\"],[\"Turista\",\"Promo\"],[\"Turista\",\"Promo\"],[\"Turista\",\"Promo\"],[\"Turista\",\"Promo\"],[\"Turista\",\"Promo\"],[\"Turista\",\"Promo\"],[\"Turista\",\"Promo\"],[\"Turista\",\"Promo\"],[\"Turista\",\"Promo\"],[\"Turista\",\"Promo\"],[\"Turista\",\"Promo\"],[\"Turista\",\"Promo\"],[\"Turista\",\"Promo\"],[\"Turista\",\"Promo\"],[\"Turista\",\"Promo\"],[\"Turista\",\"Promo\"],[\"Turista\",\"Promo\"],[\"Turista\",\"Promo\"],[\"Turista\",\"Promo\"],[\"Turista\",\"Promo\"],[\"Turista\",\"Promo\"],[\"Turista\",\"Promo\"],[\"Turista\",\"Promo\"],[\"Turista\",\"Promo\"],[\"Turista\",\"Promo\"],[\"Turista\",\"Promo\"],[\"Turista\",\"Promo\"],[\"Turista\",\"Promo\"],[\"Turista\",\"Promo\"],[\"Turista\",\"Promo\"],[\"Turista\",\"Flexible\"],[\"Turista\",\"Promo\"],[\"Turista\",\"Promo\"],[\"Turista\",\"Promo\"],[\"Turista\",\"Promo\"],[\"Turista\",\"Promo\"],[\"Turista\",\"Promo\"],[\"Turista\",\"Flexible\"],[\"Turista\",\"Flexible\"],[\"Turista\",\"Flexible\"],[\"Turista\",\"Flexible\"],[\"Turista\",\"Flexible\"],[\"Turista\",\"Flexible\"],[\"Turista\",\"Flexible\"],[\"Turista Plus\",\"Promo\"],[\"Turista Plus\",\"Promo\"],[\"Turista\",\"Flexible\"],[\"Turista Plus\",\"Promo\"],[\"Turista Plus\",\"Promo\"],[\"Turista\",\"Promo\"],[\"Turista\",\"Promo\"],[\"Turista\",\"Promo\"],[\"Turista\",\"Flexible\"],[\"Turista\",\"Promo\"],[\"Turista\",\"Promo\"],[\"Turista\",\"Promo\"],[\"Turista\",\"Promo\"],[\"Turista\",\"Promo\"],[\"Turista\",\"Promo\"],[\"Turista\",\"Promo\"],[\"Turista\",\"Promo\"],[\"Turista\",\"Promo\"],[\"Turista\",\"Flexible\"],[\"Turista Plus\",\"Promo\"],[\"Turista\",\"Promo\"],[\"Turista Plus\",\"Promo\"],[\"Turista Plus\",\"Promo\"],[\"Turista\",\"Promo\"],[\"Turista\",\"Promo\"],[\"Turista\",\"Promo\"],[\"Turista\",\"Promo\"],[\"Turista\",\"Promo\"],[\"Turista\",\"Promo\"],[\"Turista\",\"Promo\"],[\"Turista\",\"Promo\"],[\"Turista\",\"Promo\"],[\"Turista\",\"Promo\"],[\"Turista\",\"Promo\"],[\"Turista\",\"Promo\"],[\"Turista\",\"Promo\"],[\"Turista Plus\",\"Promo\"],[\"Turista Plus\",\"Promo\"],[\"Turista Plus\",\"Promo\"],[\"Turista Plus\",\"Promo\"],[\"Turista\",\"Promo\"],[\"Turista\",\"Promo\"],[\"Turista\",\"Promo\"],[\"Turista\",\"Promo\"],[\"Turista\",\"Promo\"],[\"Turista\",\"Promo\"],[\"Turista\",\"Flexible\"],[\"Turista\",\"Flexible\"],[\"Turista Plus\",\"Promo\"],[\"Turista Plus\",\"Promo\"],[\"Turista Plus\",\"Promo\"],[\"Turista\",\"Promo\"],[\"Turista\",\"Flexible\"],[\"Turista\",\"Promo\"],[\"Turista\",\"Promo\"],[\"Turista Plus\",\"Promo\"],[\"Turista\",\"Promo\"],[\"Turista\",\"Promo\"],[\"Turista\",\"Flexible\"],[\"Turista Plus\",\"Promo\"],[\"Turista\",\"Promo\"],[\"Turista\",\"Promo\"],[\"Turista\",\"Promo\"],[\"Turista\",\"Promo\"],[\"Turista\",\"Promo\"],[\"Turista\",\"Promo\"],[\"Turista\",\"Promo\"],[\"Turista\",\"Promo\"],[\"Turista\",\"Promo\"],[\"Turista\",\"Promo\"],[\"Turista Plus\",\"Promo\"],[\"Turista\",\"Promo\"],[\"Turista\",\"Promo\"],[\"Turista\",\"Promo\"],[\"Turista\",\"Flexible\"],[\"Turista\",\"Flexible\"],[\"Turista\",\"Flexible\"],[\"Turista\",\"Flexible\"],[\"Turista\",\"Flexible\"],[\"Turista\",\"Flexible\"],[\"Turista\",\"Flexible\"],[\"Turista Plus\",\"Promo\"],[\"Turista Plus\",\"Promo\"],[\"Turista\",\"Promo\"],[\"Turista\",\"Flexible\"],[\"Turista\",\"Promo\"],[\"Turista\",\"Promo\"],[\"Turista\",\"Promo\"],[\"Turista\",\"Promo\"],[\"Turista\",\"Promo\"],[\"Turista\",\"Promo\"],[\"Turista\",\"Promo\"],[\"Turista\",\"Promo\"],[\"Turista\",\"Promo\"],[\"Turista\",\"Promo\"],[\"Turista\",\"Promo\"],[\"Turista\",\"Promo\"],[\"Turista\",\"Promo\"],[\"Turista\",\"Promo\"],[\"Turista\",\"Promo\"],[\"Turista\",\"Promo\"],[\"Turista\",\"Promo\"],[\"Turista\",\"Promo\"],[\"Turista\",\"Promo\"],[\"Turista\",\"Promo\"],[\"Turista\",\"Promo\"],[\"Turista\",\"Promo\"],[\"Turista\",\"Promo\"],[\"Turista\",\"Promo\"],[\"Turista\",\"Promo\"],[\"Turista\",\"Promo\"],[\"Turista\",\"Promo\"],[\"Turista\",\"Promo\"],[\"Turista\",\"Promo\"],[\"Turista\",\"Promo\"],[\"Turista\",\"Promo\"],[\"Turista\",\"Promo\"],[\"Turista\",\"Promo\"],[\"Turista\",\"Promo\"],[\"Turista\",\"Promo\"],[\"Turista\",\"Promo\"],[\"Turista\",\"Promo\"],[\"Turista\",\"Promo\"],[\"Turista\",\"Promo\"],[\"Turista\",\"Promo\"],[\"Turista\",\"Flexible\"],[\"Turista Plus\",\"Promo\"],[\"Turista Plus\",\"Promo\"],[\"Turista\",\"Promo\"],[\"Turista\",\"Promo\"],[\"Turista\",\"Promo\"],[\"Turista\",\"Flexible\"],[\"Turista\",\"Promo\"],[\"Turista\",\"Promo\"],[\"Turista\",\"Promo\"],[\"Turista\",\"Promo\"],[\"Turista\",\"Promo\"],[\"Turista\",\"Promo\"],[\"Turista\",\"Promo\"],[\"Turista\",\"Promo\"],[\"Turista\",\"Promo\"],[\"Turista\",\"Flexible\"],[\"Turista Plus\",\"Promo\"],[\"Turista\",\"Promo\"],[\"Turista Plus\",\"Promo\"],[\"Turista Plus\",\"Promo\"],[\"Turista\",\"Promo\"],[\"Turista\",\"Promo\"],[\"Turista\",\"Promo\"],[\"Turista\",\"Promo\"],[\"Turista\",\"Promo\"],[\"Turista\",\"Promo\"],[\"Turista\",\"Promo\"],[\"Turista\",\"Promo\"],[\"Turista\",\"Promo\"],[\"Turista\",\"Promo\"],[\"Turista\",\"Promo\"],[\"Turista\",\"Promo\"],[\"Turista\",\"Promo\"],[\"Turista Plus\",\"Promo\"],[\"Turista Plus\",\"Promo\"],[\"Turista Plus\",\"Promo\"],[\"Turista Plus\",\"Promo\"],[\"Turista\",\"Promo\"],[\"Turista\",\"Promo\"]],\"hovertemplate\":\"train_type=AVE\\u003cbr\\u003eorigin=%{x}\\u003cbr\\u003edestination=%{y}\\u003cbr\\u003etrain_class=%{customdata[0]}\\u003cbr\\u003efare=%{customdata[1]}\\u003cextra\\u003e\\u003c\\u002fextra\\u003e\",\"legendgroup\":\"AVE\",\"marker\":{\"color\":\"#EF553B\",\"symbol\":\"circle\"},\"mode\":\"markers\",\"name\":\"AVE\",\"orientation\":\"v\",\"showlegend\":true,\"x\":[\"MADRID\",\"MADRID\",\"MADRID\",\"MADRID\",\"MADRID\",\"MADRID\",\"MADRID\",\"MADRID\",\"MADRID\",\"MADRID\",\"MADRID\",\"MADRID\",\"MADRID\",\"MADRID\",\"MADRID\",\"MADRID\",\"MADRID\",\"MADRID\",\"MADRID\",\"MADRID\",\"MADRID\",\"MADRID\",\"MADRID\",\"MADRID\",\"MADRID\",\"MADRID\",\"MADRID\",\"MADRID\",\"MADRID\",\"MADRID\",\"MADRID\",\"MADRID\",\"MADRID\",\"MADRID\",\"MADRID\",\"MADRID\",\"MADRID\",\"MADRID\",\"MADRID\",\"MADRID\",\"MADRID\",\"MADRID\",\"MADRID\",\"MADRID\",\"MADRID\",\"MADRID\",\"SEVILLA\",\"SEVILLA\",\"SEVILLA\",\"SEVILLA\",\"SEVILLA\",\"SEVILLA\",\"SEVILLA\",\"SEVILLA\",\"SEVILLA\",\"SEVILLA\",\"SEVILLA\",\"SEVILLA\",\"SEVILLA\",\"SEVILLA\",\"SEVILLA\",\"SEVILLA\",\"SEVILLA\",\"MADRID\",\"MADRID\",\"MADRID\",\"MADRID\",\"MADRID\",\"MADRID\",\"MADRID\",\"MADRID\",\"MADRID\",\"MADRID\",\"MADRID\",\"MADRID\",\"MADRID\",\"MADRID\",\"MADRID\",\"MADRID\",\"MADRID\",\"VALENCIA\",\"VALENCIA\",\"VALENCIA\",\"VALENCIA\",\"VALENCIA\",\"VALENCIA\",\"VALENCIA\",\"VALENCIA\",\"VALENCIA\",\"VALENCIA\",\"VALENCIA\",\"VALENCIA\",\"VALENCIA\",\"VALENCIA\",\"VALENCIA\",\"VALENCIA\",\"VALENCIA\",\"BARCELONA\",\"BARCELONA\",\"BARCELONA\",\"BARCELONA\",\"BARCELONA\",\"BARCELONA\",\"BARCELONA\",\"BARCELONA\",\"BARCELONA\",\"BARCELONA\",\"BARCELONA\",\"BARCELONA\",\"BARCELONA\",\"BARCELONA\",\"BARCELONA\",\"BARCELONA\",\"BARCELONA\",\"BARCELONA\",\"BARCELONA\",\"BARCELONA\",\"BARCELONA\",\"BARCELONA\",\"BARCELONA\",\"BARCELONA\",\"BARCELONA\",\"BARCELONA\",\"BARCELONA\",\"BARCELONA\",\"BARCELONA\",\"BARCELONA\",\"BARCELONA\",\"BARCELONA\",\"MADRID\",\"MADRID\",\"MADRID\",\"MADRID\",\"MADRID\",\"MADRID\",\"MADRID\",\"MADRID\",\"MADRID\",\"MADRID\",\"MADRID\",\"BARCELONA\",\"BARCELONA\",\"BARCELONA\",\"BARCELONA\",\"BARCELONA\",\"BARCELONA\",\"BARCELONA\",\"BARCELONA\",\"BARCELONA\",\"BARCELONA\",\"BARCELONA\",\"BARCELONA\",\"BARCELONA\",\"BARCELONA\",\"BARCELONA\",\"BARCELONA\",\"BARCELONA\",\"BARCELONA\",\"BARCELONA\",\"BARCELONA\",\"BARCELONA\",\"BARCELONA\",\"BARCELONA\",\"BARCELONA\",\"BARCELONA\",\"BARCELONA\",\"BARCELONA\",\"BARCELONA\",\"BARCELONA\",\"BARCELONA\",\"BARCELONA\",\"BARCELONA\",\"VALENCIA\",\"VALENCIA\",\"VALENCIA\",\"VALENCIA\",\"VALENCIA\",\"VALENCIA\",\"VALENCIA\",\"VALENCIA\",\"VALENCIA\",\"VALENCIA\",\"VALENCIA\",\"VALENCIA\",\"VALENCIA\",\"VALENCIA\",\"VALENCIA\",\"VALENCIA\",\"VALENCIA\",\"SEVILLA\",\"SEVILLA\",\"SEVILLA\",\"SEVILLA\",\"SEVILLA\",\"SEVILLA\",\"SEVILLA\",\"SEVILLA\",\"SEVILLA\",\"SEVILLA\",\"SEVILLA\",\"SEVILLA\",\"SEVILLA\",\"SEVILLA\",\"SEVILLA\",\"SEVILLA\",\"SEVILLA\",\"MADRID\",\"MADRID\",\"MADRID\",\"MADRID\",\"MADRID\",\"MADRID\",\"MADRID\",\"MADRID\",\"MADRID\",\"MADRID\",\"MADRID\",\"MADRID\",\"MADRID\",\"MADRID\",\"MADRID\",\"MADRID\",\"MADRID\",\"MADRID\",\"MADRID\",\"MADRID\",\"MADRID\",\"MADRID\",\"MADRID\",\"MADRID\",\"MADRID\",\"MADRID\",\"MADRID\",\"MADRID\",\"MADRID\",\"MADRID\",\"MADRID\",\"MADRID\",\"MADRID\",\"MADRID\",\"MADRID\",\"MADRID\",\"MADRID\",\"MADRID\",\"MADRID\",\"MADRID\",\"MADRID\",\"MADRID\",\"MADRID\",\"MADRID\",\"MADRID\",\"MADRID\",\"MADRID\",\"MADRID\",\"MADRID\",\"MADRID\",\"MADRID\",\"MADRID\",\"MADRID\",\"MADRID\",\"MADRID\",\"MADRID\",\"MADRID\",\"MADRID\",\"MADRID\",\"MADRID\",\"MADRID\",\"MADRID\",\"MADRID\",\"MADRID\",\"MADRID\",\"MADRID\",\"MADRID\",\"MADRID\",\"MADRID\",\"MADRID\",\"MADRID\",\"MADRID\",\"MADRID\",\"MADRID\",\"MADRID\",\"MADRID\",\"MADRID\",\"MADRID\",\"MADRID\",\"MADRID\",\"MADRID\",\"MADRID\",\"MADRID\",\"MADRID\",\"MADRID\",\"BARCELONA\",\"BARCELONA\",\"BARCELONA\",\"BARCELONA\",\"BARCELONA\",\"BARCELONA\",\"BARCELONA\",\"BARCELONA\",\"BARCELONA\",\"BARCELONA\",\"BARCELONA\",\"BARCELONA\",\"BARCELONA\",\"BARCELONA\",\"BARCELONA\",\"BARCELONA\",\"BARCELONA\",\"BARCELONA\",\"BARCELONA\",\"BARCELONA\",\"BARCELONA\",\"BARCELONA\",\"BARCELONA\",\"BARCELONA\",\"BARCELONA\",\"BARCELONA\",\"BARCELONA\",\"BARCELONA\",\"BARCELONA\",\"BARCELONA\",\"BARCELONA\",\"BARCELONA\",\"VALENCIA\",\"VALENCIA\",\"VALENCIA\",\"VALENCIA\",\"VALENCIA\",\"VALENCIA\",\"VALENCIA\",\"SEVILLA\",\"SEVILLA\",\"SEVILLA\",\"SEVILLA\",\"SEVILLA\",\"SEVILLA\",\"SEVILLA\",\"SEVILLA\",\"SEVILLA\",\"SEVILLA\",\"SEVILLA\",\"SEVILLA\",\"SEVILLA\",\"SEVILLA\",\"SEVILLA\",\"SEVILLA\",\"SEVILLA\",\"MADRID\",\"MADRID\",\"MADRID\",\"MADRID\",\"MADRID\",\"MADRID\",\"MADRID\",\"MADRID\",\"MADRID\",\"MADRID\",\"MADRID\",\"MADRID\",\"MADRID\",\"MADRID\",\"MADRID\",\"MADRID\",\"MADRID\",\"MADRID\",\"MADRID\",\"MADRID\",\"MADRID\",\"MADRID\",\"MADRID\",\"MADRID\",\"MADRID\",\"MADRID\",\"MADRID\",\"MADRID\",\"BARCELONA\",\"BARCELONA\",\"BARCELONA\",\"BARCELONA\",\"BARCELONA\",\"BARCELONA\",\"BARCELONA\",\"BARCELONA\",\"BARCELONA\",\"BARCELONA\",\"BARCELONA\",\"BARCELONA\",\"BARCELONA\",\"BARCELONA\",\"BARCELONA\",\"BARCELONA\",\"BARCELONA\",\"BARCELONA\",\"BARCELONA\",\"BARCELONA\",\"BARCELONA\",\"BARCELONA\",\"BARCELONA\",\"BARCELONA\",\"BARCELONA\",\"BARCELONA\",\"BARCELONA\",\"BARCELONA\",\"BARCELONA\",\"BARCELONA\",\"BARCELONA\",\"BARCELONA\",\"VALENCIA\",\"VALENCIA\",\"VALENCIA\",\"VALENCIA\",\"VALENCIA\",\"VALENCIA\",\"VALENCIA\",\"VALENCIA\",\"VALENCIA\",\"VALENCIA\",\"VALENCIA\",\"VALENCIA\",\"VALENCIA\",\"VALENCIA\",\"VALENCIA\",\"VALENCIA\",\"VALENCIA\",\"SEVILLA\",\"SEVILLA\",\"SEVILLA\",\"SEVILLA\",\"SEVILLA\",\"SEVILLA\",\"SEVILLA\",\"SEVILLA\",\"SEVILLA\",\"SEVILLA\",\"SEVILLA\",\"SEVILLA\",\"SEVILLA\",\"SEVILLA\",\"SEVILLA\",\"SEVILLA\",\"SEVILLA\",\"MADRID\",\"MADRID\",\"MADRID\",\"MADRID\",\"MADRID\",\"MADRID\",\"MADRID\",\"MADRID\",\"MADRID\",\"MADRID\",\"MADRID\",\"MADRID\",\"MADRID\",\"MADRID\",\"MADRID\",\"MADRID\",\"MADRID\",\"MADRID\",\"MADRID\",\"MADRID\",\"MADRID\",\"MADRID\",\"MADRID\",\"MADRID\",\"MADRID\",\"MADRID\",\"MADRID\",\"MADRID\",\"MADRID\",\"MADRID\",\"MADRID\",\"MADRID\",\"MADRID\",\"MADRID\",\"MADRID\",\"MADRID\",\"MADRID\",\"MADRID\",\"MADRID\",\"MADRID\",\"MADRID\",\"MADRID\",\"MADRID\",\"MADRID\",\"MADRID\",\"MADRID\",\"SEVILLA\",\"SEVILLA\",\"SEVILLA\",\"SEVILLA\",\"SEVILLA\",\"SEVILLA\",\"SEVILLA\",\"SEVILLA\",\"SEVILLA\",\"SEVILLA\",\"SEVILLA\",\"SEVILLA\",\"SEVILLA\",\"SEVILLA\",\"SEVILLA\",\"SEVILLA\",\"SEVILLA\",\"MADRID\",\"MADRID\",\"MADRID\",\"MADRID\",\"MADRID\",\"MADRID\",\"MADRID\",\"MADRID\",\"MADRID\",\"MADRID\",\"MADRID\",\"MADRID\",\"MADRID\",\"MADRID\",\"MADRID\",\"MADRID\",\"MADRID\",\"MADRID\",\"MADRID\",\"MADRID\",\"MADRID\",\"MADRID\",\"MADRID\",\"MADRID\",\"MADRID\",\"MADRID\",\"MADRID\",\"MADRID\",\"MADRID\",\"VALENCIA\",\"VALENCIA\",\"VALENCIA\",\"VALENCIA\",\"VALENCIA\",\"VALENCIA\",\"VALENCIA\",\"VALENCIA\",\"VALENCIA\",\"VALENCIA\",\"VALENCIA\",\"VALENCIA\",\"VALENCIA\",\"VALENCIA\",\"VALENCIA\",\"VALENCIA\",\"VALENCIA\",\"MADRID\",\"MADRID\",\"MADRID\",\"MADRID\",\"MADRID\",\"MADRID\",\"MADRID\",\"MADRID\",\"MADRID\",\"MADRID\",\"MADRID\",\"BARCELONA\",\"BARCELONA\",\"BARCELONA\",\"BARCELONA\",\"BARCELONA\",\"BARCELONA\",\"BARCELONA\",\"BARCELONA\",\"BARCELONA\",\"BARCELONA\",\"BARCELONA\",\"BARCELONA\",\"BARCELONA\",\"BARCELONA\",\"BARCELONA\",\"BARCELONA\",\"BARCELONA\",\"BARCELONA\",\"BARCELONA\",\"BARCELONA\",\"BARCELONA\",\"BARCELONA\",\"BARCELONA\",\"BARCELONA\",\"BARCELONA\",\"BARCELONA\",\"BARCELONA\",\"BARCELONA\",\"BARCELONA\",\"BARCELONA\",\"BARCELONA\",\"BARCELONA\",\"MADRID\",\"MADRID\",\"MADRID\",\"MADRID\",\"MADRID\",\"MADRID\",\"MADRID\",\"MADRID\",\"MADRID\",\"MADRID\",\"MADRID\",\"MADRID\",\"MADRID\",\"MADRID\",\"MADRID\",\"MADRID\",\"MADRID\",\"BARCELONA\",\"BARCELONA\",\"BARCELONA\",\"BARCELONA\",\"BARCELONA\",\"BARCELONA\",\"BARCELONA\",\"BARCELONA\",\"BARCELONA\",\"BARCELONA\",\"BARCELONA\",\"BARCELONA\",\"BARCELONA\",\"BARCELONA\",\"BARCELONA\",\"BARCELONA\",\"BARCELONA\",\"BARCELONA\",\"BARCELONA\",\"BARCELONA\",\"BARCELONA\",\"BARCELONA\",\"BARCELONA\",\"BARCELONA\",\"BARCELONA\",\"BARCELONA\",\"BARCELONA\",\"BARCELONA\",\"BARCELONA\",\"BARCELONA\",\"BARCELONA\",\"BARCELONA\",\"VALENCIA\",\"VALENCIA\",\"VALENCIA\",\"VALENCIA\",\"VALENCIA\",\"VALENCIA\",\"VALENCIA\",\"VALENCIA\",\"VALENCIA\",\"VALENCIA\",\"VALENCIA\",\"VALENCIA\",\"VALENCIA\",\"VALENCIA\",\"VALENCIA\",\"VALENCIA\",\"VALENCIA\",\"MADRID\",\"MADRID\",\"MADRID\",\"MADRID\",\"MADRID\",\"MADRID\",\"MADRID\",\"MADRID\",\"MADRID\",\"MADRID\",\"MADRID\",\"MADRID\",\"MADRID\",\"MADRID\",\"MADRID\",\"MADRID\",\"MADRID\",\"SEVILLA\",\"SEVILLA\",\"SEVILLA\",\"SEVILLA\",\"SEVILLA\",\"SEVILLA\",\"SEVILLA\",\"SEVILLA\",\"SEVILLA\",\"SEVILLA\",\"SEVILLA\",\"SEVILLA\",\"SEVILLA\",\"SEVILLA\",\"SEVILLA\",\"SEVILLA\",\"SEVILLA\",\"MADRID\",\"MADRID\",\"MADRID\",\"MADRID\",\"MADRID\",\"MADRID\",\"MADRID\",\"MADRID\",\"MADRID\",\"MADRID\",\"MADRID\",\"MADRID\",\"MADRID\",\"MADRID\",\"MADRID\",\"MADRID\",\"MADRID\",\"MADRID\",\"MADRID\",\"MADRID\",\"MADRID\",\"MADRID\",\"MADRID\",\"MADRID\",\"MADRID\",\"MADRID\",\"MADRID\",\"MADRID\",\"MADRID\",\"MADRID\",\"MADRID\",\"MADRID\",\"MADRID\",\"MADRID\",\"MADRID\",\"MADRID\",\"MADRID\",\"MADRID\",\"MADRID\",\"MADRID\",\"BARCELONA\",\"BARCELONA\",\"BARCELONA\",\"BARCELONA\",\"BARCELONA\",\"BARCELONA\",\"BARCELONA\",\"BARCELONA\",\"BARCELONA\",\"BARCELONA\",\"BARCELONA\",\"BARCELONA\",\"BARCELONA\",\"BARCELONA\",\"BARCELONA\",\"BARCELONA\",\"BARCELONA\",\"BARCELONA\",\"BARCELONA\",\"BARCELONA\",\"BARCELONA\",\"BARCELONA\",\"BARCELONA\",\"BARCELONA\",\"BARCELONA\",\"BARCELONA\",\"BARCELONA\",\"BARCELONA\",\"BARCELONA\",\"BARCELONA\",\"BARCELONA\",\"BARCELONA\",\"SEVILLA\",\"SEVILLA\",\"SEVILLA\",\"SEVILLA\",\"SEVILLA\",\"SEVILLA\",\"SEVILLA\",\"SEVILLA\",\"SEVILLA\",\"SEVILLA\",\"SEVILLA\",\"SEVILLA\",\"SEVILLA\",\"SEVILLA\",\"SEVILLA\",\"SEVILLA\",\"SEVILLA\",\"MADRID\",\"MADRID\",\"MADRID\",\"MADRID\",\"MADRID\",\"MADRID\",\"MADRID\",\"MADRID\",\"MADRID\",\"MADRID\",\"MADRID\",\"MADRID\",\"MADRID\",\"MADRID\",\"MADRID\",\"MADRID\",\"MADRID\",\"VALENCIA\",\"VALENCIA\",\"VALENCIA\",\"VALENCIA\",\"VALENCIA\",\"VALENCIA\",\"VALENCIA\",\"VALENCIA\",\"VALENCIA\",\"VALENCIA\",\"VALENCIA\",\"VALENCIA\",\"VALENCIA\",\"VALENCIA\",\"VALENCIA\",\"VALENCIA\",\"VALENCIA\",\"MADRID\",\"MADRID\",\"MADRID\",\"MADRID\",\"MADRID\",\"MADRID\",\"MADRID\",\"MADRID\",\"MADRID\",\"MADRID\",\"MADRID\",\"MADRID\",\"MADRID\",\"MADRID\",\"MADRID\",\"MADRID\",\"MADRID\",\"MADRID\",\"MADRID\",\"MADRID\",\"MADRID\",\"MADRID\",\"MADRID\",\"MADRID\",\"MADRID\",\"MADRID\",\"MADRID\",\"MADRID\",\"MADRID\",\"MADRID\",\"MADRID\",\"MADRID\",\"MADRID\",\"MADRID\",\"MADRID\",\"MADRID\",\"MADRID\",\"MADRID\",\"MADRID\",\"MADRID\"],\"xaxis\":\"x\",\"y\":[\"VALENCIA\",\"VALENCIA\",\"VALENCIA\",\"VALENCIA\",\"VALENCIA\",\"VALENCIA\",\"VALENCIA\",\"VALENCIA\",\"VALENCIA\",\"VALENCIA\",\"VALENCIA\",\"VALENCIA\",\"VALENCIA\",\"VALENCIA\",\"VALENCIA\",\"VALENCIA\",\"VALENCIA\",\"BARCELONA\",\"BARCELONA\",\"BARCELONA\",\"BARCELONA\",\"BARCELONA\",\"BARCELONA\",\"BARCELONA\",\"BARCELONA\",\"BARCELONA\",\"BARCELONA\",\"BARCELONA\",\"BARCELONA\",\"BARCELONA\",\"BARCELONA\",\"BARCELONA\",\"BARCELONA\",\"BARCELONA\",\"BARCELONA\",\"BARCELONA\",\"BARCELONA\",\"BARCELONA\",\"BARCELONA\",\"BARCELONA\",\"BARCELONA\",\"BARCELONA\",\"BARCELONA\",\"BARCELONA\",\"BARCELONA\",\"BARCELONA\",\"MADRID\",\"MADRID\",\"MADRID\",\"MADRID\",\"MADRID\",\"MADRID\",\"MADRID\",\"MADRID\",\"MADRID\",\"MADRID\",\"MADRID\",\"MADRID\",\"MADRID\",\"MADRID\",\"MADRID\",\"MADRID\",\"MADRID\",\"VALENCIA\",\"VALENCIA\",\"VALENCIA\",\"VALENCIA\",\"VALENCIA\",\"VALENCIA\",\"VALENCIA\",\"VALENCIA\",\"VALENCIA\",\"VALENCIA\",\"VALENCIA\",\"VALENCIA\",\"VALENCIA\",\"VALENCIA\",\"VALENCIA\",\"VALENCIA\",\"VALENCIA\",\"MADRID\",\"MADRID\",\"MADRID\",\"MADRID\",\"MADRID\",\"MADRID\",\"MADRID\",\"MADRID\",\"MADRID\",\"MADRID\",\"MADRID\",\"MADRID\",\"MADRID\",\"MADRID\",\"MADRID\",\"MADRID\",\"MADRID\",\"MADRID\",\"MADRID\",\"MADRID\",\"MADRID\",\"MADRID\",\"MADRID\",\"MADRID\",\"MADRID\",\"MADRID\",\"MADRID\",\"MADRID\",\"MADRID\",\"MADRID\",\"MADRID\",\"MADRID\",\"MADRID\",\"MADRID\",\"MADRID\",\"MADRID\",\"MADRID\",\"MADRID\",\"MADRID\",\"MADRID\",\"MADRID\",\"MADRID\",\"MADRID\",\"MADRID\",\"MADRID\",\"MADRID\",\"MADRID\",\"MADRID\",\"MADRID\",\"SEVILLA\",\"SEVILLA\",\"SEVILLA\",\"SEVILLA\",\"SEVILLA\",\"SEVILLA\",\"SEVILLA\",\"SEVILLA\",\"SEVILLA\",\"SEVILLA\",\"SEVILLA\",\"MADRID\",\"MADRID\",\"MADRID\",\"MADRID\",\"MADRID\",\"MADRID\",\"MADRID\",\"MADRID\",\"MADRID\",\"MADRID\",\"MADRID\",\"MADRID\",\"MADRID\",\"MADRID\",\"MADRID\",\"MADRID\",\"MADRID\",\"MADRID\",\"MADRID\",\"MADRID\",\"MADRID\",\"MADRID\",\"MADRID\",\"MADRID\",\"MADRID\",\"MADRID\",\"MADRID\",\"MADRID\",\"MADRID\",\"MADRID\",\"MADRID\",\"MADRID\",\"MADRID\",\"MADRID\",\"MADRID\",\"MADRID\",\"MADRID\",\"MADRID\",\"MADRID\",\"MADRID\",\"MADRID\",\"MADRID\",\"MADRID\",\"MADRID\",\"MADRID\",\"MADRID\",\"MADRID\",\"MADRID\",\"MADRID\",\"MADRID\",\"MADRID\",\"MADRID\",\"MADRID\",\"MADRID\",\"MADRID\",\"MADRID\",\"MADRID\",\"MADRID\",\"MADRID\",\"MADRID\",\"MADRID\",\"MADRID\",\"MADRID\",\"MADRID\",\"MADRID\",\"MADRID\",\"SEVILLA\",\"SEVILLA\",\"SEVILLA\",\"SEVILLA\",\"SEVILLA\",\"SEVILLA\",\"SEVILLA\",\"SEVILLA\",\"SEVILLA\",\"SEVILLA\",\"SEVILLA\",\"BARCELONA\",\"BARCELONA\",\"BARCELONA\",\"BARCELONA\",\"BARCELONA\",\"BARCELONA\",\"BARCELONA\",\"BARCELONA\",\"BARCELONA\",\"BARCELONA\",\"BARCELONA\",\"BARCELONA\",\"BARCELONA\",\"BARCELONA\",\"BARCELONA\",\"BARCELONA\",\"BARCELONA\",\"VALENCIA\",\"VALENCIA\",\"VALENCIA\",\"VALENCIA\",\"VALENCIA\",\"VALENCIA\",\"VALENCIA\",\"VALENCIA\",\"VALENCIA\",\"VALENCIA\",\"VALENCIA\",\"VALENCIA\",\"VALENCIA\",\"VALENCIA\",\"VALENCIA\",\"VALENCIA\",\"VALENCIA\",\"SEVILLA\",\"SEVILLA\",\"SEVILLA\",\"SEVILLA\",\"SEVILLA\",\"SEVILLA\",\"SEVILLA\",\"SEVILLA\",\"SEVILLA\",\"SEVILLA\",\"SEVILLA\",\"BARCELONA\",\"BARCELONA\",\"BARCELONA\",\"BARCELONA\",\"BARCELONA\",\"BARCELONA\",\"BARCELONA\",\"BARCELONA\",\"BARCELONA\",\"BARCELONA\",\"BARCELONA\",\"BARCELONA\",\"BARCELONA\",\"BARCELONA\",\"BARCELONA\",\"BARCELONA\",\"BARCELONA\",\"BARCELONA\",\"BARCELONA\",\"BARCELONA\",\"BARCELONA\",\"BARCELONA\",\"BARCELONA\",\"BARCELONA\",\"BARCELONA\",\"BARCELONA\",\"BARCELONA\",\"BARCELONA\",\"BARCELONA\",\"MADRID\",\"MADRID\",\"MADRID\",\"MADRID\",\"MADRID\",\"MADRID\",\"MADRID\",\"MADRID\",\"MADRID\",\"MADRID\",\"MADRID\",\"MADRID\",\"MADRID\",\"MADRID\",\"MADRID\",\"MADRID\",\"MADRID\",\"MADRID\",\"MADRID\",\"MADRID\",\"MADRID\",\"MADRID\",\"MADRID\",\"MADRID\",\"MADRID\",\"MADRID\",\"MADRID\",\"MADRID\",\"MADRID\",\"MADRID\",\"MADRID\",\"MADRID\",\"MADRID\",\"MADRID\",\"MADRID\",\"MADRID\",\"MADRID\",\"MADRID\",\"MADRID\",\"MADRID\",\"MADRID\",\"MADRID\",\"MADRID\",\"MADRID\",\"MADRID\",\"MADRID\",\"MADRID\",\"MADRID\",\"MADRID\",\"MADRID\",\"MADRID\",\"MADRID\",\"MADRID\",\"MADRID\",\"MADRID\",\"MADRID\",\"VALENCIA\",\"VALENCIA\",\"VALENCIA\",\"VALENCIA\",\"VALENCIA\",\"VALENCIA\",\"VALENCIA\",\"VALENCIA\",\"VALENCIA\",\"VALENCIA\",\"VALENCIA\",\"VALENCIA\",\"VALENCIA\",\"VALENCIA\",\"VALENCIA\",\"VALENCIA\",\"VALENCIA\",\"SEVILLA\",\"SEVILLA\",\"SEVILLA\",\"SEVILLA\",\"SEVILLA\",\"SEVILLA\",\"SEVILLA\",\"SEVILLA\",\"SEVILLA\",\"SEVILLA\",\"SEVILLA\",\"MADRID\",\"MADRID\",\"MADRID\",\"MADRID\",\"MADRID\",\"MADRID\",\"MADRID\",\"MADRID\",\"MADRID\",\"MADRID\",\"MADRID\",\"MADRID\",\"MADRID\",\"MADRID\",\"MADRID\",\"MADRID\",\"MADRID\",\"MADRID\",\"MADRID\",\"MADRID\",\"MADRID\",\"MADRID\",\"MADRID\",\"MADRID\",\"MADRID\",\"MADRID\",\"MADRID\",\"MADRID\",\"MADRID\",\"MADRID\",\"MADRID\",\"MADRID\",\"MADRID\",\"MADRID\",\"MADRID\",\"MADRID\",\"MADRID\",\"MADRID\",\"MADRID\",\"MADRID\",\"MADRID\",\"MADRID\",\"MADRID\",\"MADRID\",\"MADRID\",\"MADRID\",\"MADRID\",\"MADRID\",\"MADRID\",\"MADRID\",\"MADRID\",\"MADRID\",\"MADRID\",\"MADRID\",\"MADRID\",\"MADRID\",\"MADRID\",\"MADRID\",\"MADRID\",\"MADRID\",\"MADRID\",\"MADRID\",\"MADRID\",\"MADRID\",\"MADRID\",\"MADRID\",\"VALENCIA\",\"VALENCIA\",\"VALENCIA\",\"VALENCIA\",\"VALENCIA\",\"VALENCIA\",\"VALENCIA\",\"VALENCIA\",\"VALENCIA\",\"VALENCIA\",\"VALENCIA\",\"VALENCIA\",\"VALENCIA\",\"VALENCIA\",\"VALENCIA\",\"VALENCIA\",\"VALENCIA\",\"BARCELONA\",\"BARCELONA\",\"BARCELONA\",\"BARCELONA\",\"BARCELONA\",\"BARCELONA\",\"BARCELONA\",\"BARCELONA\",\"BARCELONA\",\"BARCELONA\",\"BARCELONA\",\"BARCELONA\",\"BARCELONA\",\"BARCELONA\",\"BARCELONA\",\"BARCELONA\",\"BARCELONA\",\"BARCELONA\",\"BARCELONA\",\"BARCELONA\",\"BARCELONA\",\"BARCELONA\",\"BARCELONA\",\"BARCELONA\",\"BARCELONA\",\"BARCELONA\",\"BARCELONA\",\"BARCELONA\",\"BARCELONA\",\"MADRID\",\"MADRID\",\"MADRID\",\"MADRID\",\"MADRID\",\"MADRID\",\"MADRID\",\"MADRID\",\"MADRID\",\"MADRID\",\"MADRID\",\"MADRID\",\"MADRID\",\"MADRID\",\"MADRID\",\"MADRID\",\"MADRID\",\"BARCELONA\",\"BARCELONA\",\"BARCELONA\",\"BARCELONA\",\"BARCELONA\",\"BARCELONA\",\"BARCELONA\",\"BARCELONA\",\"BARCELONA\",\"BARCELONA\",\"BARCELONA\",\"BARCELONA\",\"BARCELONA\",\"BARCELONA\",\"BARCELONA\",\"BARCELONA\",\"BARCELONA\",\"BARCELONA\",\"BARCELONA\",\"BARCELONA\",\"BARCELONA\",\"BARCELONA\",\"BARCELONA\",\"BARCELONA\",\"BARCELONA\",\"BARCELONA\",\"BARCELONA\",\"BARCELONA\",\"BARCELONA\",\"MADRID\",\"MADRID\",\"MADRID\",\"MADRID\",\"MADRID\",\"MADRID\",\"MADRID\",\"MADRID\",\"MADRID\",\"MADRID\",\"MADRID\",\"MADRID\",\"MADRID\",\"MADRID\",\"MADRID\",\"MADRID\",\"MADRID\",\"SEVILLA\",\"SEVILLA\",\"SEVILLA\",\"SEVILLA\",\"SEVILLA\",\"SEVILLA\",\"SEVILLA\",\"SEVILLA\",\"SEVILLA\",\"SEVILLA\",\"SEVILLA\",\"MADRID\",\"MADRID\",\"MADRID\",\"MADRID\",\"MADRID\",\"MADRID\",\"MADRID\",\"MADRID\",\"MADRID\",\"MADRID\",\"MADRID\",\"MADRID\",\"MADRID\",\"MADRID\",\"MADRID\",\"MADRID\",\"MADRID\",\"MADRID\",\"MADRID\",\"MADRID\",\"MADRID\",\"MADRID\",\"MADRID\",\"MADRID\",\"MADRID\",\"MADRID\",\"MADRID\",\"MADRID\",\"MADRID\",\"MADRID\",\"MADRID\",\"MADRID\",\"VALENCIA\",\"VALENCIA\",\"VALENCIA\",\"VALENCIA\",\"VALENCIA\",\"VALENCIA\",\"VALENCIA\",\"VALENCIA\",\"VALENCIA\",\"VALENCIA\",\"VALENCIA\",\"VALENCIA\",\"VALENCIA\",\"VALENCIA\",\"VALENCIA\",\"VALENCIA\",\"VALENCIA\",\"MADRID\",\"MADRID\",\"MADRID\",\"MADRID\",\"MADRID\",\"MADRID\",\"MADRID\",\"MADRID\",\"MADRID\",\"MADRID\",\"MADRID\",\"MADRID\",\"MADRID\",\"MADRID\",\"MADRID\",\"MADRID\",\"MADRID\",\"MADRID\",\"MADRID\",\"MADRID\",\"MADRID\",\"MADRID\",\"MADRID\",\"MADRID\",\"MADRID\",\"MADRID\",\"MADRID\",\"MADRID\",\"MADRID\",\"MADRID\",\"MADRID\",\"MADRID\",\"MADRID\",\"MADRID\",\"MADRID\",\"MADRID\",\"MADRID\",\"MADRID\",\"MADRID\",\"MADRID\",\"MADRID\",\"MADRID\",\"MADRID\",\"MADRID\",\"MADRID\",\"MADRID\",\"MADRID\",\"MADRID\",\"MADRID\",\"VALENCIA\",\"VALENCIA\",\"VALENCIA\",\"VALENCIA\",\"VALENCIA\",\"VALENCIA\",\"VALENCIA\",\"VALENCIA\",\"VALENCIA\",\"VALENCIA\",\"VALENCIA\",\"VALENCIA\",\"VALENCIA\",\"VALENCIA\",\"VALENCIA\",\"VALENCIA\",\"VALENCIA\",\"MADRID\",\"MADRID\",\"MADRID\",\"MADRID\",\"MADRID\",\"MADRID\",\"MADRID\",\"MADRID\",\"MADRID\",\"MADRID\",\"MADRID\",\"MADRID\",\"MADRID\",\"MADRID\",\"MADRID\",\"MADRID\",\"MADRID\",\"SEVILLA\",\"SEVILLA\",\"SEVILLA\",\"SEVILLA\",\"SEVILLA\",\"SEVILLA\",\"SEVILLA\",\"SEVILLA\",\"SEVILLA\",\"SEVILLA\",\"SEVILLA\",\"BARCELONA\",\"BARCELONA\",\"BARCELONA\",\"BARCELONA\",\"BARCELONA\",\"BARCELONA\",\"BARCELONA\",\"BARCELONA\",\"BARCELONA\",\"BARCELONA\",\"BARCELONA\",\"BARCELONA\",\"BARCELONA\",\"BARCELONA\",\"BARCELONA\",\"BARCELONA\",\"BARCELONA\",\"BARCELONA\",\"BARCELONA\",\"BARCELONA\",\"BARCELONA\",\"BARCELONA\",\"BARCELONA\",\"BARCELONA\",\"BARCELONA\",\"BARCELONA\",\"BARCELONA\",\"BARCELONA\",\"BARCELONA\",\"MADRID\",\"MADRID\",\"MADRID\",\"MADRID\",\"MADRID\",\"MADRID\",\"MADRID\",\"MADRID\",\"MADRID\",\"MADRID\",\"MADRID\",\"MADRID\",\"MADRID\",\"MADRID\",\"MADRID\",\"MADRID\",\"MADRID\",\"MADRID\",\"MADRID\",\"MADRID\",\"MADRID\",\"MADRID\",\"MADRID\",\"MADRID\",\"MADRID\",\"MADRID\",\"MADRID\",\"MADRID\",\"MADRID\",\"MADRID\",\"MADRID\",\"MADRID\",\"MADRID\",\"MADRID\",\"MADRID\",\"MADRID\",\"MADRID\",\"MADRID\",\"MADRID\",\"MADRID\",\"MADRID\",\"MADRID\",\"MADRID\",\"MADRID\",\"MADRID\",\"MADRID\",\"MADRID\",\"MADRID\",\"MADRID\",\"VALENCIA\",\"VALENCIA\",\"VALENCIA\",\"VALENCIA\",\"VALENCIA\",\"VALENCIA\",\"VALENCIA\",\"VALENCIA\",\"VALENCIA\",\"VALENCIA\",\"VALENCIA\",\"VALENCIA\",\"VALENCIA\",\"VALENCIA\",\"VALENCIA\",\"VALENCIA\",\"VALENCIA\",\"MADRID\",\"MADRID\",\"MADRID\",\"MADRID\",\"MADRID\",\"MADRID\",\"MADRID\",\"MADRID\",\"MADRID\",\"MADRID\",\"MADRID\",\"MADRID\",\"MADRID\",\"MADRID\",\"MADRID\",\"MADRID\",\"MADRID\",\"SEVILLA\",\"SEVILLA\",\"SEVILLA\",\"SEVILLA\",\"SEVILLA\",\"SEVILLA\",\"SEVILLA\",\"SEVILLA\",\"SEVILLA\",\"SEVILLA\",\"SEVILLA\",\"BARCELONA\",\"BARCELONA\",\"BARCELONA\",\"BARCELONA\",\"BARCELONA\",\"BARCELONA\",\"BARCELONA\",\"BARCELONA\",\"BARCELONA\",\"BARCELONA\",\"BARCELONA\",\"BARCELONA\",\"BARCELONA\",\"BARCELONA\",\"BARCELONA\",\"BARCELONA\",\"BARCELONA\",\"BARCELONA\",\"BARCELONA\",\"BARCELONA\",\"BARCELONA\",\"BARCELONA\",\"BARCELONA\",\"BARCELONA\",\"BARCELONA\",\"BARCELONA\",\"BARCELONA\",\"BARCELONA\",\"BARCELONA\"],\"yaxis\":\"y\",\"type\":\"scatter\"}],\"name\":\"AVE\"},{\"data\":[{\"customdata\":[[\"Turista con enlace\",\"Flexible\"],[\"Turista con enlace\",\"Flexible\"],[\"Turista con enlace\",\"Flexible\"],[\"Turista con enlace\",\"Flexible\"],[\"Turista con enlace\",\"Promo\"],[\"Turista con enlace\",\"Flexible\"],[\"Turista con enlace\",\"Flexible\"],[\"Turista con enlace\",\"Promo\"],[\"Turista con enlace\",\"Promo\"],[\"Turista con enlace\",\"Flexible\"],[\"Turista con enlace\",\"Flexible\"],[\"Turista con enlace\",\"Flexible\"],[\"Turista con enlace\",\"Flexible\"],[\"Turista con enlace\",\"Promo\"],[\"Turista con enlace\",\"Flexible\"],[\"Turista con enlace\",\"Flexible\"],[\"Turista con enlace\",\"Promo\"],[\"Turista con enlace\",\"Promo\"],[\"Turista con enlace\",\"Flexible\"],[\"Turista con enlace\",\"Flexible\"],[\"Turista con enlace\",\"Flexible\"],[\"Turista con enlace\",\"Flexible\"],[\"Turista con enlace\",\"Promo\"],[\"Turista con enlace\",\"Promo\"]],\"hovertemplate\":\"train_type=AVE-MD\\u003cbr\\u003eorigin=%{x}\\u003cbr\\u003edestination=%{y}\\u003cbr\\u003etrain_class=%{customdata[0]}\\u003cbr\\u003efare=%{customdata[1]}\\u003cextra\\u003e\\u003c\\u002fextra\\u003e\",\"legendgroup\":\"AVE-MD\",\"marker\":{\"color\":\"#00cc96\",\"symbol\":\"circle\"},\"mode\":\"markers\",\"name\":\"AVE-MD\",\"orientation\":\"v\",\"showlegend\":true,\"x\":[\"MADRID\",\"MADRID\",\"MADRID\",\"MADRID\",\"MADRID\",\"MADRID\",\"MADRID\",\"MADRID\",\"MADRID\",\"MADRID\",\"MADRID\",\"MADRID\",\"MADRID\",\"MADRID\",\"MADRID\",\"MADRID\",\"MADRID\",\"MADRID\",\"MADRID\",\"MADRID\",\"MADRID\",\"MADRID\",\"MADRID\",\"MADRID\"],\"xaxis\":\"x\",\"y\":[\"VALENCIA\",\"VALENCIA\",\"VALENCIA\",\"VALENCIA\",\"PONFERRADA\",\"VALENCIA\",\"VALENCIA\",\"PONFERRADA\",\"PONFERRADA\",\"VALENCIA\",\"VALENCIA\",\"VALENCIA\",\"VALENCIA\",\"PONFERRADA\",\"VALENCIA\",\"VALENCIA\",\"PONFERRADA\",\"PONFERRADA\",\"VALENCIA\",\"VALENCIA\",\"VALENCIA\",\"VALENCIA\",\"PONFERRADA\",\"PONFERRADA\"],\"yaxis\":\"y\",\"type\":\"scatter\"}],\"name\":\"AVE-MD\"},{\"data\":[{\"customdata\":[[\"Turista con enlace\",\"Flexible\"],[\"Turista con enlace\",\"Flexible\"],[\"Turista con enlace\",\"Promo\"],[\"Turista con enlace\",\"Flexible\"],[\"Turista con enlace\",\"Promo\"],[\"Turista con enlace\",\"Promo\"],[\"Turista con enlace\",\"Flexible\"],[\"Turista con enlace\",\"Flexible\"],[\"Turista con enlace\",\"Promo\"],[\"Turista con enlace\",\"Flexible\"],[\"Turista con enlace\",\"Promo\"],[\"Turista con enlace\",\"Promo\"],[\"Turista con enlace\",\"Flexible\"],[\"Turista con enlace\",\"Flexible\"],[\"Turista con enlace\",\"Promo\"],[\"Turista con enlace\",\"Promo\"]],\"hovertemplate\":\"train_type=AVE-LD\\u003cbr\\u003eorigin=%{x}\\u003cbr\\u003edestination=%{y}\\u003cbr\\u003etrain_class=%{customdata[0]}\\u003cbr\\u003efare=%{customdata[1]}\\u003cextra\\u003e\\u003c\\u002fextra\\u003e\",\"legendgroup\":\"AVE-LD\",\"marker\":{\"color\":\"#ab63fa\",\"symbol\":\"circle\"},\"mode\":\"markers\",\"name\":\"AVE-LD\",\"orientation\":\"v\",\"showlegend\":true,\"x\":[\"MADRID\",\"MADRID\",\"MADRID\",\"MADRID\",\"MADRID\",\"MADRID\",\"MADRID\",\"MADRID\",\"MADRID\",\"MADRID\",\"MADRID\",\"MADRID\",\"MADRID\",\"MADRID\",\"MADRID\",\"MADRID\"],\"xaxis\":\"x\",\"y\":[\"VALENCIA\",\"VALENCIA\",\"PONFERRADA\",\"VALENCIA\",\"PONFERRADA\",\"PONFERRADA\",\"VALENCIA\",\"VALENCIA\",\"PONFERRADA\",\"VALENCIA\",\"PONFERRADA\",\"PONFERRADA\",\"VALENCIA\",\"VALENCIA\",\"PONFERRADA\",\"PONFERRADA\"],\"yaxis\":\"y\",\"type\":\"scatter\"}],\"name\":\"AVE-LD\"},{\"data\":[{\"customdata\":[[\"Turista Plus\",\"Promo\"],[\"Turista\",\"Flexible\"],[\"Turista Plus\",\"Promo\"],[\"Turista Plus\",\"Promo\"],[\"Turista\",\"Promo\"],[\"Turista Plus\",\"Promo\"],[\"Turista Plus\",\"Promo\"],[\"Turista Plus\",\"Promo\"],[\"Turista Plus\",\"Promo\"],[\"Turista\",\"Flexible\"],[\"Turista Plus\",\"Promo\"],[\"Turista Plus\",\"Promo\"],[\"Turista\",\"Promo\"],[\"Turista Plus\",\"Promo\"],[\"Turista Plus\",\"Promo\"],[\"Turista Plus\",\"Promo\"],[\"Turista\",\"Promo\"],[\"Turista Plus\",\"Promo\"],[\"Turista Plus\",\"Promo\"],[\"Turista Plus\",\"Promo\"],[\"Turista Plus\",\"Promo\"],[\"Turista\",\"Flexible\"],[\"Turista Plus\",\"Promo\"],[\"Turista Plus\",\"Promo\"],[\"Turista\",\"Promo\"],[\"Turista Plus\",\"Promo\"],[\"Turista Plus\",\"Promo\"],[\"Turista Plus\",\"Promo\"],[\"Turista Plus\",\"Promo\"],[\"Turista\",\"Flexible\"],[\"Turista Plus\",\"Promo\"],[\"Turista Plus\",\"Promo\"],[\"Turista Plus\",\"Promo\"],[\"Turista\",\"Flexible\"],[\"Turista Plus\",\"Promo\"],[\"Turista Plus\",\"Promo\"],[\"Turista\",\"Promo\"],[\"Turista Plus\",\"Promo\"],[\"Turista Plus\",\"Promo\"],[\"Turista Plus\",\"Promo\"],[\"Turista Plus\",\"Promo\"],[\"Turista Plus\",\"Promo\"],[\"Turista Plus\",\"Promo\"],[\"Turista\",\"Flexible\"],[\"Turista\",\"Promo\"],[\"Turista Plus\",\"Promo\"],[\"Turista Plus\",\"Promo\"],[\"Turista Plus\",\"Promo\"],[\"Turista Plus\",\"Promo\"],[\"Turista\",\"Flexible\"],[\"Turista Plus\",\"Promo\"],[\"Turista Plus\",\"Promo\"],[\"Turista\",\"Promo\"],[\"Turista Plus\",\"Promo\"],[\"Turista Plus\",\"Promo\"],[\"Turista Plus\",\"Promo\"]],\"hovertemplate\":\"train_type=AV City\\u003cbr\\u003eorigin=%{x}\\u003cbr\\u003edestination=%{y}\\u003cbr\\u003etrain_class=%{customdata[0]}\\u003cbr\\u003efare=%{customdata[1]}\\u003cextra\\u003e\\u003c\\u002fextra\\u003e\",\"legendgroup\":\"AV City\",\"marker\":{\"color\":\"#FFA15A\",\"symbol\":\"circle\"},\"mode\":\"markers\",\"name\":\"AV City\",\"orientation\":\"v\",\"showlegend\":true,\"x\":[\"SEVILLA\",\"SEVILLA\",\"SEVILLA\",\"SEVILLA\",\"MADRID\",\"MADRID\",\"MADRID\",\"MADRID\",\"SEVILLA\",\"SEVILLA\",\"SEVILLA\",\"SEVILLA\",\"MADRID\",\"MADRID\",\"MADRID\",\"MADRID\",\"MADRID\",\"MADRID\",\"MADRID\",\"MADRID\",\"SEVILLA\",\"SEVILLA\",\"SEVILLA\",\"SEVILLA\",\"MADRID\",\"MADRID\",\"MADRID\",\"MADRID\",\"SEVILLA\",\"SEVILLA\",\"SEVILLA\",\"SEVILLA\",\"SEVILLA\",\"SEVILLA\",\"SEVILLA\",\"SEVILLA\",\"MADRID\",\"MADRID\",\"MADRID\",\"MADRID\",\"SEVILLA\",\"SEVILLA\",\"SEVILLA\",\"SEVILLA\",\"MADRID\",\"MADRID\",\"MADRID\",\"MADRID\",\"SEVILLA\",\"SEVILLA\",\"SEVILLA\",\"SEVILLA\",\"MADRID\",\"MADRID\",\"MADRID\",\"MADRID\"],\"xaxis\":\"x\",\"y\":[\"MADRID\",\"MADRID\",\"MADRID\",\"MADRID\",\"SEVILLA\",\"SEVILLA\",\"SEVILLA\",\"SEVILLA\",\"MADRID\",\"MADRID\",\"MADRID\",\"MADRID\",\"SEVILLA\",\"SEVILLA\",\"SEVILLA\",\"SEVILLA\",\"SEVILLA\",\"SEVILLA\",\"SEVILLA\",\"SEVILLA\",\"MADRID\",\"MADRID\",\"MADRID\",\"MADRID\",\"SEVILLA\",\"SEVILLA\",\"SEVILLA\",\"SEVILLA\",\"MADRID\",\"MADRID\",\"MADRID\",\"MADRID\",\"MADRID\",\"MADRID\",\"MADRID\",\"MADRID\",\"SEVILLA\",\"SEVILLA\",\"SEVILLA\",\"SEVILLA\",\"MADRID\",\"MADRID\",\"MADRID\",\"MADRID\",\"SEVILLA\",\"SEVILLA\",\"SEVILLA\",\"SEVILLA\",\"MADRID\",\"MADRID\",\"MADRID\",\"MADRID\",\"SEVILLA\",\"SEVILLA\",\"SEVILLA\",\"SEVILLA\"],\"yaxis\":\"y\",\"type\":\"scatter\"}],\"name\":\"AV City\"}]);\n",
       "                        }).then(function(){\n",
       "                            \n",
       "var gd = document.getElementById('0cc5631d-ed37-4fee-9d02-bdc0e0e97845');\n",
       "var x = new MutationObserver(function (mutations, observer) {{\n",
       "        var display = window.getComputedStyle(gd).display;\n",
       "        if (!display || display === 'none') {{\n",
       "            console.log([gd, 'removed!']);\n",
       "            Plotly.purge(gd);\n",
       "            observer.disconnect();\n",
       "        }}\n",
       "}});\n",
       "\n",
       "// Listen for the removal of the full notebook cells\n",
       "var notebookContainer = gd.closest('#notebook-container');\n",
       "if (notebookContainer) {{\n",
       "    x.observe(notebookContainer, {childList: true});\n",
       "}}\n",
       "\n",
       "// Listen for the clearing of the current output cell\n",
       "var outputEl = gd.closest('.output');\n",
       "if (outputEl) {{\n",
       "    x.observe(outputEl, {childList: true});\n",
       "}}\n",
       "\n",
       "                        })                };                });            </script>        </div>"
      ]
     },
     "metadata": {},
     "output_type": "display_data"
    },
    {
     "data": {
      "application/vnd.plotly.v1+json": {
       "config": {
        "plotlyServerURL": "https://plot.ly"
       },
       "data": [
        {
         "alignmentgroup": "True",
         "bingroup": "x",
         "hovertemplate": "train_type=AV City<br>price=%{x}<br>count=%{y}<extra></extra>",
         "legendgroup": "AV City",
         "marker": {
          "color": "#FFA15A",
          "pattern": {
           "shape": ""
          }
         },
         "name": "AV City",
         "offsetgroup": "AV City",
         "orientation": "v",
         "showlegend": true,
         "type": "histogram",
         "x": [
          58.95,
          62.2,
          58.95,
          52.2,
          49.15,
          52.2,
          58.95,
          52.2,
          58.95,
          62.2,
          58.95,
          52.2,
          49.15,
          52.2,
          58.95,
          52.2,
          49.15,
          52.2,
          58.95,
          52.2,
          58.95,
          62.2,
          58.95,
          52.2,
          49.15,
          52.2,
          58.95,
          52.2,
          58.95,
          62.2,
          58.95,
          52.2,
          58.95,
          62.2,
          58.95,
          52.2,
          49.15,
          52.2,
          58.95,
          52.2,
          58.95,
          52.2,
          58.95,
          62.2,
          49.15,
          52.2,
          58.95,
          52.2,
          58.95,
          62.2,
          58.95,
          52.2,
          49.15,
          52.2,
          58.95,
          52.2
         ],
         "xaxis": "x",
         "yaxis": "y"
        }
       ],
       "frames": [
        {
         "data": [
          {
           "alignmentgroup": "True",
           "bingroup": "x",
           "hovertemplate": "train_type=ALVIA<br>price=%{x}<br>count=%{y}<extra></extra>",
           "legendgroup": "ALVIA",
           "marker": {
            "color": "#636efa",
            "pattern": {
             "shape": ""
            }
           },
           "name": "ALVIA",
           "offsetgroup": "ALVIA",
           "orientation": "v",
           "showlegend": true,
           "type": "histogram",
           "x": [
            27.9,
            0,
            0,
            0,
            0,
            47.05,
            33.5,
            27.9,
            0,
            0,
            0,
            0,
            0,
            47.05,
            0,
            27.9,
            33.5,
            0,
            33.5,
            0,
            0,
            0,
            0,
            47.05,
            27.9,
            0,
            0,
            0,
            0,
            0,
            47.05,
            27.9,
            33.5,
            0,
            0,
            0,
            0,
            47.05,
            27.9,
            0,
            33.5,
            27.9,
            33.5,
            0,
            47.05,
            0,
            0,
            0,
            0,
            0,
            0,
            0,
            0,
            47.05,
            27.9,
            0,
            33.5
           ],
           "xaxis": "x",
           "yaxis": "y"
          }
         ],
         "name": "ALVIA"
        },
        {
         "data": [
          {
           "alignmentgroup": "True",
           "bingroup": "x",
           "hovertemplate": "train_type=AVE<br>price=%{x}<br>count=%{y}<extra></extra>",
           "legendgroup": "AVE",
           "marker": {
            "color": "#EF553B",
            "pattern": {
             "shape": ""
            }
           },
           "name": "AVE",
           "offsetgroup": "AVE",
           "orientation": "v",
           "showlegend": true,
           "type": "histogram",
           "x": [
            21.95,
            39.45,
            21.95,
            33.65,
            45.3,
            45.3,
            51.15,
            39.45,
            33.65,
            45.3,
            33.65,
            27.8,
            39.45,
            33.65,
            39.45,
            45.3,
            33.65,
            66.75,
            66.75,
            85.1,
            85.1,
            85.1,
            107.7,
            102.15,
            88.95,
            90.5,
            90.5,
            88.95,
            88.95,
            100.4,
            85.1,
            88.95,
            85.1,
            75.4,
            58.15,
            75.4,
            85.1,
            75.4,
            75.4,
            75.4,
            80.15,
            80.15,
            80.15,
            69.8,
            58.15,
            66.75,
            76.3,
            76.3,
            76.3,
            76.3,
            76.3,
            76.3,
            76.3,
            64.05,
            72.3,
            47.3,
            76.3,
            47.3,
            47.3,
            53.4,
            53.4,
            60.3,
            47.3,
            21.95,
            39.45,
            21.95,
            33.65,
            45.3,
            45.3,
            51.15,
            39.45,
            33.65,
            45.3,
            33.65,
            27.8,
            39.45,
            33.65,
            39.45,
            45.3,
            33.65,
            39.45,
            51.15,
            51.15,
            45.3,
            45.3,
            57.75,
            57.75,
            57.75,
            57.75,
            51.15,
            39.45,
            39.45,
            45.3,
            33.65,
            33.65,
            21.95,
            27.8,
            85.1,
            66.75,
            85.1,
            85.1,
            85.1,
            107.7,
            107.7,
            102.15,
            90.5,
            90.5,
            100.4,
            107.7,
            100.4,
            100.4,
            102.15,
            100.4,
            85.1,
            107.7,
            69.8,
            75.4,
            75.4,
            78.8,
            85.1,
            85.1,
            75.4,
            58.15,
            66.75,
            75.4,
            69.8,
            58.15,
            66.75,
            49.55,
            76.3,
            64.05,
            64.05,
            47.3,
            53.4,
            53.4,
            76.3,
            47.3,
            47.3,
            47.3,
            47.3,
            69.8,
            75.4,
            75.4,
            78.8,
            85.1,
            85.1,
            85.1,
            75.4,
            58.15,
            66.75,
            75.4,
            69.8,
            58.15,
            66.75,
            49.55,
            66.75,
            85.1,
            85.1,
            85.1,
            107.7,
            107.7,
            102.15,
            90.5,
            90.5,
            100.4,
            107.7,
            100.4,
            100.4,
            102.15,
            100.4,
            85.1,
            107.7,
            39.45,
            51.15,
            51.15,
            45.3,
            45.3,
            57.75,
            57.75,
            57.75,
            57.75,
            51.15,
            39.45,
            39.45,
            45.3,
            33.65,
            33.65,
            21.95,
            27.8,
            76.3,
            76.3,
            76.3,
            76.3,
            76.3,
            76.3,
            76.3,
            64.05,
            72.3,
            47.3,
            76.3,
            47.3,
            47.3,
            53.4,
            53.4,
            60.3,
            47.3,
            76.3,
            64.05,
            64.05,
            47.3,
            53.4,
            53.4,
            76.3,
            47.3,
            47.3,
            47.3,
            47.3,
            66.75,
            66.75,
            85.1,
            85.1,
            85.1,
            107.7,
            102.15,
            88.95,
            90.5,
            90.5,
            88.95,
            88.95,
            100.4,
            85.1,
            88.95,
            85.1,
            75.4,
            21.95,
            39.45,
            21.95,
            33.65,
            45.3,
            45.3,
            51.15,
            39.45,
            33.65,
            45.3,
            33.65,
            27.8,
            39.45,
            33.65,
            39.45,
            45.3,
            33.65,
            76.3,
            64.05,
            64.05,
            47.3,
            53.4,
            53.4,
            76.3,
            47.3,
            47.3,
            47.3,
            47.3,
            88.95,
            66.75,
            66.75,
            85.1,
            85.1,
            85.1,
            107.7,
            102.15,
            88.95,
            90.5,
            90.5,
            88.95,
            88.95,
            100.4,
            85.1,
            85.1,
            75.4,
            58.15,
            75.4,
            85.1,
            75.4,
            75.4,
            75.4,
            80.15,
            80.15,
            80.15,
            69.8,
            58.15,
            66.75,
            66.75,
            85.1,
            85.1,
            85.1,
            107.7,
            107.7,
            102.15,
            90.5,
            90.5,
            100.4,
            107.7,
            100.4,
            100.4,
            102.15,
            100.4,
            85.1,
            107.7,
            69.8,
            75.4,
            75.4,
            78.8,
            85.1,
            85.1,
            85.1,
            75.4,
            58.15,
            66.75,
            75.4,
            69.8,
            58.15,
            66.75,
            49.55,
            39.45,
            39.45,
            45.3,
            33.65,
            33.65,
            21.95,
            27.8,
            76.3,
            76.3,
            76.3,
            76.3,
            76.3,
            76.3,
            76.3,
            64.05,
            72.3,
            47.3,
            76.3,
            47.3,
            47.3,
            53.4,
            53.4,
            60.3,
            47.3,
            21.95,
            39.45,
            21.95,
            33.65,
            45.3,
            45.3,
            51.15,
            39.45,
            33.65,
            45.3,
            33.65,
            27.8,
            39.45,
            33.65,
            39.45,
            45.3,
            33.65,
            76.3,
            64.05,
            64.05,
            47.3,
            53.4,
            53.4,
            76.3,
            47.3,
            47.3,
            47.3,
            47.3,
            66.75,
            85.1,
            85.1,
            85.1,
            107.7,
            107.7,
            102.15,
            90.5,
            90.5,
            100.4,
            107.7,
            100.4,
            100.4,
            102.15,
            100.4,
            85.1,
            107.7,
            69.8,
            75.4,
            75.4,
            78.8,
            85.1,
            85.1,
            85.1,
            75.4,
            58.15,
            66.75,
            75.4,
            69.8,
            58.15,
            66.75,
            49.55,
            39.45,
            51.15,
            51.15,
            45.3,
            45.3,
            57.75,
            57.75,
            57.75,
            57.75,
            51.15,
            39.45,
            39.45,
            45.3,
            33.65,
            33.65,
            21.95,
            27.8,
            76.3,
            76.3,
            76.3,
            76.3,
            76.3,
            76.3,
            76.3,
            64.05,
            72.3,
            47.3,
            76.3,
            47.3,
            47.3,
            53.4,
            53.4,
            60.3,
            47.3,
            21.95,
            39.45,
            21.95,
            33.65,
            45.3,
            45.3,
            51.15,
            39.45,
            33.65,
            45.3,
            33.65,
            27.8,
            39.45,
            33.65,
            39.45,
            45.3,
            33.65,
            66.75,
            66.75,
            85.1,
            85.1,
            85.1,
            107.7,
            102.15,
            88.95,
            90.5,
            90.5,
            88.95,
            88.95,
            100.4,
            85.1,
            88.95,
            85.1,
            75.4,
            58.15,
            75.4,
            85.1,
            75.4,
            75.4,
            75.4,
            80.15,
            80.15,
            80.15,
            69.8,
            58.15,
            66.75,
            76.3,
            76.3,
            76.3,
            76.3,
            76.3,
            76.3,
            76.3,
            64.05,
            72.3,
            47.3,
            76.3,
            47.3,
            47.3,
            53.4,
            53.4,
            60.3,
            47.3,
            66.75,
            66.75,
            85.1,
            85.1,
            85.1,
            107.7,
            102.15,
            88.95,
            90.5,
            90.5,
            88.95,
            88.95,
            100.4,
            85.1,
            88.95,
            85.1,
            75.4,
            58.15,
            75.4,
            85.1,
            75.4,
            75.4,
            75.4,
            80.15,
            80.15,
            80.15,
            69.8,
            58.15,
            66.75,
            39.45,
            51.15,
            51.15,
            45.3,
            45.3,
            57.75,
            57.75,
            57.75,
            57.75,
            51.15,
            39.45,
            39.45,
            45.3,
            33.65,
            33.65,
            21.95,
            27.8,
            76.3,
            64.05,
            64.05,
            47.3,
            53.4,
            53.4,
            76.3,
            47.3,
            47.3,
            47.3,
            47.3,
            66.75,
            85.1,
            85.1,
            85.1,
            107.7,
            107.7,
            102.15,
            90.5,
            90.5,
            100.4,
            107.7,
            100.4,
            100.4,
            102.15,
            100.4,
            85.1,
            107.7,
            69.8,
            75.4,
            75.4,
            78.8,
            85.1,
            85.1,
            85.1,
            75.4,
            58.15,
            66.75,
            75.4,
            69.8,
            58.15,
            66.75,
            49.55,
            21.95,
            39.45,
            21.95,
            33.65,
            45.3,
            45.3,
            51.15,
            39.45,
            33.65,
            45.3,
            33.65,
            27.8,
            39.45,
            33.65,
            39.45,
            45.3,
            33.65,
            66.75,
            85.1,
            85.1,
            85.1,
            107.7,
            107.7,
            102.15,
            90.5,
            90.5,
            100.4,
            107.7,
            100.4,
            100.4,
            102.15,
            100.4,
            85.1,
            107.7,
            69.8,
            75.4,
            75.4,
            78.8,
            85.1,
            85.1,
            85.1,
            75.4,
            58.15,
            66.75,
            75.4,
            69.8,
            58.15,
            66.75,
            49.55,
            39.45,
            51.15,
            51.15,
            45.3,
            45.3,
            57.75,
            57.75,
            57.75,
            57.75,
            51.15,
            39.45,
            39.45,
            45.3,
            33.65,
            33.65,
            21.95,
            27.8,
            45.3,
            33.65,
            27.8,
            39.45,
            33.65,
            39.45,
            45.3,
            33.65,
            21.95,
            39.45,
            21.95,
            33.65,
            45.3,
            45.3,
            51.15,
            39.45,
            33.65,
            47.3,
            76.3,
            47.3,
            47.3,
            53.4,
            53.4,
            60.3,
            47.3,
            76.3,
            76.3,
            76.3,
            76.3,
            76.3,
            76.3,
            76.3,
            64.05,
            72.3,
            76.3,
            64.05,
            64.05,
            47.3,
            53.4,
            53.4,
            76.3,
            47.3,
            47.3,
            47.3,
            47.3,
            66.75,
            66.75,
            85.1,
            85.1,
            85.1,
            107.7,
            102.15,
            88.95,
            90.5,
            90.5,
            88.95,
            88.95,
            100.4,
            85.1,
            88.95,
            85.1,
            75.4,
            58.15,
            75.4,
            85.1,
            75.4,
            75.4,
            75.4,
            80.15,
            80.15,
            80.15,
            69.8,
            58.15,
            66.75,
            66.75,
            85.1,
            85.1,
            85.1,
            107.7,
            107.7,
            102.15,
            90.5,
            90.5,
            100.4,
            107.7,
            100.4,
            100.4,
            102.15,
            100.4,
            85.1,
            107.7,
            69.8,
            75.4,
            75.4,
            78.8,
            85.1,
            85.1,
            85.1,
            75.4,
            58.15,
            66.75,
            75.4,
            69.8,
            58.15,
            66.75,
            49.55,
            76.3,
            76.3,
            76.3,
            76.3,
            76.3,
            76.3,
            76.3,
            64.05,
            72.3,
            47.3,
            76.3,
            47.3,
            47.3,
            53.4,
            53.4,
            60.3,
            47.3,
            21.95,
            39.45,
            21.95,
            33.65,
            45.3,
            45.3,
            51.15,
            39.45,
            33.65,
            45.3,
            33.65,
            27.8,
            39.45,
            33.65,
            39.45,
            45.3,
            33.65,
            39.45,
            51.15,
            51.15,
            45.3,
            45.3,
            57.75,
            57.75,
            57.75,
            57.75,
            51.15,
            39.45,
            39.45,
            45.3,
            33.65,
            33.65,
            21.95,
            27.8,
            76.3,
            64.05,
            64.05,
            47.3,
            53.4,
            53.4,
            76.3,
            47.3,
            47.3,
            47.3,
            47.3,
            66.75,
            66.75,
            85.1,
            85.1,
            85.1,
            107.7,
            102.15,
            88.95,
            90.5,
            90.5,
            88.95,
            88.95,
            100.4,
            85.1,
            88.95,
            85.1,
            75.4,
            58.15,
            75.4,
            85.1,
            75.4,
            75.4,
            75.4,
            80.15,
            80.15,
            80.15,
            69.8,
            58.15,
            66.75
           ],
           "xaxis": "x",
           "yaxis": "y"
          }
         ],
         "name": "AVE"
        },
        {
         "data": [
          {
           "alignmentgroup": "True",
           "bingroup": "x",
           "hovertemplate": "train_type=AVE-MD<br>price=%{x}<br>count=%{y}<extra></extra>",
           "legendgroup": "AVE-MD",
           "marker": {
            "color": "#00cc96",
            "pattern": {
             "shape": ""
            }
           },
           "name": "AVE-MD",
           "offsetgroup": "AVE-MD",
           "orientation": "v",
           "showlegend": true,
           "type": "histogram",
           "x": [
            71,
            71,
            71,
            71,
            35.75,
            71,
            71,
            35.75,
            35.75,
            71,
            71,
            71,
            71,
            35.75,
            71,
            71,
            35.75,
            35.75,
            71,
            71,
            71,
            71,
            35.75,
            35.75
           ],
           "xaxis": "x",
           "yaxis": "y"
          }
         ],
         "name": "AVE-MD"
        },
        {
         "data": [
          {
           "alignmentgroup": "True",
           "bingroup": "x",
           "hovertemplate": "train_type=AVE-LD<br>price=%{x}<br>count=%{y}<extra></extra>",
           "legendgroup": "AVE-LD",
           "marker": {
            "color": "#ab63fa",
            "pattern": {
             "shape": ""
            }
           },
           "name": "AVE-LD",
           "offsetgroup": "AVE-LD",
           "orientation": "v",
           "showlegend": true,
           "type": "histogram",
           "x": [
            56.1,
            56.1,
            31.2,
            56.1,
            31.2,
            31.2,
            56.1,
            56.1,
            31.2,
            56.1,
            31.2,
            31.2,
            56.1,
            56.1,
            31.2,
            31.2
           ],
           "xaxis": "x",
           "yaxis": "y"
          }
         ],
         "name": "AVE-LD"
        },
        {
         "data": [
          {
           "alignmentgroup": "True",
           "bingroup": "x",
           "hovertemplate": "train_type=AV City<br>price=%{x}<br>count=%{y}<extra></extra>",
           "legendgroup": "AV City",
           "marker": {
            "color": "#FFA15A",
            "pattern": {
             "shape": ""
            }
           },
           "name": "AV City",
           "offsetgroup": "AV City",
           "orientation": "v",
           "showlegend": true,
           "type": "histogram",
           "x": [
            58.95,
            62.2,
            58.95,
            52.2,
            49.15,
            52.2,
            58.95,
            52.2,
            58.95,
            62.2,
            58.95,
            52.2,
            49.15,
            52.2,
            58.95,
            52.2,
            49.15,
            52.2,
            58.95,
            52.2,
            58.95,
            62.2,
            58.95,
            52.2,
            49.15,
            52.2,
            58.95,
            52.2,
            58.95,
            62.2,
            58.95,
            52.2,
            58.95,
            62.2,
            58.95,
            52.2,
            49.15,
            52.2,
            58.95,
            52.2,
            58.95,
            52.2,
            58.95,
            62.2,
            49.15,
            52.2,
            58.95,
            52.2,
            58.95,
            62.2,
            58.95,
            52.2,
            49.15,
            52.2,
            58.95,
            52.2
           ],
           "xaxis": "x",
           "yaxis": "y"
          }
         ],
         "name": "AV City"
        }
       ],
       "layout": {
        "autosize": true,
        "barmode": "relative",
        "legend": {
         "title": {
          "text": "train_type"
         },
         "tracegroupgap": 0
        },
        "sliders": [
         {
          "active": 4,
          "currentvalue": {
           "prefix": "train_type="
          },
          "len": 0.9,
          "pad": {
           "b": 10,
           "t": 60
          },
          "steps": [
           {
            "args": [
             [
              "ALVIA"
             ],
             {
              "frame": {
               "duration": 0,
               "redraw": true
              },
              "fromcurrent": true,
              "mode": "immediate",
              "transition": {
               "duration": 0,
               "easing": "linear"
              }
             }
            ],
            "label": "ALVIA",
            "method": "animate"
           },
           {
            "args": [
             [
              "AVE"
             ],
             {
              "frame": {
               "duration": 0,
               "redraw": true
              },
              "fromcurrent": true,
              "mode": "immediate",
              "transition": {
               "duration": 0,
               "easing": "linear"
              }
             }
            ],
            "label": "AVE",
            "method": "animate"
           },
           {
            "args": [
             [
              "AVE-MD"
             ],
             {
              "frame": {
               "duration": 0,
               "redraw": true
              },
              "fromcurrent": true,
              "mode": "immediate",
              "transition": {
               "duration": 0,
               "easing": "linear"
              }
             }
            ],
            "label": "AVE-MD",
            "method": "animate"
           },
           {
            "args": [
             [
              "AVE-LD"
             ],
             {
              "frame": {
               "duration": 0,
               "redraw": true
              },
              "fromcurrent": true,
              "mode": "immediate",
              "transition": {
               "duration": 0,
               "easing": "linear"
              }
             }
            ],
            "label": "AVE-LD",
            "method": "animate"
           },
           {
            "args": [
             [
              "AV City"
             ],
             {
              "frame": {
               "duration": 0,
               "redraw": true
              },
              "fromcurrent": true,
              "mode": "immediate",
              "transition": {
               "duration": 0,
               "easing": "linear"
              }
             }
            ],
            "label": "AV City",
            "method": "animate"
           }
          ],
          "x": 0.1,
          "xanchor": "left",
          "y": 0,
          "yanchor": "top"
         }
        ],
        "template": {
         "data": {
          "bar": [
           {
            "error_x": {
             "color": "#2a3f5f"
            },
            "error_y": {
             "color": "#2a3f5f"
            },
            "marker": {
             "line": {
              "color": "#E5ECF6",
              "width": 0.5
             },
             "pattern": {
              "fillmode": "overlay",
              "size": 10,
              "solidity": 0.2
             }
            },
            "type": "bar"
           }
          ],
          "barpolar": [
           {
            "marker": {
             "line": {
              "color": "#E5ECF6",
              "width": 0.5
             },
             "pattern": {
              "fillmode": "overlay",
              "size": 10,
              "solidity": 0.2
             }
            },
            "type": "barpolar"
           }
          ],
          "carpet": [
           {
            "aaxis": {
             "endlinecolor": "#2a3f5f",
             "gridcolor": "white",
             "linecolor": "white",
             "minorgridcolor": "white",
             "startlinecolor": "#2a3f5f"
            },
            "baxis": {
             "endlinecolor": "#2a3f5f",
             "gridcolor": "white",
             "linecolor": "white",
             "minorgridcolor": "white",
             "startlinecolor": "#2a3f5f"
            },
            "type": "carpet"
           }
          ],
          "choropleth": [
           {
            "colorbar": {
             "outlinewidth": 0,
             "ticks": ""
            },
            "type": "choropleth"
           }
          ],
          "contour": [
           {
            "colorbar": {
             "outlinewidth": 0,
             "ticks": ""
            },
            "colorscale": [
             [
              0,
              "#0d0887"
             ],
             [
              0.1111111111111111,
              "#46039f"
             ],
             [
              0.2222222222222222,
              "#7201a8"
             ],
             [
              0.3333333333333333,
              "#9c179e"
             ],
             [
              0.4444444444444444,
              "#bd3786"
             ],
             [
              0.5555555555555556,
              "#d8576b"
             ],
             [
              0.6666666666666666,
              "#ed7953"
             ],
             [
              0.7777777777777778,
              "#fb9f3a"
             ],
             [
              0.8888888888888888,
              "#fdca26"
             ],
             [
              1,
              "#f0f921"
             ]
            ],
            "type": "contour"
           }
          ],
          "contourcarpet": [
           {
            "colorbar": {
             "outlinewidth": 0,
             "ticks": ""
            },
            "type": "contourcarpet"
           }
          ],
          "heatmap": [
           {
            "colorbar": {
             "outlinewidth": 0,
             "ticks": ""
            },
            "colorscale": [
             [
              0,
              "#0d0887"
             ],
             [
              0.1111111111111111,
              "#46039f"
             ],
             [
              0.2222222222222222,
              "#7201a8"
             ],
             [
              0.3333333333333333,
              "#9c179e"
             ],
             [
              0.4444444444444444,
              "#bd3786"
             ],
             [
              0.5555555555555556,
              "#d8576b"
             ],
             [
              0.6666666666666666,
              "#ed7953"
             ],
             [
              0.7777777777777778,
              "#fb9f3a"
             ],
             [
              0.8888888888888888,
              "#fdca26"
             ],
             [
              1,
              "#f0f921"
             ]
            ],
            "type": "heatmap"
           }
          ],
          "heatmapgl": [
           {
            "colorbar": {
             "outlinewidth": 0,
             "ticks": ""
            },
            "colorscale": [
             [
              0,
              "#0d0887"
             ],
             [
              0.1111111111111111,
              "#46039f"
             ],
             [
              0.2222222222222222,
              "#7201a8"
             ],
             [
              0.3333333333333333,
              "#9c179e"
             ],
             [
              0.4444444444444444,
              "#bd3786"
             ],
             [
              0.5555555555555556,
              "#d8576b"
             ],
             [
              0.6666666666666666,
              "#ed7953"
             ],
             [
              0.7777777777777778,
              "#fb9f3a"
             ],
             [
              0.8888888888888888,
              "#fdca26"
             ],
             [
              1,
              "#f0f921"
             ]
            ],
            "type": "heatmapgl"
           }
          ],
          "histogram": [
           {
            "marker": {
             "pattern": {
              "fillmode": "overlay",
              "size": 10,
              "solidity": 0.2
             }
            },
            "type": "histogram"
           }
          ],
          "histogram2d": [
           {
            "colorbar": {
             "outlinewidth": 0,
             "ticks": ""
            },
            "colorscale": [
             [
              0,
              "#0d0887"
             ],
             [
              0.1111111111111111,
              "#46039f"
             ],
             [
              0.2222222222222222,
              "#7201a8"
             ],
             [
              0.3333333333333333,
              "#9c179e"
             ],
             [
              0.4444444444444444,
              "#bd3786"
             ],
             [
              0.5555555555555556,
              "#d8576b"
             ],
             [
              0.6666666666666666,
              "#ed7953"
             ],
             [
              0.7777777777777778,
              "#fb9f3a"
             ],
             [
              0.8888888888888888,
              "#fdca26"
             ],
             [
              1,
              "#f0f921"
             ]
            ],
            "type": "histogram2d"
           }
          ],
          "histogram2dcontour": [
           {
            "colorbar": {
             "outlinewidth": 0,
             "ticks": ""
            },
            "colorscale": [
             [
              0,
              "#0d0887"
             ],
             [
              0.1111111111111111,
              "#46039f"
             ],
             [
              0.2222222222222222,
              "#7201a8"
             ],
             [
              0.3333333333333333,
              "#9c179e"
             ],
             [
              0.4444444444444444,
              "#bd3786"
             ],
             [
              0.5555555555555556,
              "#d8576b"
             ],
             [
              0.6666666666666666,
              "#ed7953"
             ],
             [
              0.7777777777777778,
              "#fb9f3a"
             ],
             [
              0.8888888888888888,
              "#fdca26"
             ],
             [
              1,
              "#f0f921"
             ]
            ],
            "type": "histogram2dcontour"
           }
          ],
          "mesh3d": [
           {
            "colorbar": {
             "outlinewidth": 0,
             "ticks": ""
            },
            "type": "mesh3d"
           }
          ],
          "parcoords": [
           {
            "line": {
             "colorbar": {
              "outlinewidth": 0,
              "ticks": ""
             }
            },
            "type": "parcoords"
           }
          ],
          "pie": [
           {
            "automargin": true,
            "type": "pie"
           }
          ],
          "scatter": [
           {
            "fillpattern": {
             "fillmode": "overlay",
             "size": 10,
             "solidity": 0.2
            },
            "type": "scatter"
           }
          ],
          "scatter3d": [
           {
            "line": {
             "colorbar": {
              "outlinewidth": 0,
              "ticks": ""
             }
            },
            "marker": {
             "colorbar": {
              "outlinewidth": 0,
              "ticks": ""
             }
            },
            "type": "scatter3d"
           }
          ],
          "scattercarpet": [
           {
            "marker": {
             "colorbar": {
              "outlinewidth": 0,
              "ticks": ""
             }
            },
            "type": "scattercarpet"
           }
          ],
          "scattergeo": [
           {
            "marker": {
             "colorbar": {
              "outlinewidth": 0,
              "ticks": ""
             }
            },
            "type": "scattergeo"
           }
          ],
          "scattergl": [
           {
            "marker": {
             "colorbar": {
              "outlinewidth": 0,
              "ticks": ""
             }
            },
            "type": "scattergl"
           }
          ],
          "scattermapbox": [
           {
            "marker": {
             "colorbar": {
              "outlinewidth": 0,
              "ticks": ""
             }
            },
            "type": "scattermapbox"
           }
          ],
          "scatterpolar": [
           {
            "marker": {
             "colorbar": {
              "outlinewidth": 0,
              "ticks": ""
             }
            },
            "type": "scatterpolar"
           }
          ],
          "scatterpolargl": [
           {
            "marker": {
             "colorbar": {
              "outlinewidth": 0,
              "ticks": ""
             }
            },
            "type": "scatterpolargl"
           }
          ],
          "scatterternary": [
           {
            "marker": {
             "colorbar": {
              "outlinewidth": 0,
              "ticks": ""
             }
            },
            "type": "scatterternary"
           }
          ],
          "surface": [
           {
            "colorbar": {
             "outlinewidth": 0,
             "ticks": ""
            },
            "colorscale": [
             [
              0,
              "#0d0887"
             ],
             [
              0.1111111111111111,
              "#46039f"
             ],
             [
              0.2222222222222222,
              "#7201a8"
             ],
             [
              0.3333333333333333,
              "#9c179e"
             ],
             [
              0.4444444444444444,
              "#bd3786"
             ],
             [
              0.5555555555555556,
              "#d8576b"
             ],
             [
              0.6666666666666666,
              "#ed7953"
             ],
             [
              0.7777777777777778,
              "#fb9f3a"
             ],
             [
              0.8888888888888888,
              "#fdca26"
             ],
             [
              1,
              "#f0f921"
             ]
            ],
            "type": "surface"
           }
          ],
          "table": [
           {
            "cells": {
             "fill": {
              "color": "#EBF0F8"
             },
             "line": {
              "color": "white"
             }
            },
            "header": {
             "fill": {
              "color": "#C8D4E3"
             },
             "line": {
              "color": "white"
             }
            },
            "type": "table"
           }
          ]
         },
         "layout": {
          "annotationdefaults": {
           "arrowcolor": "#2a3f5f",
           "arrowhead": 0,
           "arrowwidth": 1
          },
          "autotypenumbers": "strict",
          "coloraxis": {
           "colorbar": {
            "outlinewidth": 0,
            "ticks": ""
           }
          },
          "colorscale": {
           "diverging": [
            [
             0,
             "#8e0152"
            ],
            [
             0.1,
             "#c51b7d"
            ],
            [
             0.2,
             "#de77ae"
            ],
            [
             0.3,
             "#f1b6da"
            ],
            [
             0.4,
             "#fde0ef"
            ],
            [
             0.5,
             "#f7f7f7"
            ],
            [
             0.6,
             "#e6f5d0"
            ],
            [
             0.7,
             "#b8e186"
            ],
            [
             0.8,
             "#7fbc41"
            ],
            [
             0.9,
             "#4d9221"
            ],
            [
             1,
             "#276419"
            ]
           ],
           "sequential": [
            [
             0,
             "#0d0887"
            ],
            [
             0.1111111111111111,
             "#46039f"
            ],
            [
             0.2222222222222222,
             "#7201a8"
            ],
            [
             0.3333333333333333,
             "#9c179e"
            ],
            [
             0.4444444444444444,
             "#bd3786"
            ],
            [
             0.5555555555555556,
             "#d8576b"
            ],
            [
             0.6666666666666666,
             "#ed7953"
            ],
            [
             0.7777777777777778,
             "#fb9f3a"
            ],
            [
             0.8888888888888888,
             "#fdca26"
            ],
            [
             1,
             "#f0f921"
            ]
           ],
           "sequentialminus": [
            [
             0,
             "#0d0887"
            ],
            [
             0.1111111111111111,
             "#46039f"
            ],
            [
             0.2222222222222222,
             "#7201a8"
            ],
            [
             0.3333333333333333,
             "#9c179e"
            ],
            [
             0.4444444444444444,
             "#bd3786"
            ],
            [
             0.5555555555555556,
             "#d8576b"
            ],
            [
             0.6666666666666666,
             "#ed7953"
            ],
            [
             0.7777777777777778,
             "#fb9f3a"
            ],
            [
             0.8888888888888888,
             "#fdca26"
            ],
            [
             1,
             "#f0f921"
            ]
           ]
          },
          "colorway": [
           "#636efa",
           "#EF553B",
           "#00cc96",
           "#ab63fa",
           "#FFA15A",
           "#19d3f3",
           "#FF6692",
           "#B6E880",
           "#FF97FF",
           "#FECB52"
          ],
          "font": {
           "color": "#2a3f5f"
          },
          "geo": {
           "bgcolor": "white",
           "lakecolor": "white",
           "landcolor": "#E5ECF6",
           "showlakes": true,
           "showland": true,
           "subunitcolor": "white"
          },
          "hoverlabel": {
           "align": "left"
          },
          "hovermode": "closest",
          "mapbox": {
           "style": "light"
          },
          "paper_bgcolor": "white",
          "plot_bgcolor": "#E5ECF6",
          "polar": {
           "angularaxis": {
            "gridcolor": "white",
            "linecolor": "white",
            "ticks": ""
           },
           "bgcolor": "#E5ECF6",
           "radialaxis": {
            "gridcolor": "white",
            "linecolor": "white",
            "ticks": ""
           }
          },
          "scene": {
           "xaxis": {
            "backgroundcolor": "#E5ECF6",
            "gridcolor": "white",
            "gridwidth": 2,
            "linecolor": "white",
            "showbackground": true,
            "ticks": "",
            "zerolinecolor": "white"
           },
           "yaxis": {
            "backgroundcolor": "#E5ECF6",
            "gridcolor": "white",
            "gridwidth": 2,
            "linecolor": "white",
            "showbackground": true,
            "ticks": "",
            "zerolinecolor": "white"
           },
           "zaxis": {
            "backgroundcolor": "#E5ECF6",
            "gridcolor": "white",
            "gridwidth": 2,
            "linecolor": "white",
            "showbackground": true,
            "ticks": "",
            "zerolinecolor": "white"
           }
          },
          "shapedefaults": {
           "line": {
            "color": "#2a3f5f"
           }
          },
          "ternary": {
           "aaxis": {
            "gridcolor": "white",
            "linecolor": "white",
            "ticks": ""
           },
           "baxis": {
            "gridcolor": "white",
            "linecolor": "white",
            "ticks": ""
           },
           "bgcolor": "#E5ECF6",
           "caxis": {
            "gridcolor": "white",
            "linecolor": "white",
            "ticks": ""
           }
          },
          "title": {
           "x": 0.05
          },
          "xaxis": {
           "automargin": true,
           "gridcolor": "white",
           "linecolor": "white",
           "ticks": "",
           "title": {
            "standoff": 15
           },
           "zerolinecolor": "white",
           "zerolinewidth": 2
          },
          "yaxis": {
           "automargin": true,
           "gridcolor": "white",
           "linecolor": "white",
           "ticks": "",
           "title": {
            "standoff": 15
           },
           "zerolinecolor": "white",
           "zerolinewidth": 2
          }
         }
        },
        "title": {
         "text": "Animated Price Distribution over Time"
        },
        "updatemenus": [
         {
          "active": 0,
          "buttons": [
           {
            "args": [
             null,
             {
              "frame": {
               "duration": 500,
               "redraw": true
              },
              "fromcurrent": true,
              "mode": "immediate",
              "transition": {
               "duration": 500,
               "easing": "linear"
              }
             }
            ],
            "label": "&#9654;",
            "method": "animate"
           },
           {
            "args": [
             [
              null
             ],
             {
              "frame": {
               "duration": 0,
               "redraw": true
              },
              "fromcurrent": true,
              "mode": "immediate",
              "transition": {
               "duration": 0,
               "easing": "linear"
              }
             }
            ],
            "label": "&#9724;",
            "method": "animate"
           }
          ],
          "direction": "left",
          "pad": {
           "r": 10,
           "t": 70
          },
          "showactive": false,
          "type": "buttons",
          "x": 0.1,
          "xanchor": "right",
          "y": 0,
          "yanchor": "top"
         }
        ],
        "xaxis": {
         "anchor": "y",
         "autorange": true,
         "domain": [
          0,
          1
         ],
         "range": [
          -5,
          55
         ],
         "title": {
          "text": "price"
         },
         "type": "linear"
        },
        "yaxis": {
         "anchor": "x",
         "autorange": true,
         "domain": [
          0,
          1
         ],
         "range": [
          0,
          36.8421052631579
         ],
         "title": {
          "text": "count"
         }
        }
       }
      },
      "image/png": "[encoded data removed]",
      "text/html": [
       "<div>                            <div id=\"e5c8afb0-2f47-472d-bdd9-587068de4743\" class=\"plotly-graph-div\" style=\"height:525px; width:100%;\"></div>            <script type=\"text/javascript\">                require([\"plotly\"], function(Plotly) {                    window.PLOTLYENV=window.PLOTLYENV || {};                                    if (document.getElementById(\"e5c8afb0-2f47-472d-bdd9-587068de4743\")) {                    Plotly.newPlot(                        \"e5c8afb0-2f47-472d-bdd9-587068de4743\",                        [{\"alignmentgroup\":\"True\",\"bingroup\":\"x\",\"hovertemplate\":\"train_type=ALVIA\\u003cbr\\u003eprice=%{x}\\u003cbr\\u003ecount=%{y}\\u003cextra\\u003e\\u003c\\u002fextra\\u003e\",\"legendgroup\":\"ALVIA\",\"marker\":{\"color\":\"#636efa\",\"pattern\":{\"shape\":\"\"}},\"name\":\"ALVIA\",\"offsetgroup\":\"ALVIA\",\"orientation\":\"v\",\"showlegend\":true,\"x\":[27.9,0.0,0.0,0.0,0.0,47.05,33.5,27.9,0.0,0.0,0.0,0.0,0.0,47.05,0.0,27.9,33.5,0.0,33.5,0.0,0.0,0.0,0.0,47.05,27.9,0.0,0.0,0.0,0.0,0.0,47.05,27.9,33.5,0.0,0.0,0.0,0.0,47.05,27.9,0.0,33.5,27.9,33.5,0.0,47.05,0.0,0.0,0.0,0.0,0.0,0.0,0.0,0.0,47.05,27.9,0.0,33.5],\"xaxis\":\"x\",\"yaxis\":\"y\",\"type\":\"histogram\"}],                        {\"template\":{\"data\":{\"histogram2dcontour\":[{\"type\":\"histogram2dcontour\",\"colorbar\":{\"outlinewidth\":0,\"ticks\":\"\"},\"colorscale\":[[0.0,\"#0d0887\"],[0.1111111111111111,\"#46039f\"],[0.2222222222222222,\"#7201a8\"],[0.3333333333333333,\"#9c179e\"],[0.4444444444444444,\"#bd3786\"],[0.5555555555555556,\"#d8576b\"],[0.6666666666666666,\"#ed7953\"],[0.7777777777777778,\"#fb9f3a\"],[0.8888888888888888,\"#fdca26\"],[1.0,\"#f0f921\"]]}],\"choropleth\":[{\"type\":\"choropleth\",\"colorbar\":{\"outlinewidth\":0,\"ticks\":\"\"}}],\"histogram2d\":[{\"type\":\"histogram2d\",\"colorbar\":{\"outlinewidth\":0,\"ticks\":\"\"},\"colorscale\":[[0.0,\"#0d0887\"],[0.1111111111111111,\"#46039f\"],[0.2222222222222222,\"#7201a8\"],[0.3333333333333333,\"#9c179e\"],[0.4444444444444444,\"#bd3786\"],[0.5555555555555556,\"#d8576b\"],[0.6666666666666666,\"#ed7953\"],[0.7777777777777778,\"#fb9f3a\"],[0.8888888888888888,\"#fdca26\"],[1.0,\"#f0f921\"]]}],\"heatmap\":[{\"type\":\"heatmap\",\"colorbar\":{\"outlinewidth\":0,\"ticks\":\"\"},\"colorscale\":[[0.0,\"#0d0887\"],[0.1111111111111111,\"#46039f\"],[0.2222222222222222,\"#7201a8\"],[0.3333333333333333,\"#9c179e\"],[0.4444444444444444,\"#bd3786\"],[0.5555555555555556,\"#d8576b\"],[0.6666666666666666,\"#ed7953\"],[0.7777777777777778,\"#fb9f3a\"],[0.8888888888888888,\"#fdca26\"],[1.0,\"#f0f921\"]]}],\"heatmapgl\":[{\"type\":\"heatmapgl\",\"colorbar\":{\"outlinewidth\":0,\"ticks\":\"\"},\"colorscale\":[[0.0,\"#0d0887\"],[0.1111111111111111,\"#46039f\"],[0.2222222222222222,\"#7201a8\"],[0.3333333333333333,\"#9c179e\"],[0.4444444444444444,\"#bd3786\"],[0.5555555555555556,\"#d8576b\"],[0.6666666666666666,\"#ed7953\"],[0.7777777777777778,\"#fb9f3a\"],[0.8888888888888888,\"#fdca26\"],[1.0,\"#f0f921\"]]}],\"contourcarpet\":[{\"type\":\"contourcarpet\",\"colorbar\":{\"outlinewidth\":0,\"ticks\":\"\"}}],\"contour\":[{\"type\":\"contour\",\"colorbar\":{\"outlinewidth\":0,\"ticks\":\"\"},\"colorscale\":[[0.0,\"#0d0887\"],[0.1111111111111111,\"#46039f\"],[0.2222222222222222,\"#7201a8\"],[0.3333333333333333,\"#9c179e\"],[0.4444444444444444,\"#bd3786\"],[0.5555555555555556,\"#d8576b\"],[0.6666666666666666,\"#ed7953\"],[0.7777777777777778,\"#fb9f3a\"],[0.8888888888888888,\"#fdca26\"],[1.0,\"#f0f921\"]]}],\"surface\":[{\"type\":\"surface\",\"colorbar\":{\"outlinewidth\":0,\"ticks\":\"\"},\"colorscale\":[[0.0,\"#0d0887\"],[0.1111111111111111,\"#46039f\"],[0.2222222222222222,\"#7201a8\"],[0.3333333333333333,\"#9c179e\"],[0.4444444444444444,\"#bd3786\"],[0.5555555555555556,\"#d8576b\"],[0.6666666666666666,\"#ed7953\"],[0.7777777777777778,\"#fb9f3a\"],[0.8888888888888888,\"#fdca26\"],[1.0,\"#f0f921\"]]}],\"mesh3d\":[{\"type\":\"mesh3d\",\"colorbar\":{\"outlinewidth\":0,\"ticks\":\"\"}}],\"scatter\":[{\"fillpattern\":{\"fillmode\":\"overlay\",\"size\":10,\"solidity\":0.2},\"type\":\"scatter\"}],\"parcoords\":[{\"type\":\"parcoords\",\"line\":{\"colorbar\":{\"outlinewidth\":0,\"ticks\":\"\"}}}],\"scatterpolargl\":[{\"type\":\"scatterpolargl\",\"marker\":{\"colorbar\":{\"outlinewidth\":0,\"ticks\":\"\"}}}],\"bar\":[{\"error_x\":{\"color\":\"#2a3f5f\"},\"error_y\":{\"color\":\"#2a3f5f\"},\"marker\":{\"line\":{\"color\":\"#E5ECF6\",\"width\":0.5},\"pattern\":{\"fillmode\":\"overlay\",\"size\":10,\"solidity\":0.2}},\"type\":\"bar\"}],\"scattergeo\":[{\"type\":\"scattergeo\",\"marker\":{\"colorbar\":{\"outlinewidth\":0,\"ticks\":\"\"}}}],\"scatterpolar\":[{\"type\":\"scatterpolar\",\"marker\":{\"colorbar\":{\"outlinewidth\":0,\"ticks\":\"\"}}}],\"histogram\":[{\"marker\":{\"pattern\":{\"fillmode\":\"overlay\",\"size\":10,\"solidity\":0.2}},\"type\":\"histogram\"}],\"scattergl\":[{\"type\":\"scattergl\",\"marker\":{\"colorbar\":{\"outlinewidth\":0,\"ticks\":\"\"}}}],\"scatter3d\":[{\"type\":\"scatter3d\",\"line\":{\"colorbar\":{\"outlinewidth\":0,\"ticks\":\"\"}},\"marker\":{\"colorbar\":{\"outlinewidth\":0,\"ticks\":\"\"}}}],\"scattermapbox\":[{\"type\":\"scattermapbox\",\"marker\":{\"colorbar\":{\"outlinewidth\":0,\"ticks\":\"\"}}}],\"scatterternary\":[{\"type\":\"scatterternary\",\"marker\":{\"colorbar\":{\"outlinewidth\":0,\"ticks\":\"\"}}}],\"scattercarpet\":[{\"type\":\"scattercarpet\",\"marker\":{\"colorbar\":{\"outlinewidth\":0,\"ticks\":\"\"}}}],\"carpet\":[{\"aaxis\":{\"endlinecolor\":\"#2a3f5f\",\"gridcolor\":\"white\",\"linecolor\":\"white\",\"minorgridcolor\":\"white\",\"startlinecolor\":\"#2a3f5f\"},\"baxis\":{\"endlinecolor\":\"#2a3f5f\",\"gridcolor\":\"white\",\"linecolor\":\"white\",\"minorgridcolor\":\"white\",\"startlinecolor\":\"#2a3f5f\"},\"type\":\"carpet\"}],\"table\":[{\"cells\":{\"fill\":{\"color\":\"#EBF0F8\"},\"line\":{\"color\":\"white\"}},\"header\":{\"fill\":{\"color\":\"#C8D4E3\"},\"line\":{\"color\":\"white\"}},\"type\":\"table\"}],\"barpolar\":[{\"marker\":{\"line\":{\"color\":\"#E5ECF6\",\"width\":0.5},\"pattern\":{\"fillmode\":\"overlay\",\"size\":10,\"solidity\":0.2}},\"type\":\"barpolar\"}],\"pie\":[{\"automargin\":true,\"type\":\"pie\"}]},\"layout\":{\"autotypenumbers\":\"strict\",\"colorway\":[\"#636efa\",\"#EF553B\",\"#00cc96\",\"#ab63fa\",\"#FFA15A\",\"#19d3f3\",\"#FF6692\",\"#B6E880\",\"#FF97FF\",\"#FECB52\"],\"font\":{\"color\":\"#2a3f5f\"},\"hovermode\":\"closest\",\"hoverlabel\":{\"align\":\"left\"},\"paper_bgcolor\":\"white\",\"plot_bgcolor\":\"#E5ECF6\",\"polar\":{\"bgcolor\":\"#E5ECF6\",\"angularaxis\":{\"gridcolor\":\"white\",\"linecolor\":\"white\",\"ticks\":\"\"},\"radialaxis\":{\"gridcolor\":\"white\",\"linecolor\":\"white\",\"ticks\":\"\"}},\"ternary\":{\"bgcolor\":\"#E5ECF6\",\"aaxis\":{\"gridcolor\":\"white\",\"linecolor\":\"white\",\"ticks\":\"\"},\"baxis\":{\"gridcolor\":\"white\",\"linecolor\":\"white\",\"ticks\":\"\"},\"caxis\":{\"gridcolor\":\"white\",\"linecolor\":\"white\",\"ticks\":\"\"}},\"coloraxis\":{\"colorbar\":{\"outlinewidth\":0,\"ticks\":\"\"}},\"colorscale\":{\"sequential\":[[0.0,\"#0d0887\"],[0.1111111111111111,\"#46039f\"],[0.2222222222222222,\"#7201a8\"],[0.3333333333333333,\"#9c179e\"],[0.4444444444444444,\"#bd3786\"],[0.5555555555555556,\"#d8576b\"],[0.6666666666666666,\"#ed7953\"],[0.7777777777777778,\"#fb9f3a\"],[0.8888888888888888,\"#fdca26\"],[1.0,\"#f0f921\"]],\"sequentialminus\":[[0.0,\"#0d0887\"],[0.1111111111111111,\"#46039f\"],[0.2222222222222222,\"#7201a8\"],[0.3333333333333333,\"#9c179e\"],[0.4444444444444444,\"#bd3786\"],[0.5555555555555556,\"#d8576b\"],[0.6666666666666666,\"#ed7953\"],[0.7777777777777778,\"#fb9f3a\"],[0.8888888888888888,\"#fdca26\"],[1.0,\"#f0f921\"]],\"diverging\":[[0,\"#8e0152\"],[0.1,\"#c51b7d\"],[0.2,\"#de77ae\"],[0.3,\"#f1b6da\"],[0.4,\"#fde0ef\"],[0.5,\"#f7f7f7\"],[0.6,\"#e6f5d0\"],[0.7,\"#b8e186\"],[0.8,\"#7fbc41\"],[0.9,\"#4d9221\"],[1,\"#276419\"]]},\"xaxis\":{\"gridcolor\":\"white\",\"linecolor\":\"white\",\"ticks\":\"\",\"title\":{\"standoff\":15},\"zerolinecolor\":\"white\",\"automargin\":true,\"zerolinewidth\":2},\"yaxis\":{\"gridcolor\":\"white\",\"linecolor\":\"white\",\"ticks\":\"\",\"title\":{\"standoff\":15},\"zerolinecolor\":\"white\",\"automargin\":true,\"zerolinewidth\":2},\"scene\":{\"xaxis\":{\"backgroundcolor\":\"#E5ECF6\",\"gridcolor\":\"white\",\"linecolor\":\"white\",\"showbackground\":true,\"ticks\":\"\",\"zerolinecolor\":\"white\",\"gridwidth\":2},\"yaxis\":{\"backgroundcolor\":\"#E5ECF6\",\"gridcolor\":\"white\",\"linecolor\":\"white\",\"showbackground\":true,\"ticks\":\"\",\"zerolinecolor\":\"white\",\"gridwidth\":2},\"zaxis\":{\"backgroundcolor\":\"#E5ECF6\",\"gridcolor\":\"white\",\"linecolor\":\"white\",\"showbackground\":true,\"ticks\":\"\",\"zerolinecolor\":\"white\",\"gridwidth\":2}},\"shapedefaults\":{\"line\":{\"color\":\"#2a3f5f\"}},\"annotationdefaults\":{\"arrowcolor\":\"#2a3f5f\",\"arrowhead\":0,\"arrowwidth\":1},\"geo\":{\"bgcolor\":\"white\",\"landcolor\":\"#E5ECF6\",\"subunitcolor\":\"white\",\"showland\":true,\"showlakes\":true,\"lakecolor\":\"white\"},\"title\":{\"x\":0.05},\"mapbox\":{\"style\":\"light\"}}},\"xaxis\":{\"anchor\":\"y\",\"domain\":[0.0,1.0],\"title\":{\"text\":\"price\"}},\"yaxis\":{\"anchor\":\"x\",\"domain\":[0.0,1.0],\"title\":{\"text\":\"count\"}},\"legend\":{\"title\":{\"text\":\"train_type\"},\"tracegroupgap\":0},\"title\":{\"text\":\"Animated Price Distribution over Time\"},\"barmode\":\"relative\",\"updatemenus\":[{\"buttons\":[{\"args\":[null,{\"frame\":{\"duration\":500,\"redraw\":true},\"mode\":\"immediate\",\"fromcurrent\":true,\"transition\":{\"duration\":500,\"easing\":\"linear\"}}],\"label\":\"&#9654;\",\"method\":\"animate\"},{\"args\":[[null],{\"frame\":{\"duration\":0,\"redraw\":true},\"mode\":\"immediate\",\"fromcurrent\":true,\"transition\":{\"duration\":0,\"easing\":\"linear\"}}],\"label\":\"&#9724;\",\"method\":\"animate\"}],\"direction\":\"left\",\"pad\":{\"r\":10,\"t\":70},\"showactive\":false,\"type\":\"buttons\",\"x\":0.1,\"xanchor\":\"right\",\"y\":0,\"yanchor\":\"top\"}],\"sliders\":[{\"active\":0,\"currentvalue\":{\"prefix\":\"train_type=\"},\"len\":0.9,\"pad\":{\"b\":10,\"t\":60},\"steps\":[{\"args\":[[\"ALVIA\"],{\"frame\":{\"duration\":0,\"redraw\":true},\"mode\":\"immediate\",\"fromcurrent\":true,\"transition\":{\"duration\":0,\"easing\":\"linear\"}}],\"label\":\"ALVIA\",\"method\":\"animate\"},{\"args\":[[\"AVE\"],{\"frame\":{\"duration\":0,\"redraw\":true},\"mode\":\"immediate\",\"fromcurrent\":true,\"transition\":{\"duration\":0,\"easing\":\"linear\"}}],\"label\":\"AVE\",\"method\":\"animate\"},{\"args\":[[\"AVE-MD\"],{\"frame\":{\"duration\":0,\"redraw\":true},\"mode\":\"immediate\",\"fromcurrent\":true,\"transition\":{\"duration\":0,\"easing\":\"linear\"}}],\"label\":\"AVE-MD\",\"method\":\"animate\"},{\"args\":[[\"AVE-LD\"],{\"frame\":{\"duration\":0,\"redraw\":true},\"mode\":\"immediate\",\"fromcurrent\":true,\"transition\":{\"duration\":0,\"easing\":\"linear\"}}],\"label\":\"AVE-LD\",\"method\":\"animate\"},{\"args\":[[\"AV City\"],{\"frame\":{\"duration\":0,\"redraw\":true},\"mode\":\"immediate\",\"fromcurrent\":true,\"transition\":{\"duration\":0,\"easing\":\"linear\"}}],\"label\":\"AV City\",\"method\":\"animate\"}],\"x\":0.1,\"xanchor\":\"left\",\"y\":0,\"yanchor\":\"top\"}]},                        {\"responsive\": true}                    ).then(function(){\n",
       "                            Plotly.addFrames('e5c8afb0-2f47-472d-bdd9-587068de4743', [{\"data\":[{\"alignmentgroup\":\"True\",\"bingroup\":\"x\",\"hovertemplate\":\"train_type=ALVIA\\u003cbr\\u003eprice=%{x}\\u003cbr\\u003ecount=%{y}\\u003cextra\\u003e\\u003c\\u002fextra\\u003e\",\"legendgroup\":\"ALVIA\",\"marker\":{\"color\":\"#636efa\",\"pattern\":{\"shape\":\"\"}},\"name\":\"ALVIA\",\"offsetgroup\":\"ALVIA\",\"orientation\":\"v\",\"showlegend\":true,\"x\":[27.9,0.0,0.0,0.0,0.0,47.05,33.5,27.9,0.0,0.0,0.0,0.0,0.0,47.05,0.0,27.9,33.5,0.0,33.5,0.0,0.0,0.0,0.0,47.05,27.9,0.0,0.0,0.0,0.0,0.0,47.05,27.9,33.5,0.0,0.0,0.0,0.0,47.05,27.9,0.0,33.5,27.9,33.5,0.0,47.05,0.0,0.0,0.0,0.0,0.0,0.0,0.0,0.0,47.05,27.9,0.0,33.5],\"xaxis\":\"x\",\"yaxis\":\"y\",\"type\":\"histogram\"}],\"name\":\"ALVIA\"},{\"data\":[{\"alignmentgroup\":\"True\",\"bingroup\":\"x\",\"hovertemplate\":\"train_type=AVE\\u003cbr\\u003eprice=%{x}\\u003cbr\\u003ecount=%{y}\\u003cextra\\u003e\\u003c\\u002fextra\\u003e\",\"legendgroup\":\"AVE\",\"marker\":{\"color\":\"#EF553B\",\"pattern\":{\"shape\":\"\"}},\"name\":\"AVE\",\"offsetgroup\":\"AVE\",\"orientation\":\"v\",\"showlegend\":true,\"x\":[21.95,39.45,21.95,33.65,45.3,45.3,51.15,39.45,33.65,45.3,33.65,27.8,39.45,33.65,39.45,45.3,33.65,66.75,66.75,85.1,85.1,85.1,107.7,102.15,88.95,90.5,90.5,88.95,88.95,100.4,85.1,88.95,85.1,75.4,58.15,75.4,85.1,75.4,75.4,75.4,80.15,80.15,80.15,69.8,58.15,66.75,76.3,76.3,76.3,76.3,76.3,76.3,76.3,64.05,72.3,47.3,76.3,47.3,47.3,53.4,53.4,60.3,47.3,21.95,39.45,21.95,33.65,45.3,45.3,51.15,39.45,33.65,45.3,33.65,27.8,39.45,33.65,39.45,45.3,33.65,39.45,51.15,51.15,45.3,45.3,57.75,57.75,57.75,57.75,51.15,39.45,39.45,45.3,33.65,33.65,21.95,27.8,85.1,66.75,85.1,85.1,85.1,107.7,107.7,102.15,90.5,90.5,100.4,107.7,100.4,100.4,102.15,100.4,85.1,107.7,69.8,75.4,75.4,78.8,85.1,85.1,75.4,58.15,66.75,75.4,69.8,58.15,66.75,49.55,76.3,64.05,64.05,47.3,53.4,53.4,76.3,47.3,47.3,47.3,47.3,69.8,75.4,75.4,78.8,85.1,85.1,85.1,75.4,58.15,66.75,75.4,69.8,58.15,66.75,49.55,66.75,85.1,85.1,85.1,107.7,107.7,102.15,90.5,90.5,100.4,107.7,100.4,100.4,102.15,100.4,85.1,107.7,39.45,51.15,51.15,45.3,45.3,57.75,57.75,57.75,57.75,51.15,39.45,39.45,45.3,33.65,33.65,21.95,27.8,76.3,76.3,76.3,76.3,76.3,76.3,76.3,64.05,72.3,47.3,76.3,47.3,47.3,53.4,53.4,60.3,47.3,76.3,64.05,64.05,47.3,53.4,53.4,76.3,47.3,47.3,47.3,47.3,66.75,66.75,85.1,85.1,85.1,107.7,102.15,88.95,90.5,90.5,88.95,88.95,100.4,85.1,88.95,85.1,75.4,21.95,39.45,21.95,33.65,45.3,45.3,51.15,39.45,33.65,45.3,33.65,27.8,39.45,33.65,39.45,45.3,33.65,76.3,64.05,64.05,47.3,53.4,53.4,76.3,47.3,47.3,47.3,47.3,88.95,66.75,66.75,85.1,85.1,85.1,107.7,102.15,88.95,90.5,90.5,88.95,88.95,100.4,85.1,85.1,75.4,58.15,75.4,85.1,75.4,75.4,75.4,80.15,80.15,80.15,69.8,58.15,66.75,66.75,85.1,85.1,85.1,107.7,107.7,102.15,90.5,90.5,100.4,107.7,100.4,100.4,102.15,100.4,85.1,107.7,69.8,75.4,75.4,78.8,85.1,85.1,85.1,75.4,58.15,66.75,75.4,69.8,58.15,66.75,49.55,39.45,39.45,45.3,33.65,33.65,21.95,27.8,76.3,76.3,76.3,76.3,76.3,76.3,76.3,64.05,72.3,47.3,76.3,47.3,47.3,53.4,53.4,60.3,47.3,21.95,39.45,21.95,33.65,45.3,45.3,51.15,39.45,33.65,45.3,33.65,27.8,39.45,33.65,39.45,45.3,33.65,76.3,64.05,64.05,47.3,53.4,53.4,76.3,47.3,47.3,47.3,47.3,66.75,85.1,85.1,85.1,107.7,107.7,102.15,90.5,90.5,100.4,107.7,100.4,100.4,102.15,100.4,85.1,107.7,69.8,75.4,75.4,78.8,85.1,85.1,85.1,75.4,58.15,66.75,75.4,69.8,58.15,66.75,49.55,39.45,51.15,51.15,45.3,45.3,57.75,57.75,57.75,57.75,51.15,39.45,39.45,45.3,33.65,33.65,21.95,27.8,76.3,76.3,76.3,76.3,76.3,76.3,76.3,64.05,72.3,47.3,76.3,47.3,47.3,53.4,53.4,60.3,47.3,21.95,39.45,21.95,33.65,45.3,45.3,51.15,39.45,33.65,45.3,33.65,27.8,39.45,33.65,39.45,45.3,33.65,66.75,66.75,85.1,85.1,85.1,107.7,102.15,88.95,90.5,90.5,88.95,88.95,100.4,85.1,88.95,85.1,75.4,58.15,75.4,85.1,75.4,75.4,75.4,80.15,80.15,80.15,69.8,58.15,66.75,76.3,76.3,76.3,76.3,76.3,76.3,76.3,64.05,72.3,47.3,76.3,47.3,47.3,53.4,53.4,60.3,47.3,66.75,66.75,85.1,85.1,85.1,107.7,102.15,88.95,90.5,90.5,88.95,88.95,100.4,85.1,88.95,85.1,75.4,58.15,75.4,85.1,75.4,75.4,75.4,80.15,80.15,80.15,69.8,58.15,66.75,39.45,51.15,51.15,45.3,45.3,57.75,57.75,57.75,57.75,51.15,39.45,39.45,45.3,33.65,33.65,21.95,27.8,76.3,64.05,64.05,47.3,53.4,53.4,76.3,47.3,47.3,47.3,47.3,66.75,85.1,85.1,85.1,107.7,107.7,102.15,90.5,90.5,100.4,107.7,100.4,100.4,102.15,100.4,85.1,107.7,69.8,75.4,75.4,78.8,85.1,85.1,85.1,75.4,58.15,66.75,75.4,69.8,58.15,66.75,49.55,21.95,39.45,21.95,33.65,45.3,45.3,51.15,39.45,33.65,45.3,33.65,27.8,39.45,33.65,39.45,45.3,33.65,66.75,85.1,85.1,85.1,107.7,107.7,102.15,90.5,90.5,100.4,107.7,100.4,100.4,102.15,100.4,85.1,107.7,69.8,75.4,75.4,78.8,85.1,85.1,85.1,75.4,58.15,66.75,75.4,69.8,58.15,66.75,49.55,39.45,51.15,51.15,45.3,45.3,57.75,57.75,57.75,57.75,51.15,39.45,39.45,45.3,33.65,33.65,21.95,27.8,45.3,33.65,27.8,39.45,33.65,39.45,45.3,33.65,21.95,39.45,21.95,33.65,45.3,45.3,51.15,39.45,33.65,47.3,76.3,47.3,47.3,53.4,53.4,60.3,47.3,76.3,76.3,76.3,76.3,76.3,76.3,76.3,64.05,72.3,76.3,64.05,64.05,47.3,53.4,53.4,76.3,47.3,47.3,47.3,47.3,66.75,66.75,85.1,85.1,85.1,107.7,102.15,88.95,90.5,90.5,88.95,88.95,100.4,85.1,88.95,85.1,75.4,58.15,75.4,85.1,75.4,75.4,75.4,80.15,80.15,80.15,69.8,58.15,66.75,66.75,85.1,85.1,85.1,107.7,107.7,102.15,90.5,90.5,100.4,107.7,100.4,100.4,102.15,100.4,85.1,107.7,69.8,75.4,75.4,78.8,85.1,85.1,85.1,75.4,58.15,66.75,75.4,69.8,58.15,66.75,49.55,76.3,76.3,76.3,76.3,76.3,76.3,76.3,64.05,72.3,47.3,76.3,47.3,47.3,53.4,53.4,60.3,47.3,21.95,39.45,21.95,33.65,45.3,45.3,51.15,39.45,33.65,45.3,33.65,27.8,39.45,33.65,39.45,45.3,33.65,39.45,51.15,51.15,45.3,45.3,57.75,57.75,57.75,57.75,51.15,39.45,39.45,45.3,33.65,33.65,21.95,27.8,76.3,64.05,64.05,47.3,53.4,53.4,76.3,47.3,47.3,47.3,47.3,66.75,66.75,85.1,85.1,85.1,107.7,102.15,88.95,90.5,90.5,88.95,88.95,100.4,85.1,88.95,85.1,75.4,58.15,75.4,85.1,75.4,75.4,75.4,80.15,80.15,80.15,69.8,58.15,66.75],\"xaxis\":\"x\",\"yaxis\":\"y\",\"type\":\"histogram\"}],\"name\":\"AVE\"},{\"data\":[{\"alignmentgroup\":\"True\",\"bingroup\":\"x\",\"hovertemplate\":\"train_type=AVE-MD\\u003cbr\\u003eprice=%{x}\\u003cbr\\u003ecount=%{y}\\u003cextra\\u003e\\u003c\\u002fextra\\u003e\",\"legendgroup\":\"AVE-MD\",\"marker\":{\"color\":\"#00cc96\",\"pattern\":{\"shape\":\"\"}},\"name\":\"AVE-MD\",\"offsetgroup\":\"AVE-MD\",\"orientation\":\"v\",\"showlegend\":true,\"x\":[71.0,71.0,71.0,71.0,35.75,71.0,71.0,35.75,35.75,71.0,71.0,71.0,71.0,35.75,71.0,71.0,35.75,35.75,71.0,71.0,71.0,71.0,35.75,35.75],\"xaxis\":\"x\",\"yaxis\":\"y\",\"type\":\"histogram\"}],\"name\":\"AVE-MD\"},{\"data\":[{\"alignmentgroup\":\"True\",\"bingroup\":\"x\",\"hovertemplate\":\"train_type=AVE-LD\\u003cbr\\u003eprice=%{x}\\u003cbr\\u003ecount=%{y}\\u003cextra\\u003e\\u003c\\u002fextra\\u003e\",\"legendgroup\":\"AVE-LD\",\"marker\":{\"color\":\"#ab63fa\",\"pattern\":{\"shape\":\"\"}},\"name\":\"AVE-LD\",\"offsetgroup\":\"AVE-LD\",\"orientation\":\"v\",\"showlegend\":true,\"x\":[56.1,56.1,31.2,56.1,31.2,31.2,56.1,56.1,31.2,56.1,31.2,31.2,56.1,56.1,31.2,31.2],\"xaxis\":\"x\",\"yaxis\":\"y\",\"type\":\"histogram\"}],\"name\":\"AVE-LD\"},{\"data\":[{\"alignmentgroup\":\"True\",\"bingroup\":\"x\",\"hovertemplate\":\"train_type=AV City\\u003cbr\\u003eprice=%{x}\\u003cbr\\u003ecount=%{y}\\u003cextra\\u003e\\u003c\\u002fextra\\u003e\",\"legendgroup\":\"AV City\",\"marker\":{\"color\":\"#FFA15A\",\"pattern\":{\"shape\":\"\"}},\"name\":\"AV City\",\"offsetgroup\":\"AV City\",\"orientation\":\"v\",\"showlegend\":true,\"x\":[58.95,62.2,58.95,52.2,49.15,52.2,58.95,52.2,58.95,62.2,58.95,52.2,49.15,52.2,58.95,52.2,49.15,52.2,58.95,52.2,58.95,62.2,58.95,52.2,49.15,52.2,58.95,52.2,58.95,62.2,58.95,52.2,58.95,62.2,58.95,52.2,49.15,52.2,58.95,52.2,58.95,52.2,58.95,62.2,49.15,52.2,58.95,52.2,58.95,62.2,58.95,52.2,49.15,52.2,58.95,52.2],\"xaxis\":\"x\",\"yaxis\":\"y\",\"type\":\"histogram\"}],\"name\":\"AV City\"}]);\n",
       "                        }).then(function(){\n",
       "                            \n",
       "var gd = document.getElementById('e5c8afb0-2f47-472d-bdd9-587068de4743');\n",
       "var x = new MutationObserver(function (mutations, observer) {{\n",
       "        var display = window.getComputedStyle(gd).display;\n",
       "        if (!display || display === 'none') {{\n",
       "            console.log([gd, 'removed!']);\n",
       "            Plotly.purge(gd);\n",
       "            observer.disconnect();\n",
       "        }}\n",
       "}});\n",
       "\n",
       "// Listen for the removal of the full notebook cells\n",
       "var notebookContainer = gd.closest('#notebook-container');\n",
       "if (notebookContainer) {{\n",
       "    x.observe(notebookContainer, {childList: true});\n",
       "}}\n",
       "\n",
       "// Listen for the clearing of the current output cell\n",
       "var outputEl = gd.closest('.output');\n",
       "if (outputEl) {{\n",
       "    x.observe(outputEl, {childList: true});\n",
       "}}\n",
       "\n",
       "                        })                };                });            </script>        </div>"
      ]
     },
     "metadata": {},
     "output_type": "display_data"
    }
   ],
   "source": [
    "import pandas as pd\n",
    "import plotly.express as px\n",
    "from ipywidgets import interact, widgets\n",
    "\n",
    "# Read the CSV file into a DataFrame\n",
    "df = pd.read_csv('Book112.csv')\n",
    "\n",
    "# Handle NaN values in 'price' column\n",
    "df['price'].fillna(0, inplace=True)  # Replace NaN values with 0, you can choose another strategy based on your data\n",
    "# Animated graph - Train Types over Time\n",
    "animated_train_types = px.scatter(df, x='origin', y='destination', animation_frame='train_type',\n",
    "                                   color='train_type', hover_data=['train_class', 'fare'],\n",
    "                                   title='Animated Graph - Train Types over Time')\n",
    "animated_train_types.update_layout(updatemenus=[dict(type='buttons', showactive=False,\n",
    "                                                      buttons=[dict(label='Play',\n",
    "                                                                    method='animate', args=[None, dict(frame=dict(duration=1000, redraw=True), fromcurrent=True)]),\n",
    "                                                               dict(label='Pause',\n",
    "                                                                    method='animate', args=[[None], dict(frame=dict(duration=0, redraw=True), mode='immediate', transition=dict(duration=0))])])])\n",
    "\n",
    "# Animated graph - Price Distribution over Time\n",
    "animated_price_distribution = px.histogram(df, x='price', animation_frame='train_type',\n",
    "                                          color='train_type', title='Animated Price Distribution over Time')\n",
    "\n",
    "# Dynamic graph function - Origin vs Destination\n",
    "def dynamic_origin_destination(train_type):\n",
    "    filtered_data = df[df['train_type'] == train_type]\n",
    "    \n",
    "    fig = px.scatter(filtered_data, x='origin', y='destination',\n",
    "                     color='train_type', size='price',\n",
    "                     hover_data=['train_class', 'fare'],\n",
    "                     title=f'Dynamic Graph - {train_type} Trains: Origin vs Destination')\n",
    "    fig.show()\n",
    "\n",
    "# Dynamic graph function - Train Class Distribution\n",
    "def dynamic_train_class_distribution(train_type):\n",
    "    filtered_data = df[df['train_type'] == train_type]\n",
    "    \n",
    "    fig = px.histogram(filtered_data, x='train_class',\n",
    "                       color='train_class',\n",
    "                       title=f'Dynamic Train Class Distribution for {train_type} Trains')\n",
    "    fig.show()\n",
    "\n",
    "# Interactive widgets for dynamic graphs\n",
    "train_type_widget_1 = widgets.Dropdown(\n",
    "    options=list(df['train_type'].unique()),\n",
    "    value=df['train_type'].iloc[0],\n",
    "    description='Train Type (Graph 1)'\n",
    ")\n",
    "\n",
    "train_type_widget_2 = widgets.Dropdown(\n",
    "    options=list(df['train_type'].unique()),\n",
    "    value=df['train_type'].iloc[0],\n",
    "    description='Train Type (Graph 2)'\n",
    ")\n",
    "\n",
    "interact(dynamic_origin_destination, train_type=train_type_widget_1)\n",
    "interact(dynamic_train_class_distribution, train_type=train_type_widget_2)\n",
    "\n",
    "# Show the graphs\n",
    "animated_train_types.show()\n",
    "animated_price_distribution.show()\n"
   ]
  },
  {
   "cell_type": "markdown",
   "id": "c79f9c1e-3a61-4fe2-91dc-7f5b5b67afcc",
   "metadata": {},
   "source": [
    "Dynamic Graph - Origin vs Destination:\n",
    "Interactive scatter plot allowing exploration of the relationship between origin and destination for a selected train type.\n",
    "Insights: Investigates how the origin and destination vary for specific train types dynamically.\n",
    "Dynamic Graph - Train Class vs Price:\n",
    "Interactive scatter plot revealing the relationship between train class and price for a selected train type.\n",
    "Insights: Explores how prices differ across train classes for a specific train type dynamically.\n",
    "Dynamic Graph - Fare Distribution:\n",
    "Interactive histogram displaying the distribution of fares for a selected train type.\n",
    "Insights: Analyzes the fare distribution characteristics for a specific train type dynamically.\n",
    "3. Summary:\n",
    "The animated graphs provide a time-based perspective on the distribution of train types, price trends, and fare distribution.\n",
    "The dynamic graphs offer interactive exploration of relationships between origin and destination, train class and price, and fare distribution for specific train types."
   ]
  },
  {
   "cell_type": "code",
   "execution_count": null,
   "id": "95ee91f6",
   "metadata": {},
   "outputs": [],
   "source": [
    "#report of the above graph\n",
    "#1. Animated Graphs:\n",
    "Train Types over Time:\n",
    "Animated scatter plot showing the distribution of train types over time.\n",
    "Insights: Observes how the distribution of train types evolves over the specified time period.\n",
    "Price Trend over Time:\n",
    "Animated line graph illustrating the trend of prices for each train type over time.\n",
    "Insights: Visualizes the price trend and identifies patterns or fluctuations.\n",
    "Fare Distribution over Time:\n",
    "Animated histogram showcasing the distribution of fares for each train type over time.\n",
    "Insights: Examines the variation in fare distribution across different train types.\n",
    "2. Dynamic Graphs:\n",
    "Dynamic Graph - Origin vs Destination:\n",
    "Interactive scatter plot allowing exploration of the relationship between origin and destination for a selected train type.\n",
    "Insights: Investigates how the origin and destination vary for specific train types dynamically.\n",
    "Dynamic Graph - Train Class vs Price:\n",
    "Interactive scatter plot revealing the relationship between train class and price for a selected train type.\n",
    "Insights: Explores how prices differ across train classes for a specific train type dynamically.\n",
    "Dynamic Graph - Fare Distribution:\n",
    "Interactive histogram displaying the distribution of fares for a selected train type.\n",
    "Insights: Analyzes the fare distribution characteristics for a specific train type dynamically.\n",
    "3. Summary:\n",
    "The animated graphs provide a time-based perspective on the distribution of train types, price trends, and fare distribution.\n",
    "The dynamic graphs offer interactive exploration of relationships between origin and destination, train class and price, and fare distribution for specific train types.\n"
   ]
  },
  {
   "cell_type": "code",
   "execution_count": null,
   "id": "a54d5f7b",
   "metadata": {},
   "outputs": [],
   "source": [
    "import plotly.offline as pyo\n",
    "pyo.init_notebook_mode(connected=True)"
   ]
  },
  {
   "cell_type": "code",
   "execution_count": null,
   "id": "a0c78d19",
   "metadata": {},
   "outputs": [],
   "source": [
    "pip install jupyterlab-plotly"
   ]
  },
  {
   "cell_type": "code",
   "execution_count": null,
   "id": "9c43e1fe",
   "metadata": {},
   "outputs": [],
   "source": []
  }
 ],
 "metadata": {
  "kernelspec": {
   "display_name": "Python 3 (ipykernel)",
   "language": "python",
   "name": "python3"
  },
  "language_info": {
   "codemirror_mode": {
    "name": "ipython",
    "version": 3
   },
   "file_extension": ".py",
   "mimetype": "text/x-python",
   "name": "python",
   "nbconvert_exporter": "python",
   "pygments_lexer": "ipython3",
   "version": "3.11.7"
  }
 },
 "nbformat": 4,
 "nbformat_minor": 5
}
